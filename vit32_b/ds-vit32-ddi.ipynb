{
 "cells": [
  {
   "cell_type": "code",
   "execution_count": 1,
   "id": "1d542e80",
   "metadata": {
    "execution": {
     "iopub.execute_input": "2022-07-29T10:43:14.554412Z",
     "iopub.status.busy": "2022-07-29T10:43:14.553790Z",
     "iopub.status.idle": "2022-07-29T10:43:14.567875Z",
     "shell.execute_reply": "2022-07-29T10:43:14.566915Z"
    },
    "id": "Ec0y8MdFZMAX",
    "papermill": {
     "duration": 0.023719,
     "end_time": "2022-07-29T10:43:14.570270",
     "exception": false,
     "start_time": "2022-07-29T10:43:14.546551",
     "status": "completed"
    },
    "tags": []
   },
   "outputs": [],
   "source": [
    "%matplotlib inline"
   ]
  },
  {
   "cell_type": "code",
   "execution_count": 2,
   "id": "247b5687",
   "metadata": {
    "execution": {
     "iopub.execute_input": "2022-07-29T10:43:14.580288Z",
     "iopub.status.busy": "2022-07-29T10:43:14.579992Z",
     "iopub.status.idle": "2022-07-29T10:43:51.916207Z",
     "shell.execute_reply": "2022-07-29T10:43:51.914299Z"
    },
    "papermill": {
     "duration": 37.34401,
     "end_time": "2022-07-29T10:43:51.918753",
     "exception": false,
     "start_time": "2022-07-29T10:43:14.574743",
     "status": "completed"
    },
    "tags": []
   },
   "outputs": [
    {
     "name": "stdout",
     "output_type": "stream",
     "text": [
      "Requirement already satisfied: ipython in /opt/conda/lib/python3.7/site-packages (7.33.0)\r\n",
      "Requirement already satisfied: traitlets>=4.2 in /opt/conda/lib/python3.7/site-packages (from ipython) (5.2.1.post0)\r\n",
      "Requirement already satisfied: pygments in /opt/conda/lib/python3.7/site-packages (from ipython) (2.12.0)\r\n",
      "Requirement already satisfied: backcall in /opt/conda/lib/python3.7/site-packages (from ipython) (0.2.0)\r\n",
      "Requirement already satisfied: prompt-toolkit!=3.0.0,!=3.0.1,<3.1.0,>=2.0.0 in /opt/conda/lib/python3.7/site-packages (from ipython) (3.0.29)\r\n",
      "Requirement already satisfied: matplotlib-inline in /opt/conda/lib/python3.7/site-packages (from ipython) (0.1.3)\r\n",
      "Requirement already satisfied: pickleshare in /opt/conda/lib/python3.7/site-packages (from ipython) (0.7.5)\r\n",
      "Requirement already satisfied: jedi>=0.16 in /opt/conda/lib/python3.7/site-packages (from ipython) (0.18.1)\r\n",
      "Requirement already satisfied: pexpect>4.3 in /opt/conda/lib/python3.7/site-packages (from ipython) (4.8.0)\r\n",
      "Requirement already satisfied: decorator in /opt/conda/lib/python3.7/site-packages (from ipython) (5.1.1)\r\n",
      "Requirement already satisfied: setuptools>=18.5 in /opt/conda/lib/python3.7/site-packages (from ipython) (59.8.0)\r\n",
      "Requirement already satisfied: parso<0.9.0,>=0.8.0 in /opt/conda/lib/python3.7/site-packages (from jedi>=0.16->ipython) (0.8.3)\r\n",
      "Requirement already satisfied: ptyprocess>=0.5 in /opt/conda/lib/python3.7/site-packages (from pexpect>4.3->ipython) (0.7.0)\r\n",
      "Requirement already satisfied: wcwidth in /opt/conda/lib/python3.7/site-packages (from prompt-toolkit!=3.0.0,!=3.0.1,<3.1.0,>=2.0.0->ipython) (0.2.5)\r\n",
      "\u001b[33mWARNING: Running pip as the 'root' user can result in broken permissions and conflicting behaviour with the system package manager. It is recommended to use a virtual environment instead: https://pip.pypa.io/warnings/venv\u001b[0m\u001b[33m\r\n",
      "\u001b[0m\u001b[33mWARNING: Running pip as the 'root' user can result in broken permissions and conflicting behaviour with the system package manager. It is recommended to use a virtual environment instead: https://pip.pypa.io/warnings/venv\u001b[0m\u001b[33m\r\n",
      "\u001b[0m\u001b[33mWARNING: Running pip as the 'root' user can result in broken permissions and conflicting behaviour with the system package manager. It is recommended to use a virtual environment instead: https://pip.pypa.io/warnings/venv\u001b[0m\u001b[33m\r\n",
      "\u001b[0mtime: 413 µs (started: 2022-07-29 10:43:51 +00:00)\n"
     ]
    }
   ],
   "source": [
    "!pip install ipython\n",
    "!pip install -q livelossplot==0.3.3\n",
    "!pip install -q ipython-autotime\n",
    "%load_ext autotime"
   ]
  },
  {
   "cell_type": "code",
   "execution_count": 3,
   "id": "80ab309f",
   "metadata": {
    "execution": {
     "iopub.execute_input": "2022-07-29T10:43:51.930504Z",
     "iopub.status.busy": "2022-07-29T10:43:51.930160Z",
     "iopub.status.idle": "2022-07-29T10:43:54.496838Z",
     "shell.execute_reply": "2022-07-29T10:43:54.495721Z"
    },
    "id": "RisP8wVhl6hZ",
    "papermill": {
     "duration": 2.575176,
     "end_time": "2022-07-29T10:43:54.499088",
     "exception": false,
     "start_time": "2022-07-29T10:43:51.923912",
     "status": "completed"
    },
    "tags": []
   },
   "outputs": [
    {
     "data": {
      "text/plain": [
       "<matplotlib.pyplot._IonContext at 0x7f28b3439490>"
      ]
     },
     "execution_count": 3,
     "metadata": {},
     "output_type": "execute_result"
    },
    {
     "name": "stdout",
     "output_type": "stream",
     "text": [
      "time: 2.56 s (started: 2022-07-29 10:43:51 +00:00)\n"
     ]
    }
   ],
   "source": [
    "from __future__ import print_function, division\n",
    "import torch\n",
    "import torch.nn as nn\n",
    "import torch.optim as optim\n",
    "from torch.optim import lr_scheduler\n",
    "import torch.backends.cudnn as cudnn\n",
    "import numpy as np\n",
    "import torchvision\n",
    "from torchvision import datasets, models, transforms\n",
    "import matplotlib.pyplot as plt\n",
    "import time\n",
    "import os\n",
    "import copy\n",
    "import pandas as pd\n",
    "import numpy as np\n",
    "import csv\n",
    "import os\n",
    "import tarfile\n",
    "from urllib.parse import urlparse\n",
    "from urllib.request import urlretrieve\n",
    "import numpy as np\n",
    "import torch\n",
    "from torch.utils.data import Dataset\n",
    "from PIL import Image\n",
    "from tqdm import tqdm\n",
    "from torch.utils.data import DataLoader\n",
    "from torchvision import transforms\n",
    "from sklearn.metrics import accuracy_score\n",
    "from sklearn.metrics import roc_auc_score\n",
    "from sklearn.metrics import f1_score\n",
    "from sklearn.metrics import classification_report\n",
    "from sklearn.model_selection import train_test_split\n",
    "cudnn.benchmark = True\n",
    "plt.ion()   # interactive mode"
   ]
  },
  {
   "cell_type": "code",
   "execution_count": 4,
   "id": "da3b8e92",
   "metadata": {
    "execution": {
     "iopub.execute_input": "2022-07-29T10:43:54.511254Z",
     "iopub.status.busy": "2022-07-29T10:43:54.510669Z",
     "iopub.status.idle": "2022-07-29T10:43:54.583866Z",
     "shell.execute_reply": "2022-07-29T10:43:54.582568Z"
    },
    "id": "i97UAL_fgZg1",
    "outputId": "267d2a4f-2bb1-4b61-e7c5-8d51e3adc5da",
    "papermill": {
     "duration": 0.082568,
     "end_time": "2022-07-29T10:43:54.587064",
     "exception": false,
     "start_time": "2022-07-29T10:43:54.504496",
     "status": "completed"
    },
    "tags": []
   },
   "outputs": [
    {
     "name": "stdout",
     "output_type": "stream",
     "text": [
      "cuda:0\n",
      "time: 67.7 ms (started: 2022-07-29 10:43:54 +00:00)\n"
     ]
    }
   ],
   "source": [
    "device = torch.device(\"cuda:0\" if torch.cuda.is_available() else \"cpu\")\n",
    "print(device)"
   ]
  },
  {
   "cell_type": "code",
   "execution_count": 5,
   "id": "97256d7c",
   "metadata": {
    "execution": {
     "iopub.execute_input": "2022-07-29T10:43:54.599804Z",
     "iopub.status.busy": "2022-07-29T10:43:54.599430Z",
     "iopub.status.idle": "2022-07-29T10:43:54.639023Z",
     "shell.execute_reply": "2022-07-29T10:43:54.637698Z"
    },
    "papermill": {
     "duration": 0.048456,
     "end_time": "2022-07-29T10:43:54.641257",
     "exception": false,
     "start_time": "2022-07-29T10:43:54.592801",
     "status": "completed"
    },
    "scrolled": true,
    "tags": []
   },
   "outputs": [
    {
     "name": "stdout",
     "output_type": "stream",
     "text": [
      "time: 34.9 ms (started: 2022-07-29 10:43:54 +00:00)\n"
     ]
    }
   ],
   "source": [
    "labels = pd.read_csv('../input/ddids/file1.csv')\n",
    "labels['DDI_file'] = '../input/ddids/ddidiversedermatologyimages/'+labels['DDI_file']\n",
    "labels.to_csv('file_pp.csv')"
   ]
  },
  {
   "cell_type": "code",
   "execution_count": 6,
   "id": "4e636218",
   "metadata": {
    "execution": {
     "iopub.execute_input": "2022-07-29T10:43:54.653569Z",
     "iopub.status.busy": "2022-07-29T10:43:54.652705Z",
     "iopub.status.idle": "2022-07-29T10:43:54.658413Z",
     "shell.execute_reply": "2022-07-29T10:43:54.657177Z"
    },
    "papermill": {
     "duration": 0.013913,
     "end_time": "2022-07-29T10:43:54.660489",
     "exception": false,
     "start_time": "2022-07-29T10:43:54.646576",
     "status": "completed"
    },
    "tags": []
   },
   "outputs": [
    {
     "name": "stdout",
     "output_type": "stream",
     "text": [
      "time: 491 µs (started: 2022-07-29 10:43:54 +00:00)\n"
     ]
    }
   ],
   "source": [
    "evalpath = './file_pp.csv'"
   ]
  },
  {
   "cell_type": "code",
   "execution_count": 7,
   "id": "400b151a",
   "metadata": {
    "execution": {
     "iopub.execute_input": "2022-07-29T10:43:54.673160Z",
     "iopub.status.busy": "2022-07-29T10:43:54.672137Z",
     "iopub.status.idle": "2022-07-29T10:43:54.686178Z",
     "shell.execute_reply": "2022-07-29T10:43:54.684852Z"
    },
    "id": "BaGdvVCGtSKS",
    "outputId": "084749e6-e70f-460b-fd95-e09d465fa67e",
    "papermill": {
     "duration": 0.022361,
     "end_time": "2022-07-29T10:43:54.688265",
     "exception": false,
     "start_time": "2022-07-29T10:43:54.665904",
     "status": "completed"
    },
    "tags": []
   },
   "outputs": [
    {
     "name": "stdout",
     "output_type": "stream",
     "text": [
      "time: 1.9 ms (started: 2022-07-29 10:43:54 +00:00)\n"
     ]
    }
   ],
   "source": [
    "class_names = ['MEL', 'NV', 'BCC', 'AK', 'BKL', 'DF', 'VASC', 'SCC', 'UNK']\n",
    "\n",
    "def read_object_labels_csv(file,phase, header=True):\n",
    "    img_t=[]\n",
    "    dir = './file_pp.csv'\n",
    "    with open(dir, \"r\") as f:\n",
    "        csvReader = csv.reader(f)\n",
    "        next(csvReader, None)\n",
    "        k=0\n",
    "        for line in csvReader:\n",
    "            k+=1\n",
    "            image_name= line[2]\n",
    "            label = line[3:11]\n",
    "            label = torch.from_numpy(np.array(label, dtype=np.float64))\n",
    "            item = (image_name,label)\n",
    "            img_t.append(item)\n",
    "    return img_t\n",
    "\n",
    "\n",
    "class DDI(Dataset):\n",
    "    def __init__(self,phase, csv_path,transform=None):\n",
    "        self.phase = phase\n",
    "        self.transform = transform\n",
    "        file_csv = pd.read_csv(csv_path)\n",
    "        self.classes = class_names\n",
    "        self.images = read_object_labels_csv(file_csv,phase)\n",
    "        print('DDI classification phase={} number of classes={}  number of images={}'.format(phase, len(self.classes), len(self.images)))\n",
    "\n",
    "    def __getitem__(self, index):\n",
    "        filename, target = self.images[index]\n",
    "        filename = filename\n",
    "        img = Image.open(filename).convert('RGB')\n",
    "        if self.transform is not None:\n",
    "            img = self.transform(img)\n",
    "        \n",
    "        data = {'image':img, 'target': target}\n",
    "        return data\n",
    "\n",
    "    def __len__(self):\n",
    "        return len(self.images)\n",
    "\n",
    "    def get_number_classes(self):\n",
    "        return len(self.classes)"
   ]
  },
  {
   "cell_type": "code",
   "execution_count": 8,
   "id": "e823ed8e",
   "metadata": {
    "execution": {
     "iopub.execute_input": "2022-07-29T10:43:54.700838Z",
     "iopub.status.busy": "2022-07-29T10:43:54.700288Z",
     "iopub.status.idle": "2022-07-29T10:43:54.720994Z",
     "shell.execute_reply": "2022-07-29T10:43:54.719760Z"
    },
    "id": "mpp9KEVTpN3Z",
    "outputId": "2eed9a44-a69b-4474-b487-098a435cf93b",
    "papermill": {
     "duration": 0.029453,
     "end_time": "2022-07-29T10:43:54.723080",
     "exception": false,
     "start_time": "2022-07-29T10:43:54.693627",
     "status": "completed"
    },
    "tags": []
   },
   "outputs": [
    {
     "name": "stdout",
     "output_type": "stream",
     "text": [
      "DDI classification phase=Valid number of classes=9  number of images=656\n",
      "time: 13 ms (started: 2022-07-29 10:43:54 +00:00)\n"
     ]
    }
   ],
   "source": [
    "data_transforms = {\n",
    "    'train': transforms.Compose([\n",
    "        transforms.Resize((224,224)),\n",
    "        transforms.RandomHorizontalFlip(),\n",
    "        transforms.ToTensor(),\n",
    "        transforms.Normalize([0.485, 0.456, 0.406], [0.229, 0.224, 0.225])\n",
    "    ]),\n",
    "    'val': transforms.Compose([\n",
    "        transforms.Resize((224,224)),\n",
    "        transforms.ToTensor(),\n",
    "        transforms.Normalize([0.485, 0.456, 0.406], [0.229, 0.224, 0.225])\n",
    "    ]),\n",
    "}\n",
    "\n",
    "val_dataset = DDI(transform=data_transforms['val'],phase='Valid',csv_path=evalpath)\n",
    "image_datasets ={'val': val_dataset}\n",
    "dataloaders = {x: torch.utils.data.DataLoader(image_datasets[x], batch_size=64,shuffle=True, num_workers=2)for x in ['val']}\n",
    "dataset_sizes = {x: len(image_datasets[x]) for x in ['val']}"
   ]
  },
  {
   "cell_type": "code",
   "execution_count": 9,
   "id": "35a14f6a",
   "metadata": {
    "execution": {
     "iopub.execute_input": "2022-07-29T10:43:54.735647Z",
     "iopub.status.busy": "2022-07-29T10:43:54.734840Z",
     "iopub.status.idle": "2022-07-29T10:44:01.583929Z",
     "shell.execute_reply": "2022-07-29T10:44:01.582704Z"
    },
    "id": "HPx0h3uwpnS9",
    "outputId": "68b6cdb2-74f0-4e36-a14d-db1d02386bff",
    "papermill": {
     "duration": 6.85835,
     "end_time": "2022-07-29T10:44:01.586815",
     "exception": false,
     "start_time": "2022-07-29T10:43:54.728465",
     "status": "completed"
    },
    "tags": []
   },
   "outputs": [
    {
     "data": {
      "image/png": "[encoded data removed]",
      "text/plain": [
       "<Figure size 432x288 with 1 Axes>"
      ]
     },
     "metadata": {
      "needs_background": "light"
     },
     "output_type": "display_data"
    },
    {
     "name": "stdout",
     "output_type": "stream",
     "text": [
      "time: 6.84 s (started: 2022-07-29 10:43:54 +00:00)\n"
     ]
    }
   ],
   "source": [
    "def imshow(inp, title=None):\n",
    "    inp = inp.numpy().transpose((1, 2, 0))\n",
    "    mean = np.array([0.6678, 0.5298, 0.5245])\n",
    "    std = np.array([0.1333, 0.1476, 0.1590])\n",
    "    inp = std * inp + mean\n",
    "    inp = np.clip(inp, 0, 1)\n",
    "    plt.imshow(inp)\n",
    "    if title is not None:\n",
    "        plt.title(title)\n",
    "    plt.pause(0.001)  # pause a bit so that plots are updated\n",
    "\n",
    "\n",
    "# Get a batch of training data\n",
    "data = next(iter(dataloaders['val']))\n",
    "ps = data['target'].numpy()\n",
    "l = np.where(ps==1.0)\n",
    "l = l[1].astype(int)\n",
    "# Make a grid from batch\n",
    "out = torchvision.utils.make_grid(data['image'])\n",
    "imshow(out, title=[class_names[x] for x in l])"
   ]
  },
  {
   "cell_type": "code",
   "execution_count": 10,
   "id": "9986b905",
   "metadata": {
    "execution": {
     "iopub.execute_input": "2022-07-29T10:44:01.603411Z",
     "iopub.status.busy": "2022-07-29T10:44:01.603075Z",
     "iopub.status.idle": "2022-07-29T10:44:14.822408Z",
     "shell.execute_reply": "2022-07-29T10:44:14.821421Z"
    },
    "id": "QE83J344l6hb",
    "outputId": "751305e9-b99e-420b-d41b-e6672c0cf4a2",
    "papermill": {
     "duration": 13.231986,
     "end_time": "2022-07-29T10:44:14.826778",
     "exception": false,
     "start_time": "2022-07-29T10:44:01.594792",
     "status": "completed"
    },
    "scrolled": true,
    "tags": []
   },
   "outputs": [
    {
     "name": "stdout",
     "output_type": "stream",
     "text": [
      "VisionTransformer(\n",
      "  (conv_proj): Conv2d(3, 768, kernel_size=(32, 32), stride=(32, 32))\n",
      "  (encoder): Encoder(\n",
      "    (dropout): Dropout(p=0.0, inplace=False)\n",
      "    (layers): Sequential(\n",
      "      (encoder_layer_0): EncoderBlock(\n",
      "        (ln_1): LayerNorm((768,), eps=1e-06, elementwise_affine=True)\n",
      "        (self_attention): MultiheadAttention(\n",
      "          (out_proj): NonDynamicallyQuantizableLinear(in_features=768, out_features=768, bias=True)\n",
      "        )\n",
      "        (dropout): Dropout(p=0.0, inplace=False)\n",
      "        (ln_2): LayerNorm((768,), eps=1e-06, elementwise_affine=True)\n",
      "        (mlp): MLPBlock(\n",
      "          (linear_1): Linear(in_features=768, out_features=3072, bias=True)\n",
      "          (act): GELU()\n",
      "          (dropout_1): Dropout(p=0.0, inplace=False)\n",
      "          (linear_2): Linear(in_features=3072, out_features=768, bias=True)\n",
      "          (dropout_2): Dropout(p=0.0, inplace=False)\n",
      "        )\n",
      "      )\n",
      "      (encoder_layer_1): EncoderBlock(\n",
      "        (ln_1): LayerNorm((768,), eps=1e-06, elementwise_affine=True)\n",
      "        (self_attention): MultiheadAttention(\n",
      "          (out_proj): NonDynamicallyQuantizableLinear(in_features=768, out_features=768, bias=True)\n",
      "        )\n",
      "        (dropout): Dropout(p=0.0, inplace=False)\n",
      "        (ln_2): LayerNorm((768,), eps=1e-06, elementwise_affine=True)\n",
      "        (mlp): MLPBlock(\n",
      "          (linear_1): Linear(in_features=768, out_features=3072, bias=True)\n",
      "          (act): GELU()\n",
      "          (dropout_1): Dropout(p=0.0, inplace=False)\n",
      "          (linear_2): Linear(in_features=3072, out_features=768, bias=True)\n",
      "          (dropout_2): Dropout(p=0.0, inplace=False)\n",
      "        )\n",
      "      )\n",
      "      (encoder_layer_2): EncoderBlock(\n",
      "        (ln_1): LayerNorm((768,), eps=1e-06, elementwise_affine=True)\n",
      "        (self_attention): MultiheadAttention(\n",
      "          (out_proj): NonDynamicallyQuantizableLinear(in_features=768, out_features=768, bias=True)\n",
      "        )\n",
      "        (dropout): Dropout(p=0.0, inplace=False)\n",
      "        (ln_2): LayerNorm((768,), eps=1e-06, elementwise_affine=True)\n",
      "        (mlp): MLPBlock(\n",
      "          (linear_1): Linear(in_features=768, out_features=3072, bias=True)\n",
      "          (act): GELU()\n",
      "          (dropout_1): Dropout(p=0.0, inplace=False)\n",
      "          (linear_2): Linear(in_features=3072, out_features=768, bias=True)\n",
      "          (dropout_2): Dropout(p=0.0, inplace=False)\n",
      "        )\n",
      "      )\n",
      "      (encoder_layer_3): EncoderBlock(\n",
      "        (ln_1): LayerNorm((768,), eps=1e-06, elementwise_affine=True)\n",
      "        (self_attention): MultiheadAttention(\n",
      "          (out_proj): NonDynamicallyQuantizableLinear(in_features=768, out_features=768, bias=True)\n",
      "        )\n",
      "        (dropout): Dropout(p=0.0, inplace=False)\n",
      "        (ln_2): LayerNorm((768,), eps=1e-06, elementwise_affine=True)\n",
      "        (mlp): MLPBlock(\n",
      "          (linear_1): Linear(in_features=768, out_features=3072, bias=True)\n",
      "          (act): GELU()\n",
      "          (dropout_1): Dropout(p=0.0, inplace=False)\n",
      "          (linear_2): Linear(in_features=3072, out_features=768, bias=True)\n",
      "          (dropout_2): Dropout(p=0.0, inplace=False)\n",
      "        )\n",
      "      )\n",
      "      (encoder_layer_4): EncoderBlock(\n",
      "        (ln_1): LayerNorm((768,), eps=1e-06, elementwise_affine=True)\n",
      "        (self_attention): MultiheadAttention(\n",
      "          (out_proj): NonDynamicallyQuantizableLinear(in_features=768, out_features=768, bias=True)\n",
      "        )\n",
      "        (dropout): Dropout(p=0.0, inplace=False)\n",
      "        (ln_2): LayerNorm((768,), eps=1e-06, elementwise_affine=True)\n",
      "        (mlp): MLPBlock(\n",
      "          (linear_1): Linear(in_features=768, out_features=3072, bias=True)\n",
      "          (act): GELU()\n",
      "          (dropout_1): Dropout(p=0.0, inplace=False)\n",
      "          (linear_2): Linear(in_features=3072, out_features=768, bias=True)\n",
      "          (dropout_2): Dropout(p=0.0, inplace=False)\n",
      "        )\n",
      "      )\n",
      "      (encoder_layer_5): EncoderBlock(\n",
      "        (ln_1): LayerNorm((768,), eps=1e-06, elementwise_affine=True)\n",
      "        (self_attention): MultiheadAttention(\n",
      "          (out_proj): NonDynamicallyQuantizableLinear(in_features=768, out_features=768, bias=True)\n",
      "        )\n",
      "        (dropout): Dropout(p=0.0, inplace=False)\n",
      "        (ln_2): LayerNorm((768,), eps=1e-06, elementwise_affine=True)\n",
      "        (mlp): MLPBlock(\n",
      "          (linear_1): Linear(in_features=768, out_features=3072, bias=True)\n",
      "          (act): GELU()\n",
      "          (dropout_1): Dropout(p=0.0, inplace=False)\n",
      "          (linear_2): Linear(in_features=3072, out_features=768, bias=True)\n",
      "          (dropout_2): Dropout(p=0.0, inplace=False)\n",
      "        )\n",
      "      )\n",
      "      (encoder_layer_6): EncoderBlock(\n",
      "        (ln_1): LayerNorm((768,), eps=1e-06, elementwise_affine=True)\n",
      "        (self_attention): MultiheadAttention(\n",
      "          (out_proj): NonDynamicallyQuantizableLinear(in_features=768, out_features=768, bias=True)\n",
      "        )\n",
      "        (dropout): Dropout(p=0.0, inplace=False)\n",
      "        (ln_2): LayerNorm((768,), eps=1e-06, elementwise_affine=True)\n",
      "        (mlp): MLPBlock(\n",
      "          (linear_1): Linear(in_features=768, out_features=3072, bias=True)\n",
      "          (act): GELU()\n",
      "          (dropout_1): Dropout(p=0.0, inplace=False)\n",
      "          (linear_2): Linear(in_features=3072, out_features=768, bias=True)\n",
      "          (dropout_2): Dropout(p=0.0, inplace=False)\n",
      "        )\n",
      "      )\n",
      "      (encoder_layer_7): EncoderBlock(\n",
      "        (ln_1): LayerNorm((768,), eps=1e-06, elementwise_affine=True)\n",
      "        (self_attention): MultiheadAttention(\n",
      "          (out_proj): NonDynamicallyQuantizableLinear(in_features=768, out_features=768, bias=True)\n",
      "        )\n",
      "        (dropout): Dropout(p=0.0, inplace=False)\n",
      "        (ln_2): LayerNorm((768,), eps=1e-06, elementwise_affine=True)\n",
      "        (mlp): MLPBlock(\n",
      "          (linear_1): Linear(in_features=768, out_features=3072, bias=True)\n",
      "          (act): GELU()\n",
      "          (dropout_1): Dropout(p=0.0, inplace=False)\n",
      "          (linear_2): Linear(in_features=3072, out_features=768, bias=True)\n",
      "          (dropout_2): Dropout(p=0.0, inplace=False)\n",
      "        )\n",
      "      )\n",
      "      (encoder_layer_8): EncoderBlock(\n",
      "        (ln_1): LayerNorm((768,), eps=1e-06, elementwise_affine=True)\n",
      "        (self_attention): MultiheadAttention(\n",
      "          (out_proj): NonDynamicallyQuantizableLinear(in_features=768, out_features=768, bias=True)\n",
      "        )\n",
      "        (dropout): Dropout(p=0.0, inplace=False)\n",
      "        (ln_2): LayerNorm((768,), eps=1e-06, elementwise_affine=True)\n",
      "        (mlp): MLPBlock(\n",
      "          (linear_1): Linear(in_features=768, out_features=3072, bias=True)\n",
      "          (act): GELU()\n",
      "          (dropout_1): Dropout(p=0.0, inplace=False)\n",
      "          (linear_2): Linear(in_features=3072, out_features=768, bias=True)\n",
      "          (dropout_2): Dropout(p=0.0, inplace=False)\n",
      "        )\n",
      "      )\n",
      "      (encoder_layer_9): EncoderBlock(\n",
      "        (ln_1): LayerNorm((768,), eps=1e-06, elementwise_affine=True)\n",
      "        (self_attention): MultiheadAttention(\n",
      "          (out_proj): NonDynamicallyQuantizableLinear(in_features=768, out_features=768, bias=True)\n",
      "        )\n",
      "        (dropout): Dropout(p=0.0, inplace=False)\n",
      "        (ln_2): LayerNorm((768,), eps=1e-06, elementwise_affine=True)\n",
      "        (mlp): MLPBlock(\n",
      "          (linear_1): Linear(in_features=768, out_features=3072, bias=True)\n",
      "          (act): GELU()\n",
      "          (dropout_1): Dropout(p=0.0, inplace=False)\n",
      "          (linear_2): Linear(in_features=3072, out_features=768, bias=True)\n",
      "          (dropout_2): Dropout(p=0.0, inplace=False)\n",
      "        )\n",
      "      )\n",
      "      (encoder_layer_10): EncoderBlock(\n",
      "        (ln_1): LayerNorm((768,), eps=1e-06, elementwise_affine=True)\n",
      "        (self_attention): MultiheadAttention(\n",
      "          (out_proj): NonDynamicallyQuantizableLinear(in_features=768, out_features=768, bias=True)\n",
      "        )\n",
      "        (dropout): Dropout(p=0.0, inplace=False)\n",
      "        (ln_2): LayerNorm((768,), eps=1e-06, elementwise_affine=True)\n",
      "        (mlp): MLPBlock(\n",
      "          (linear_1): Linear(in_features=768, out_features=3072, bias=True)\n",
      "          (act): GELU()\n",
      "          (dropout_1): Dropout(p=0.0, inplace=False)\n",
      "          (linear_2): Linear(in_features=3072, out_features=768, bias=True)\n",
      "          (dropout_2): Dropout(p=0.0, inplace=False)\n",
      "        )\n",
      "      )\n",
      "      (encoder_layer_11): EncoderBlock(\n",
      "        (ln_1): LayerNorm((768,), eps=1e-06, elementwise_affine=True)\n",
      "        (self_attention): MultiheadAttention(\n",
      "          (out_proj): NonDynamicallyQuantizableLinear(in_features=768, out_features=768, bias=True)\n",
      "        )\n",
      "        (dropout): Dropout(p=0.0, inplace=False)\n",
      "        (ln_2): LayerNorm((768,), eps=1e-06, elementwise_affine=True)\n",
      "        (mlp): MLPBlock(\n",
      "          (linear_1): Linear(in_features=768, out_features=3072, bias=True)\n",
      "          (act): GELU()\n",
      "          (dropout_1): Dropout(p=0.0, inplace=False)\n",
      "          (linear_2): Linear(in_features=3072, out_features=768, bias=True)\n",
      "          (dropout_2): Dropout(p=0.0, inplace=False)\n",
      "        )\n",
      "      )\n",
      "    )\n",
      "    (ln): LayerNorm((768,), eps=1e-06, elementwise_affine=True)\n",
      "  )\n",
      "  (heads): Sequential(\n",
      "    (head): Linear(in_features=768, out_features=1000, bias=True)\n",
      "  )\n",
      ")\n"
     ]
    },
    {
     "data": {
      "text/plain": [
       "VisionTransformer(\n",
       "  (conv_proj): Conv2d(3, 768, kernel_size=(32, 32), stride=(32, 32))\n",
       "  (encoder): Encoder(\n",
       "    (dropout): Dropout(p=0.0, inplace=False)\n",
       "    (layers): Sequential(\n",
       "      (encoder_layer_0): EncoderBlock(\n",
       "        (ln_1): LayerNorm((768,), eps=1e-06, elementwise_affine=True)\n",
       "        (self_attention): MultiheadAttention(\n",
       "          (out_proj): NonDynamicallyQuantizableLinear(in_features=768, out_features=768, bias=True)\n",
       "        )\n",
       "        (dropout): Dropout(p=0.0, inplace=False)\n",
       "        (ln_2): LayerNorm((768,), eps=1e-06, elementwise_affine=True)\n",
       "        (mlp): MLPBlock(\n",
       "          (linear_1): Linear(in_features=768, out_features=3072, bias=True)\n",
       "          (act): GELU()\n",
       "          (dropout_1): Dropout(p=0.0, inplace=False)\n",
       "          (linear_2): Linear(in_features=3072, out_features=768, bias=True)\n",
       "          (dropout_2): Dropout(p=0.0, inplace=False)\n",
       "        )\n",
       "      )\n",
       "      (encoder_layer_1): EncoderBlock(\n",
       "        (ln_1): LayerNorm((768,), eps=1e-06, elementwise_affine=True)\n",
       "        (self_attention): MultiheadAttention(\n",
       "          (out_proj): NonDynamicallyQuantizableLinear(in_features=768, out_features=768, bias=True)\n",
       "        )\n",
       "        (dropout): Dropout(p=0.0, inplace=False)\n",
       "        (ln_2): LayerNorm((768,), eps=1e-06, elementwise_affine=True)\n",
       "        (mlp): MLPBlock(\n",
       "          (linear_1): Linear(in_features=768, out_features=3072, bias=True)\n",
       "          (act): GELU()\n",
       "          (dropout_1): Dropout(p=0.0, inplace=False)\n",
       "          (linear_2): Linear(in_features=3072, out_features=768, bias=True)\n",
       "          (dropout_2): Dropout(p=0.0, inplace=False)\n",
       "        )\n",
       "      )\n",
       "      (encoder_layer_2): EncoderBlock(\n",
       "        (ln_1): LayerNorm((768,), eps=1e-06, elementwise_affine=True)\n",
       "        (self_attention): MultiheadAttention(\n",
       "          (out_proj): NonDynamicallyQuantizableLinear(in_features=768, out_features=768, bias=True)\n",
       "        )\n",
       "        (dropout): Dropout(p=0.0, inplace=False)\n",
       "        (ln_2): LayerNorm((768,), eps=1e-06, elementwise_affine=True)\n",
       "        (mlp): MLPBlock(\n",
       "          (linear_1): Linear(in_features=768, out_features=3072, bias=True)\n",
       "          (act): GELU()\n",
       "          (dropout_1): Dropout(p=0.0, inplace=False)\n",
       "          (linear_2): Linear(in_features=3072, out_features=768, bias=True)\n",
       "          (dropout_2): Dropout(p=0.0, inplace=False)\n",
       "        )\n",
       "      )\n",
       "      (encoder_layer_3): EncoderBlock(\n",
       "        (ln_1): LayerNorm((768,), eps=1e-06, elementwise_affine=True)\n",
       "        (self_attention): MultiheadAttention(\n",
       "          (out_proj): NonDynamicallyQuantizableLinear(in_features=768, out_features=768, bias=True)\n",
       "        )\n",
       "        (dropout): Dropout(p=0.0, inplace=False)\n",
       "        (ln_2): LayerNorm((768,), eps=1e-06, elementwise_affine=True)\n",
       "        (mlp): MLPBlock(\n",
       "          (linear_1): Linear(in_features=768, out_features=3072, bias=True)\n",
       "          (act): GELU()\n",
       "          (dropout_1): Dropout(p=0.0, inplace=False)\n",
       "          (linear_2): Linear(in_features=3072, out_features=768, bias=True)\n",
       "          (dropout_2): Dropout(p=0.0, inplace=False)\n",
       "        )\n",
       "      )\n",
       "      (encoder_layer_4): EncoderBlock(\n",
       "        (ln_1): LayerNorm((768,), eps=1e-06, elementwise_affine=True)\n",
       "        (self_attention): MultiheadAttention(\n",
       "          (out_proj): NonDynamicallyQuantizableLinear(in_features=768, out_features=768, bias=True)\n",
       "        )\n",
       "        (dropout): Dropout(p=0.0, inplace=False)\n",
       "        (ln_2): LayerNorm((768,), eps=1e-06, elementwise_affine=True)\n",
       "        (mlp): MLPBlock(\n",
       "          (linear_1): Linear(in_features=768, out_features=3072, bias=True)\n",
       "          (act): GELU()\n",
       "          (dropout_1): Dropout(p=0.0, inplace=False)\n",
       "          (linear_2): Linear(in_features=3072, out_features=768, bias=True)\n",
       "          (dropout_2): Dropout(p=0.0, inplace=False)\n",
       "        )\n",
       "      )\n",
       "      (encoder_layer_5): EncoderBlock(\n",
       "        (ln_1): LayerNorm((768,), eps=1e-06, elementwise_affine=True)\n",
       "        (self_attention): MultiheadAttention(\n",
       "          (out_proj): NonDynamicallyQuantizableLinear(in_features=768, out_features=768, bias=True)\n",
       "        )\n",
       "        (dropout): Dropout(p=0.0, inplace=False)\n",
       "        (ln_2): LayerNorm((768,), eps=1e-06, elementwise_affine=True)\n",
       "        (mlp): MLPBlock(\n",
       "          (linear_1): Linear(in_features=768, out_features=3072, bias=True)\n",
       "          (act): GELU()\n",
       "          (dropout_1): Dropout(p=0.0, inplace=False)\n",
       "          (linear_2): Linear(in_features=3072, out_features=768, bias=True)\n",
       "          (dropout_2): Dropout(p=0.0, inplace=False)\n",
       "        )\n",
       "      )\n",
       "      (encoder_layer_6): EncoderBlock(\n",
       "        (ln_1): LayerNorm((768,), eps=1e-06, elementwise_affine=True)\n",
       "        (self_attention): MultiheadAttention(\n",
       "          (out_proj): NonDynamicallyQuantizableLinear(in_features=768, out_features=768, bias=True)\n",
       "        )\n",
       "        (dropout): Dropout(p=0.0, inplace=False)\n",
       "        (ln_2): LayerNorm((768,), eps=1e-06, elementwise_affine=True)\n",
       "        (mlp): MLPBlock(\n",
       "          (linear_1): Linear(in_features=768, out_features=3072, bias=True)\n",
       "          (act): GELU()\n",
       "          (dropout_1): Dropout(p=0.0, inplace=False)\n",
       "          (linear_2): Linear(in_features=3072, out_features=768, bias=True)\n",
       "          (dropout_2): Dropout(p=0.0, inplace=False)\n",
       "        )\n",
       "      )\n",
       "      (encoder_layer_7): EncoderBlock(\n",
       "        (ln_1): LayerNorm((768,), eps=1e-06, elementwise_affine=True)\n",
       "        (self_attention): MultiheadAttention(\n",
       "          (out_proj): NonDynamicallyQuantizableLinear(in_features=768, out_features=768, bias=True)\n",
       "        )\n",
       "        (dropout): Dropout(p=0.0, inplace=False)\n",
       "        (ln_2): LayerNorm((768,), eps=1e-06, elementwise_affine=True)\n",
       "        (mlp): MLPBlock(\n",
       "          (linear_1): Linear(in_features=768, out_features=3072, bias=True)\n",
       "          (act): GELU()\n",
       "          (dropout_1): Dropout(p=0.0, inplace=False)\n",
       "          (linear_2): Linear(in_features=3072, out_features=768, bias=True)\n",
       "          (dropout_2): Dropout(p=0.0, inplace=False)\n",
       "        )\n",
       "      )\n",
       "      (encoder_layer_8): EncoderBlock(\n",
       "        (ln_1): LayerNorm((768,), eps=1e-06, elementwise_affine=True)\n",
       "        (self_attention): MultiheadAttention(\n",
       "          (out_proj): NonDynamicallyQuantizableLinear(in_features=768, out_features=768, bias=True)\n",
       "        )\n",
       "        (dropout): Dropout(p=0.0, inplace=False)\n",
       "        (ln_2): LayerNorm((768,), eps=1e-06, elementwise_affine=True)\n",
       "        (mlp): MLPBlock(\n",
       "          (linear_1): Linear(in_features=768, out_features=3072, bias=True)\n",
       "          (act): GELU()\n",
       "          (dropout_1): Dropout(p=0.0, inplace=False)\n",
       "          (linear_2): Linear(in_features=3072, out_features=768, bias=True)\n",
       "          (dropout_2): Dropout(p=0.0, inplace=False)\n",
       "        )\n",
       "      )\n",
       "      (encoder_layer_9): EncoderBlock(\n",
       "        (ln_1): LayerNorm((768,), eps=1e-06, elementwise_affine=True)\n",
       "        (self_attention): MultiheadAttention(\n",
       "          (out_proj): NonDynamicallyQuantizableLinear(in_features=768, out_features=768, bias=True)\n",
       "        )\n",
       "        (dropout): Dropout(p=0.0, inplace=False)\n",
       "        (ln_2): LayerNorm((768,), eps=1e-06, elementwise_affine=True)\n",
       "        (mlp): MLPBlock(\n",
       "          (linear_1): Linear(in_features=768, out_features=3072, bias=True)\n",
       "          (act): GELU()\n",
       "          (dropout_1): Dropout(p=0.0, inplace=False)\n",
       "          (linear_2): Linear(in_features=3072, out_features=768, bias=True)\n",
       "          (dropout_2): Dropout(p=0.0, inplace=False)\n",
       "        )\n",
       "      )\n",
       "      (encoder_layer_10): EncoderBlock(\n",
       "        (ln_1): LayerNorm((768,), eps=1e-06, elementwise_affine=True)\n",
       "        (self_attention): MultiheadAttention(\n",
       "          (out_proj): NonDynamicallyQuantizableLinear(in_features=768, out_features=768, bias=True)\n",
       "        )\n",
       "        (dropout): Dropout(p=0.0, inplace=False)\n",
       "        (ln_2): LayerNorm((768,), eps=1e-06, elementwise_affine=True)\n",
       "        (mlp): MLPBlock(\n",
       "          (linear_1): Linear(in_features=768, out_features=3072, bias=True)\n",
       "          (act): GELU()\n",
       "          (dropout_1): Dropout(p=0.0, inplace=False)\n",
       "          (linear_2): Linear(in_features=3072, out_features=768, bias=True)\n",
       "          (dropout_2): Dropout(p=0.0, inplace=False)\n",
       "        )\n",
       "      )\n",
       "      (encoder_layer_11): EncoderBlock(\n",
       "        (ln_1): LayerNorm((768,), eps=1e-06, elementwise_affine=True)\n",
       "        (self_attention): MultiheadAttention(\n",
       "          (out_proj): NonDynamicallyQuantizableLinear(in_features=768, out_features=768, bias=True)\n",
       "        )\n",
       "        (dropout): Dropout(p=0.0, inplace=False)\n",
       "        (ln_2): LayerNorm((768,), eps=1e-06, elementwise_affine=True)\n",
       "        (mlp): MLPBlock(\n",
       "          (linear_1): Linear(in_features=768, out_features=3072, bias=True)\n",
       "          (act): GELU()\n",
       "          (dropout_1): Dropout(p=0.0, inplace=False)\n",
       "          (linear_2): Linear(in_features=3072, out_features=768, bias=True)\n",
       "          (dropout_2): Dropout(p=0.0, inplace=False)\n",
       "        )\n",
       "      )\n",
       "    )\n",
       "    (ln): LayerNorm((768,), eps=1e-06, elementwise_affine=True)\n",
       "  )\n",
       "  (heads): Sequential(\n",
       "    (0): Linear(in_features=768, out_features=8, bias=True)\n",
       "    (1): Sigmoid()\n",
       "  )\n",
       ")"
      ]
     },
     "execution_count": 10,
     "metadata": {},
     "output_type": "execute_result"
    },
    {
     "name": "stdout",
     "output_type": "stream",
     "text": [
      "time: 13.2 s (started: 2022-07-29 10:44:01 +00:00)\n"
     ]
    }
   ],
   "source": [
    "model=models.vit_b_32(pretrained=False)\n",
    "print(model)\n",
    "model.heads=nn.Sequential(nn.Linear(768, 8), nn.Sigmoid())\n",
    "checkpoint = torch.load('../input/isicvit/VIT32B_wt_epoch_19_batch_1250_auc_0.8908.pt')\n",
    "model.load_state_dict(checkpoint['model_state_dict'],strict=False)\n",
    "del checkpoint\n",
    "model.to(device)"
   ]
  },
  {
   "cell_type": "code",
   "execution_count": 11,
   "id": "3d246562",
   "metadata": {
    "execution": {
     "iopub.execute_input": "2022-07-29T10:44:14.845412Z",
     "iopub.status.busy": "2022-07-29T10:44:14.844825Z",
     "iopub.status.idle": "2022-07-29T10:44:14.858218Z",
     "shell.execute_reply": "2022-07-29T10:44:14.857092Z"
    },
    "id": "zohhNaEvxwfc",
    "outputId": "c43d87e9-eb46-4f88-ddab-234a7af1429b",
    "papermill": {
     "duration": 0.025568,
     "end_time": "2022-07-29T10:44:14.860894",
     "exception": false,
     "start_time": "2022-07-29T10:44:14.835326",
     "status": "completed"
    },
    "tags": []
   },
   "outputs": [
    {
     "name": "stdout",
     "output_type": "stream",
     "text": [
      "time: 1.8 ms (started: 2022-07-29 10:44:14 +00:00)\n"
     ]
    }
   ],
   "source": [
    "def validate():\n",
    "    model.eval()\n",
    "    \n",
    "    pred_lst=[]\n",
    "    gt_lst=[]\n",
    "    for i, sample in enumerate(dataloaders['val']):    \n",
    "        images=sample['image']\n",
    "        labels=sample['target']\n",
    "        del sample\n",
    "        images = images.to(device)\n",
    "        #labels = labels.to(device)\n",
    "        labels=labels.numpy()\n",
    "        outputs=model(images)\n",
    "        outputs=outputs.detach()#.cpu().numpy()\n",
    "        outputs=outputs.cpu()\n",
    "        outputs=outputs.numpy()\n",
    "        pred_lst.append(outputs)\n",
    "        gt_lst.append(labels)\n",
    "        del labels, outputs, images\n",
    "             \n",
    "    pred_lst=np.concatenate(pred_lst, axis=0)\n",
    "    gt_lst=np.concatenate(gt_lst, axis=0)\n",
    "\n",
    "    auc_lst=[]\n",
    "    acc_lst=[]\n",
    "    for k in range(0,8):\n",
    "        tmp_gt=gt_lst[:, k]\n",
    "        tmp_pred=pred_lst[:,k]\n",
    "        tmp_acc=accuracy_score(tmp_gt, tmp_pred.round())\n",
    "        acc_lst.append(tmp_acc)\n",
    "        tmp_auc=roc_auc_score(tmp_gt, tmp_pred)\n",
    "        auc_lst.append(tmp_auc)\n",
    "            \n",
    "    auc_lst=np.array(auc_lst)\n",
    "    acc_lst=np.array(acc_lst)\n",
    "    print('\\n')\n",
    "    print(auc_lst)\n",
    "    print('\\n')\n",
    "    print(acc_lst)\n",
    "    auc=np.mean(auc_lst)\n",
    "    acc = np.mean(acc_lst)\n",
    "    print(auc)\n",
    "    print(acc)\n",
    "    f1s=0.0\n",
    "    model.train()\n",
    "    return auc,acc,f1s"
   ]
  },
  {
   "cell_type": "code",
   "execution_count": 12,
   "id": "e742f95e",
   "metadata": {
    "execution": {
     "iopub.execute_input": "2022-07-29T10:44:14.878759Z",
     "iopub.status.busy": "2022-07-29T10:44:14.878467Z",
     "iopub.status.idle": "2022-07-29T10:44:32.229760Z",
     "shell.execute_reply": "2022-07-29T10:44:32.227974Z"
    },
    "id": "HDksEGLAxwYM",
    "outputId": "595e4516-929d-48d7-9607-ad108f7d627d",
    "papermill": {
     "duration": 17.362916,
     "end_time": "2022-07-29T10:44:32.232326",
     "exception": false,
     "start_time": "2022-07-29T10:44:14.869410",
     "status": "completed"
    },
    "tags": []
   },
   "outputs": [
    {
     "name": "stdout",
     "output_type": "stream",
     "text": [
      "\n",
      "\n",
      "[0.53573303 0.53701704 0.53034259 0.22047546 0.53257713 0.42572412\n",
      " 0.32574103 0.52285741]\n",
      "\n",
      "\n",
      "[0.54115854 0.6554878  0.91463415 0.99390244 0.875      0.96646341\n",
      " 0.97560976 0.91920732]\n",
      "0.45380847677016417\n",
      "0.8551829268292683\n"
     ]
    },
    {
     "data": {
      "text/plain": [
       "(0.45380847677016417, 0.8551829268292683, 0.0)"
      ]
     },
     "execution_count": 12,
     "metadata": {},
     "output_type": "execute_result"
    },
    {
     "name": "stdout",
     "output_type": "stream",
     "text": [
      "time: 17.3 s (started: 2022-07-29 10:44:14 +00:00)\n"
     ]
    }
   ],
   "source": [
    "validate()"
   ]
  },
  {
   "cell_type": "code",
   "execution_count": null,
   "id": "66cb4d57",
   "metadata": {
    "id": "D49ZgqrFaB8R",
    "papermill": {
     "duration": 0.008096,
     "end_time": "2022-07-29T10:44:32.249248",
     "exception": false,
     "start_time": "2022-07-29T10:44:32.241152",
     "status": "completed"
    },
    "tags": []
   },
   "outputs": [],
   "source": []
  }
 ],
 "metadata": {
  "kernelspec": {
   "display_name": "Python 3",
   "language": "python",
   "name": "python3"
  },
  "language_info": {
   "codemirror_mode": {
    "name": "ipython",
    "version": 3
   },
   "file_extension": ".py",
   "mimetype": "text/x-python",
   "name": "python",
   "nbconvert_exporter": "python",
   "pygments_lexer": "ipython3",
   "version": "3.7.12"
  },
  "papermill": {
   "default_parameters": {},
   "duration": 88.170565,
   "end_time": "2022-07-29T10:44:33.780823",
   "environment_variables": {},
   "exception": null,
   "input_path": "__notebook__.ipynb",
   "output_path": "__notebook__.ipynb",
   "parameters": {},
   "start_time": "2022-07-29T10:43:05.610258",
   "version": "2.3.4"
  }
 },
 "nbformat": 4,
 "nbformat_minor": 5
}
