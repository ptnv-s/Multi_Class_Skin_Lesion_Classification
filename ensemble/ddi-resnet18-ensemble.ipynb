{
 "cells": [
  {
   "cell_type": "code",
   "execution_count": 1,
   "id": "74ab077b",
   "metadata": {
    "execution": {
     "iopub.execute_input": "2022-07-29T11:16:06.052745Z",
     "iopub.status.busy": "2022-07-29T11:16:06.052091Z",
     "iopub.status.idle": "2022-07-29T11:16:18.431607Z",
     "shell.execute_reply": "2022-07-29T11:16:18.430120Z"
    },
    "id": "Ec0y8MdFZMAX",
    "papermill": {
     "duration": 12.393588,
     "end_time": "2022-07-29T11:16:18.434625",
     "exception": false,
     "start_time": "2022-07-29T11:16:06.041037",
     "status": "completed"
    },
    "tags": []
   },
   "outputs": [
    {
     "name": "stdout",
     "output_type": "stream",
     "text": [
      "Requirement already satisfied: ipython in /opt/conda/lib/python3.7/site-packages (7.33.0)\r\n",
      "Requirement already satisfied: pickleshare in /opt/conda/lib/python3.7/site-packages (from ipython) (0.7.5)\r\n",
      "Requirement already satisfied: jedi>=0.16 in /opt/conda/lib/python3.7/site-packages (from ipython) (0.18.1)\r\n",
      "Requirement already satisfied: decorator in /opt/conda/lib/python3.7/site-packages (from ipython) (5.1.1)\r\n",
      "Requirement already satisfied: pexpect>4.3 in /opt/conda/lib/python3.7/site-packages (from ipython) (4.8.0)\r\n",
      "Requirement already satisfied: traitlets>=4.2 in /opt/conda/lib/python3.7/site-packages (from ipython) (5.2.1.post0)\r\n",
      "Requirement already satisfied: prompt-toolkit!=3.0.0,!=3.0.1,<3.1.0,>=2.0.0 in /opt/conda/lib/python3.7/site-packages (from ipython) (3.0.29)\r\n",
      "Requirement already satisfied: backcall in /opt/conda/lib/python3.7/site-packages (from ipython) (0.2.0)\r\n",
      "Requirement already satisfied: matplotlib-inline in /opt/conda/lib/python3.7/site-packages (from ipython) (0.1.3)\r\n",
      "Requirement already satisfied: setuptools>=18.5 in /opt/conda/lib/python3.7/site-packages (from ipython) (59.8.0)\r\n",
      "Requirement already satisfied: pygments in /opt/conda/lib/python3.7/site-packages (from ipython) (2.12.0)\r\n",
      "Requirement already satisfied: parso<0.9.0,>=0.8.0 in /opt/conda/lib/python3.7/site-packages (from jedi>=0.16->ipython) (0.8.3)\r\n",
      "Requirement already satisfied: ptyprocess>=0.5 in /opt/conda/lib/python3.7/site-packages (from pexpect>4.3->ipython) (0.7.0)\r\n",
      "Requirement already satisfied: wcwidth in /opt/conda/lib/python3.7/site-packages (from prompt-toolkit!=3.0.0,!=3.0.1,<3.1.0,>=2.0.0->ipython) (0.2.5)\r\n",
      "\u001b[33mWARNING: Running pip as the 'root' user can result in broken permissions and conflicting behaviour with the system package manager. It is recommended to use a virtual environment instead: https://pip.pypa.io/warnings/venv\u001b[0m\u001b[33m\r\n",
      "\u001b[0mNote: you may need to restart the kernel to use updated packages.\n"
     ]
    }
   ],
   "source": [
    "pip install ipython"
   ]
  },
  {
   "cell_type": "code",
   "execution_count": 2,
   "id": "e75998fe",
   "metadata": {
    "execution": {
     "iopub.execute_input": "2022-07-29T11:16:18.453041Z",
     "iopub.status.busy": "2022-07-29T11:16:18.452714Z",
     "iopub.status.idle": "2022-07-29T11:16:18.460147Z",
     "shell.execute_reply": "2022-07-29T11:16:18.459197Z"
    },
    "id": "W_vAStgml6hV",
    "papermill": {
     "duration": 0.018722,
     "end_time": "2022-07-29T11:16:18.462217",
     "exception": false,
     "start_time": "2022-07-29T11:16:18.443495",
     "status": "completed"
    },
    "tags": []
   },
   "outputs": [],
   "source": [
    "%matplotlib inline"
   ]
  },
  {
   "cell_type": "code",
   "execution_count": 3,
   "id": "8d508a7a",
   "metadata": {
    "execution": {
     "iopub.execute_input": "2022-07-29T11:16:18.480580Z",
     "iopub.status.busy": "2022-07-29T11:16:18.479760Z",
     "iopub.status.idle": "2022-07-29T11:16:21.028333Z",
     "shell.execute_reply": "2022-07-29T11:16:21.027256Z"
    },
    "id": "RisP8wVhl6hZ",
    "papermill": {
     "duration": 2.560367,
     "end_time": "2022-07-29T11:16:21.030739",
     "exception": false,
     "start_time": "2022-07-29T11:16:18.470372",
     "status": "completed"
    },
    "tags": []
   },
   "outputs": [
    {
     "data": {
      "text/plain": [
       "<matplotlib.pyplot._IonContext at 0x7f9a6ad3bfd0>"
      ]
     },
     "execution_count": 3,
     "metadata": {},
     "output_type": "execute_result"
    }
   ],
   "source": [
    "from __future__ import print_function, division\n",
    "import torch\n",
    "import torch.nn as nn\n",
    "import torch.optim as optim\n",
    "from torch.optim import lr_scheduler\n",
    "import torch.backends.cudnn as cudnn\n",
    "import numpy as np\n",
    "import torchvision\n",
    "from torchvision import datasets, models, transforms\n",
    "import matplotlib.pyplot as plt\n",
    "import time\n",
    "import os\n",
    "import copy\n",
    "import pandas as pd\n",
    "import numpy as np\n",
    "import csv\n",
    "import os\n",
    "import tarfile\n",
    "from urllib.parse import urlparse\n",
    "from urllib.request import urlretrieve\n",
    "import numpy as np\n",
    "import torch\n",
    "from torch.utils.data import Dataset\n",
    "from PIL import Image\n",
    "from tqdm import tqdm\n",
    "from torch.utils.data import DataLoader\n",
    "from torchvision import transforms\n",
    "from sklearn.metrics import accuracy_score\n",
    "from sklearn.metrics import roc_auc_score\n",
    "from sklearn.metrics import f1_score\n",
    "from sklearn.metrics import classification_report\n",
    "from sklearn.model_selection import train_test_split\n",
    "cudnn.benchmark = True\n",
    "plt.ion()   # interactive mode"
   ]
  },
  {
   "cell_type": "code",
   "execution_count": 4,
   "id": "57ada9ad",
   "metadata": {
    "execution": {
     "iopub.execute_input": "2022-07-29T11:16:21.049369Z",
     "iopub.status.busy": "2022-07-29T11:16:21.048173Z",
     "iopub.status.idle": "2022-07-29T11:16:21.053174Z",
     "shell.execute_reply": "2022-07-29T11:16:21.052434Z"
    },
    "papermill": {
     "duration": 0.016238,
     "end_time": "2022-07-29T11:16:21.055337",
     "exception": false,
     "start_time": "2022-07-29T11:16:21.039099",
     "status": "completed"
    },
    "tags": []
   },
   "outputs": [],
   "source": [
    "import os"
   ]
  },
  {
   "cell_type": "code",
   "execution_count": 5,
   "id": "9050c634",
   "metadata": {
    "execution": {
     "iopub.execute_input": "2022-07-29T11:16:21.072849Z",
     "iopub.status.busy": "2022-07-29T11:16:21.072567Z",
     "iopub.status.idle": "2022-07-29T11:16:21.130090Z",
     "shell.execute_reply": "2022-07-29T11:16:21.128733Z"
    },
    "id": "i97UAL_fgZg1",
    "outputId": "267d2a4f-2bb1-4b61-e7c5-8d51e3adc5da",
    "papermill": {
     "duration": 0.068919,
     "end_time": "2022-07-29T11:16:21.132307",
     "exception": false,
     "start_time": "2022-07-29T11:16:21.063388",
     "status": "completed"
    },
    "tags": []
   },
   "outputs": [
    {
     "name": "stdout",
     "output_type": "stream",
     "text": [
      "cuda:0\n"
     ]
    }
   ],
   "source": [
    "device = torch.device(\"cuda:0\" if torch.cuda.is_available() else \"cpu\")\n",
    "print(device)"
   ]
  },
  {
   "cell_type": "code",
   "execution_count": 6,
   "id": "a4851190",
   "metadata": {
    "execution": {
     "iopub.execute_input": "2022-07-29T11:16:21.150476Z",
     "iopub.status.busy": "2022-07-29T11:16:21.149955Z",
     "iopub.status.idle": "2022-07-29T11:16:45.744014Z",
     "shell.execute_reply": "2022-07-29T11:16:45.742896Z"
    },
    "id": "KetFs7b6nImV",
    "outputId": "5f8e5177-9091-405d-8f6e-19e73f64c2f6",
    "papermill": {
     "duration": 24.605656,
     "end_time": "2022-07-29T11:16:45.746235",
     "exception": false,
     "start_time": "2022-07-29T11:16:21.140579",
     "status": "completed"
    },
    "tags": []
   },
   "outputs": [
    {
     "name": "stdout",
     "output_type": "stream",
     "text": [
      "\u001b[33mWARNING: Running pip as the 'root' user can result in broken permissions and conflicting behaviour with the system package manager. It is recommended to use a virtual environment instead: https://pip.pypa.io/warnings/venv\u001b[0m\u001b[33m\r\n",
      "\u001b[0m\u001b[33mWARNING: Running pip as the 'root' user can result in broken permissions and conflicting behaviour with the system package manager. It is recommended to use a virtual environment instead: https://pip.pypa.io/warnings/venv\u001b[0m\u001b[33m\r\n",
      "\u001b[0mtime: 486 µs (started: 2022-07-29 11:16:45 +00:00)\n"
     ]
    }
   ],
   "source": [
    "!pip install -q livelossplot==0.3.3\n",
    "!pip install -q ipython-autotime\n",
    "%load_ext autotime"
   ]
  },
  {
   "cell_type": "code",
   "execution_count": 7,
   "id": "23c86376",
   "metadata": {
    "execution": {
     "iopub.execute_input": "2022-07-29T11:16:45.765688Z",
     "iopub.status.busy": "2022-07-29T11:16:45.765378Z",
     "iopub.status.idle": "2022-07-29T11:16:45.798592Z",
     "shell.execute_reply": "2022-07-29T11:16:45.797400Z"
    },
    "papermill": {
     "duration": 0.046493,
     "end_time": "2022-07-29T11:16:45.801476",
     "exception": false,
     "start_time": "2022-07-29T11:16:45.754983",
     "status": "completed"
    },
    "scrolled": true,
    "tags": []
   },
   "outputs": [
    {
     "name": "stdout",
     "output_type": "stream",
     "text": [
      "time: 28.7 ms (started: 2022-07-29 11:16:45 +00:00)\n"
     ]
    }
   ],
   "source": [
    "labels = pd.read_csv('../input/ddids/file1.csv')\n",
    "labels['DDI_file'] = '../input/ddids/ddidiversedermatologyimages/'+labels['DDI_file']\n",
    "labels.to_csv('file_pp.csv')"
   ]
  },
  {
   "cell_type": "code",
   "execution_count": 8,
   "id": "627dd802",
   "metadata": {
    "execution": {
     "iopub.execute_input": "2022-07-29T11:16:45.819738Z",
     "iopub.status.busy": "2022-07-29T11:16:45.819457Z",
     "iopub.status.idle": "2022-07-29T11:16:45.824585Z",
     "shell.execute_reply": "2022-07-29T11:16:45.823627Z"
    },
    "papermill": {
     "duration": 0.017016,
     "end_time": "2022-07-29T11:16:45.827005",
     "exception": false,
     "start_time": "2022-07-29T11:16:45.809989",
     "status": "completed"
    },
    "tags": []
   },
   "outputs": [
    {
     "name": "stdout",
     "output_type": "stream",
     "text": [
      "time: 374 µs (started: 2022-07-29 11:16:45 +00:00)\n"
     ]
    }
   ],
   "source": [
    "evalpath = './file_pp.csv'"
   ]
  },
  {
   "cell_type": "code",
   "execution_count": 9,
   "id": "b1a090f7",
   "metadata": {
    "execution": {
     "iopub.execute_input": "2022-07-29T11:16:45.847214Z",
     "iopub.status.busy": "2022-07-29T11:16:45.845721Z",
     "iopub.status.idle": "2022-07-29T11:16:45.860596Z",
     "shell.execute_reply": "2022-07-29T11:16:45.859099Z"
    },
    "id": "BaGdvVCGtSKS",
    "outputId": "084749e6-e70f-460b-fd95-e09d465fa67e",
    "papermill": {
     "duration": 0.027752,
     "end_time": "2022-07-29T11:16:45.863318",
     "exception": false,
     "start_time": "2022-07-29T11:16:45.835566",
     "status": "completed"
    },
    "tags": []
   },
   "outputs": [
    {
     "name": "stdout",
     "output_type": "stream",
     "text": [
      "time: 2.04 ms (started: 2022-07-29 11:16:45 +00:00)\n"
     ]
    }
   ],
   "source": [
    "class_names = ['MEL', 'NV', 'BCC', 'AK', 'BKL', 'DF', 'VASC', 'SCC', 'UNK']\n",
    "\n",
    "def read_object_labels_csv(file,phase, header=True):\n",
    "    img_t=[]\n",
    "    dir = './file_pp.csv'\n",
    "    with open(dir, \"r\") as f:\n",
    "        csvReader = csv.reader(f)\n",
    "        next(csvReader, None)\n",
    "        k=0\n",
    "        for line in csvReader:\n",
    "            k+=1\n",
    "            image_name= line[2]\n",
    "            label = line[3:11]\n",
    "            label = torch.from_numpy(np.array(label, dtype=np.float64))\n",
    "            item = (image_name,label)\n",
    "            img_t.append(item)\n",
    "    return img_t\n",
    "\n",
    "\n",
    "class DDI(Dataset):\n",
    "    def __init__(self,phase, csv_path,transform=None):\n",
    "        self.phase = phase\n",
    "        self.transform = transform\n",
    "        file_csv = pd.read_csv(csv_path)\n",
    "        self.classes = class_names\n",
    "        self.images = read_object_labels_csv(file_csv,phase)\n",
    "        print('DDI classification phase={} number of classes={}  number of images={}'.format(phase, len(self.classes), len(self.images)))\n",
    "\n",
    "    def __getitem__(self, index):\n",
    "        filename, target = self.images[index]\n",
    "        filename = filename\n",
    "        img = Image.open(filename).convert('RGB')\n",
    "        if self.transform is not None:\n",
    "            img = self.transform(img)\n",
    "        \n",
    "        data = {'image':img, 'target': target}\n",
    "        return data\n",
    "\n",
    "    def __len__(self):\n",
    "        return len(self.images)\n",
    "\n",
    "    def get_number_classes(self):\n",
    "        return len(self.classes)"
   ]
  },
  {
   "cell_type": "code",
   "execution_count": 10,
   "id": "cd1cf311",
   "metadata": {
    "execution": {
     "iopub.execute_input": "2022-07-29T11:16:45.884260Z",
     "iopub.status.busy": "2022-07-29T11:16:45.882487Z",
     "iopub.status.idle": "2022-07-29T11:16:45.904173Z",
     "shell.execute_reply": "2022-07-29T11:16:45.903084Z"
    },
    "id": "HPx0h3uwpnS9",
    "outputId": "68b6cdb2-74f0-4e36-a14d-db1d02386bff",
    "papermill": {
     "duration": 0.034525,
     "end_time": "2022-07-29T11:16:45.906869",
     "exception": false,
     "start_time": "2022-07-29T11:16:45.872344",
     "status": "completed"
    },
    "tags": []
   },
   "outputs": [
    {
     "name": "stdout",
     "output_type": "stream",
     "text": [
      "DDI classification phase=Valid number of classes=9  number of images=656\n",
      "time: 12.9 ms (started: 2022-07-29 11:16:45 +00:00)\n"
     ]
    }
   ],
   "source": [
    "data_transforms = {\n",
    "    'train': transforms.Compose([\n",
    "        transforms.Resize((224,224)),\n",
    "        transforms.RandomHorizontalFlip(),\n",
    "        transforms.ToTensor(),\n",
    "        transforms.Normalize([0.485, 0.456, 0.406], [0.229, 0.224, 0.225])\n",
    "    ]),\n",
    "    'val': transforms.Compose([\n",
    "        transforms.Resize((224,224)),\n",
    "        transforms.ToTensor(),\n",
    "        transforms.Normalize([0.485, 0.456, 0.406], [0.229, 0.224, 0.225])\n",
    "    ]),\n",
    "}\n",
    "\n",
    "val_dataset = DDI(transform=data_transforms['val'],phase='Valid',csv_path=evalpath)\n",
    "image_datasets ={'val': val_dataset}\n",
    "dataloaders = {x: torch.utils.data.DataLoader(image_datasets[x], batch_size=64,shuffle=False, num_workers=2)for x in ['val']}\n",
    "dataset_sizes = {x: len(image_datasets[x]) for x in ['val']}"
   ]
  },
  {
   "cell_type": "code",
   "execution_count": 11,
   "id": "42647347",
   "metadata": {
    "execution": {
     "iopub.execute_input": "2022-07-29T11:16:45.927510Z",
     "iopub.status.busy": "2022-07-29T11:16:45.926600Z",
     "iopub.status.idle": "2022-07-29T11:16:52.047271Z",
     "shell.execute_reply": "2022-07-29T11:16:52.045680Z"
    },
    "id": "QE83J344l6hb",
    "outputId": "751305e9-b99e-420b-d41b-e6672c0cf4a2",
    "papermill": {
     "duration": 6.133512,
     "end_time": "2022-07-29T11:16:52.049493",
     "exception": false,
     "start_time": "2022-07-29T11:16:45.915981",
     "status": "completed"
    },
    "tags": []
   },
   "outputs": [
    {
     "data": {
      "image/png": "[encoded data removed]",
      "text/plain": [
       "<Figure size 432x288 with 1 Axes>"
      ]
     },
     "metadata": {
      "needs_background": "light"
     },
     "output_type": "display_data"
    },
    {
     "name": "stdout",
     "output_type": "stream",
     "text": [
      "time: 6.11 s (started: 2022-07-29 11:16:45 +00:00)\n"
     ]
    }
   ],
   "source": [
    "def imshow(inp, title=None):\n",
    "    inp = inp.numpy().transpose((1, 2, 0))\n",
    "    mean = np.array([0.6678, 0.5298, 0.5245])\n",
    "    std = np.array([0.1333, 0.1476, 0.1590])\n",
    "    inp = std * inp + mean\n",
    "    inp = np.clip(inp, 0, 1)\n",
    "    plt.imshow(inp)\n",
    "    if title is not None:\n",
    "        plt.title(title)\n",
    "    plt.pause(0.001)  # pause a bit so that plots are updated\n",
    "\n",
    "\n",
    "# Get a batch of training data\n",
    "data = next(iter(dataloaders['val']))\n",
    "ps = data['target'].numpy()\n",
    "l = np.where(ps==1.0)\n",
    "l = l[1].astype(int)\n",
    "# Make a grid from batch\n",
    "out = torchvision.utils.make_grid(data['image'])\n",
    "imshow(out, title=[class_names[x] for x in l])"
   ]
  },
  {
   "cell_type": "code",
   "execution_count": 12,
   "id": "aaf05d76",
   "metadata": {
    "execution": {
     "iopub.execute_input": "2022-07-29T11:16:52.072903Z",
     "iopub.status.busy": "2022-07-29T11:16:52.072570Z",
     "iopub.status.idle": "2022-07-29T11:16:56.483624Z",
     "shell.execute_reply": "2022-07-29T11:16:56.482398Z"
    },
    "papermill": {
     "duration": 4.425569,
     "end_time": "2022-07-29T11:16:56.486299",
     "exception": false,
     "start_time": "2022-07-29T11:16:52.060730",
     "status": "completed"
    },
    "tags": []
   },
   "outputs": [
    {
     "name": "stdout",
     "output_type": "stream",
     "text": [
      "time: 4.41 s (started: 2022-07-29 11:16:52 +00:00)\n"
     ]
    }
   ],
   "source": [
    "model1=models.resnet18(pretrained=False)\n",
    "model1.fc=nn.Sequential(nn.Linear(512, 8), nn.Sigmoid())\n",
    "model1.to(device)\n",
    "checkpoint = torch.load('../input/resnet18isic/RESNET18_wt_epoch_11_batch_312_auc_0.9114.pt')\n",
    "model1.load_state_dict(checkpoint['model_state_dict'],strict=False)\n",
    "del checkpoint"
   ]
  },
  {
   "cell_type": "code",
   "execution_count": 13,
   "id": "c2dfedfe",
   "metadata": {
    "execution": {
     "iopub.execute_input": "2022-07-29T11:16:56.511557Z",
     "iopub.status.busy": "2022-07-29T11:16:56.509811Z",
     "iopub.status.idle": "2022-07-29T11:16:57.668376Z",
     "shell.execute_reply": "2022-07-29T11:16:57.667193Z"
    },
    "papermill": {
     "duration": 1.172972,
     "end_time": "2022-07-29T11:16:57.670969",
     "exception": false,
     "start_time": "2022-07-29T11:16:56.497997",
     "status": "completed"
    },
    "tags": []
   },
   "outputs": [
    {
     "name": "stdout",
     "output_type": "stream",
     "text": [
      "time: 1.15 s (started: 2022-07-29 11:16:56 +00:00)\n"
     ]
    }
   ],
   "source": [
    "model2=models.resnet18(pretrained=False)\n",
    "model2.fc=nn.Sequential(nn.Linear(512, 8), nn.Sigmoid())\n",
    "model2.to(device)\n",
    "checkpoint = torch.load('../input/resnet18isic/RESNET18_wt_epoch_13_batch_312_auc_0.9108.pt')\n",
    "model2.load_state_dict(checkpoint['model_state_dict'],strict=False)\n",
    "del checkpoint"
   ]
  },
  {
   "cell_type": "code",
   "execution_count": 14,
   "id": "397a2436",
   "metadata": {
    "execution": {
     "iopub.execute_input": "2022-07-29T11:16:57.694830Z",
     "iopub.status.busy": "2022-07-29T11:16:57.694484Z",
     "iopub.status.idle": "2022-07-29T11:16:58.764602Z",
     "shell.execute_reply": "2022-07-29T11:16:58.763457Z"
    },
    "papermill": {
     "duration": 1.084864,
     "end_time": "2022-07-29T11:16:58.767124",
     "exception": false,
     "start_time": "2022-07-29T11:16:57.682260",
     "status": "completed"
    },
    "tags": []
   },
   "outputs": [
    {
     "name": "stdout",
     "output_type": "stream",
     "text": [
      "time: 1.06 s (started: 2022-07-29 11:16:57 +00:00)\n"
     ]
    }
   ],
   "source": [
    "model3=models.resnet18(pretrained=False)\n",
    "model3.fc=nn.Sequential(nn.Linear(512, 8), nn.Sigmoid())\n",
    "model3.to(device)\n",
    "checkpoint = torch.load('../input/resnet18isic/RESNET18_wt_epoch_15_batch_312_auc_0.9112.pt')\n",
    "model3.load_state_dict(checkpoint['model_state_dict'],strict=False)\n",
    "del checkpoint"
   ]
  },
  {
   "cell_type": "code",
   "execution_count": 15,
   "id": "5e4c05ac",
   "metadata": {
    "execution": {
     "iopub.execute_input": "2022-07-29T11:16:58.792066Z",
     "iopub.status.busy": "2022-07-29T11:16:58.790428Z",
     "iopub.status.idle": "2022-07-29T11:17:00.023324Z",
     "shell.execute_reply": "2022-07-29T11:17:00.021990Z"
    },
    "papermill": {
     "duration": 1.247724,
     "end_time": "2022-07-29T11:17:00.025970",
     "exception": false,
     "start_time": "2022-07-29T11:16:58.778246",
     "status": "completed"
    },
    "tags": []
   },
   "outputs": [
    {
     "name": "stdout",
     "output_type": "stream",
     "text": [
      "time: 1.23 s (started: 2022-07-29 11:16:58 +00:00)\n"
     ]
    }
   ],
   "source": [
    "model4=models.resnet18(pretrained=False)\n",
    "model4.fc=nn.Sequential(nn.Linear(512, 8), nn.Sigmoid())\n",
    "model4.to(device)\n",
    "checkpoint = torch.load('../input/resnet18isic/RESNET18_wt_epoch_17_batch_312_auc_0.9055.pt')\n",
    "model4.load_state_dict(checkpoint['model_state_dict'],strict=False)\n",
    "del checkpoint"
   ]
  },
  {
   "cell_type": "code",
   "execution_count": 16,
   "id": "4b61e66f",
   "metadata": {
    "execution": {
     "iopub.execute_input": "2022-07-29T11:17:00.050041Z",
     "iopub.status.busy": "2022-07-29T11:17:00.049256Z",
     "iopub.status.idle": "2022-07-29T11:17:01.160645Z",
     "shell.execute_reply": "2022-07-29T11:17:01.158887Z"
    },
    "papermill": {
     "duration": 1.126106,
     "end_time": "2022-07-29T11:17:01.163520",
     "exception": false,
     "start_time": "2022-07-29T11:17:00.037414",
     "status": "completed"
    },
    "tags": []
   },
   "outputs": [
    {
     "name": "stdout",
     "output_type": "stream",
     "text": [
      "time: 1.1 s (started: 2022-07-29 11:17:00 +00:00)\n"
     ]
    }
   ],
   "source": [
    "model5=models.resnet18(pretrained=False)\n",
    "model5.fc=nn.Sequential(nn.Linear(512, 8), nn.Sigmoid())\n",
    "model5.to(device)\n",
    "checkpoint = torch.load('../input/resnet18isic/RESNET18_wt_epoch_9_batch_312_auc_0.9091.pt')\n",
    "model5.load_state_dict(checkpoint['model_state_dict'],strict=False)\n",
    "del checkpoint"
   ]
  },
  {
   "cell_type": "code",
   "execution_count": 17,
   "id": "e9f84824",
   "metadata": {
    "execution": {
     "iopub.execute_input": "2022-07-29T11:17:01.188907Z",
     "iopub.status.busy": "2022-07-29T11:17:01.187183Z",
     "iopub.status.idle": "2022-07-29T11:17:01.204185Z",
     "shell.execute_reply": "2022-07-29T11:17:01.202886Z"
    },
    "papermill": {
     "duration": 0.03197,
     "end_time": "2022-07-29T11:17:01.206929",
     "exception": false,
     "start_time": "2022-07-29T11:17:01.174959",
     "status": "completed"
    },
    "tags": []
   },
   "outputs": [
    {
     "name": "stdout",
     "output_type": "stream",
     "text": [
      "time: 3.13 ms (started: 2022-07-29 11:17:01 +00:00)\n"
     ]
    },
    {
     "name": "stderr",
     "output_type": "stream",
     "text": [
      "/opt/conda/lib/python3.7/site-packages/ipykernel_launcher.py:1: TqdmDeprecationWarning: This function will be removed in tqdm==5.0.0\n",
      "Please use `tqdm.notebook.*` instead of `tqdm._tqdm_notebook.*`\n",
      "  \"\"\"Entry point for launching an IPython kernel.\n"
     ]
    }
   ],
   "source": [
    "from tqdm._tqdm_notebook import tqdm_notebook\n",
    "def compute_predictions(model):\n",
    "    model.eval()\n",
    "    pred_lst=[]\n",
    "    gt_lst=[]\n",
    "    for i, sample in enumerate(dataloaders['val']):    \n",
    "        images=sample['image']\n",
    "        labels=sample['target']\n",
    "        del sample\n",
    "        images = images.to(device)\n",
    "        labels=labels.numpy()\n",
    "        outputs=model(images)\n",
    "        outputs=outputs.detach()\n",
    "        outputs=outputs.cpu()\n",
    "        outputs=outputs.numpy()\n",
    "        pred_lst.append(outputs)\n",
    "        gt_lst.append(labels)\n",
    "        del labels, outputs, images\n",
    "\n",
    "    pred_lst=np.concatenate(pred_lst, axis=0)\n",
    "    gt_lst=np.concatenate(gt_lst, axis=0)\n",
    "    auc_lst=[]\n",
    "    acc_lst=[]\n",
    "    for k in range(0,8):\n",
    "        tmp_gt=gt_lst[:, k]\n",
    "        tmp_pred=pred_lst[:,k]\n",
    "        tmp_acc=accuracy_score(tmp_gt, tmp_pred.round())\n",
    "        acc_lst.append(tmp_acc)\n",
    "        tmp_auc=roc_auc_score(tmp_gt, tmp_pred)\n",
    "        auc_lst.append(tmp_auc)\n",
    "\n",
    "    auc_lst=np.array(auc_lst)\n",
    "    acc_lst=np.array(acc_lst)\n",
    "    print('\\n')\n",
    "    print(auc_lst)\n",
    "    print('\\n')\n",
    "    print(acc_lst)\n",
    "    auc=np.mean(auc_lst)\n",
    "    acc = np.mean(acc_lst)\n",
    "    print(auc)\n",
    "    print(acc)\n",
    "    f1s=0.0\n",
    "    return auc,acc,pred_lst,gt_lst"
   ]
  },
  {
   "cell_type": "code",
   "execution_count": 18,
   "id": "1a5b8ca4",
   "metadata": {
    "execution": {
     "iopub.execute_input": "2022-07-29T11:17:01.230065Z",
     "iopub.status.busy": "2022-07-29T11:17:01.229772Z",
     "iopub.status.idle": "2022-07-29T11:17:17.822043Z",
     "shell.execute_reply": "2022-07-29T11:17:17.819635Z"
    },
    "papermill": {
     "duration": 16.606575,
     "end_time": "2022-07-29T11:17:17.824439",
     "exception": false,
     "start_time": "2022-07-29T11:17:01.217864",
     "status": "completed"
    },
    "tags": []
   },
   "outputs": [
    {
     "name": "stdout",
     "output_type": "stream",
     "text": [
      "\n",
      "\n",
      "[0.44506937 0.57978499 0.58138054 0.62193252 0.50165608 0.47132205\n",
      " 0.51086843 0.59917394]\n",
      "\n",
      "\n",
      "[0.76829268 0.5304878  0.91615854 0.99237805 0.875      0.96646341\n",
      " 0.97560976 0.91920732]\n",
      "0.5388984897278326\n",
      "0.8679496951219512\n",
      "time: 16.6 s (started: 2022-07-29 11:17:01 +00:00)\n"
     ]
    }
   ],
   "source": [
    "auc1,acc1,pred_lst1,gt_lst1=compute_predictions(model1)"
   ]
  },
  {
   "cell_type": "code",
   "execution_count": 19,
   "id": "fe5c9f28",
   "metadata": {
    "execution": {
     "iopub.execute_input": "2022-07-29T11:17:17.848591Z",
     "iopub.status.busy": "2022-07-29T11:17:17.848204Z",
     "iopub.status.idle": "2022-07-29T11:17:17.855986Z",
     "shell.execute_reply": "2022-07-29T11:17:17.855017Z"
    },
    "papermill": {
     "duration": 0.02352,
     "end_time": "2022-07-29T11:17:17.859436",
     "exception": false,
     "start_time": "2022-07-29T11:17:17.835916",
     "status": "completed"
    },
    "tags": []
   },
   "outputs": [
    {
     "data": {
      "text/plain": [
       "0.5388984897278326"
      ]
     },
     "execution_count": 19,
     "metadata": {},
     "output_type": "execute_result"
    },
    {
     "name": "stdout",
     "output_type": "stream",
     "text": [
      "time: 3.37 ms (started: 2022-07-29 11:17:17 +00:00)\n"
     ]
    }
   ],
   "source": [
    "auc1"
   ]
  },
  {
   "cell_type": "code",
   "execution_count": 20,
   "id": "d14b26cf",
   "metadata": {
    "execution": {
     "iopub.execute_input": "2022-07-29T11:17:17.885084Z",
     "iopub.status.busy": "2022-07-29T11:17:17.884187Z",
     "iopub.status.idle": "2022-07-29T11:17:17.893510Z",
     "shell.execute_reply": "2022-07-29T11:17:17.892626Z"
    },
    "papermill": {
     "duration": 0.023971,
     "end_time": "2022-07-29T11:17:17.895634",
     "exception": false,
     "start_time": "2022-07-29T11:17:17.871663",
     "status": "completed"
    },
    "tags": []
   },
   "outputs": [
    {
     "data": {
      "text/plain": [
       "0.8679496951219512"
      ]
     },
     "execution_count": 20,
     "metadata": {},
     "output_type": "execute_result"
    },
    {
     "name": "stdout",
     "output_type": "stream",
     "text": [
      "time: 2.17 ms (started: 2022-07-29 11:17:17 +00:00)\n"
     ]
    }
   ],
   "source": [
    "acc1"
   ]
  },
  {
   "cell_type": "code",
   "execution_count": 21,
   "id": "01c6ab00",
   "metadata": {
    "execution": {
     "iopub.execute_input": "2022-07-29T11:17:17.919682Z",
     "iopub.status.busy": "2022-07-29T11:17:17.919393Z",
     "iopub.status.idle": "2022-07-29T11:17:17.925910Z",
     "shell.execute_reply": "2022-07-29T11:17:17.924953Z"
    },
    "papermill": {
     "duration": 0.021665,
     "end_time": "2022-07-29T11:17:17.928667",
     "exception": false,
     "start_time": "2022-07-29T11:17:17.907002",
     "status": "completed"
    },
    "tags": []
   },
   "outputs": [
    {
     "data": {
      "text/plain": [
       "(656, 8)"
      ]
     },
     "execution_count": 21,
     "metadata": {},
     "output_type": "execute_result"
    },
    {
     "name": "stdout",
     "output_type": "stream",
     "text": [
      "time: 2.67 ms (started: 2022-07-29 11:17:17 +00:00)\n"
     ]
    }
   ],
   "source": [
    "pred_lst1.shape"
   ]
  },
  {
   "cell_type": "code",
   "execution_count": 22,
   "id": "a70d0699",
   "metadata": {
    "execution": {
     "iopub.execute_input": "2022-07-29T11:17:17.953860Z",
     "iopub.status.busy": "2022-07-29T11:17:17.953127Z",
     "iopub.status.idle": "2022-07-29T11:17:17.960207Z",
     "shell.execute_reply": "2022-07-29T11:17:17.959268Z"
    },
    "papermill": {
     "duration": 0.02178,
     "end_time": "2022-07-29T11:17:17.962626",
     "exception": false,
     "start_time": "2022-07-29T11:17:17.940846",
     "status": "completed"
    },
    "tags": []
   },
   "outputs": [
    {
     "data": {
      "text/plain": [
       "(656, 8)"
      ]
     },
     "execution_count": 22,
     "metadata": {},
     "output_type": "execute_result"
    },
    {
     "name": "stdout",
     "output_type": "stream",
     "text": [
      "time: 2.85 ms (started: 2022-07-29 11:17:17 +00:00)\n"
     ]
    }
   ],
   "source": [
    "gt_lst1.shape"
   ]
  },
  {
   "cell_type": "code",
   "execution_count": 23,
   "id": "659b86a3",
   "metadata": {
    "execution": {
     "iopub.execute_input": "2022-07-29T11:17:17.987393Z",
     "iopub.status.busy": "2022-07-29T11:17:17.987082Z",
     "iopub.status.idle": "2022-07-29T11:18:14.468785Z",
     "shell.execute_reply": "2022-07-29T11:18:14.466880Z"
    },
    "papermill": {
     "duration": 56.497146,
     "end_time": "2022-07-29T11:18:14.471637",
     "exception": false,
     "start_time": "2022-07-29T11:17:17.974491",
     "status": "completed"
    },
    "tags": []
   },
   "outputs": [
    {
     "name": "stdout",
     "output_type": "stream",
     "text": [
      "Computing Test Predictions\n",
      "\n",
      "\n",
      "[0.44506937 0.57978499 0.58138054 0.62193252 0.50165608 0.47132205\n",
      " 0.51086843 0.59917394]\n",
      "\n",
      "\n",
      "[0.76829268 0.5304878  0.91615854 0.99237805 0.875      0.96646341\n",
      " 0.97560976 0.91920732]\n",
      "0.5388984897278326\n",
      "0.8679496951219512\n",
      "\n",
      "\n",
      "[0.45099363 0.58868911 0.57357998 0.62039877 0.48563975 0.46400918\n",
      " 0.55943838 0.59448043]\n",
      "\n",
      "\n",
      "[0.73932927 0.54573171 0.91006098 0.99237805 0.86890244 0.96646341\n",
      " 0.97560976 0.91768293]\n",
      "0.5421536517245761\n",
      "0.8645198170731707\n",
      "\n",
      "\n",
      "[0.48248969 0.588783   0.58176261 0.57592025 0.47849365 0.51182965\n",
      " 0.58647946 0.58108827]\n",
      "\n",
      "\n",
      "[0.76829268 0.54115854 0.91006098 0.99085366 0.86280488 0.96646341\n",
      " 0.97713415 0.91463415]\n",
      "0.5483558213883448\n",
      "0.8664253048780488\n",
      "\n",
      "\n",
      "[0.5072366  0.58194451 0.57803744 0.63458589 0.46592559 0.46451104\n",
      " 0.57379095 0.55245784]\n",
      "\n",
      "\n",
      "[0.76371951 0.5152439  0.91006098 0.99085366 0.86128049 0.96646341\n",
      " 0.97713415 0.91463415]\n",
      "0.544811232052582\n",
      "0.8624237804878049\n",
      "\n",
      "\n",
      "[0.45691789 0.57541899 0.56514264 0.53757669 0.51583485 0.49197017\n",
      " 0.4724909  0.57044964]\n",
      "\n",
      "\n",
      "[0.69359756 0.61890244 0.91615854 0.99237805 0.87957317 0.96646341\n",
      " 0.97713415 0.91920732]\n",
      "0.523225220564799\n",
      "0.8704268292682926\n",
      "time: 56.5 s (started: 2022-07-29 11:17:17 +00:00)\n"
     ]
    }
   ],
   "source": [
    "\n",
    "print('Computing Test Predictions')\n",
    "auc1,acc1,pred_lst1,gt_lst1 = compute_predictions(model1)\n",
    "auc2,acc2,pred_lst2,gt_lst2 = compute_predictions(model2)\n",
    "auc3,acc3,pred_lst3,gt_lst3 = compute_predictions(model3)\n",
    "auc4,acc4,pred_lst4,gt_lst4 = compute_predictions(model4)\n",
    "auc5,acc5,pred_lst5,gt_lst5 = compute_predictions(model5)\n",
    "\n"
   ]
  },
  {
   "cell_type": "code",
   "execution_count": 24,
   "id": "1937fa03",
   "metadata": {
    "execution": {
     "iopub.execute_input": "2022-07-29T11:18:14.498625Z",
     "iopub.status.busy": "2022-07-29T11:18:14.498274Z",
     "iopub.status.idle": "2022-07-29T11:18:14.522652Z",
     "shell.execute_reply": "2022-07-29T11:18:14.521532Z"
    },
    "papermill": {
     "duration": 0.040976,
     "end_time": "2022-07-29T11:18:14.525626",
     "exception": false,
     "start_time": "2022-07-29T11:18:14.484650",
     "status": "completed"
    },
    "tags": []
   },
   "outputs": [
    {
     "name": "stdout",
     "output_type": "stream",
     "text": [
      "Printing AUC LIST \n",
      "\n",
      "[0.46194226 0.58779713 0.57300688 0.59202454 0.48861162 0.47132205\n",
      " 0.53905356 0.58102569]\n",
      "Printing ACC LIST\n",
      "\n",
      "[0.75914634 0.53506098 0.91463415 0.99237805 0.87652439 0.96646341\n",
      " 0.97713415 0.91920732]\n",
      "0.536847965530224\n",
      "0.8675685975609756\n",
      "time: 16.7 ms (started: 2022-07-29 11:18:14 +00:00)\n"
     ]
    }
   ],
   "source": [
    "pred_lst = (pred_lst1+pred_lst2+pred_lst3+pred_lst4+pred_lst5)/5\n",
    "gt_lst = gt_lst1\n",
    "auc_lst=[]\n",
    "acc_lst=[]\n",
    "for k in range(0,8):\n",
    "    tmp_gt=gt_lst[:, k]\n",
    "    tmp_pred=pred_lst[:,k]\n",
    "    tmp_acc=accuracy_score(tmp_gt, tmp_pred.round())\n",
    "    acc_lst.append(tmp_acc)\n",
    "    tmp_auc=roc_auc_score(tmp_gt, tmp_pred)\n",
    "    auc_lst.append(tmp_auc)\n",
    "\n",
    "auc_lst=np.array(auc_lst)\n",
    "acc_lst=np.array(acc_lst)\n",
    "print('Printing AUC LIST \\n')\n",
    "print(auc_lst)\n",
    "print('Printing ACC LIST\\n')\n",
    "print(acc_lst)\n",
    "auc=np.mean(auc_lst)\n",
    "acc = np.mean(acc_lst)\n",
    "print(auc)\n",
    "print(acc)"
   ]
  },
  {
   "cell_type": "code",
   "execution_count": 25,
   "id": "8e4513e4",
   "metadata": {
    "execution": {
     "iopub.execute_input": "2022-07-29T11:18:14.553396Z",
     "iopub.status.busy": "2022-07-29T11:18:14.552599Z",
     "iopub.status.idle": "2022-07-29T11:18:14.560517Z",
     "shell.execute_reply": "2022-07-29T11:18:14.559479Z"
    },
    "papermill": {
     "duration": 0.024622,
     "end_time": "2022-07-29T11:18:14.563317",
     "exception": false,
     "start_time": "2022-07-29T11:18:14.538695",
     "status": "completed"
    },
    "tags": []
   },
   "outputs": [
    {
     "data": {
      "text/plain": [
       "0.8675685975609756"
      ]
     },
     "execution_count": 25,
     "metadata": {},
     "output_type": "execute_result"
    },
    {
     "name": "stdout",
     "output_type": "stream",
     "text": [
      "time: 2.31 ms (started: 2022-07-29 11:18:14 +00:00)\n"
     ]
    }
   ],
   "source": [
    "acc"
   ]
  },
  {
   "cell_type": "code",
   "execution_count": 26,
   "id": "daf8ee0e",
   "metadata": {
    "execution": {
     "iopub.execute_input": "2022-07-29T11:18:14.590554Z",
     "iopub.status.busy": "2022-07-29T11:18:14.589774Z",
     "iopub.status.idle": "2022-07-29T11:18:14.596925Z",
     "shell.execute_reply": "2022-07-29T11:18:14.595994Z"
    },
    "id": "D49ZgqrFaB8R",
    "papermill": {
     "duration": 0.022961,
     "end_time": "2022-07-29T11:18:14.599515",
     "exception": false,
     "start_time": "2022-07-29T11:18:14.576554",
     "status": "completed"
    },
    "tags": []
   },
   "outputs": [
    {
     "data": {
      "text/plain": [
       "0.536847965530224"
      ]
     },
     "execution_count": 26,
     "metadata": {},
     "output_type": "execute_result"
    },
    {
     "name": "stdout",
     "output_type": "stream",
     "text": [
      "time: 2.08 ms (started: 2022-07-29 11:18:14 +00:00)\n"
     ]
    }
   ],
   "source": [
    "auc"
   ]
  },
  {
   "cell_type": "code",
   "execution_count": null,
   "id": "ea748e77",
   "metadata": {
    "papermill": {
     "duration": 0.01247,
     "end_time": "2022-07-29T11:18:14.625621",
     "exception": false,
     "start_time": "2022-07-29T11:18:14.613151",
     "status": "completed"
    },
    "tags": []
   },
   "outputs": [],
   "source": []
  }
 ],
 "metadata": {
  "kernelspec": {
   "display_name": "Python 3",
   "language": "python",
   "name": "python3"
  },
  "language_info": {
   "codemirror_mode": {
    "name": "ipython",
    "version": 3
   },
   "file_extension": ".py",
   "mimetype": "text/x-python",
   "name": "python",
   "nbconvert_exporter": "python",
   "pygments_lexer": "ipython3",
   "version": "3.7.12"
  },
  "papermill": {
   "default_parameters": {},
   "duration": 139.507676,
   "end_time": "2022-07-29T11:18:16.895698",
   "environment_variables": {},
   "exception": null,
   "input_path": "__notebook__.ipynb",
   "output_path": "__notebook__.ipynb",
   "parameters": {},
   "start_time": "2022-07-29T11:15:57.388022",
   "version": "2.3.4"
  }
 },
 "nbformat": 4,
 "nbformat_minor": 5
}
