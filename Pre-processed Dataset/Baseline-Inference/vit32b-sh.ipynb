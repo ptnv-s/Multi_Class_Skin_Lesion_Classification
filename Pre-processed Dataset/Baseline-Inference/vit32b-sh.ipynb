{
 "cells": [
  {
   "cell_type": "code",
   "execution_count": 1,
   "id": "d11fbac6",
   "metadata": {
    "execution": {
     "iopub.execute_input": "2022-10-30T16:46:36.473052Z",
     "iopub.status.busy": "2022-10-30T16:46:36.472057Z",
     "iopub.status.idle": "2022-10-30T16:46:47.399137Z",
     "shell.execute_reply": "2022-10-30T16:46:47.397493Z"
    },
    "id": "Ec0y8MdFZMAX",
    "papermill": {
     "duration": 10.939494,
     "end_time": "2022-10-30T16:46:47.402503",
     "exception": false,
     "start_time": "2022-10-30T16:46:36.463009",
     "status": "completed"
    },
    "tags": []
   },
   "outputs": [
    {
     "name": "stdout",
     "output_type": "stream",
     "text": [
      "Requirement already satisfied: ipython in /opt/conda/lib/python3.7/site-packages (7.33.0)\r\n",
      "Requirement already satisfied: pexpect>4.3 in /opt/conda/lib/python3.7/site-packages (from ipython) (4.8.0)\r\n",
      "Requirement already satisfied: jedi>=0.16 in /opt/conda/lib/python3.7/site-packages (from ipython) (0.18.1)\r\n",
      "Requirement already satisfied: backcall in /opt/conda/lib/python3.7/site-packages (from ipython) (0.2.0)\r\n",
      "Requirement already satisfied: pickleshare in /opt/conda/lib/python3.7/site-packages (from ipython) (0.7.5)\r\n",
      "Requirement already satisfied: setuptools>=18.5 in /opt/conda/lib/python3.7/site-packages (from ipython) (59.8.0)\r\n",
      "Requirement already satisfied: matplotlib-inline in /opt/conda/lib/python3.7/site-packages (from ipython) (0.1.3)\r\n",
      "Requirement already satisfied: pygments in /opt/conda/lib/python3.7/site-packages (from ipython) (2.12.0)\r\n",
      "Requirement already satisfied: traitlets>=4.2 in /opt/conda/lib/python3.7/site-packages (from ipython) (5.2.1.post0)\r\n",
      "Requirement already satisfied: prompt-toolkit!=3.0.0,!=3.0.1,<3.1.0,>=2.0.0 in /opt/conda/lib/python3.7/site-packages (from ipython) (3.0.29)\r\n",
      "Requirement already satisfied: decorator in /opt/conda/lib/python3.7/site-packages (from ipython) (5.1.1)\r\n",
      "Requirement already satisfied: parso<0.9.0,>=0.8.0 in /opt/conda/lib/python3.7/site-packages (from jedi>=0.16->ipython) (0.8.3)\r\n",
      "Requirement already satisfied: ptyprocess>=0.5 in /opt/conda/lib/python3.7/site-packages (from pexpect>4.3->ipython) (0.7.0)\r\n",
      "Requirement already satisfied: wcwidth in /opt/conda/lib/python3.7/site-packages (from prompt-toolkit!=3.0.0,!=3.0.1,<3.1.0,>=2.0.0->ipython) (0.2.5)\r\n",
      "\u001b[33mWARNING: Running pip as the 'root' user can result in broken permissions and conflicting behaviour with the system package manager. It is recommended to use a virtual environment instead: https://pip.pypa.io/warnings/venv\u001b[0m\u001b[33m\r\n",
      "\u001b[0mNote: you may need to restart the kernel to use updated packages.\n"
     ]
    }
   ],
   "source": [
    "pip install ipython"
   ]
  },
  {
   "cell_type": "code",
   "execution_count": 2,
   "id": "7c083412",
   "metadata": {
    "execution": {
     "iopub.execute_input": "2022-10-30T16:46:47.419083Z",
     "iopub.status.busy": "2022-10-30T16:46:47.418101Z",
     "iopub.status.idle": "2022-10-30T16:46:47.426363Z",
     "shell.execute_reply": "2022-10-30T16:46:47.425389Z"
    },
    "id": "W_vAStgml6hV",
    "papermill": {
     "duration": 0.018129,
     "end_time": "2022-10-30T16:46:47.428251",
     "exception": false,
     "start_time": "2022-10-30T16:46:47.410122",
     "status": "completed"
    },
    "tags": []
   },
   "outputs": [],
   "source": [
    "%matplotlib inline"
   ]
  },
  {
   "cell_type": "code",
   "execution_count": 3,
   "id": "78eeef25",
   "metadata": {
    "execution": {
     "iopub.execute_input": "2022-10-30T16:46:47.443896Z",
     "iopub.status.busy": "2022-10-30T16:46:47.443076Z",
     "iopub.status.idle": "2022-10-30T16:46:50.102619Z",
     "shell.execute_reply": "2022-10-30T16:46:50.101681Z"
    },
    "id": "RisP8wVhl6hZ",
    "papermill": {
     "duration": 2.66985,
     "end_time": "2022-10-30T16:46:50.105230",
     "exception": false,
     "start_time": "2022-10-30T16:46:47.435380",
     "status": "completed"
    },
    "tags": []
   },
   "outputs": [
    {
     "data": {
      "text/plain": [
       "<matplotlib.pyplot._IonContext at 0x7f273a391350>"
      ]
     },
     "execution_count": 3,
     "metadata": {},
     "output_type": "execute_result"
    }
   ],
   "source": [
    "from __future__ import print_function, division\n",
    "import torch\n",
    "import torch.nn as nn\n",
    "import torch.optim as optim\n",
    "from torch.optim import lr_scheduler\n",
    "import torch.backends.cudnn as cudnn\n",
    "import numpy as np\n",
    "import torchvision\n",
    "from torchvision import datasets, models, transforms\n",
    "import matplotlib.pyplot as plt\n",
    "import time\n",
    "import os\n",
    "import copy\n",
    "import pandas as pd\n",
    "import numpy as np\n",
    "import csv\n",
    "import os\n",
    "import tarfile\n",
    "from urllib.parse import urlparse\n",
    "from urllib.request import urlretrieve\n",
    "import numpy as np\n",
    "import torch\n",
    "from torch.utils.data import Dataset\n",
    "from PIL import Image\n",
    "from tqdm import tqdm\n",
    "from torch.utils.data import DataLoader\n",
    "from torchvision import transforms\n",
    "from sklearn.metrics import accuracy_score\n",
    "from sklearn.metrics import roc_auc_score\n",
    "from sklearn.metrics import f1_score\n",
    "from sklearn.metrics import classification_report\n",
    "from sklearn.model_selection import train_test_split\n",
    "cudnn.benchmark = True\n",
    "plt.ion()   # interactive mode"
   ]
  },
  {
   "cell_type": "code",
   "execution_count": 4,
   "id": "a2f18a04",
   "metadata": {
    "execution": {
     "iopub.execute_input": "2022-10-30T16:46:50.120663Z",
     "iopub.status.busy": "2022-10-30T16:46:50.120154Z",
     "iopub.status.idle": "2022-10-30T16:46:50.124499Z",
     "shell.execute_reply": "2022-10-30T16:46:50.123490Z"
    },
    "papermill": {
     "duration": 0.01419,
     "end_time": "2022-10-30T16:46:50.126643",
     "exception": false,
     "start_time": "2022-10-30T16:46:50.112453",
     "status": "completed"
    },
    "tags": []
   },
   "outputs": [],
   "source": [
    "import os"
   ]
  },
  {
   "cell_type": "code",
   "execution_count": 5,
   "id": "410eaeb6",
   "metadata": {
    "execution": {
     "iopub.execute_input": "2022-10-30T16:46:50.141776Z",
     "iopub.status.busy": "2022-10-30T16:46:50.141503Z",
     "iopub.status.idle": "2022-10-30T16:46:50.216159Z",
     "shell.execute_reply": "2022-10-30T16:46:50.214911Z"
    },
    "id": "i97UAL_fgZg1",
    "outputId": "267d2a4f-2bb1-4b61-e7c5-8d51e3adc5da",
    "papermill": {
     "duration": 0.085247,
     "end_time": "2022-10-30T16:46:50.219133",
     "exception": false,
     "start_time": "2022-10-30T16:46:50.133886",
     "status": "completed"
    },
    "tags": []
   },
   "outputs": [
    {
     "name": "stdout",
     "output_type": "stream",
     "text": [
      "cuda:0\n"
     ]
    }
   ],
   "source": [
    "device = torch.device(\"cuda:0\" if torch.cuda.is_available() else \"cpu\")\n",
    "print(device)"
   ]
  },
  {
   "cell_type": "code",
   "execution_count": 6,
   "id": "11293288",
   "metadata": {
    "execution": {
     "iopub.execute_input": "2022-10-30T16:46:50.263862Z",
     "iopub.status.busy": "2022-10-30T16:46:50.262737Z",
     "iopub.status.idle": "2022-10-30T16:47:10.115866Z",
     "shell.execute_reply": "2022-10-30T16:47:10.114666Z"
    },
    "id": "KetFs7b6nImV",
    "outputId": "5f8e5177-9091-405d-8f6e-19e73f64c2f6",
    "papermill": {
     "duration": 19.880129,
     "end_time": "2022-10-30T16:47:10.121394",
     "exception": false,
     "start_time": "2022-10-30T16:46:50.241265",
     "status": "completed"
    },
    "tags": []
   },
   "outputs": [
    {
     "name": "stdout",
     "output_type": "stream",
     "text": [
      "\u001b[33mWARNING: Running pip as the 'root' user can result in broken permissions and conflicting behaviour with the system package manager. It is recommended to use a virtual environment instead: https://pip.pypa.io/warnings/venv\u001b[0m\u001b[33m\r\n",
      "\u001b[0m\u001b[33mWARNING: Running pip as the 'root' user can result in broken permissions and conflicting behaviour with the system package manager. It is recommended to use a virtual environment instead: https://pip.pypa.io/warnings/venv\u001b[0m\u001b[33m\r\n",
      "\u001b[0mtime: 645 µs (started: 2022-10-30 16:47:10 +00:00)\n"
     ]
    }
   ],
   "source": [
    "!pip install -q livelossplot==0.3.3\n",
    "!pip install -q ipython-autotime\n",
    "%load_ext autotime"
   ]
  },
  {
   "cell_type": "code",
   "execution_count": 7,
   "id": "fcab55f5",
   "metadata": {
    "execution": {
     "iopub.execute_input": "2022-10-30T16:47:10.145838Z",
     "iopub.status.busy": "2022-10-30T16:47:10.145403Z",
     "iopub.status.idle": "2022-10-30T16:47:11.291374Z",
     "shell.execute_reply": "2022-10-30T16:47:11.290267Z"
    },
    "id": "BaGdvVCGtSKS",
    "outputId": "084749e6-e70f-460b-fd95-e09d465fa67e",
    "papermill": {
     "duration": 1.161133,
     "end_time": "2022-10-30T16:47:11.293689",
     "exception": false,
     "start_time": "2022-10-30T16:47:10.132556",
     "status": "completed"
    },
    "tags": []
   },
   "outputs": [
    {
     "name": "stdout",
     "output_type": "stream",
     "text": [
      "time: 1.14 s (started: 2022-10-30 16:47:10 +00:00)\n"
     ]
    }
   ],
   "source": [
    "#helper function\n",
    "def get_label(row):\n",
    "  for c in labels.columns:\n",
    "    if row[c]==1:\n",
    "      return c\n",
    "\n",
    "labels = pd.read_csv('../input/isiccsvfile/ISIC_2019_Training_GroundTruth.csv')\n",
    "labels['l']=labels.apply(get_label, axis=1)\n",
    "X=labels.drop(['l','UNK'], axis=1)\n",
    "y = labels['l']\n",
    "X_train, X_test, y_train, y_test = train_test_split(X,y, test_size=0.21, random_state=42,stratify=y)\n",
    "X_train['image'] = '../input/pp1isic/preprocessed-hair/'+X_train['image']+ '.jpg'\n",
    "X_test['image'] = '../input/pp1isic/preprocessed-hair/'+X_test['image']+ '.jpg'\n",
    "X_test.to_csv('validation.csv', index=False)\n",
    "X_train.to_csv('training.csv', index=False)\n",
    "train_path = 'training.csv'\n",
    "class_path = 'validation_class.csv'\n",
    "eval_path = 'validation.csv'\n",
    "train_img_path = '../input/pp1isic/preprocessed-hair'\n"
   ]
  },
  {
   "cell_type": "code",
   "execution_count": 8,
   "id": "f8c65251",
   "metadata": {
    "execution": {
     "iopub.execute_input": "2022-10-30T16:47:11.311072Z",
     "iopub.status.busy": "2022-10-30T16:47:11.310076Z",
     "iopub.status.idle": "2022-10-30T16:47:11.324281Z",
     "shell.execute_reply": "2022-10-30T16:47:11.323046Z"
    },
    "id": "mpp9KEVTpN3Z",
    "outputId": "2eed9a44-a69b-4474-b487-098a435cf93b",
    "papermill": {
     "duration": 0.026191,
     "end_time": "2022-10-30T16:47:11.327356",
     "exception": false,
     "start_time": "2022-10-30T16:47:11.301165",
     "status": "completed"
    },
    "tags": []
   },
   "outputs": [
    {
     "name": "stdout",
     "output_type": "stream",
     "text": [
      "time: 2.08 ms (started: 2022-10-30 16:47:11 +00:00)\n"
     ]
    }
   ],
   "source": [
    "class_names = ['MEL', 'NV', 'BCC', 'AK', 'BKL', 'DF', 'VASC', 'SCC', 'UNK']\n",
    "\n",
    "def read_object_labels_csv(file,phase, header=True):\n",
    "    img_t=[]\n",
    "    if phase == 'Train':\n",
    "      dir = 'training.csv'\n",
    "    elif phase == \"Valid\":\n",
    "      dir = 'validation.csv'\n",
    "    with open(dir, \"r\") as f:\n",
    "        csvReader = csv.reader(f)\n",
    "        next(csvReader, None)\n",
    "        k=0\n",
    "        for line in csvReader:\n",
    "            k+=1\n",
    "            image_name= line[0]\n",
    "            label = line[1:9]\n",
    "            label = torch.from_numpy(np.array(label, dtype=np.float64))\n",
    "            item = (image_name,label)\n",
    "            img_t.append(item)\n",
    "    return img_t\n",
    "\n",
    "\n",
    "class CHEXPERT(Dataset):\n",
    "    def __init__(self, root, phase, csv_path,transform=None):\n",
    "        self.root = os.path.abspath(root)\n",
    "        self.phase = phase\n",
    "        self.transform = transform\n",
    "        self.path_images = self.root\n",
    "        file_csv = pd.read_csv(csv_path)\n",
    "        self.classes = class_names\n",
    "        self.images = read_object_labels_csv(file_csv,phase)\n",
    "        print('[dataset] classification phase={} number of classes={}  number of images={}'.format(phase, len(self.classes), len(self.images)))\n",
    "\n",
    "    def __getitem__(self, index):\n",
    "        filename, target = self.images[index]\n",
    "        filename = filename\n",
    "        img = Image.open(filename).convert('RGB')\n",
    "        if self.transform is not None:\n",
    "            img = self.transform(img)\n",
    "        \n",
    "        data = {'image':img, 'target': target}\n",
    "        return data\n",
    "\n",
    "    def __len__(self):\n",
    "        return len(self.images)\n",
    "\n",
    "    def get_number_classes(self):\n",
    "        return len(self.classes)\n"
   ]
  },
  {
   "cell_type": "code",
   "execution_count": 9,
   "id": "870b572f",
   "metadata": {
    "execution": {
     "iopub.execute_input": "2022-10-30T16:47:11.343461Z",
     "iopub.status.busy": "2022-10-30T16:47:11.343143Z",
     "iopub.status.idle": "2022-10-30T16:47:11.643113Z",
     "shell.execute_reply": "2022-10-30T16:47:11.641634Z"
    },
    "id": "HPx0h3uwpnS9",
    "outputId": "68b6cdb2-74f0-4e36-a14d-db1d02386bff",
    "papermill": {
     "duration": 0.311038,
     "end_time": "2022-10-30T16:47:11.645802",
     "exception": false,
     "start_time": "2022-10-30T16:47:11.334764",
     "status": "completed"
    },
    "tags": []
   },
   "outputs": [
    {
     "name": "stdout",
     "output_type": "stream",
     "text": [
      "[dataset] classification phase=Train number of classes=9  number of images=20011\n",
      "[dataset] classification phase=Valid number of classes=9  number of images=5320\n",
      "time: 293 ms (started: 2022-10-30 16:47:11 +00:00)\n"
     ]
    }
   ],
   "source": [
    "data_transforms = {\n",
    "    'train': transforms.Compose([\n",
    "        transforms.Resize((224,224)),\n",
    "        transforms.RandomHorizontalFlip(),\n",
    "        transforms.ToTensor(),\n",
    "        transforms.Normalize([0.485, 0.456, 0.406], [0.229, 0.224, 0.225])\n",
    "    ]),\n",
    "    'val': transforms.Compose([\n",
    "        transforms.Resize((224,224)),\n",
    "        transforms.ToTensor(),\n",
    "        transforms.Normalize([0.485, 0.456, 0.406], [0.229, 0.224, 0.225])\n",
    "    ]),\n",
    "}\n",
    "train_dataset = CHEXPERT(train_img_path, transform=data_transforms['train'], phase='Train',csv_path=train_path)\n",
    "val_dataset = CHEXPERT(train_img_path, transform=data_transforms['val'],phase='Valid',csv_path=eval_path)\n",
    "\n",
    "image_datasets ={'train': train_dataset, 'val': val_dataset}\n",
    "dataloaders = {x: torch.utils.data.DataLoader(image_datasets[x], batch_size=16,shuffle=False, num_workers=2)for x in ['train', 'val']}\n",
    "dataset_sizes = {x: len(image_datasets[x]) for x in ['train', 'val']}"
   ]
  },
  {
   "cell_type": "code",
   "execution_count": 10,
   "id": "5856c67f",
   "metadata": {
    "execution": {
     "iopub.execute_input": "2022-10-30T16:47:11.662900Z",
     "iopub.status.busy": "2022-10-30T16:47:11.662609Z",
     "iopub.status.idle": "2022-10-30T16:47:12.779534Z",
     "shell.execute_reply": "2022-10-30T16:47:12.777900Z"
    },
    "id": "QE83J344l6hb",
    "outputId": "751305e9-b99e-420b-d41b-e6672c0cf4a2",
    "papermill": {
     "duration": 1.130841,
     "end_time": "2022-10-30T16:47:12.784618",
     "exception": false,
     "start_time": "2022-10-30T16:47:11.653777",
     "status": "completed"
    },
    "tags": []
   },
   "outputs": [
    {
     "data": {
      "image/png": "[encoded data removed]",
      "text/plain": [
       "<Figure size 432x288 with 1 Axes>"
      ]
     },
     "metadata": {
      "needs_background": "light"
     },
     "output_type": "display_data"
    },
    {
     "name": "stdout",
     "output_type": "stream",
     "text": [
      "time: 1.11 s (started: 2022-10-30 16:47:11 +00:00)\n"
     ]
    }
   ],
   "source": [
    "def imshow(inp, title=None):\n",
    "    inp = inp.numpy().transpose((1, 2, 0))\n",
    "    mean = np.array([0.6678, 0.5298, 0.5245])\n",
    "    std = np.array([0.1333, 0.1476, 0.1590])\n",
    "    inp = std * inp + mean\n",
    "    inp = np.clip(inp, 0, 1)\n",
    "    plt.imshow(inp)\n",
    "    if title is not None:\n",
    "        plt.title(title)\n",
    "    plt.pause(0.001)  # pause a bit so that plots are updated\n",
    "\n",
    "\n",
    "# Get a batch of training data\n",
    "data = next(iter(dataloaders['train']))\n",
    "ps = data['target'].numpy()\n",
    "l = np.where(ps==1.0)\n",
    "l = l[1].astype(int)\n",
    "# Make a grid from batch\n",
    "out = torchvision.utils.make_grid(data['image'])\n",
    "imshow(out, title=[class_names[x] for x in l])"
   ]
  },
  {
   "cell_type": "code",
   "execution_count": 11,
   "id": "10c31b9d",
   "metadata": {
    "execution": {
     "iopub.execute_input": "2022-10-30T16:47:12.812612Z",
     "iopub.status.busy": "2022-10-30T16:47:12.812213Z",
     "iopub.status.idle": "2022-10-30T16:47:25.191615Z",
     "shell.execute_reply": "2022-10-30T16:47:25.190612Z"
    },
    "papermill": {
     "duration": 12.396452,
     "end_time": "2022-10-30T16:47:25.194293",
     "exception": false,
     "start_time": "2022-10-30T16:47:12.797841",
     "status": "completed"
    },
    "scrolled": true,
    "tags": []
   },
   "outputs": [
    {
     "data": {
      "text/plain": [
       "VisionTransformer(\n",
       "  (conv_proj): Conv2d(3, 768, kernel_size=(32, 32), stride=(32, 32))\n",
       "  (encoder): Encoder(\n",
       "    (dropout): Dropout(p=0.0, inplace=False)\n",
       "    (layers): Sequential(\n",
       "      (encoder_layer_0): EncoderBlock(\n",
       "        (ln_1): LayerNorm((768,), eps=1e-06, elementwise_affine=True)\n",
       "        (self_attention): MultiheadAttention(\n",
       "          (out_proj): NonDynamicallyQuantizableLinear(in_features=768, out_features=768, bias=True)\n",
       "        )\n",
       "        (dropout): Dropout(p=0.0, inplace=False)\n",
       "        (ln_2): LayerNorm((768,), eps=1e-06, elementwise_affine=True)\n",
       "        (mlp): MLPBlock(\n",
       "          (linear_1): Linear(in_features=768, out_features=3072, bias=True)\n",
       "          (act): GELU()\n",
       "          (dropout_1): Dropout(p=0.0, inplace=False)\n",
       "          (linear_2): Linear(in_features=3072, out_features=768, bias=True)\n",
       "          (dropout_2): Dropout(p=0.0, inplace=False)\n",
       "        )\n",
       "      )\n",
       "      (encoder_layer_1): EncoderBlock(\n",
       "        (ln_1): LayerNorm((768,), eps=1e-06, elementwise_affine=True)\n",
       "        (self_attention): MultiheadAttention(\n",
       "          (out_proj): NonDynamicallyQuantizableLinear(in_features=768, out_features=768, bias=True)\n",
       "        )\n",
       "        (dropout): Dropout(p=0.0, inplace=False)\n",
       "        (ln_2): LayerNorm((768,), eps=1e-06, elementwise_affine=True)\n",
       "        (mlp): MLPBlock(\n",
       "          (linear_1): Linear(in_features=768, out_features=3072, bias=True)\n",
       "          (act): GELU()\n",
       "          (dropout_1): Dropout(p=0.0, inplace=False)\n",
       "          (linear_2): Linear(in_features=3072, out_features=768, bias=True)\n",
       "          (dropout_2): Dropout(p=0.0, inplace=False)\n",
       "        )\n",
       "      )\n",
       "      (encoder_layer_2): EncoderBlock(\n",
       "        (ln_1): LayerNorm((768,), eps=1e-06, elementwise_affine=True)\n",
       "        (self_attention): MultiheadAttention(\n",
       "          (out_proj): NonDynamicallyQuantizableLinear(in_features=768, out_features=768, bias=True)\n",
       "        )\n",
       "        (dropout): Dropout(p=0.0, inplace=False)\n",
       "        (ln_2): LayerNorm((768,), eps=1e-06, elementwise_affine=True)\n",
       "        (mlp): MLPBlock(\n",
       "          (linear_1): Linear(in_features=768, out_features=3072, bias=True)\n",
       "          (act): GELU()\n",
       "          (dropout_1): Dropout(p=0.0, inplace=False)\n",
       "          (linear_2): Linear(in_features=3072, out_features=768, bias=True)\n",
       "          (dropout_2): Dropout(p=0.0, inplace=False)\n",
       "        )\n",
       "      )\n",
       "      (encoder_layer_3): EncoderBlock(\n",
       "        (ln_1): LayerNorm((768,), eps=1e-06, elementwise_affine=True)\n",
       "        (self_attention): MultiheadAttention(\n",
       "          (out_proj): NonDynamicallyQuantizableLinear(in_features=768, out_features=768, bias=True)\n",
       "        )\n",
       "        (dropout): Dropout(p=0.0, inplace=False)\n",
       "        (ln_2): LayerNorm((768,), eps=1e-06, elementwise_affine=True)\n",
       "        (mlp): MLPBlock(\n",
       "          (linear_1): Linear(in_features=768, out_features=3072, bias=True)\n",
       "          (act): GELU()\n",
       "          (dropout_1): Dropout(p=0.0, inplace=False)\n",
       "          (linear_2): Linear(in_features=3072, out_features=768, bias=True)\n",
       "          (dropout_2): Dropout(p=0.0, inplace=False)\n",
       "        )\n",
       "      )\n",
       "      (encoder_layer_4): EncoderBlock(\n",
       "        (ln_1): LayerNorm((768,), eps=1e-06, elementwise_affine=True)\n",
       "        (self_attention): MultiheadAttention(\n",
       "          (out_proj): NonDynamicallyQuantizableLinear(in_features=768, out_features=768, bias=True)\n",
       "        )\n",
       "        (dropout): Dropout(p=0.0, inplace=False)\n",
       "        (ln_2): LayerNorm((768,), eps=1e-06, elementwise_affine=True)\n",
       "        (mlp): MLPBlock(\n",
       "          (linear_1): Linear(in_features=768, out_features=3072, bias=True)\n",
       "          (act): GELU()\n",
       "          (dropout_1): Dropout(p=0.0, inplace=False)\n",
       "          (linear_2): Linear(in_features=3072, out_features=768, bias=True)\n",
       "          (dropout_2): Dropout(p=0.0, inplace=False)\n",
       "        )\n",
       "      )\n",
       "      (encoder_layer_5): EncoderBlock(\n",
       "        (ln_1): LayerNorm((768,), eps=1e-06, elementwise_affine=True)\n",
       "        (self_attention): MultiheadAttention(\n",
       "          (out_proj): NonDynamicallyQuantizableLinear(in_features=768, out_features=768, bias=True)\n",
       "        )\n",
       "        (dropout): Dropout(p=0.0, inplace=False)\n",
       "        (ln_2): LayerNorm((768,), eps=1e-06, elementwise_affine=True)\n",
       "        (mlp): MLPBlock(\n",
       "          (linear_1): Linear(in_features=768, out_features=3072, bias=True)\n",
       "          (act): GELU()\n",
       "          (dropout_1): Dropout(p=0.0, inplace=False)\n",
       "          (linear_2): Linear(in_features=3072, out_features=768, bias=True)\n",
       "          (dropout_2): Dropout(p=0.0, inplace=False)\n",
       "        )\n",
       "      )\n",
       "      (encoder_layer_6): EncoderBlock(\n",
       "        (ln_1): LayerNorm((768,), eps=1e-06, elementwise_affine=True)\n",
       "        (self_attention): MultiheadAttention(\n",
       "          (out_proj): NonDynamicallyQuantizableLinear(in_features=768, out_features=768, bias=True)\n",
       "        )\n",
       "        (dropout): Dropout(p=0.0, inplace=False)\n",
       "        (ln_2): LayerNorm((768,), eps=1e-06, elementwise_affine=True)\n",
       "        (mlp): MLPBlock(\n",
       "          (linear_1): Linear(in_features=768, out_features=3072, bias=True)\n",
       "          (act): GELU()\n",
       "          (dropout_1): Dropout(p=0.0, inplace=False)\n",
       "          (linear_2): Linear(in_features=3072, out_features=768, bias=True)\n",
       "          (dropout_2): Dropout(p=0.0, inplace=False)\n",
       "        )\n",
       "      )\n",
       "      (encoder_layer_7): EncoderBlock(\n",
       "        (ln_1): LayerNorm((768,), eps=1e-06, elementwise_affine=True)\n",
       "        (self_attention): MultiheadAttention(\n",
       "          (out_proj): NonDynamicallyQuantizableLinear(in_features=768, out_features=768, bias=True)\n",
       "        )\n",
       "        (dropout): Dropout(p=0.0, inplace=False)\n",
       "        (ln_2): LayerNorm((768,), eps=1e-06, elementwise_affine=True)\n",
       "        (mlp): MLPBlock(\n",
       "          (linear_1): Linear(in_features=768, out_features=3072, bias=True)\n",
       "          (act): GELU()\n",
       "          (dropout_1): Dropout(p=0.0, inplace=False)\n",
       "          (linear_2): Linear(in_features=3072, out_features=768, bias=True)\n",
       "          (dropout_2): Dropout(p=0.0, inplace=False)\n",
       "        )\n",
       "      )\n",
       "      (encoder_layer_8): EncoderBlock(\n",
       "        (ln_1): LayerNorm((768,), eps=1e-06, elementwise_affine=True)\n",
       "        (self_attention): MultiheadAttention(\n",
       "          (out_proj): NonDynamicallyQuantizableLinear(in_features=768, out_features=768, bias=True)\n",
       "        )\n",
       "        (dropout): Dropout(p=0.0, inplace=False)\n",
       "        (ln_2): LayerNorm((768,), eps=1e-06, elementwise_affine=True)\n",
       "        (mlp): MLPBlock(\n",
       "          (linear_1): Linear(in_features=768, out_features=3072, bias=True)\n",
       "          (act): GELU()\n",
       "          (dropout_1): Dropout(p=0.0, inplace=False)\n",
       "          (linear_2): Linear(in_features=3072, out_features=768, bias=True)\n",
       "          (dropout_2): Dropout(p=0.0, inplace=False)\n",
       "        )\n",
       "      )\n",
       "      (encoder_layer_9): EncoderBlock(\n",
       "        (ln_1): LayerNorm((768,), eps=1e-06, elementwise_affine=True)\n",
       "        (self_attention): MultiheadAttention(\n",
       "          (out_proj): NonDynamicallyQuantizableLinear(in_features=768, out_features=768, bias=True)\n",
       "        )\n",
       "        (dropout): Dropout(p=0.0, inplace=False)\n",
       "        (ln_2): LayerNorm((768,), eps=1e-06, elementwise_affine=True)\n",
       "        (mlp): MLPBlock(\n",
       "          (linear_1): Linear(in_features=768, out_features=3072, bias=True)\n",
       "          (act): GELU()\n",
       "          (dropout_1): Dropout(p=0.0, inplace=False)\n",
       "          (linear_2): Linear(in_features=3072, out_features=768, bias=True)\n",
       "          (dropout_2): Dropout(p=0.0, inplace=False)\n",
       "        )\n",
       "      )\n",
       "      (encoder_layer_10): EncoderBlock(\n",
       "        (ln_1): LayerNorm((768,), eps=1e-06, elementwise_affine=True)\n",
       "        (self_attention): MultiheadAttention(\n",
       "          (out_proj): NonDynamicallyQuantizableLinear(in_features=768, out_features=768, bias=True)\n",
       "        )\n",
       "        (dropout): Dropout(p=0.0, inplace=False)\n",
       "        (ln_2): LayerNorm((768,), eps=1e-06, elementwise_affine=True)\n",
       "        (mlp): MLPBlock(\n",
       "          (linear_1): Linear(in_features=768, out_features=3072, bias=True)\n",
       "          (act): GELU()\n",
       "          (dropout_1): Dropout(p=0.0, inplace=False)\n",
       "          (linear_2): Linear(in_features=3072, out_features=768, bias=True)\n",
       "          (dropout_2): Dropout(p=0.0, inplace=False)\n",
       "        )\n",
       "      )\n",
       "      (encoder_layer_11): EncoderBlock(\n",
       "        (ln_1): LayerNorm((768,), eps=1e-06, elementwise_affine=True)\n",
       "        (self_attention): MultiheadAttention(\n",
       "          (out_proj): NonDynamicallyQuantizableLinear(in_features=768, out_features=768, bias=True)\n",
       "        )\n",
       "        (dropout): Dropout(p=0.0, inplace=False)\n",
       "        (ln_2): LayerNorm((768,), eps=1e-06, elementwise_affine=True)\n",
       "        (mlp): MLPBlock(\n",
       "          (linear_1): Linear(in_features=768, out_features=3072, bias=True)\n",
       "          (act): GELU()\n",
       "          (dropout_1): Dropout(p=0.0, inplace=False)\n",
       "          (linear_2): Linear(in_features=3072, out_features=768, bias=True)\n",
       "          (dropout_2): Dropout(p=0.0, inplace=False)\n",
       "        )\n",
       "      )\n",
       "    )\n",
       "    (ln): LayerNorm((768,), eps=1e-06, elementwise_affine=True)\n",
       "  )\n",
       "  (heads): Sequential(\n",
       "    (0): Linear(in_features=768, out_features=8, bias=True)\n",
       "    (1): Sigmoid()\n",
       "  )\n",
       ")"
      ]
     },
     "execution_count": 11,
     "metadata": {},
     "output_type": "execute_result"
    },
    {
     "name": "stdout",
     "output_type": "stream",
     "text": [
      "time: 12.4 s (started: 2022-10-30 16:47:12 +00:00)\n"
     ]
    }
   ],
   "source": [
    "model=models.vit_b_32(pretrained=False)\n",
    "model.heads=nn.Sequential(nn.Linear(768, 8), nn.Sigmoid())\n",
    "checkpoint = torch.load('../input/isic2019hairvit32b/resnet50_wt_epoch_9_batch_78_auc_0.6677.pt')\n",
    "model.load_state_dict(checkpoint['model_state_dict'],strict=False)\n",
    "del checkpoint\n",
    "model.to(device)"
   ]
  },
  {
   "cell_type": "code",
   "execution_count": 12,
   "id": "cdf150f3",
   "metadata": {
    "execution": {
     "iopub.execute_input": "2022-10-30T16:47:25.214842Z",
     "iopub.status.busy": "2022-10-30T16:47:25.214178Z",
     "iopub.status.idle": "2022-10-30T16:47:25.233325Z",
     "shell.execute_reply": "2022-10-30T16:47:25.232206Z"
    },
    "papermill": {
     "duration": 0.032838,
     "end_time": "2022-10-30T16:47:25.236659",
     "exception": false,
     "start_time": "2022-10-30T16:47:25.203821",
     "status": "completed"
    },
    "tags": []
   },
   "outputs": [
    {
     "name": "stdout",
     "output_type": "stream",
     "text": [
      "time: 3.51 ms (started: 2022-10-30 16:47:25 +00:00)\n"
     ]
    }
   ],
   "source": [
    "class FusionMatrix(object):\n",
    "    def __init__(self, num_classes):\n",
    "        self.num_classes = num_classes\n",
    "        self.matrix = np.zeros((self.num_classes, self.num_classes), dtype=int)\n",
    "\n",
    "    def update(self, output, label):\n",
    "        length = output.shape[0]\n",
    "        for i in range(length):\n",
    "            self.matrix[int(output[i]), int(label[i])] += 1\n",
    "\n",
    "    def get_fusion_matrix(self):\n",
    "        return self.matrix\n",
    "\n",
    "    def get_rec_per_class(self):\n",
    "        rec = np.array(\n",
    "            [\n",
    "                self.matrix[i, i] / self.matrix[:, i].sum()\n",
    "                for i in range(self.num_classes)\n",
    "            ]\n",
    "        )\n",
    "        rec[np.isnan(rec)] = 0\n",
    "        return rec\n",
    "\n",
    "    def get_pre_per_class(self):\n",
    "        pre = np.array(\n",
    "            [\n",
    "                self.matrix[i, i] / self.matrix[i, :].sum()\n",
    "                for i in range(self.num_classes)\n",
    "            ]\n",
    "        )\n",
    "        pre[np.isnan(pre)] = 0\n",
    "        return pre\n",
    "\n",
    "    def get_accuracy(self):\n",
    "        acc = (\n",
    "            np.sum([self.matrix[i, i] for i in range(self.num_classes)])\n",
    "            / self.matrix.sum()\n",
    "        )\n",
    "        return acc\n",
    "\n",
    "    # convert multi-classification into binary classification tasks, and calculate the accuracy.\n",
    "    def get_binary_accuracy(self, class_no):\n",
    "        class_no = int(class_no)\n",
    "        if class_no >= self.num_classes or class_no < 0:\n",
    "            raise AttributeError(\n",
    "                \"Parameter class_no must less than the number of class.\")\n",
    "\n",
    "        error_num = 0\n",
    "        for i in range(self.num_classes):\n",
    "            error_num += self.matrix[i, class_no]\n",
    "            error_num += self.matrix[class_no, i]\n",
    "        error_num -= 2 * self.matrix[class_no, class_no]\n",
    "        ok_num = self.matrix.sum() - error_num\n",
    "        acc = ok_num / self.matrix.sum()\n",
    "        return acc\n",
    "\n",
    "    def get_balance_accuracy(self):\n",
    "        rec = self.get_rec_per_class()\n",
    "        bacc = np.mean(rec)\n",
    "        return bacc\n",
    "\n",
    "    def get_f1_score(self):\n",
    "        recall = self.get_rec_per_class()\n",
    "        precision = self.get_pre_per_class()\n",
    "        f1_score = 2 * (precision * recall) / (precision + recall)\n",
    "        f1_score[np.isnan(f1_score)] = 0\n",
    "        return np.mean(f1_score)\n",
    "\n",
    "    def plot_confusion_matrix(self, normalize = False, cmap=plt.cm.Blues):\n",
    "        if normalize:\n",
    "            title = 'Normalized confusion matrix'\n",
    "        else:\n",
    "            title = 'Confusion matrix, without normalization'\n",
    "\n",
    "        # Compute confusion matrix\n",
    "        cm = self.matrix.T\n",
    "\n",
    "        fig, ax = plt.subplots()\n",
    "        im = ax.imshow(cm, interpolation='nearest', cmap=cmap)\n",
    "        ax.figure.colorbar(im, ax=ax)\n",
    "        # We want to show all ticks...\n",
    "        ax.set(xticks=np.arange(cm.shape[1]),\n",
    "               yticks=np.arange(cm.shape[0]),\n",
    "               # ... and label them with the respective list entries\n",
    "               xticklabels=np.arange(self.num_classes), yticklabels=np.arange(self.num_classes),\n",
    "               title=title,\n",
    "               ylabel='True label',\n",
    "               xlabel='Predicted label')\n",
    "\n",
    "        # Rotate the tick labels and set their alignment.\n",
    "        plt.setp(ax.get_xticklabels(), rotation=45, ha=\"right\",\n",
    "                 rotation_mode=\"anchor\")\n",
    "\n",
    "        # Loop over data dimensions and create text annotations.\n",
    "        fmt = '.2f' if normalize else 'd'\n",
    "        thresh = cm.max() / 2.\n",
    "        for i in range(cm.shape[0]):\n",
    "            for j in range(cm.shape[1]):\n",
    "                ax.text(j, i, format(cm[i, j], fmt),\n",
    "                        ha=\"center\", va=\"center\",\n",
    "                        color=\"white\" if cm[i, j] > thresh else \"black\")\n",
    "        fig.tight_layout()\n",
    "        return fig"
   ]
  },
  {
   "cell_type": "code",
   "execution_count": 13,
   "id": "d71ab91e",
   "metadata": {
    "execution": {
     "iopub.execute_input": "2022-10-30T16:47:25.255961Z",
     "iopub.status.busy": "2022-10-30T16:47:25.255172Z",
     "iopub.status.idle": "2022-10-30T16:47:25.269100Z",
     "shell.execute_reply": "2022-10-30T16:47:25.268073Z"
    },
    "papermill": {
     "duration": 0.027434,
     "end_time": "2022-10-30T16:47:25.273329",
     "exception": false,
     "start_time": "2022-10-30T16:47:25.245895",
     "status": "completed"
    },
    "tags": []
   },
   "outputs": [
    {
     "name": "stdout",
     "output_type": "stream",
     "text": [
      "time: 3.06 ms (started: 2022-10-30 16:47:25 +00:00)\n"
     ]
    },
    {
     "name": "stderr",
     "output_type": "stream",
     "text": [
      "/opt/conda/lib/python3.7/site-packages/ipykernel_launcher.py:1: TqdmDeprecationWarning: This function will be removed in tqdm==5.0.0\n",
      "Please use `tqdm.notebook.*` instead of `tqdm._tqdm_notebook.*`\n",
      "  \"\"\"Entry point for launching an IPython kernel.\n"
     ]
    }
   ],
   "source": [
    "from tqdm._tqdm_notebook import tqdm_notebook\n",
    "def compute_predictions(model):\n",
    "    model.eval()\n",
    "    fusion_matrix = FusionMatrix(8)\n",
    "    pred_lst=[]\n",
    "    gt_lst=[]\n",
    "    for i, sample in enumerate(dataloaders['val']):    \n",
    "        images=sample['image']\n",
    "        labels=sample['target']\n",
    "        del sample\n",
    "        images = images.to(device)\n",
    "        labels=labels.numpy()\n",
    "        outputs=model(images)\n",
    "        outputs=outputs.detach()\n",
    "        outputs=outputs.cpu()\n",
    "        outputs=outputs.numpy()\n",
    "        pred_lst.append(outputs)\n",
    "        gt_lst.append(labels)\n",
    "        del labels, outputs, images\n",
    "\n",
    "    pred_lst=np.concatenate(pred_lst, axis=0)\n",
    "    gt_lst=np.concatenate(gt_lst, axis=0)\n",
    "    pred_lst2 = np.argmax(pred_lst, axis=1)\n",
    "    gt_lst2 = np.argmax(gt_lst, axis=1)\n",
    "    fusion_matrix.update(pred_lst2, gt_lst2)\n",
    "    print(\"sensitivity-\"+str(fusion_matrix.get_rec_per_class()))\n",
    "    print(\"specicivity-\"+str(fusion_matrix.get_pre_per_class()))\n",
    "    print(\"Balanced Accuracy\")\n",
    "    print(fusion_matrix.get_balance_accuracy())\n",
    "    print(\"Confusion Matrix\")\n",
    "    print(fusion_matrix.plot_confusion_matrix())\n",
    "    print(\"f1-score\")\n",
    "    print(fusion_matrix.get_f1_score())\n",
    "    \n",
    "    #roc_auc = get_roc_auc(pred_lst, gt_lst)\n",
    "    #print(roc_auc)\n",
    "    auc_lst=[]\n",
    "    acc_lst=[]\n",
    "    for k in range(0,8):\n",
    "        tmp_gt=gt_lst[:, k]\n",
    "        tmp_pred=pred_lst[:,k]\n",
    "        tmp_acc=accuracy_score(tmp_gt, tmp_pred.round())\n",
    "        acc_lst.append(tmp_acc)\n",
    "        tmp_auc=roc_auc_score(tmp_gt, tmp_pred)\n",
    "        auc_lst.append(tmp_auc)\n",
    "\n",
    "    \n",
    "    auc_lst=np.array(auc_lst)\n",
    "    \n",
    "    acc_lst=np.array(acc_lst)\n",
    "    print(\"auc-list\")\n",
    "    print('\\n')\n",
    "    print(auc_lst)\n",
    "    print(\"accuracy-list\")\n",
    "    print('\\n')\n",
    "    print(acc_lst)\n",
    "    auc=np.mean(auc_lst)\n",
    "    acc = np.mean(acc_lst)\n",
    "    print(\"mean-auc\"+str(auc))\n",
    "    print(\"mean-auc\"+str(acc))\n",
    "    f1s=0.0\n",
    "    return auc,acc,pred_lst,gt_lst"
   ]
  },
  {
   "cell_type": "code",
   "execution_count": 14,
   "id": "8313df19",
   "metadata": {
    "execution": {
     "iopub.execute_input": "2022-10-30T16:47:25.293217Z",
     "iopub.status.busy": "2022-10-30T16:47:25.292953Z",
     "iopub.status.idle": "2022-10-30T16:47:58.012142Z",
     "shell.execute_reply": "2022-10-30T16:47:58.010901Z"
    },
    "papermill": {
     "duration": 32.731436,
     "end_time": "2022-10-30T16:47:58.014954",
     "exception": false,
     "start_time": "2022-10-30T16:47:25.283518",
     "status": "completed"
    },
    "tags": []
   },
   "outputs": [
    {
     "name": "stdout",
     "output_type": "stream",
     "text": [
      "sensitivity-[0.04736842 0.95857988 0.00573066 0.         0.         0.06\n",
      " 0.01886792 0.02272727]\n",
      "specicivity-[0.29032258 0.53531599 0.19047619 0.         0.         0.02112676\n",
      " 0.01020408 0.05      ]\n",
      "Balanced Accuracy\n",
      "0.13915926987384986\n",
      "Confusion Matrix\n",
      "Figure(432x288)\n",
      "f1-score\n",
      "0.10691325556143691\n",
      "auc-list\n",
      "\n",
      "\n",
      "[0.58214031 0.70451933 0.56514781 0.57167667 0.52828651 0.41496395\n",
      " 0.44028859 0.50495316]\n",
      "accuracy-list\n",
      "\n",
      "\n",
      "[0.66052632 0.54285714 0.80319549 0.85263158 0.81578947 0.84736842\n",
      " 0.73984962 0.74868421]\n",
      "mean-auc0.5389970398489747\n",
      "mean-auc0.7513627819548871\n"
     ]
    },
    {
     "name": "stderr",
     "output_type": "stream",
     "text": [
      "/opt/conda/lib/python3.7/site-packages/ipykernel_launcher.py:28: RuntimeWarning: invalid value encountered in long_scalars\n",
      "/opt/conda/lib/python3.7/site-packages/ipykernel_launcher.py:65: RuntimeWarning: invalid value encountered in true_divide\n"
     ]
    },
    {
     "data": {
      "image/png": "[encoded data removed]",
      "text/plain": [
       "<Figure size 432x288 with 2 Axes>"
      ]
     },
     "metadata": {
      "needs_background": "light"
     },
     "output_type": "display_data"
    },
    {
     "name": "stdout",
     "output_type": "stream",
     "text": [
      "time: 32.7 s (started: 2022-10-30 16:47:25 +00:00)\n"
     ]
    }
   ],
   "source": [
    "auc1,acc1,pred_lst1,gt_lst1=compute_predictions(model)"
   ]
  },
  {
   "cell_type": "code",
   "execution_count": 15,
   "id": "c1322bdd",
   "metadata": {
    "execution": {
     "iopub.execute_input": "2022-10-30T16:47:58.035138Z",
     "iopub.status.busy": "2022-10-30T16:47:58.034344Z",
     "iopub.status.idle": "2022-10-30T16:48:06.534530Z",
     "shell.execute_reply": "2022-10-30T16:48:06.533422Z"
    },
    "papermill": {
     "duration": 8.513004,
     "end_time": "2022-10-30T16:48:06.537178",
     "exception": false,
     "start_time": "2022-10-30T16:47:58.024174",
     "status": "completed"
    },
    "scrolled": true,
    "tags": []
   },
   "outputs": [
    {
     "data": {
      "text/plain": [
       "VisionTransformer(\n",
       "  (conv_proj): Conv2d(3, 768, kernel_size=(32, 32), stride=(32, 32))\n",
       "  (encoder): Encoder(\n",
       "    (dropout): Dropout(p=0.0, inplace=False)\n",
       "    (layers): Sequential(\n",
       "      (encoder_layer_0): EncoderBlock(\n",
       "        (ln_1): LayerNorm((768,), eps=1e-06, elementwise_affine=True)\n",
       "        (self_attention): MultiheadAttention(\n",
       "          (out_proj): NonDynamicallyQuantizableLinear(in_features=768, out_features=768, bias=True)\n",
       "        )\n",
       "        (dropout): Dropout(p=0.0, inplace=False)\n",
       "        (ln_2): LayerNorm((768,), eps=1e-06, elementwise_affine=True)\n",
       "        (mlp): MLPBlock(\n",
       "          (linear_1): Linear(in_features=768, out_features=3072, bias=True)\n",
       "          (act): GELU()\n",
       "          (dropout_1): Dropout(p=0.0, inplace=False)\n",
       "          (linear_2): Linear(in_features=3072, out_features=768, bias=True)\n",
       "          (dropout_2): Dropout(p=0.0, inplace=False)\n",
       "        )\n",
       "      )\n",
       "      (encoder_layer_1): EncoderBlock(\n",
       "        (ln_1): LayerNorm((768,), eps=1e-06, elementwise_affine=True)\n",
       "        (self_attention): MultiheadAttention(\n",
       "          (out_proj): NonDynamicallyQuantizableLinear(in_features=768, out_features=768, bias=True)\n",
       "        )\n",
       "        (dropout): Dropout(p=0.0, inplace=False)\n",
       "        (ln_2): LayerNorm((768,), eps=1e-06, elementwise_affine=True)\n",
       "        (mlp): MLPBlock(\n",
       "          (linear_1): Linear(in_features=768, out_features=3072, bias=True)\n",
       "          (act): GELU()\n",
       "          (dropout_1): Dropout(p=0.0, inplace=False)\n",
       "          (linear_2): Linear(in_features=3072, out_features=768, bias=True)\n",
       "          (dropout_2): Dropout(p=0.0, inplace=False)\n",
       "        )\n",
       "      )\n",
       "      (encoder_layer_2): EncoderBlock(\n",
       "        (ln_1): LayerNorm((768,), eps=1e-06, elementwise_affine=True)\n",
       "        (self_attention): MultiheadAttention(\n",
       "          (out_proj): NonDynamicallyQuantizableLinear(in_features=768, out_features=768, bias=True)\n",
       "        )\n",
       "        (dropout): Dropout(p=0.0, inplace=False)\n",
       "        (ln_2): LayerNorm((768,), eps=1e-06, elementwise_affine=True)\n",
       "        (mlp): MLPBlock(\n",
       "          (linear_1): Linear(in_features=768, out_features=3072, bias=True)\n",
       "          (act): GELU()\n",
       "          (dropout_1): Dropout(p=0.0, inplace=False)\n",
       "          (linear_2): Linear(in_features=3072, out_features=768, bias=True)\n",
       "          (dropout_2): Dropout(p=0.0, inplace=False)\n",
       "        )\n",
       "      )\n",
       "      (encoder_layer_3): EncoderBlock(\n",
       "        (ln_1): LayerNorm((768,), eps=1e-06, elementwise_affine=True)\n",
       "        (self_attention): MultiheadAttention(\n",
       "          (out_proj): NonDynamicallyQuantizableLinear(in_features=768, out_features=768, bias=True)\n",
       "        )\n",
       "        (dropout): Dropout(p=0.0, inplace=False)\n",
       "        (ln_2): LayerNorm((768,), eps=1e-06, elementwise_affine=True)\n",
       "        (mlp): MLPBlock(\n",
       "          (linear_1): Linear(in_features=768, out_features=3072, bias=True)\n",
       "          (act): GELU()\n",
       "          (dropout_1): Dropout(p=0.0, inplace=False)\n",
       "          (linear_2): Linear(in_features=3072, out_features=768, bias=True)\n",
       "          (dropout_2): Dropout(p=0.0, inplace=False)\n",
       "        )\n",
       "      )\n",
       "      (encoder_layer_4): EncoderBlock(\n",
       "        (ln_1): LayerNorm((768,), eps=1e-06, elementwise_affine=True)\n",
       "        (self_attention): MultiheadAttention(\n",
       "          (out_proj): NonDynamicallyQuantizableLinear(in_features=768, out_features=768, bias=True)\n",
       "        )\n",
       "        (dropout): Dropout(p=0.0, inplace=False)\n",
       "        (ln_2): LayerNorm((768,), eps=1e-06, elementwise_affine=True)\n",
       "        (mlp): MLPBlock(\n",
       "          (linear_1): Linear(in_features=768, out_features=3072, bias=True)\n",
       "          (act): GELU()\n",
       "          (dropout_1): Dropout(p=0.0, inplace=False)\n",
       "          (linear_2): Linear(in_features=3072, out_features=768, bias=True)\n",
       "          (dropout_2): Dropout(p=0.0, inplace=False)\n",
       "        )\n",
       "      )\n",
       "      (encoder_layer_5): EncoderBlock(\n",
       "        (ln_1): LayerNorm((768,), eps=1e-06, elementwise_affine=True)\n",
       "        (self_attention): MultiheadAttention(\n",
       "          (out_proj): NonDynamicallyQuantizableLinear(in_features=768, out_features=768, bias=True)\n",
       "        )\n",
       "        (dropout): Dropout(p=0.0, inplace=False)\n",
       "        (ln_2): LayerNorm((768,), eps=1e-06, elementwise_affine=True)\n",
       "        (mlp): MLPBlock(\n",
       "          (linear_1): Linear(in_features=768, out_features=3072, bias=True)\n",
       "          (act): GELU()\n",
       "          (dropout_1): Dropout(p=0.0, inplace=False)\n",
       "          (linear_2): Linear(in_features=3072, out_features=768, bias=True)\n",
       "          (dropout_2): Dropout(p=0.0, inplace=False)\n",
       "        )\n",
       "      )\n",
       "      (encoder_layer_6): EncoderBlock(\n",
       "        (ln_1): LayerNorm((768,), eps=1e-06, elementwise_affine=True)\n",
       "        (self_attention): MultiheadAttention(\n",
       "          (out_proj): NonDynamicallyQuantizableLinear(in_features=768, out_features=768, bias=True)\n",
       "        )\n",
       "        (dropout): Dropout(p=0.0, inplace=False)\n",
       "        (ln_2): LayerNorm((768,), eps=1e-06, elementwise_affine=True)\n",
       "        (mlp): MLPBlock(\n",
       "          (linear_1): Linear(in_features=768, out_features=3072, bias=True)\n",
       "          (act): GELU()\n",
       "          (dropout_1): Dropout(p=0.0, inplace=False)\n",
       "          (linear_2): Linear(in_features=3072, out_features=768, bias=True)\n",
       "          (dropout_2): Dropout(p=0.0, inplace=False)\n",
       "        )\n",
       "      )\n",
       "      (encoder_layer_7): EncoderBlock(\n",
       "        (ln_1): LayerNorm((768,), eps=1e-06, elementwise_affine=True)\n",
       "        (self_attention): MultiheadAttention(\n",
       "          (out_proj): NonDynamicallyQuantizableLinear(in_features=768, out_features=768, bias=True)\n",
       "        )\n",
       "        (dropout): Dropout(p=0.0, inplace=False)\n",
       "        (ln_2): LayerNorm((768,), eps=1e-06, elementwise_affine=True)\n",
       "        (mlp): MLPBlock(\n",
       "          (linear_1): Linear(in_features=768, out_features=3072, bias=True)\n",
       "          (act): GELU()\n",
       "          (dropout_1): Dropout(p=0.0, inplace=False)\n",
       "          (linear_2): Linear(in_features=3072, out_features=768, bias=True)\n",
       "          (dropout_2): Dropout(p=0.0, inplace=False)\n",
       "        )\n",
       "      )\n",
       "      (encoder_layer_8): EncoderBlock(\n",
       "        (ln_1): LayerNorm((768,), eps=1e-06, elementwise_affine=True)\n",
       "        (self_attention): MultiheadAttention(\n",
       "          (out_proj): NonDynamicallyQuantizableLinear(in_features=768, out_features=768, bias=True)\n",
       "        )\n",
       "        (dropout): Dropout(p=0.0, inplace=False)\n",
       "        (ln_2): LayerNorm((768,), eps=1e-06, elementwise_affine=True)\n",
       "        (mlp): MLPBlock(\n",
       "          (linear_1): Linear(in_features=768, out_features=3072, bias=True)\n",
       "          (act): GELU()\n",
       "          (dropout_1): Dropout(p=0.0, inplace=False)\n",
       "          (linear_2): Linear(in_features=3072, out_features=768, bias=True)\n",
       "          (dropout_2): Dropout(p=0.0, inplace=False)\n",
       "        )\n",
       "      )\n",
       "      (encoder_layer_9): EncoderBlock(\n",
       "        (ln_1): LayerNorm((768,), eps=1e-06, elementwise_affine=True)\n",
       "        (self_attention): MultiheadAttention(\n",
       "          (out_proj): NonDynamicallyQuantizableLinear(in_features=768, out_features=768, bias=True)\n",
       "        )\n",
       "        (dropout): Dropout(p=0.0, inplace=False)\n",
       "        (ln_2): LayerNorm((768,), eps=1e-06, elementwise_affine=True)\n",
       "        (mlp): MLPBlock(\n",
       "          (linear_1): Linear(in_features=768, out_features=3072, bias=True)\n",
       "          (act): GELU()\n",
       "          (dropout_1): Dropout(p=0.0, inplace=False)\n",
       "          (linear_2): Linear(in_features=3072, out_features=768, bias=True)\n",
       "          (dropout_2): Dropout(p=0.0, inplace=False)\n",
       "        )\n",
       "      )\n",
       "      (encoder_layer_10): EncoderBlock(\n",
       "        (ln_1): LayerNorm((768,), eps=1e-06, elementwise_affine=True)\n",
       "        (self_attention): MultiheadAttention(\n",
       "          (out_proj): NonDynamicallyQuantizableLinear(in_features=768, out_features=768, bias=True)\n",
       "        )\n",
       "        (dropout): Dropout(p=0.0, inplace=False)\n",
       "        (ln_2): LayerNorm((768,), eps=1e-06, elementwise_affine=True)\n",
       "        (mlp): MLPBlock(\n",
       "          (linear_1): Linear(in_features=768, out_features=3072, bias=True)\n",
       "          (act): GELU()\n",
       "          (dropout_1): Dropout(p=0.0, inplace=False)\n",
       "          (linear_2): Linear(in_features=3072, out_features=768, bias=True)\n",
       "          (dropout_2): Dropout(p=0.0, inplace=False)\n",
       "        )\n",
       "      )\n",
       "      (encoder_layer_11): EncoderBlock(\n",
       "        (ln_1): LayerNorm((768,), eps=1e-06, elementwise_affine=True)\n",
       "        (self_attention): MultiheadAttention(\n",
       "          (out_proj): NonDynamicallyQuantizableLinear(in_features=768, out_features=768, bias=True)\n",
       "        )\n",
       "        (dropout): Dropout(p=0.0, inplace=False)\n",
       "        (ln_2): LayerNorm((768,), eps=1e-06, elementwise_affine=True)\n",
       "        (mlp): MLPBlock(\n",
       "          (linear_1): Linear(in_features=768, out_features=3072, bias=True)\n",
       "          (act): GELU()\n",
       "          (dropout_1): Dropout(p=0.0, inplace=False)\n",
       "          (linear_2): Linear(in_features=3072, out_features=768, bias=True)\n",
       "          (dropout_2): Dropout(p=0.0, inplace=False)\n",
       "        )\n",
       "      )\n",
       "    )\n",
       "    (ln): LayerNorm((768,), eps=1e-06, elementwise_affine=True)\n",
       "  )\n",
       "  (heads): Sequential(\n",
       "    (0): Linear(in_features=768, out_features=8, bias=True)\n",
       "    (1): Sigmoid()\n",
       "  )\n",
       ")"
      ]
     },
     "execution_count": 15,
     "metadata": {},
     "output_type": "execute_result"
    },
    {
     "name": "stdout",
     "output_type": "stream",
     "text": [
      "time: 8.49 s (started: 2022-10-30 16:47:58 +00:00)\n"
     ]
    }
   ],
   "source": [
    "model1=models.vit_b_32(pretrained=False)\n",
    "model1.heads=nn.Sequential(nn.Linear(768, 8), nn.Sigmoid())\n",
    "checkpoint = torch.load('../input/isic2019hairvit32b/resnet50_wt_epoch_13_batch_78_auc_0.6762.pt')\n",
    "model1.load_state_dict(checkpoint['model_state_dict'],strict=False)\n",
    "del checkpoint\n",
    "model1.to(device)"
   ]
  },
  {
   "cell_type": "code",
   "execution_count": 16,
   "id": "7809d452",
   "metadata": {
    "execution": {
     "iopub.execute_input": "2022-10-30T16:48:06.559072Z",
     "iopub.status.busy": "2022-10-30T16:48:06.557394Z",
     "iopub.status.idle": "2022-10-30T16:48:24.199113Z",
     "shell.execute_reply": "2022-10-30T16:48:24.197795Z"
    },
    "papermill": {
     "duration": 17.655532,
     "end_time": "2022-10-30T16:48:24.202546",
     "exception": false,
     "start_time": "2022-10-30T16:48:06.547014",
     "status": "completed"
    },
    "tags": []
   },
   "outputs": [
    {
     "name": "stdout",
     "output_type": "stream",
     "text": [
      "sensitivity-[0.00210526 0.93602071 0.         0.         0.09618875 0.\n",
      " 0.01886792 0.00757576]\n",
      "specicivity-[0.33333333 0.55443593 0.         0.         0.09943715 0.\n",
      " 0.0060241  0.02272727]\n",
      "Balanced Accuracy\n",
      "0.1325948003815654\n",
      "Confusion Matrix\n",
      "Figure(432x288)\n",
      "f1-score\n",
      "0.10235600380683832\n",
      "auc-list\n",
      "\n",
      "\n",
      "[0.55424304 0.73911271 0.52905873 0.58796235 0.52539693 0.49140038\n",
      " 0.581721   0.55421456]\n",
      "accuracy-list\n",
      "\n",
      "\n",
      "[0.74398496 0.57199248 0.79906015 0.7193609  0.54661654 0.82368421\n",
      " 0.8018797  0.74924812]\n",
      "mean-auc0.5703887146712852\n",
      "mean-auc0.7194783834586467\n"
     ]
    },
    {
     "name": "stderr",
     "output_type": "stream",
     "text": [
      "/opt/conda/lib/python3.7/site-packages/ipykernel_launcher.py:28: RuntimeWarning: invalid value encountered in long_scalars\n",
      "/opt/conda/lib/python3.7/site-packages/ipykernel_launcher.py:65: RuntimeWarning: invalid value encountered in true_divide\n"
     ]
    },
    {
     "data": {
      "image/png": "[encoded data removed]",
      "text/plain": [
       "<Figure size 432x288 with 2 Axes>"
      ]
     },
     "metadata": {
      "needs_background": "light"
     },
     "output_type": "display_data"
    },
    {
     "name": "stdout",
     "output_type": "stream",
     "text": [
      "time: 17.6 s (started: 2022-10-30 16:48:06 +00:00)\n"
     ]
    }
   ],
   "source": [
    "auc1,acc1,pred_lst1,gt_lst1=compute_predictions(model1)"
   ]
  },
  {
   "cell_type": "code",
   "execution_count": 17,
   "id": "58e9f6af",
   "metadata": {
    "execution": {
     "iopub.execute_input": "2022-10-30T16:48:24.227226Z",
     "iopub.status.busy": "2022-10-30T16:48:24.226372Z",
     "iopub.status.idle": "2022-10-30T16:48:58.380166Z",
     "shell.execute_reply": "2022-10-30T16:48:58.378685Z"
    },
    "papermill": {
     "duration": 34.168597,
     "end_time": "2022-10-30T16:48:58.382965",
     "exception": false,
     "start_time": "2022-10-30T16:48:24.214368",
     "status": "completed"
    },
    "tags": []
   },
   "outputs": [
    {
     "name": "stdout",
     "output_type": "stream",
     "text": [
      "Computing Test Predictions\n",
      "\n",
      "\n",
      "[0.58214031 0.70451933 0.56514781 0.57167667 0.52828651 0.41496395\n",
      " 0.44028859 0.50495316]\n",
      "\n",
      "\n",
      "[0.66052632 0.54285714 0.80319549 0.85263158 0.81578947 0.84736842\n",
      " 0.73984962 0.74868421]\n",
      "0.5389970398489747\n",
      "0.7513627819548871\n",
      "\n",
      "\n",
      "[0.55424304 0.73911271 0.52905873 0.58796235 0.52539693 0.49140038\n",
      " 0.581721   0.55421456]\n",
      "\n",
      "\n",
      "[0.74398496 0.57199248 0.79906015 0.7193609  0.54661654 0.82368421\n",
      " 0.8018797  0.74924812]\n",
      "0.5703887146712852\n",
      "0.7194783834586467\n",
      "auc-list\n",
      "\n",
      "\n",
      "[0.57201204 0.73215211 0.5466205  0.58806394 0.52677132 0.45713852\n",
      " 0.51311656 0.5289158 ]\n",
      "accuracy-list\n",
      "\n",
      "\n",
      "[0.70488722 0.55582707 0.80620301 0.80319549 0.70018797 0.85075188\n",
      " 0.78026316 0.75676692]\n",
      "mean-auc0.5580988475528748\n",
      "mean-auc0.7447603383458646\n",
      "sensitivity-[0.01473684 0.95636095 0.         0.         0.00725953 0.02\n",
      " 0.03773585 0.        ]\n",
      "specicivity-[0.4        0.53886226 0.         0.         0.09090909 0.03703704\n",
      " 0.00533333 0.        ]\n",
      "Balanced Accuracy\n",
      "0.12951164575476257\n",
      "Confusion Matrix\n",
      "Figure(432x288)\n",
      "f1-score\n",
      "0.0958144830935974\n"
     ]
    },
    {
     "name": "stderr",
     "output_type": "stream",
     "text": [
      "/opt/conda/lib/python3.7/site-packages/ipykernel_launcher.py:28: RuntimeWarning: invalid value encountered in long_scalars\n",
      "/opt/conda/lib/python3.7/site-packages/ipykernel_launcher.py:65: RuntimeWarning: invalid value encountered in true_divide\n"
     ]
    },
    {
     "data": {
      "image/png": "[encoded data removed]",
      "text/plain": [
       "<Figure size 432x288 with 2 Axes>"
      ]
     },
     "metadata": {
      "needs_background": "light"
     },
     "output_type": "display_data"
    },
    {
     "name": "stdout",
     "output_type": "stream",
     "text": [
      "time: 34.1 s (started: 2022-10-30 16:48:24 +00:00)\n"
     ]
    }
   ],
   "source": [
    "from tqdm._tqdm_notebook import tqdm_notebook\n",
    "def compute_predictions(model):\n",
    "    model.eval()\n",
    "    pred_lst4=[]\n",
    "    gt_lst4=[]\n",
    "    for i, sample in enumerate(dataloaders['val']):    \n",
    "        images=sample['image']\n",
    "        labels=sample['target']\n",
    "        del sample\n",
    "        images = images.to(device)\n",
    "        labels=labels.numpy()\n",
    "        outputs=model(images)\n",
    "        outputs=outputs.detach()\n",
    "        outputs=outputs.cpu()\n",
    "        outputs=outputs.numpy()\n",
    "        pred_lst4.append(outputs)\n",
    "        gt_lst4.append(labels)\n",
    "        del labels, outputs, images\n",
    "\n",
    "    pred_lst=np.concatenate(pred_lst4, axis=0)\n",
    "    gt_lst=np.concatenate(gt_lst4, axis=0)\n",
    "    auc_lst=[]\n",
    "    acc_lst=[]\n",
    "    for k in range(0,8):\n",
    "        tmp_gt=gt_lst[:, k]\n",
    "        tmp_pred=pred_lst[:,k]\n",
    "        tmp_acc=accuracy_score(tmp_gt, tmp_pred.round())\n",
    "        acc_lst.append(tmp_acc)\n",
    "        tmp_auc=roc_auc_score(tmp_gt, tmp_pred)\n",
    "        auc_lst.append(tmp_auc)\n",
    "\n",
    "    auc_lst=np.array(auc_lst)\n",
    "    acc_lst=np.array(acc_lst)\n",
    "    print('\\n')\n",
    "    print(auc_lst)\n",
    "    print('\\n')\n",
    "    print(acc_lst)\n",
    "    auc=np.mean(auc_lst)\n",
    "    acc = np.mean(acc_lst)\n",
    "    print(auc)\n",
    "    print(acc)\n",
    "    f1s=0.0\n",
    "    return auc,acc,pred_lst,gt_lst\n",
    "\n",
    "print('Computing Test Predictions')\n",
    "auc1,acc1,pred_lst1,gt_lst1 = compute_predictions(model)\n",
    "auc2,acc2,pred_lst2,gt_lst2 = compute_predictions(model1)\n",
    "\n",
    "pred_lst = (pred_lst1+pred_lst2)/2\n",
    "gt_lst = (gt_lst1+gt_lst2)/2\n",
    "fusion_matrix = FusionMatrix(8)\n",
    "\n",
    "auc_lst=[]\n",
    "acc_lst=[]\n",
    "for k in range(0,8):\n",
    "    tmp_gt=gt_lst[:, k]\n",
    "    tmp_pred=pred_lst[:,k]\n",
    "    tmp_acc=accuracy_score(tmp_gt, tmp_pred.round())\n",
    "    acc_lst.append(tmp_acc)\n",
    "    tmp_auc=roc_auc_score(tmp_gt, tmp_pred)\n",
    "    auc_lst.append(tmp_auc)\n",
    "\n",
    "\n",
    "auc_lst=np.array(auc_lst)\n",
    "\n",
    "acc_lst=np.array(acc_lst)\n",
    "print(\"auc-list\")\n",
    "print('\\n')\n",
    "print(auc_lst)\n",
    "print(\"accuracy-list\")\n",
    "print('\\n')\n",
    "print(acc_lst)\n",
    "auc=np.mean(auc_lst)\n",
    "acc = np.mean(acc_lst)\n",
    "print(\"mean-auc\"+str(auc))\n",
    "print(\"mean-auc\"+str(acc))\n",
    "\n",
    "#pred_lst=np.concatenate(pred_lst, axis=0)\n",
    "#gt_lst=np.concatenate(gt_lst, axis=0)\n",
    "pred_lst2 = np.argmax(pred_lst, axis=1)\n",
    "gt_lst2 = np.argmax(gt_lst, axis=1)\n",
    "fusion_matrix.update(pred_lst2, gt_lst2)\n",
    "print(\"sensitivity-\"+str(fusion_matrix.get_rec_per_class()))\n",
    "print(\"specicivity-\"+str(fusion_matrix.get_pre_per_class()))\n",
    "print(\"Balanced Accuracy\")\n",
    "print(fusion_matrix.get_balance_accuracy())\n",
    "print(\"Confusion Matrix\")\n",
    "print(fusion_matrix.plot_confusion_matrix())\n",
    "print(\"f1-score\")\n",
    "print(fusion_matrix.get_f1_score())\n",
    "\n",
    "#roc_auc = get_roc_auc(pred_lst, gt_lst)\n",
    "#print(roc_auc)\n"
   ]
  },
  {
   "cell_type": "code",
   "execution_count": 18,
   "id": "9384fdfe",
   "metadata": {
    "execution": {
     "iopub.execute_input": "2022-10-30T16:48:58.406963Z",
     "iopub.status.busy": "2022-10-30T16:48:58.406215Z",
     "iopub.status.idle": "2022-10-30T16:48:59.115758Z",
     "shell.execute_reply": "2022-10-30T16:48:59.114124Z"
    },
    "papermill": {
     "duration": 0.723805,
     "end_time": "2022-10-30T16:48:59.118139",
     "exception": false,
     "start_time": "2022-10-30T16:48:58.394334",
     "status": "completed"
    },
    "tags": []
   },
   "outputs": [
    {
     "name": "stdout",
     "output_type": "stream",
     "text": [
      "time: 701 ms (started: 2022-10-30 16:48:58 +00:00)\n"
     ]
    }
   ],
   "source": [
    "#helper function\n",
    "def get_label(row):\n",
    "  for c in labels.columns:\n",
    "    if row[c]==1:\n",
    "      return c\n",
    "\n",
    "labels = pd.read_csv('../input/isiccsvfile/ISIC_2019_Training_GroundTruth.csv')\n",
    "labels['l']=labels.apply(get_label, axis=1)\n",
    "X=labels.drop(['l','UNK'], axis=1)\n",
    "y = labels['l']\n",
    "X_train, X_test, y_train, y_test = train_test_split(X,y, test_size=0.21, random_state=42,stratify=y)\n",
    "X_train['image'] = '../input/pp2isic/preprocessed-segment/'+X_train['image']+ '.jpg'\n",
    "X_test['image'] = '../input/pp2isic/preprocessed-segment/'+X_test['image']+ '.jpg'\n",
    "X_test.to_csv('validation.csv', index=False)\n",
    "X_train.to_csv('training.csv', index=False)\n",
    "train_path = 'training.csv'\n",
    "class_path = 'validation_class.csv'\n",
    "eval_path = 'validation.csv'\n",
    "train_img_path = '../input/pp2isic/preprocessed-segment'\n"
   ]
  },
  {
   "cell_type": "code",
   "execution_count": 19,
   "id": "c5ac4c16",
   "metadata": {
    "execution": {
     "iopub.execute_input": "2022-10-30T16:48:59.142030Z",
     "iopub.status.busy": "2022-10-30T16:48:59.141723Z",
     "iopub.status.idle": "2022-10-30T16:48:59.154298Z",
     "shell.execute_reply": "2022-10-30T16:48:59.153149Z"
    },
    "papermill": {
     "duration": 0.027195,
     "end_time": "2022-10-30T16:48:59.157031",
     "exception": false,
     "start_time": "2022-10-30T16:48:59.129836",
     "status": "completed"
    },
    "tags": []
   },
   "outputs": [
    {
     "name": "stdout",
     "output_type": "stream",
     "text": [
      "time: 2.5 ms (started: 2022-10-30 16:48:59 +00:00)\n"
     ]
    }
   ],
   "source": [
    "class_names = ['MEL', 'NV', 'BCC', 'AK', 'BKL', 'DF', 'VASC', 'SCC', 'UNK']\n",
    "\n",
    "def read_object_labels_csv(file,phase, header=True):\n",
    "    img_t=[]\n",
    "    if phase == 'Train':\n",
    "      dir = 'training.csv'\n",
    "    elif phase == \"Valid\":\n",
    "      dir = 'validation.csv'\n",
    "    with open(dir, \"r\") as f:\n",
    "        csvReader = csv.reader(f)\n",
    "        next(csvReader, None)\n",
    "        k=0\n",
    "        for line in csvReader:\n",
    "            k+=1\n",
    "            image_name= line[0]\n",
    "            label = line[1:9]\n",
    "            label = torch.from_numpy(np.array(label, dtype=np.float64))\n",
    "            item = (image_name,label)\n",
    "            img_t.append(item)\n",
    "    return img_t\n",
    "\n",
    "\n",
    "class CHEXPERT(Dataset):\n",
    "    def __init__(self, root, phase, csv_path,transform=None):\n",
    "        self.root = os.path.abspath(root)\n",
    "        self.phase = phase\n",
    "        self.transform = transform\n",
    "        self.path_images = self.root\n",
    "        file_csv = pd.read_csv(csv_path)\n",
    "        self.classes = class_names\n",
    "        self.images = read_object_labels_csv(file_csv,phase)\n",
    "        print('[dataset] classification phase={} number of classes={}  number of images={}'.format(phase, len(self.classes), len(self.images)))\n",
    "\n",
    "    def __getitem__(self, index):\n",
    "        filename, target = self.images[index]\n",
    "        filename = filename\n",
    "        img = Image.open(filename).convert('RGB')\n",
    "        if self.transform is not None:\n",
    "            img = self.transform(img)\n",
    "        \n",
    "        data = {'image':img, 'target': target}\n",
    "        return data\n",
    "\n",
    "    def __len__(self):\n",
    "        return len(self.images)\n",
    "\n",
    "    def get_number_classes(self):\n",
    "        return len(self.classes)\n"
   ]
  },
  {
   "cell_type": "code",
   "execution_count": 20,
   "id": "1752b659",
   "metadata": {
    "execution": {
     "iopub.execute_input": "2022-10-30T16:48:59.180361Z",
     "iopub.status.busy": "2022-10-30T16:48:59.180086Z",
     "iopub.status.idle": "2022-10-30T16:48:59.524163Z",
     "shell.execute_reply": "2022-10-30T16:48:59.522666Z"
    },
    "papermill": {
     "duration": 0.357861,
     "end_time": "2022-10-30T16:48:59.526430",
     "exception": false,
     "start_time": "2022-10-30T16:48:59.168569",
     "status": "completed"
    },
    "tags": []
   },
   "outputs": [
    {
     "name": "stdout",
     "output_type": "stream",
     "text": [
      "[dataset] classification phase=Train number of classes=9  number of images=20011\n",
      "[dataset] classification phase=Valid number of classes=9  number of images=5320\n",
      "time: 337 ms (started: 2022-10-30 16:48:59 +00:00)\n"
     ]
    }
   ],
   "source": [
    "data_transforms = {\n",
    "    'train': transforms.Compose([\n",
    "        transforms.Resize((224,224)),\n",
    "        transforms.RandomHorizontalFlip(),\n",
    "        transforms.ToTensor(),\n",
    "        transforms.Normalize([0.485, 0.456, 0.406], [0.229, 0.224, 0.225])\n",
    "    ]),\n",
    "    'val': transforms.Compose([\n",
    "        transforms.Resize((224,224)),\n",
    "        transforms.ToTensor(),\n",
    "        transforms.Normalize([0.485, 0.456, 0.406], [0.229, 0.224, 0.225])\n",
    "    ]),\n",
    "}\n",
    "train_dataset = CHEXPERT(train_img_path, transform=data_transforms['train'], phase='Train',csv_path=train_path)\n",
    "val_dataset = CHEXPERT(train_img_path, transform=data_transforms['val'],phase='Valid',csv_path=eval_path)\n",
    "\n",
    "image_datasets ={'train': train_dataset, 'val': val_dataset}\n",
    "dataloaders = {x: torch.utils.data.DataLoader(image_datasets[x], batch_size=16,shuffle=False, num_workers=2)for x in ['train', 'val']}\n",
    "dataset_sizes = {x: len(image_datasets[x]) for x in ['train', 'val']}"
   ]
  },
  {
   "cell_type": "code",
   "execution_count": 21,
   "id": "a956b89f",
   "metadata": {
    "execution": {
     "iopub.execute_input": "2022-10-30T16:48:59.550225Z",
     "iopub.status.busy": "2022-10-30T16:48:59.549850Z",
     "iopub.status.idle": "2022-10-30T16:49:00.418025Z",
     "shell.execute_reply": "2022-10-30T16:49:00.416643Z"
    },
    "papermill": {
     "duration": 0.883088,
     "end_time": "2022-10-30T16:49:00.420913",
     "exception": false,
     "start_time": "2022-10-30T16:48:59.537825",
     "status": "completed"
    },
    "tags": []
   },
   "outputs": [
    {
     "data": {
      "image/png": "[encoded data removed]",
      "text/plain": [
       "<Figure size 432x288 with 1 Axes>"
      ]
     },
     "metadata": {
      "needs_background": "light"
     },
     "output_type": "display_data"
    },
    {
     "name": "stdout",
     "output_type": "stream",
     "text": [
      "time: 861 ms (started: 2022-10-30 16:48:59 +00:00)\n"
     ]
    }
   ],
   "source": [
    "def imshow(inp, title=None):\n",
    "    inp = inp.numpy().transpose((1, 2, 0))\n",
    "    mean = np.array([0.6678, 0.5298, 0.5245])\n",
    "    std = np.array([0.1333, 0.1476, 0.1590])\n",
    "    inp = std * inp + mean\n",
    "    inp = np.clip(inp, 0, 1)\n",
    "    plt.imshow(inp)\n",
    "    if title is not None:\n",
    "        plt.title(title)\n",
    "    plt.pause(0.001)  # pause a bit so that plots are updated\n",
    "\n",
    "\n",
    "# Get a batch of training data\n",
    "data = next(iter(dataloaders['train']))\n",
    "ps = data['target'].numpy()\n",
    "l = np.where(ps==1.0)\n",
    "l = l[1].astype(int)\n",
    "# Make a grid from batch\n",
    "out = torchvision.utils.make_grid(data['image'])\n",
    "imshow(out, title=[class_names[x] for x in l])"
   ]
  },
  {
   "cell_type": "code",
   "execution_count": 22,
   "id": "3bfd4e4d",
   "metadata": {
    "execution": {
     "iopub.execute_input": "2022-10-30T16:49:00.446915Z",
     "iopub.status.busy": "2022-10-30T16:49:00.446180Z",
     "iopub.status.idle": "2022-10-30T16:49:00.459920Z",
     "shell.execute_reply": "2022-10-30T16:49:00.458660Z"
    },
    "papermill": {
     "duration": 0.029569,
     "end_time": "2022-10-30T16:49:00.462853",
     "exception": false,
     "start_time": "2022-10-30T16:49:00.433284",
     "status": "completed"
    },
    "tags": []
   },
   "outputs": [
    {
     "name": "stdout",
     "output_type": "stream",
     "text": [
      "time: 2.38 ms (started: 2022-10-30 16:49:00 +00:00)\n"
     ]
    }
   ],
   "source": [
    "from tqdm._tqdm_notebook import tqdm_notebook\n",
    "def compute_predictions(model):\n",
    "    model.eval()\n",
    "    fusion_matrix = FusionMatrix(8)\n",
    "    pred_lst=[]\n",
    "    gt_lst=[]\n",
    "    for i, sample in enumerate(dataloaders['val']):    \n",
    "        images=sample['image']\n",
    "        labels=sample['target']\n",
    "        del sample\n",
    "        images = images.to(device)\n",
    "        labels=labels.numpy()\n",
    "        outputs=model(images)\n",
    "        outputs=outputs.detach()\n",
    "        outputs=outputs.cpu()\n",
    "        outputs=outputs.numpy()\n",
    "        pred_lst.append(outputs)\n",
    "        gt_lst.append(labels)\n",
    "        del labels, outputs, images\n",
    "\n",
    "    pred_lst=np.concatenate(pred_lst, axis=0)\n",
    "    gt_lst=np.concatenate(gt_lst, axis=0)\n",
    "    pred_lst2 = np.argmax(pred_lst, axis=1)\n",
    "    gt_lst2 = np.argmax(gt_lst, axis=1)\n",
    "    fusion_matrix.update(pred_lst2, gt_lst2)\n",
    "    print(\"sensitivity-\"+str(fusion_matrix.get_rec_per_class()))\n",
    "    print(\"specicivity-\"+str(fusion_matrix.get_pre_per_class()))\n",
    "    print(\"Balanced Accuracy\")\n",
    "    print(fusion_matrix.get_balance_accuracy())\n",
    "    print(\"Confusion Matrix\")\n",
    "    print(fusion_matrix.plot_confusion_matrix())\n",
    "    print(\"f1-score\")\n",
    "    print(fusion_matrix.get_f1_score())\n",
    "    \n",
    "    #roc_auc = get_roc_auc(pred_lst, gt_lst)\n",
    "    #print(roc_auc)\n",
    "    auc_lst=[]\n",
    "    acc_lst=[]\n",
    "    for k in range(0,8):\n",
    "        tmp_gt=gt_lst[:, k]\n",
    "        tmp_pred=pred_lst[:,k]\n",
    "        tmp_acc=accuracy_score(tmp_gt, tmp_pred.round())\n",
    "        acc_lst.append(tmp_acc)\n",
    "        tmp_auc=roc_auc_score(tmp_gt, tmp_pred)\n",
    "        auc_lst.append(tmp_auc)\n",
    "\n",
    "    \n",
    "    auc_lst=np.array(auc_lst)\n",
    "    \n",
    "    acc_lst=np.array(acc_lst)\n",
    "    print(\"auc-list\")\n",
    "    print('\\n')\n",
    "    print(auc_lst)\n",
    "    print(\"accuracy-list\")\n",
    "    print('\\n')\n",
    "    print(acc_lst)\n",
    "    auc=np.mean(auc_lst)\n",
    "    acc = np.mean(acc_lst)\n",
    "    print(\"mean-auc\"+str(auc))\n",
    "    print(\"mean-auc\"+str(acc))\n",
    "    f1s=0.0\n",
    "    return auc,acc,pred_lst,gt_lst"
   ]
  },
  {
   "cell_type": "code",
   "execution_count": 23,
   "id": "ae9752dd",
   "metadata": {
    "execution": {
     "iopub.execute_input": "2022-10-30T16:49:00.487977Z",
     "iopub.status.busy": "2022-10-30T16:49:00.487142Z",
     "iopub.status.idle": "2022-10-30T16:49:02.767792Z",
     "shell.execute_reply": "2022-10-30T16:49:02.766835Z"
    },
    "papermill": {
     "duration": 2.295644,
     "end_time": "2022-10-30T16:49:02.770309",
     "exception": false,
     "start_time": "2022-10-30T16:49:00.474665",
     "status": "completed"
    },
    "scrolled": true,
    "tags": []
   },
   "outputs": [
    {
     "data": {
      "text/plain": [
       "VisionTransformer(\n",
       "  (conv_proj): Conv2d(3, 768, kernel_size=(32, 32), stride=(32, 32))\n",
       "  (encoder): Encoder(\n",
       "    (dropout): Dropout(p=0.0, inplace=False)\n",
       "    (layers): Sequential(\n",
       "      (encoder_layer_0): EncoderBlock(\n",
       "        (ln_1): LayerNorm((768,), eps=1e-06, elementwise_affine=True)\n",
       "        (self_attention): MultiheadAttention(\n",
       "          (out_proj): NonDynamicallyQuantizableLinear(in_features=768, out_features=768, bias=True)\n",
       "        )\n",
       "        (dropout): Dropout(p=0.0, inplace=False)\n",
       "        (ln_2): LayerNorm((768,), eps=1e-06, elementwise_affine=True)\n",
       "        (mlp): MLPBlock(\n",
       "          (linear_1): Linear(in_features=768, out_features=3072, bias=True)\n",
       "          (act): GELU()\n",
       "          (dropout_1): Dropout(p=0.0, inplace=False)\n",
       "          (linear_2): Linear(in_features=3072, out_features=768, bias=True)\n",
       "          (dropout_2): Dropout(p=0.0, inplace=False)\n",
       "        )\n",
       "      )\n",
       "      (encoder_layer_1): EncoderBlock(\n",
       "        (ln_1): LayerNorm((768,), eps=1e-06, elementwise_affine=True)\n",
       "        (self_attention): MultiheadAttention(\n",
       "          (out_proj): NonDynamicallyQuantizableLinear(in_features=768, out_features=768, bias=True)\n",
       "        )\n",
       "        (dropout): Dropout(p=0.0, inplace=False)\n",
       "        (ln_2): LayerNorm((768,), eps=1e-06, elementwise_affine=True)\n",
       "        (mlp): MLPBlock(\n",
       "          (linear_1): Linear(in_features=768, out_features=3072, bias=True)\n",
       "          (act): GELU()\n",
       "          (dropout_1): Dropout(p=0.0, inplace=False)\n",
       "          (linear_2): Linear(in_features=3072, out_features=768, bias=True)\n",
       "          (dropout_2): Dropout(p=0.0, inplace=False)\n",
       "        )\n",
       "      )\n",
       "      (encoder_layer_2): EncoderBlock(\n",
       "        (ln_1): LayerNorm((768,), eps=1e-06, elementwise_affine=True)\n",
       "        (self_attention): MultiheadAttention(\n",
       "          (out_proj): NonDynamicallyQuantizableLinear(in_features=768, out_features=768, bias=True)\n",
       "        )\n",
       "        (dropout): Dropout(p=0.0, inplace=False)\n",
       "        (ln_2): LayerNorm((768,), eps=1e-06, elementwise_affine=True)\n",
       "        (mlp): MLPBlock(\n",
       "          (linear_1): Linear(in_features=768, out_features=3072, bias=True)\n",
       "          (act): GELU()\n",
       "          (dropout_1): Dropout(p=0.0, inplace=False)\n",
       "          (linear_2): Linear(in_features=3072, out_features=768, bias=True)\n",
       "          (dropout_2): Dropout(p=0.0, inplace=False)\n",
       "        )\n",
       "      )\n",
       "      (encoder_layer_3): EncoderBlock(\n",
       "        (ln_1): LayerNorm((768,), eps=1e-06, elementwise_affine=True)\n",
       "        (self_attention): MultiheadAttention(\n",
       "          (out_proj): NonDynamicallyQuantizableLinear(in_features=768, out_features=768, bias=True)\n",
       "        )\n",
       "        (dropout): Dropout(p=0.0, inplace=False)\n",
       "        (ln_2): LayerNorm((768,), eps=1e-06, elementwise_affine=True)\n",
       "        (mlp): MLPBlock(\n",
       "          (linear_1): Linear(in_features=768, out_features=3072, bias=True)\n",
       "          (act): GELU()\n",
       "          (dropout_1): Dropout(p=0.0, inplace=False)\n",
       "          (linear_2): Linear(in_features=3072, out_features=768, bias=True)\n",
       "          (dropout_2): Dropout(p=0.0, inplace=False)\n",
       "        )\n",
       "      )\n",
       "      (encoder_layer_4): EncoderBlock(\n",
       "        (ln_1): LayerNorm((768,), eps=1e-06, elementwise_affine=True)\n",
       "        (self_attention): MultiheadAttention(\n",
       "          (out_proj): NonDynamicallyQuantizableLinear(in_features=768, out_features=768, bias=True)\n",
       "        )\n",
       "        (dropout): Dropout(p=0.0, inplace=False)\n",
       "        (ln_2): LayerNorm((768,), eps=1e-06, elementwise_affine=True)\n",
       "        (mlp): MLPBlock(\n",
       "          (linear_1): Linear(in_features=768, out_features=3072, bias=True)\n",
       "          (act): GELU()\n",
       "          (dropout_1): Dropout(p=0.0, inplace=False)\n",
       "          (linear_2): Linear(in_features=3072, out_features=768, bias=True)\n",
       "          (dropout_2): Dropout(p=0.0, inplace=False)\n",
       "        )\n",
       "      )\n",
       "      (encoder_layer_5): EncoderBlock(\n",
       "        (ln_1): LayerNorm((768,), eps=1e-06, elementwise_affine=True)\n",
       "        (self_attention): MultiheadAttention(\n",
       "          (out_proj): NonDynamicallyQuantizableLinear(in_features=768, out_features=768, bias=True)\n",
       "        )\n",
       "        (dropout): Dropout(p=0.0, inplace=False)\n",
       "        (ln_2): LayerNorm((768,), eps=1e-06, elementwise_affine=True)\n",
       "        (mlp): MLPBlock(\n",
       "          (linear_1): Linear(in_features=768, out_features=3072, bias=True)\n",
       "          (act): GELU()\n",
       "          (dropout_1): Dropout(p=0.0, inplace=False)\n",
       "          (linear_2): Linear(in_features=3072, out_features=768, bias=True)\n",
       "          (dropout_2): Dropout(p=0.0, inplace=False)\n",
       "        )\n",
       "      )\n",
       "      (encoder_layer_6): EncoderBlock(\n",
       "        (ln_1): LayerNorm((768,), eps=1e-06, elementwise_affine=True)\n",
       "        (self_attention): MultiheadAttention(\n",
       "          (out_proj): NonDynamicallyQuantizableLinear(in_features=768, out_features=768, bias=True)\n",
       "        )\n",
       "        (dropout): Dropout(p=0.0, inplace=False)\n",
       "        (ln_2): LayerNorm((768,), eps=1e-06, elementwise_affine=True)\n",
       "        (mlp): MLPBlock(\n",
       "          (linear_1): Linear(in_features=768, out_features=3072, bias=True)\n",
       "          (act): GELU()\n",
       "          (dropout_1): Dropout(p=0.0, inplace=False)\n",
       "          (linear_2): Linear(in_features=3072, out_features=768, bias=True)\n",
       "          (dropout_2): Dropout(p=0.0, inplace=False)\n",
       "        )\n",
       "      )\n",
       "      (encoder_layer_7): EncoderBlock(\n",
       "        (ln_1): LayerNorm((768,), eps=1e-06, elementwise_affine=True)\n",
       "        (self_attention): MultiheadAttention(\n",
       "          (out_proj): NonDynamicallyQuantizableLinear(in_features=768, out_features=768, bias=True)\n",
       "        )\n",
       "        (dropout): Dropout(p=0.0, inplace=False)\n",
       "        (ln_2): LayerNorm((768,), eps=1e-06, elementwise_affine=True)\n",
       "        (mlp): MLPBlock(\n",
       "          (linear_1): Linear(in_features=768, out_features=3072, bias=True)\n",
       "          (act): GELU()\n",
       "          (dropout_1): Dropout(p=0.0, inplace=False)\n",
       "          (linear_2): Linear(in_features=3072, out_features=768, bias=True)\n",
       "          (dropout_2): Dropout(p=0.0, inplace=False)\n",
       "        )\n",
       "      )\n",
       "      (encoder_layer_8): EncoderBlock(\n",
       "        (ln_1): LayerNorm((768,), eps=1e-06, elementwise_affine=True)\n",
       "        (self_attention): MultiheadAttention(\n",
       "          (out_proj): NonDynamicallyQuantizableLinear(in_features=768, out_features=768, bias=True)\n",
       "        )\n",
       "        (dropout): Dropout(p=0.0, inplace=False)\n",
       "        (ln_2): LayerNorm((768,), eps=1e-06, elementwise_affine=True)\n",
       "        (mlp): MLPBlock(\n",
       "          (linear_1): Linear(in_features=768, out_features=3072, bias=True)\n",
       "          (act): GELU()\n",
       "          (dropout_1): Dropout(p=0.0, inplace=False)\n",
       "          (linear_2): Linear(in_features=3072, out_features=768, bias=True)\n",
       "          (dropout_2): Dropout(p=0.0, inplace=False)\n",
       "        )\n",
       "      )\n",
       "      (encoder_layer_9): EncoderBlock(\n",
       "        (ln_1): LayerNorm((768,), eps=1e-06, elementwise_affine=True)\n",
       "        (self_attention): MultiheadAttention(\n",
       "          (out_proj): NonDynamicallyQuantizableLinear(in_features=768, out_features=768, bias=True)\n",
       "        )\n",
       "        (dropout): Dropout(p=0.0, inplace=False)\n",
       "        (ln_2): LayerNorm((768,), eps=1e-06, elementwise_affine=True)\n",
       "        (mlp): MLPBlock(\n",
       "          (linear_1): Linear(in_features=768, out_features=3072, bias=True)\n",
       "          (act): GELU()\n",
       "          (dropout_1): Dropout(p=0.0, inplace=False)\n",
       "          (linear_2): Linear(in_features=3072, out_features=768, bias=True)\n",
       "          (dropout_2): Dropout(p=0.0, inplace=False)\n",
       "        )\n",
       "      )\n",
       "      (encoder_layer_10): EncoderBlock(\n",
       "        (ln_1): LayerNorm((768,), eps=1e-06, elementwise_affine=True)\n",
       "        (self_attention): MultiheadAttention(\n",
       "          (out_proj): NonDynamicallyQuantizableLinear(in_features=768, out_features=768, bias=True)\n",
       "        )\n",
       "        (dropout): Dropout(p=0.0, inplace=False)\n",
       "        (ln_2): LayerNorm((768,), eps=1e-06, elementwise_affine=True)\n",
       "        (mlp): MLPBlock(\n",
       "          (linear_1): Linear(in_features=768, out_features=3072, bias=True)\n",
       "          (act): GELU()\n",
       "          (dropout_1): Dropout(p=0.0, inplace=False)\n",
       "          (linear_2): Linear(in_features=3072, out_features=768, bias=True)\n",
       "          (dropout_2): Dropout(p=0.0, inplace=False)\n",
       "        )\n",
       "      )\n",
       "      (encoder_layer_11): EncoderBlock(\n",
       "        (ln_1): LayerNorm((768,), eps=1e-06, elementwise_affine=True)\n",
       "        (self_attention): MultiheadAttention(\n",
       "          (out_proj): NonDynamicallyQuantizableLinear(in_features=768, out_features=768, bias=True)\n",
       "        )\n",
       "        (dropout): Dropout(p=0.0, inplace=False)\n",
       "        (ln_2): LayerNorm((768,), eps=1e-06, elementwise_affine=True)\n",
       "        (mlp): MLPBlock(\n",
       "          (linear_1): Linear(in_features=768, out_features=3072, bias=True)\n",
       "          (act): GELU()\n",
       "          (dropout_1): Dropout(p=0.0, inplace=False)\n",
       "          (linear_2): Linear(in_features=3072, out_features=768, bias=True)\n",
       "          (dropout_2): Dropout(p=0.0, inplace=False)\n",
       "        )\n",
       "      )\n",
       "    )\n",
       "    (ln): LayerNorm((768,), eps=1e-06, elementwise_affine=True)\n",
       "  )\n",
       "  (heads): Sequential(\n",
       "    (0): Linear(in_features=768, out_features=8, bias=True)\n",
       "    (1): Sigmoid()\n",
       "  )\n",
       ")"
      ]
     },
     "execution_count": 23,
     "metadata": {},
     "output_type": "execute_result"
    },
    {
     "name": "stdout",
     "output_type": "stream",
     "text": [
      "time: 2.27 s (started: 2022-10-30 16:49:00 +00:00)\n"
     ]
    }
   ],
   "source": [
    "model=models.vit_b_32(pretrained=False)\n",
    "model.heads=nn.Sequential(nn.Linear(768, 8), nn.Sigmoid())\n",
    "checkpoint = torch.load('../input/isic2019hairvit32b/resnet50_wt_epoch_9_batch_78_auc_0.6677.pt')\n",
    "model.load_state_dict(checkpoint['model_state_dict'],strict=False)\n",
    "del checkpoint\n",
    "model.to(device)"
   ]
  },
  {
   "cell_type": "code",
   "execution_count": 24,
   "id": "35819fd4",
   "metadata": {
    "execution": {
     "iopub.execute_input": "2022-10-30T16:49:02.808247Z",
     "iopub.status.busy": "2022-10-30T16:49:02.807907Z",
     "iopub.status.idle": "2022-10-30T16:49:28.173587Z",
     "shell.execute_reply": "2022-10-30T16:49:28.172523Z"
    },
    "papermill": {
     "duration": 25.388339,
     "end_time": "2022-10-30T16:49:28.177433",
     "exception": false,
     "start_time": "2022-10-30T16:49:02.789094",
     "status": "completed"
    },
    "tags": []
   },
   "outputs": [
    {
     "name": "stdout",
     "output_type": "stream",
     "text": [
      "sensitivity-[0.14736842 0.00406805 0.02292264 0.08791209 0.00181488 0.04\n",
      " 0.73584906 0.00757576]\n",
      "specicivity-[0.22364217 0.23404255 0.22222222 0.02597403 0.125      0.02352941\n",
      " 0.01020675 0.02222222]\n",
      "Balanced Accuracy\n",
      "0.13093886107716857\n",
      "Confusion Matrix\n",
      "Figure(432x288)\n",
      "f1-score\n",
      "0.04149523364349481\n",
      "auc-list\n",
      "\n",
      "\n",
      "[0.44542539 0.41592024 0.51583463 0.42882862 0.4820974  0.35680835\n",
      " 0.69687732 0.38883583]\n",
      "accuracy-list\n",
      "\n",
      "\n",
      "[0.18007519 0.45545113 0.1362782  0.03966165 0.11052632 0.02030075\n",
      " 0.01992481 0.03157895]\n",
      "mean-auc0.4663284718739149\n",
      "mean-auc0.12422462406015039\n"
     ]
    },
    {
     "data": {
      "image/png": "[encoded data removed]",
      "text/plain": [
       "<Figure size 432x288 with 2 Axes>"
      ]
     },
     "metadata": {
      "needs_background": "light"
     },
     "output_type": "display_data"
    },
    {
     "name": "stdout",
     "output_type": "stream",
     "text": [
      "time: 25.4 s (started: 2022-10-30 16:49:02 +00:00)\n"
     ]
    }
   ],
   "source": [
    "auc1,acc1,pred_lst1,gt_lst1=compute_predictions(model)"
   ]
  },
  {
   "cell_type": "code",
   "execution_count": 25,
   "id": "b311449b",
   "metadata": {
    "execution": {
     "iopub.execute_input": "2022-10-30T16:49:28.205745Z",
     "iopub.status.busy": "2022-10-30T16:49:28.204771Z",
     "iopub.status.idle": "2022-10-30T16:49:30.209108Z",
     "shell.execute_reply": "2022-10-30T16:49:30.207579Z"
    },
    "papermill": {
     "duration": 2.019899,
     "end_time": "2022-10-30T16:49:30.211084",
     "exception": false,
     "start_time": "2022-10-30T16:49:28.191185",
     "status": "completed"
    },
    "scrolled": true,
    "tags": []
   },
   "outputs": [
    {
     "data": {
      "text/plain": [
       "VisionTransformer(\n",
       "  (conv_proj): Conv2d(3, 768, kernel_size=(32, 32), stride=(32, 32))\n",
       "  (encoder): Encoder(\n",
       "    (dropout): Dropout(p=0.0, inplace=False)\n",
       "    (layers): Sequential(\n",
       "      (encoder_layer_0): EncoderBlock(\n",
       "        (ln_1): LayerNorm((768,), eps=1e-06, elementwise_affine=True)\n",
       "        (self_attention): MultiheadAttention(\n",
       "          (out_proj): NonDynamicallyQuantizableLinear(in_features=768, out_features=768, bias=True)\n",
       "        )\n",
       "        (dropout): Dropout(p=0.0, inplace=False)\n",
       "        (ln_2): LayerNorm((768,), eps=1e-06, elementwise_affine=True)\n",
       "        (mlp): MLPBlock(\n",
       "          (linear_1): Linear(in_features=768, out_features=3072, bias=True)\n",
       "          (act): GELU()\n",
       "          (dropout_1): Dropout(p=0.0, inplace=False)\n",
       "          (linear_2): Linear(in_features=3072, out_features=768, bias=True)\n",
       "          (dropout_2): Dropout(p=0.0, inplace=False)\n",
       "        )\n",
       "      )\n",
       "      (encoder_layer_1): EncoderBlock(\n",
       "        (ln_1): LayerNorm((768,), eps=1e-06, elementwise_affine=True)\n",
       "        (self_attention): MultiheadAttention(\n",
       "          (out_proj): NonDynamicallyQuantizableLinear(in_features=768, out_features=768, bias=True)\n",
       "        )\n",
       "        (dropout): Dropout(p=0.0, inplace=False)\n",
       "        (ln_2): LayerNorm((768,), eps=1e-06, elementwise_affine=True)\n",
       "        (mlp): MLPBlock(\n",
       "          (linear_1): Linear(in_features=768, out_features=3072, bias=True)\n",
       "          (act): GELU()\n",
       "          (dropout_1): Dropout(p=0.0, inplace=False)\n",
       "          (linear_2): Linear(in_features=3072, out_features=768, bias=True)\n",
       "          (dropout_2): Dropout(p=0.0, inplace=False)\n",
       "        )\n",
       "      )\n",
       "      (encoder_layer_2): EncoderBlock(\n",
       "        (ln_1): LayerNorm((768,), eps=1e-06, elementwise_affine=True)\n",
       "        (self_attention): MultiheadAttention(\n",
       "          (out_proj): NonDynamicallyQuantizableLinear(in_features=768, out_features=768, bias=True)\n",
       "        )\n",
       "        (dropout): Dropout(p=0.0, inplace=False)\n",
       "        (ln_2): LayerNorm((768,), eps=1e-06, elementwise_affine=True)\n",
       "        (mlp): MLPBlock(\n",
       "          (linear_1): Linear(in_features=768, out_features=3072, bias=True)\n",
       "          (act): GELU()\n",
       "          (dropout_1): Dropout(p=0.0, inplace=False)\n",
       "          (linear_2): Linear(in_features=3072, out_features=768, bias=True)\n",
       "          (dropout_2): Dropout(p=0.0, inplace=False)\n",
       "        )\n",
       "      )\n",
       "      (encoder_layer_3): EncoderBlock(\n",
       "        (ln_1): LayerNorm((768,), eps=1e-06, elementwise_affine=True)\n",
       "        (self_attention): MultiheadAttention(\n",
       "          (out_proj): NonDynamicallyQuantizableLinear(in_features=768, out_features=768, bias=True)\n",
       "        )\n",
       "        (dropout): Dropout(p=0.0, inplace=False)\n",
       "        (ln_2): LayerNorm((768,), eps=1e-06, elementwise_affine=True)\n",
       "        (mlp): MLPBlock(\n",
       "          (linear_1): Linear(in_features=768, out_features=3072, bias=True)\n",
       "          (act): GELU()\n",
       "          (dropout_1): Dropout(p=0.0, inplace=False)\n",
       "          (linear_2): Linear(in_features=3072, out_features=768, bias=True)\n",
       "          (dropout_2): Dropout(p=0.0, inplace=False)\n",
       "        )\n",
       "      )\n",
       "      (encoder_layer_4): EncoderBlock(\n",
       "        (ln_1): LayerNorm((768,), eps=1e-06, elementwise_affine=True)\n",
       "        (self_attention): MultiheadAttention(\n",
       "          (out_proj): NonDynamicallyQuantizableLinear(in_features=768, out_features=768, bias=True)\n",
       "        )\n",
       "        (dropout): Dropout(p=0.0, inplace=False)\n",
       "        (ln_2): LayerNorm((768,), eps=1e-06, elementwise_affine=True)\n",
       "        (mlp): MLPBlock(\n",
       "          (linear_1): Linear(in_features=768, out_features=3072, bias=True)\n",
       "          (act): GELU()\n",
       "          (dropout_1): Dropout(p=0.0, inplace=False)\n",
       "          (linear_2): Linear(in_features=3072, out_features=768, bias=True)\n",
       "          (dropout_2): Dropout(p=0.0, inplace=False)\n",
       "        )\n",
       "      )\n",
       "      (encoder_layer_5): EncoderBlock(\n",
       "        (ln_1): LayerNorm((768,), eps=1e-06, elementwise_affine=True)\n",
       "        (self_attention): MultiheadAttention(\n",
       "          (out_proj): NonDynamicallyQuantizableLinear(in_features=768, out_features=768, bias=True)\n",
       "        )\n",
       "        (dropout): Dropout(p=0.0, inplace=False)\n",
       "        (ln_2): LayerNorm((768,), eps=1e-06, elementwise_affine=True)\n",
       "        (mlp): MLPBlock(\n",
       "          (linear_1): Linear(in_features=768, out_features=3072, bias=True)\n",
       "          (act): GELU()\n",
       "          (dropout_1): Dropout(p=0.0, inplace=False)\n",
       "          (linear_2): Linear(in_features=3072, out_features=768, bias=True)\n",
       "          (dropout_2): Dropout(p=0.0, inplace=False)\n",
       "        )\n",
       "      )\n",
       "      (encoder_layer_6): EncoderBlock(\n",
       "        (ln_1): LayerNorm((768,), eps=1e-06, elementwise_affine=True)\n",
       "        (self_attention): MultiheadAttention(\n",
       "          (out_proj): NonDynamicallyQuantizableLinear(in_features=768, out_features=768, bias=True)\n",
       "        )\n",
       "        (dropout): Dropout(p=0.0, inplace=False)\n",
       "        (ln_2): LayerNorm((768,), eps=1e-06, elementwise_affine=True)\n",
       "        (mlp): MLPBlock(\n",
       "          (linear_1): Linear(in_features=768, out_features=3072, bias=True)\n",
       "          (act): GELU()\n",
       "          (dropout_1): Dropout(p=0.0, inplace=False)\n",
       "          (linear_2): Linear(in_features=3072, out_features=768, bias=True)\n",
       "          (dropout_2): Dropout(p=0.0, inplace=False)\n",
       "        )\n",
       "      )\n",
       "      (encoder_layer_7): EncoderBlock(\n",
       "        (ln_1): LayerNorm((768,), eps=1e-06, elementwise_affine=True)\n",
       "        (self_attention): MultiheadAttention(\n",
       "          (out_proj): NonDynamicallyQuantizableLinear(in_features=768, out_features=768, bias=True)\n",
       "        )\n",
       "        (dropout): Dropout(p=0.0, inplace=False)\n",
       "        (ln_2): LayerNorm((768,), eps=1e-06, elementwise_affine=True)\n",
       "        (mlp): MLPBlock(\n",
       "          (linear_1): Linear(in_features=768, out_features=3072, bias=True)\n",
       "          (act): GELU()\n",
       "          (dropout_1): Dropout(p=0.0, inplace=False)\n",
       "          (linear_2): Linear(in_features=3072, out_features=768, bias=True)\n",
       "          (dropout_2): Dropout(p=0.0, inplace=False)\n",
       "        )\n",
       "      )\n",
       "      (encoder_layer_8): EncoderBlock(\n",
       "        (ln_1): LayerNorm((768,), eps=1e-06, elementwise_affine=True)\n",
       "        (self_attention): MultiheadAttention(\n",
       "          (out_proj): NonDynamicallyQuantizableLinear(in_features=768, out_features=768, bias=True)\n",
       "        )\n",
       "        (dropout): Dropout(p=0.0, inplace=False)\n",
       "        (ln_2): LayerNorm((768,), eps=1e-06, elementwise_affine=True)\n",
       "        (mlp): MLPBlock(\n",
       "          (linear_1): Linear(in_features=768, out_features=3072, bias=True)\n",
       "          (act): GELU()\n",
       "          (dropout_1): Dropout(p=0.0, inplace=False)\n",
       "          (linear_2): Linear(in_features=3072, out_features=768, bias=True)\n",
       "          (dropout_2): Dropout(p=0.0, inplace=False)\n",
       "        )\n",
       "      )\n",
       "      (encoder_layer_9): EncoderBlock(\n",
       "        (ln_1): LayerNorm((768,), eps=1e-06, elementwise_affine=True)\n",
       "        (self_attention): MultiheadAttention(\n",
       "          (out_proj): NonDynamicallyQuantizableLinear(in_features=768, out_features=768, bias=True)\n",
       "        )\n",
       "        (dropout): Dropout(p=0.0, inplace=False)\n",
       "        (ln_2): LayerNorm((768,), eps=1e-06, elementwise_affine=True)\n",
       "        (mlp): MLPBlock(\n",
       "          (linear_1): Linear(in_features=768, out_features=3072, bias=True)\n",
       "          (act): GELU()\n",
       "          (dropout_1): Dropout(p=0.0, inplace=False)\n",
       "          (linear_2): Linear(in_features=3072, out_features=768, bias=True)\n",
       "          (dropout_2): Dropout(p=0.0, inplace=False)\n",
       "        )\n",
       "      )\n",
       "      (encoder_layer_10): EncoderBlock(\n",
       "        (ln_1): LayerNorm((768,), eps=1e-06, elementwise_affine=True)\n",
       "        (self_attention): MultiheadAttention(\n",
       "          (out_proj): NonDynamicallyQuantizableLinear(in_features=768, out_features=768, bias=True)\n",
       "        )\n",
       "        (dropout): Dropout(p=0.0, inplace=False)\n",
       "        (ln_2): LayerNorm((768,), eps=1e-06, elementwise_affine=True)\n",
       "        (mlp): MLPBlock(\n",
       "          (linear_1): Linear(in_features=768, out_features=3072, bias=True)\n",
       "          (act): GELU()\n",
       "          (dropout_1): Dropout(p=0.0, inplace=False)\n",
       "          (linear_2): Linear(in_features=3072, out_features=768, bias=True)\n",
       "          (dropout_2): Dropout(p=0.0, inplace=False)\n",
       "        )\n",
       "      )\n",
       "      (encoder_layer_11): EncoderBlock(\n",
       "        (ln_1): LayerNorm((768,), eps=1e-06, elementwise_affine=True)\n",
       "        (self_attention): MultiheadAttention(\n",
       "          (out_proj): NonDynamicallyQuantizableLinear(in_features=768, out_features=768, bias=True)\n",
       "        )\n",
       "        (dropout): Dropout(p=0.0, inplace=False)\n",
       "        (ln_2): LayerNorm((768,), eps=1e-06, elementwise_affine=True)\n",
       "        (mlp): MLPBlock(\n",
       "          (linear_1): Linear(in_features=768, out_features=3072, bias=True)\n",
       "          (act): GELU()\n",
       "          (dropout_1): Dropout(p=0.0, inplace=False)\n",
       "          (linear_2): Linear(in_features=3072, out_features=768, bias=True)\n",
       "          (dropout_2): Dropout(p=0.0, inplace=False)\n",
       "        )\n",
       "      )\n",
       "    )\n",
       "    (ln): LayerNorm((768,), eps=1e-06, elementwise_affine=True)\n",
       "  )\n",
       "  (heads): Sequential(\n",
       "    (0): Linear(in_features=768, out_features=8, bias=True)\n",
       "    (1): Sigmoid()\n",
       "  )\n",
       ")"
      ]
     },
     "execution_count": 25,
     "metadata": {},
     "output_type": "execute_result"
    },
    {
     "name": "stdout",
     "output_type": "stream",
     "text": [
      "time: 2 s (started: 2022-10-30 16:49:28 +00:00)\n"
     ]
    }
   ],
   "source": [
    "model1=models.vit_b_32(pretrained=False)\n",
    "model1.heads=nn.Sequential(nn.Linear(768, 8), nn.Sigmoid())\n",
    "checkpoint = torch.load('../input/isic2019hairvit32b/resnet50_wt_epoch_13_batch_78_auc_0.6762.pt')\n",
    "model1.load_state_dict(checkpoint['model_state_dict'],strict=False)\n",
    "del checkpoint\n",
    "model1.to(device)"
   ]
  },
  {
   "cell_type": "code",
   "execution_count": 26,
   "id": "bd2fbc93",
   "metadata": {
    "execution": {
     "iopub.execute_input": "2022-10-30T16:49:30.238493Z",
     "iopub.status.busy": "2022-10-30T16:49:30.238177Z",
     "iopub.status.idle": "2022-10-30T16:49:46.774256Z",
     "shell.execute_reply": "2022-10-30T16:49:46.773275Z"
    },
    "papermill": {
     "duration": 16.552164,
     "end_time": "2022-10-30T16:49:46.776826",
     "exception": false,
     "start_time": "2022-10-30T16:49:30.224662",
     "status": "completed"
    },
    "tags": []
   },
   "outputs": [
    {
     "name": "stdout",
     "output_type": "stream",
     "text": [
      "sensitivity-[0.64421053 0.00073964 0.25358166 0.00549451 0.         0.\n",
      " 0.         0.06060606]\n",
      "specicivity-[0.19239233 0.16666667 0.24964739 0.03571429 0.         0.\n",
      " 0.         0.00856531]\n",
      "Balanced Accuracy\n",
      "0.12057904990973589\n",
      "Confusion Matrix\n",
      "Figure(432x288)\n",
      "f1-score\n",
      "0.07173767348184425\n"
     ]
    },
    {
     "name": "stderr",
     "output_type": "stream",
     "text": [
      "/opt/conda/lib/python3.7/site-packages/ipykernel_launcher.py:28: RuntimeWarning: invalid value encountered in long_scalars\n",
      "/opt/conda/lib/python3.7/site-packages/ipykernel_launcher.py:65: RuntimeWarning: invalid value encountered in true_divide\n"
     ]
    },
    {
     "name": "stdout",
     "output_type": "stream",
     "text": [
      "auc-list\n",
      "\n",
      "\n",
      "[0.44581513 0.38596992 0.48500878 0.43788952 0.47460193 0.33164326\n",
      " 0.8044338  0.35447916]\n",
      "accuracy-list\n",
      "\n",
      "\n",
      "[0.18966165 0.48383459 0.17575188 0.12857143 0.15488722 0.06616541\n",
      " 0.08796992 0.0693609 ]\n",
      "mean-auc0.4649801877737454\n",
      "mean-auc0.16952537593984962\n"
     ]
    },
    {
     "data": {
      "image/png": "[encoded data removed]",
      "text/plain": [
       "<Figure size 432x288 with 2 Axes>"
      ]
     },
     "metadata": {
      "needs_background": "light"
     },
     "output_type": "display_data"
    },
    {
     "name": "stdout",
     "output_type": "stream",
     "text": [
      "time: 16.5 s (started: 2022-10-30 16:49:30 +00:00)\n"
     ]
    }
   ],
   "source": [
    "auc1,acc1,pred_lst1,gt_lst1=compute_predictions(model1)"
   ]
  },
  {
   "cell_type": "code",
   "execution_count": 27,
   "id": "336e87b4",
   "metadata": {
    "execution": {
     "iopub.execute_input": "2022-10-30T16:49:46.820350Z",
     "iopub.status.busy": "2022-10-30T16:49:46.819879Z",
     "iopub.status.idle": "2022-10-30T16:49:46.838111Z",
     "shell.execute_reply": "2022-10-30T16:49:46.836787Z"
    },
    "papermill": {
     "duration": 0.042966,
     "end_time": "2022-10-30T16:49:46.841403",
     "exception": false,
     "start_time": "2022-10-30T16:49:46.798437",
     "status": "completed"
    },
    "tags": []
   },
   "outputs": [
    {
     "name": "stdout",
     "output_type": "stream",
     "text": [
      "time: 2.63 ms (started: 2022-10-30 16:49:46 +00:00)\n"
     ]
    }
   ],
   "source": [
    "from tqdm._tqdm_notebook import tqdm_notebook\n",
    "def compute_predictions(model):\n",
    "    model.eval()\n",
    "    pred_lst4=[]\n",
    "    gt_lst4=[]\n",
    "    for i, sample in enumerate(dataloaders['val']):    \n",
    "        images=sample['image']\n",
    "        labels=sample['target']\n",
    "        del sample\n",
    "        images = images.to(device)\n",
    "        labels=labels.numpy()\n",
    "        outputs=model(images)\n",
    "        outputs=outputs.detach()\n",
    "        outputs=outputs.cpu()\n",
    "        outputs=outputs.numpy()\n",
    "        pred_lst4.append(outputs)\n",
    "        gt_lst4.append(labels)\n",
    "        del labels, outputs, images\n",
    "\n",
    "    pred_lst=np.concatenate(pred_lst4, axis=0)\n",
    "    gt_lst=np.concatenate(gt_lst4, axis=0)\n",
    "    auc_lst=[]\n",
    "    acc_lst=[]\n",
    "    for k in range(0,8):\n",
    "        tmp_gt=gt_lst[:, k]\n",
    "        tmp_pred=pred_lst[:,k]\n",
    "        tmp_acc=accuracy_score(tmp_gt, tmp_pred.round())\n",
    "        acc_lst.append(tmp_acc)\n",
    "        tmp_auc=roc_auc_score(tmp_gt, tmp_pred)\n",
    "        auc_lst.append(tmp_auc)\n",
    "\n",
    "    auc_lst=np.array(auc_lst)\n",
    "    acc_lst=np.array(acc_lst)\n",
    "    print('\\n')\n",
    "    print(auc_lst)\n",
    "    print('\\n')\n",
    "    print(acc_lst)\n",
    "    auc=np.mean(auc_lst)\n",
    "    acc = np.mean(acc_lst)\n",
    "    print(auc)\n",
    "    print(acc)\n",
    "    f1s=0.0\n",
    "    return auc,acc,pred_lst,gt_lst"
   ]
  },
  {
   "cell_type": "code",
   "execution_count": 28,
   "id": "e5b7cdf6",
   "metadata": {
    "execution": {
     "iopub.execute_input": "2022-10-30T16:49:46.889202Z",
     "iopub.status.busy": "2022-10-30T16:49:46.888931Z",
     "iopub.status.idle": "2022-10-30T16:50:19.060535Z",
     "shell.execute_reply": "2022-10-30T16:50:19.059191Z"
    },
    "papermill": {
     "duration": 32.208486,
     "end_time": "2022-10-30T16:50:19.077018",
     "exception": false,
     "start_time": "2022-10-30T16:49:46.868532",
     "status": "completed"
    },
    "tags": []
   },
   "outputs": [
    {
     "name": "stdout",
     "output_type": "stream",
     "text": [
      "Computing Test Predictions\n",
      "\n",
      "\n",
      "[0.44542539 0.41592024 0.51583463 0.42882862 0.4820974  0.35680835\n",
      " 0.69687732 0.38883583]\n",
      "\n",
      "\n",
      "[0.18007519 0.45545113 0.1362782  0.03966165 0.11052632 0.02030075\n",
      " 0.01992481 0.03157895]\n",
      "0.4663284718739149\n",
      "0.12422462406015039\n",
      "\n",
      "\n",
      "[0.44581513 0.38596992 0.48500878 0.43788952 0.47460193 0.33164326\n",
      " 0.8044338  0.35447916]\n",
      "\n",
      "\n",
      "[0.18966165 0.48383459 0.17575188 0.12857143 0.15488722 0.06616541\n",
      " 0.08796992 0.0693609 ]\n",
      "0.4649801877737454\n",
      "0.16952537593984962\n",
      "time: 32.2 s (started: 2022-10-30 16:49:46 +00:00)\n"
     ]
    }
   ],
   "source": [
    "print('Computing Test Predictions')\n",
    "auc1,acc1,pred_lst1,gt_lst1 = compute_predictions(model)\n",
    "auc2,acc2,pred_lst2,gt_lst2 = compute_predictions(model1)"
   ]
  },
  {
   "cell_type": "code",
   "execution_count": 29,
   "id": "a3101b00",
   "metadata": {
    "execution": {
     "iopub.execute_input": "2022-10-30T16:50:19.106517Z",
     "iopub.status.busy": "2022-10-30T16:50:19.106169Z",
     "iopub.status.idle": "2022-10-30T16:50:19.858768Z",
     "shell.execute_reply": "2022-10-30T16:50:19.857662Z"
    },
    "papermill": {
     "duration": 0.77037,
     "end_time": "2022-10-30T16:50:19.861946",
     "exception": false,
     "start_time": "2022-10-30T16:50:19.091576",
     "status": "completed"
    },
    "tags": []
   },
   "outputs": [
    {
     "name": "stdout",
     "output_type": "stream",
     "text": [
      "auc-list\n",
      "\n",
      "\n",
      "[0.44278466 0.39372127 0.49465277 0.42903822 0.47478193 0.34669829\n",
      " 0.79311555 0.36676786]\n",
      "accuracy-list\n",
      "\n",
      "\n",
      "[0.18308271 0.47255639 0.15319549 0.05620301 0.12575188 0.03947368\n",
      " 0.03984962 0.04398496]\n",
      "mean-auc0.46769506917768144\n",
      "mean-auc0.1392622180451128\n",
      "sensitivity-[0.85473684 0.00147929 0.23065903 0.00549451 0.         0.\n",
      " 0.         0.01515152]\n",
      "specicivity-[0.18226712 0.21052632 0.25801282 0.05882353 0.         0.\n",
      " 0.         0.01136364]\n",
      "Balanced Accuracy\n",
      "0.13844014731000973\n",
      "Confusion Matrix\n"
     ]
    },
    {
     "name": "stderr",
     "output_type": "stream",
     "text": [
      "/opt/conda/lib/python3.7/site-packages/ipykernel_launcher.py:28: RuntimeWarning: invalid value encountered in long_scalars\n"
     ]
    },
    {
     "name": "stdout",
     "output_type": "stream",
     "text": [
      "Figure(432x288)\n",
      "f1-score\n",
      "0.07125101037386575\n"
     ]
    },
    {
     "name": "stderr",
     "output_type": "stream",
     "text": [
      "/opt/conda/lib/python3.7/site-packages/ipykernel_launcher.py:65: RuntimeWarning: invalid value encountered in true_divide\n"
     ]
    },
    {
     "data": {
      "image/png": "[encoded data removed]",
      "text/plain": [
       "<Figure size 432x288 with 2 Axes>"
      ]
     },
     "metadata": {
      "needs_background": "light"
     },
     "output_type": "display_data"
    },
    {
     "name": "stdout",
     "output_type": "stream",
     "text": [
      "time: 743 ms (started: 2022-10-30 16:50:19 +00:00)\n"
     ]
    }
   ],
   "source": [
    "pred_lst = (pred_lst1+pred_lst2)/2\n",
    "gt_lst = (gt_lst1+gt_lst2)/2\n",
    "fusion_matrix = FusionMatrix(8)\n",
    "\n",
    "auc_lst=[]\n",
    "acc_lst=[]\n",
    "for k in range(0,8):\n",
    "    tmp_gt=gt_lst[:, k]\n",
    "    tmp_pred=pred_lst[:,k]\n",
    "    tmp_acc=accuracy_score(tmp_gt, tmp_pred.round())\n",
    "    acc_lst.append(tmp_acc)\n",
    "    tmp_auc=roc_auc_score(tmp_gt, tmp_pred)\n",
    "    auc_lst.append(tmp_auc)\n",
    "\n",
    "\n",
    "auc_lst=np.array(auc_lst)\n",
    "\n",
    "acc_lst=np.array(acc_lst)\n",
    "print(\"auc-list\")\n",
    "print('\\n')\n",
    "print(auc_lst)\n",
    "print(\"accuracy-list\")\n",
    "print('\\n')\n",
    "print(acc_lst)\n",
    "auc=np.mean(auc_lst)\n",
    "acc = np.mean(acc_lst)\n",
    "print(\"mean-auc\"+str(auc))\n",
    "print(\"mean-auc\"+str(acc))\n",
    "\n",
    "#pred_lst=np.concatenate(pred_lst, axis=0)\n",
    "#gt_lst=np.concatenate(gt_lst, axis=0)\n",
    "pred_lst2 = np.argmax(pred_lst, axis=1)\n",
    "gt_lst2 = np.argmax(gt_lst, axis=1)\n",
    "fusion_matrix.update(pred_lst2, gt_lst2)\n",
    "print(\"sensitivity-\"+str(fusion_matrix.get_rec_per_class()))\n",
    "print(\"specicivity-\"+str(fusion_matrix.get_pre_per_class()))\n",
    "print(\"Balanced Accuracy\")\n",
    "print(fusion_matrix.get_balance_accuracy())\n",
    "print(\"Confusion Matrix\")\n",
    "print(fusion_matrix.plot_confusion_matrix())\n",
    "print(\"f1-score\")\n",
    "print(fusion_matrix.get_f1_score())\n",
    "\n",
    "#roc_auc = get_roc_auc(pred_lst, gt_lst)\n",
    "#print(roc_auc)\n"
   ]
  },
  {
   "cell_type": "code",
   "execution_count": null,
   "id": "fbe915f3",
   "metadata": {
    "papermill": {
     "duration": 0.015391,
     "end_time": "2022-10-30T16:50:19.902940",
     "exception": false,
     "start_time": "2022-10-30T16:50:19.887549",
     "status": "completed"
    },
    "tags": []
   },
   "outputs": [],
   "source": []
  }
 ],
 "metadata": {
  "kernelspec": {
   "display_name": "Python 3",
   "language": "python",
   "name": "python3"
  },
  "language_info": {
   "codemirror_mode": {
    "name": "ipython",
    "version": 3
   },
   "file_extension": ".py",
   "mimetype": "text/x-python",
   "name": "python",
   "nbconvert_exporter": "python",
   "pygments_lexer": "ipython3",
   "version": "3.7.12"
  },
  "papermill": {
   "default_parameters": {},
   "duration": 233.436175,
   "end_time": "2022-10-30T16:50:22.270197",
   "environment_variables": {},
   "exception": null,
   "input_path": "__notebook__.ipynb",
   "output_path": "__notebook__.ipynb",
   "parameters": {},
   "start_time": "2022-10-30T16:46:28.834022",
   "version": "2.3.4"
  }
 },
 "nbformat": 4,
 "nbformat_minor": 5
}
