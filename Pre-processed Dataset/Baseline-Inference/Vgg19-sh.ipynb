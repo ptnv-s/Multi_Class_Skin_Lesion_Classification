{
 "cells": [
  {
   "cell_type": "code",
   "execution_count": 1,
   "metadata": {
    "id": "Ec0y8MdFZMAX",
    "tags": []
   },
   "outputs": [
    {
     "name": "stdout",
     "output_type": "stream",
     "text": [
      "Requirement already satisfied: ipython in /usr/local/lib/python3.9/dist-packages (8.4.0)\n",
      "Requirement already satisfied: pickleshare in /usr/local/lib/python3.9/dist-packages (from ipython) (0.7.5)\n",
      "Requirement already satisfied: traitlets>=5 in /usr/local/lib/python3.9/dist-packages (from ipython) (5.3.0)\n",
      "Requirement already satisfied: stack-data in /usr/local/lib/python3.9/dist-packages (from ipython) (0.3.0)\n",
      "Requirement already satisfied: backcall in /usr/local/lib/python3.9/dist-packages (from ipython) (0.2.0)\n",
      "Requirement already satisfied: decorator in /usr/local/lib/python3.9/dist-packages (from ipython) (5.1.1)\n",
      "Requirement already satisfied: pygments>=2.4.0 in /usr/local/lib/python3.9/dist-packages (from ipython) (2.12.0)\n",
      "Requirement already satisfied: matplotlib-inline in /usr/local/lib/python3.9/dist-packages (from ipython) (0.1.3)\n",
      "Requirement already satisfied: pexpect>4.3 in /usr/local/lib/python3.9/dist-packages (from ipython) (4.8.0)\n",
      "Requirement already satisfied: setuptools>=18.5 in /usr/local/lib/python3.9/dist-packages (from ipython) (59.6.0)\n",
      "Requirement already satisfied: jedi>=0.16 in /usr/local/lib/python3.9/dist-packages (from ipython) (0.18.1)\n",
      "Requirement already satisfied: prompt-toolkit!=3.0.0,!=3.0.1,<3.1.0,>=2.0.0 in /usr/local/lib/python3.9/dist-packages (from ipython) (3.0.30)\n",
      "Requirement already satisfied: parso<0.9.0,>=0.8.0 in /usr/local/lib/python3.9/dist-packages (from jedi>=0.16->ipython) (0.8.3)\n",
      "Requirement already satisfied: ptyprocess>=0.5 in /usr/local/lib/python3.9/dist-packages (from pexpect>4.3->ipython) (0.7.0)\n",
      "Requirement already satisfied: wcwidth in /usr/local/lib/python3.9/dist-packages (from prompt-toolkit!=3.0.0,!=3.0.1,<3.1.0,>=2.0.0->ipython) (0.2.5)\n",
      "Requirement already satisfied: pure-eval in /usr/local/lib/python3.9/dist-packages (from stack-data->ipython) (0.2.2)\n",
      "Requirement already satisfied: asttokens in /usr/local/lib/python3.9/dist-packages (from stack-data->ipython) (2.0.5)\n",
      "Requirement already satisfied: executing in /usr/local/lib/python3.9/dist-packages (from stack-data->ipython) (0.8.3)\n",
      "Requirement already satisfied: six in /usr/lib/python3/dist-packages (from asttokens->stack-data->ipython) (1.14.0)\n",
      "\u001b[33mWARNING: Running pip as the 'root' user can result in broken permissions and conflicting behaviour with the system package manager. It is recommended to use a virtual environment instead: https://pip.pypa.io/warnings/venv\u001b[0m\u001b[33m\n",
      "\u001b[0mNote: you may need to restart the kernel to use updated packages.\n"
     ]
    }
   ],
   "source": [
    "pip install ipython"
   ]
  },
  {
   "cell_type": "code",
   "execution_count": 2,
   "metadata": {
    "id": "W_vAStgml6hV",
    "tags": []
   },
   "outputs": [],
   "source": [
    "%matplotlib inline"
   ]
  },
  {
   "cell_type": "code",
   "execution_count": 3,
   "metadata": {
    "id": "RisP8wVhl6hZ",
    "tags": []
   },
   "outputs": [
    {
     "data": {
      "text/plain": [
       "<matplotlib.pyplot._IonContext at 0x7fa66c80a130>"
      ]
     },
     "execution_count": 3,
     "metadata": {},
     "output_type": "execute_result"
    }
   ],
   "source": [
    "from __future__ import print_function, division\n",
    "import torch\n",
    "import torch.nn as nn\n",
    "import torch.optim as optim\n",
    "from torch.optim import lr_scheduler\n",
    "import torch.backends.cudnn as cudnn\n",
    "import numpy as np\n",
    "import torchvision\n",
    "from torchvision import datasets, models, transforms\n",
    "import matplotlib.pyplot as plt\n",
    "import time\n",
    "import os\n",
    "import copy\n",
    "import pandas as pd\n",
    "import numpy as np\n",
    "import csv\n",
    "import os\n",
    "import tarfile\n",
    "from urllib.parse import urlparse\n",
    "from urllib.request import urlretrieve\n",
    "import numpy as np\n",
    "import torch\n",
    "from torch.utils.data import Dataset\n",
    "from PIL import Image\n",
    "from tqdm import tqdm\n",
    "from torch.utils.data import DataLoader\n",
    "from torchvision import transforms\n",
    "from sklearn.metrics import accuracy_score\n",
    "from sklearn.metrics import roc_auc_score\n",
    "from sklearn.metrics import f1_score\n",
    "from sklearn.metrics import classification_report\n",
    "from sklearn.model_selection import train_test_split\n",
    "cudnn.benchmark = True\n",
    "plt.ion()   # interactive mode"
   ]
  },
  {
   "cell_type": "code",
   "execution_count": 4,
   "metadata": {
    "tags": []
   },
   "outputs": [],
   "source": [
    "import os"
   ]
  },
  {
   "cell_type": "code",
   "execution_count": 5,
   "metadata": {
    "id": "i97UAL_fgZg1",
    "outputId": "267d2a4f-2bb1-4b61-e7c5-8d51e3adc5da",
    "tags": []
   },
   "outputs": [
    {
     "name": "stdout",
     "output_type": "stream",
     "text": [
      "cuda:0\n"
     ]
    }
   ],
   "source": [
    "device = torch.device(\"cuda:0\" if torch.cuda.is_available() else \"cpu\")\n",
    "print(device)"
   ]
  },
  {
   "cell_type": "code",
   "execution_count": 6,
   "metadata": {
    "id": "KetFs7b6nImV",
    "outputId": "5f8e5177-9091-405d-8f6e-19e73f64c2f6",
    "tags": []
   },
   "outputs": [
    {
     "name": "stdout",
     "output_type": "stream",
     "text": [
      "\u001b[33mWARNING: Running pip as the 'root' user can result in broken permissions and conflicting behaviour with the system package manager. It is recommended to use a virtual environment instead: https://pip.pypa.io/warnings/venv\u001b[0m\u001b[33m\n",
      "\u001b[0m\u001b[33mWARNING: Running pip as the 'root' user can result in broken permissions and conflicting behaviour with the system package manager. It is recommended to use a virtual environment instead: https://pip.pypa.io/warnings/venv\u001b[0m\u001b[33m\n",
      "\u001b[0mtime: 352 µs (started: 2022-10-30 16:21:10 +00:00)\n"
     ]
    }
   ],
   "source": [
    "!pip install -q livelossplot==0.3.3\n",
    "!pip install -q ipython-autotime\n",
    "%load_ext autotime"
   ]
  },
  {
   "cell_type": "code",
   "execution_count": 7,
   "metadata": {
    "id": "BaGdvVCGtSKS",
    "outputId": "084749e6-e70f-460b-fd95-e09d465fa67e",
    "tags": []
   },
   "outputs": [
    {
     "name": "stdout",
     "output_type": "stream",
     "text": [
      "time: 647 ms (started: 2022-10-30 16:21:10 +00:00)\n"
     ]
    }
   ],
   "source": [
    "#helper function\n",
    "def get_label(row):\n",
    "  for c in labels.columns:\n",
    "    if row[c]==1:\n",
    "      return c\n",
    "\n",
    "labels = pd.read_csv('ISIC_2019_Training_GroundTruth.csv')\n",
    "labels['l']=labels.apply(get_label, axis=1)\n",
    "X=labels.drop(['l','UNK'], axis=1)\n",
    "y = labels['l']\n",
    "X_train, X_test, y_train, y_test = train_test_split(X,y, test_size=0.21, random_state=42,stratify=y)\n",
    "X_train['image'] = 'preprocessed-hair/'+X_train['image']+ '.jpg'\n",
    "X_test['image'] = 'preprocessed-hair/'+X_test['image']+ '.jpg'\n",
    "X_test.to_csv('validation.csv', index=False)\n",
    "X_train.to_csv('training.csv', index=False)\n",
    "train_path = 'training.csv'\n",
    "class_path = 'validation_class.csv'\n",
    "eval_path = 'validation.csv'\n",
    "train_img_path = 'preprocessed-hair'\n"
   ]
  },
  {
   "cell_type": "code",
   "execution_count": 8,
   "metadata": {
    "id": "mpp9KEVTpN3Z",
    "outputId": "2eed9a44-a69b-4474-b487-098a435cf93b",
    "tags": []
   },
   "outputs": [
    {
     "name": "stdout",
     "output_type": "stream",
     "text": [
      "time: 1.95 ms (started: 2022-10-30 16:21:11 +00:00)\n"
     ]
    }
   ],
   "source": [
    "class_names = ['MEL', 'NV', 'BCC', 'AK', 'BKL', 'DF', 'VASC', 'SCC', 'UNK']\n",
    "\n",
    "def read_object_labels_csv(file,phase, header=True):\n",
    "    img_t=[]\n",
    "    if phase == 'Train':\n",
    "      dir = 'training.csv'\n",
    "    elif phase == \"Valid\":\n",
    "      dir = 'validation.csv'\n",
    "    with open(dir, \"r\") as f:\n",
    "        csvReader = csv.reader(f)\n",
    "        next(csvReader, None)\n",
    "        k=0\n",
    "        for line in csvReader:\n",
    "            k+=1\n",
    "            image_name= line[0]\n",
    "            label = line[1:9]\n",
    "            label = torch.from_numpy(np.array(label, dtype=np.float64))\n",
    "            item = (image_name,label)\n",
    "            img_t.append(item)\n",
    "    return img_t\n",
    "\n",
    "\n",
    "class CHEXPERT(Dataset):\n",
    "    def __init__(self, root, phase, csv_path,transform=None):\n",
    "        self.root = os.path.abspath(root)\n",
    "        self.phase = phase\n",
    "        self.transform = transform\n",
    "        self.path_images = self.root\n",
    "        file_csv = pd.read_csv(csv_path)\n",
    "        self.classes = class_names\n",
    "        self.images = read_object_labels_csv(file_csv,phase)\n",
    "        print('[dataset] classification phase={} number of classes={}  number of images={}'.format(phase, len(self.classes), len(self.images)))\n",
    "\n",
    "    def __getitem__(self, index):\n",
    "        filename, target = self.images[index]\n",
    "        filename = filename\n",
    "        img = Image.open(filename).convert('RGB')\n",
    "        if self.transform is not None:\n",
    "            img = self.transform(img)\n",
    "        \n",
    "        data = {'image':img, 'target': target}\n",
    "        return data\n",
    "\n",
    "    def __len__(self):\n",
    "        return len(self.images)\n",
    "\n",
    "    def get_number_classes(self):\n",
    "        return len(self.classes)\n"
   ]
  },
  {
   "cell_type": "code",
   "execution_count": 9,
   "metadata": {
    "id": "HPx0h3uwpnS9",
    "outputId": "68b6cdb2-74f0-4e36-a14d-db1d02386bff",
    "tags": []
   },
   "outputs": [
    {
     "name": "stdout",
     "output_type": "stream",
     "text": [
      "[dataset] classification phase=Train number of classes=9  number of images=20011\n",
      "[dataset] classification phase=Valid number of classes=9  number of images=5320\n",
      "time: 243 ms (started: 2022-10-30 16:21:11 +00:00)\n"
     ]
    }
   ],
   "source": [
    "data_transforms = {\n",
    "    'train': transforms.Compose([\n",
    "        transforms.Resize((224,224)),\n",
    "        transforms.RandomHorizontalFlip(),\n",
    "        transforms.ToTensor(),\n",
    "        transforms.Normalize([0.485, 0.456, 0.406], [0.229, 0.224, 0.225])\n",
    "    ]),\n",
    "    'val': transforms.Compose([\n",
    "        transforms.Resize((224,224)),\n",
    "        transforms.ToTensor(),\n",
    "        transforms.Normalize([0.485, 0.456, 0.406], [0.229, 0.224, 0.225])\n",
    "    ]),\n",
    "}\n",
    "train_dataset = CHEXPERT(train_img_path, transform=data_transforms['train'], phase='Train',csv_path=train_path)\n",
    "val_dataset = CHEXPERT(train_img_path, transform=data_transforms['val'],phase='Valid',csv_path=eval_path)\n",
    "\n",
    "image_datasets ={'train': train_dataset, 'val': val_dataset}\n",
    "dataloaders = {x: torch.utils.data.DataLoader(image_datasets[x], batch_size=16,shuffle=False, num_workers=2)for x in ['train', 'val']}\n",
    "dataset_sizes = {x: len(image_datasets[x]) for x in ['train', 'val']}"
   ]
  },
  {
   "cell_type": "code",
   "execution_count": 10,
   "metadata": {
    "id": "QE83J344l6hb",
    "outputId": "751305e9-b99e-420b-d41b-e6672c0cf4a2",
    "tags": []
   },
   "outputs": [
    {
     "data": {
      "image/png": "[encoded data removed]",
      "text/plain": [
       "<Figure size 432x288 with 1 Axes>"
      ]
     },
     "metadata": {
      "needs_background": "light"
     },
     "output_type": "display_data"
    },
    {
     "name": "stdout",
     "output_type": "stream",
     "text": [
      "time: 438 ms (started: 2022-10-30 16:21:11 +00:00)\n"
     ]
    }
   ],
   "source": [
    "def imshow(inp, title=None):\n",
    "    inp = inp.numpy().transpose((1, 2, 0))\n",
    "    mean = np.array([0.6678, 0.5298, 0.5245])\n",
    "    std = np.array([0.1333, 0.1476, 0.1590])\n",
    "    inp = std * inp + mean\n",
    "    inp = np.clip(inp, 0, 1)\n",
    "    plt.imshow(inp)\n",
    "    if title is not None:\n",
    "        plt.title(title)\n",
    "    plt.pause(0.001)  # pause a bit so that plots are updated\n",
    "\n",
    "\n",
    "# Get a batch of training data\n",
    "data = next(iter(dataloaders['train']))\n",
    "ps = data['target'].numpy()\n",
    "l = np.where(ps==1.0)\n",
    "l = l[1].astype(int)\n",
    "# Make a grid from batch\n",
    "out = torchvision.utils.make_grid(data['image'])\n",
    "imshow(out, title=[class_names[x] for x in l])"
   ]
  },
  {
   "cell_type": "code",
   "execution_count": 11,
   "metadata": {
    "scrolled": true,
    "tags": []
   },
   "outputs": [
    {
     "name": "stderr",
     "output_type": "stream",
     "text": [
      "/usr/local/lib/python3.9/dist-packages/torchvision/models/_utils.py:208: UserWarning: The parameter 'pretrained' is deprecated since 0.13 and will be removed in 0.15, please use 'weights' instead.\n",
      "  warnings.warn(\n",
      "/usr/local/lib/python3.9/dist-packages/torchvision/models/_utils.py:223: UserWarning: Arguments other than a weight enum or `None` for 'weights' are deprecated since 0.13 and will be removed in 0.15. The current behavior is equivalent to passing `weights=None`.\n",
      "  warnings.warn(msg)\n"
     ]
    },
    {
     "data": {
      "text/plain": [
       "VGG(\n",
       "  (features): Sequential(\n",
       "    (0): Conv2d(3, 64, kernel_size=(3, 3), stride=(1, 1), padding=(1, 1))\n",
       "    (1): ReLU(inplace=True)\n",
       "    (2): Conv2d(64, 64, kernel_size=(3, 3), stride=(1, 1), padding=(1, 1))\n",
       "    (3): ReLU(inplace=True)\n",
       "    (4): MaxPool2d(kernel_size=2, stride=2, padding=0, dilation=1, ceil_mode=False)\n",
       "    (5): Conv2d(64, 128, kernel_size=(3, 3), stride=(1, 1), padding=(1, 1))\n",
       "    (6): ReLU(inplace=True)\n",
       "    (7): Conv2d(128, 128, kernel_size=(3, 3), stride=(1, 1), padding=(1, 1))\n",
       "    (8): ReLU(inplace=True)\n",
       "    (9): MaxPool2d(kernel_size=2, stride=2, padding=0, dilation=1, ceil_mode=False)\n",
       "    (10): Conv2d(128, 256, kernel_size=(3, 3), stride=(1, 1), padding=(1, 1))\n",
       "    (11): ReLU(inplace=True)\n",
       "    (12): Conv2d(256, 256, kernel_size=(3, 3), stride=(1, 1), padding=(1, 1))\n",
       "    (13): ReLU(inplace=True)\n",
       "    (14): Conv2d(256, 256, kernel_size=(3, 3), stride=(1, 1), padding=(1, 1))\n",
       "    (15): ReLU(inplace=True)\n",
       "    (16): Conv2d(256, 256, kernel_size=(3, 3), stride=(1, 1), padding=(1, 1))\n",
       "    (17): ReLU(inplace=True)\n",
       "    (18): MaxPool2d(kernel_size=2, stride=2, padding=0, dilation=1, ceil_mode=False)\n",
       "    (19): Conv2d(256, 512, kernel_size=(3, 3), stride=(1, 1), padding=(1, 1))\n",
       "    (20): ReLU(inplace=True)\n",
       "    (21): Conv2d(512, 512, kernel_size=(3, 3), stride=(1, 1), padding=(1, 1))\n",
       "    (22): ReLU(inplace=True)\n",
       "    (23): Conv2d(512, 512, kernel_size=(3, 3), stride=(1, 1), padding=(1, 1))\n",
       "    (24): ReLU(inplace=True)\n",
       "    (25): Conv2d(512, 512, kernel_size=(3, 3), stride=(1, 1), padding=(1, 1))\n",
       "    (26): ReLU(inplace=True)\n",
       "    (27): MaxPool2d(kernel_size=2, stride=2, padding=0, dilation=1, ceil_mode=False)\n",
       "    (28): Conv2d(512, 512, kernel_size=(3, 3), stride=(1, 1), padding=(1, 1))\n",
       "    (29): ReLU(inplace=True)\n",
       "    (30): Conv2d(512, 512, kernel_size=(3, 3), stride=(1, 1), padding=(1, 1))\n",
       "    (31): ReLU(inplace=True)\n",
       "    (32): Conv2d(512, 512, kernel_size=(3, 3), stride=(1, 1), padding=(1, 1))\n",
       "    (33): ReLU(inplace=True)\n",
       "    (34): Conv2d(512, 512, kernel_size=(3, 3), stride=(1, 1), padding=(1, 1))\n",
       "    (35): ReLU(inplace=True)\n",
       "    (36): MaxPool2d(kernel_size=2, stride=2, padding=0, dilation=1, ceil_mode=False)\n",
       "  )\n",
       "  (avgpool): AdaptiveAvgPool2d(output_size=(7, 7))\n",
       "  (classifier): Sequential(\n",
       "    (0): Linear(in_features=25088, out_features=4096, bias=True)\n",
       "    (1): ReLU(inplace=True)\n",
       "    (2): Dropout(p=0.5, inplace=False)\n",
       "    (3): Linear(in_features=4096, out_features=4096, bias=True)\n",
       "    (4): ReLU(inplace=True)\n",
       "    (5): Dropout(p=0.5, inplace=False)\n",
       "    (6): Sequential(\n",
       "      (0): Linear(in_features=4096, out_features=8, bias=True)\n",
       "      (1): Sigmoid()\n",
       "    )\n",
       "  )\n",
       ")"
      ]
     },
     "execution_count": 11,
     "metadata": {},
     "output_type": "execute_result"
    },
    {
     "name": "stdout",
     "output_type": "stream",
     "text": [
      "time: 3.83 s (started: 2022-10-30 16:21:11 +00:00)\n"
     ]
    }
   ],
   "source": [
    "model=models.vgg19(pretrained=False)\n",
    "model.classifier[6]=nn.Sequential(nn.Linear(4096, 8), nn.Sigmoid())\n",
    "checkpoint = torch.load('hair/vgg19-hair/resnet50_wt_epoch_19_batch_78_auc_0.5.pt')\n",
    "model.load_state_dict(checkpoint['model_state_dict'],strict=False)\n",
    "del checkpoint\n",
    "model.to(device)"
   ]
  },
  {
   "cell_type": "code",
   "execution_count": 12,
   "metadata": {
    "tags": []
   },
   "outputs": [
    {
     "name": "stdout",
     "output_type": "stream",
     "text": [
      "time: 2.31 ms (started: 2022-10-30 16:21:15 +00:00)\n"
     ]
    }
   ],
   "source": [
    "class FusionMatrix(object):\n",
    "    def __init__(self, num_classes):\n",
    "        self.num_classes = num_classes\n",
    "        self.matrix = np.zeros((self.num_classes, self.num_classes), dtype=int)\n",
    "\n",
    "    def update(self, output, label):\n",
    "        length = output.shape[0]\n",
    "        for i in range(length):\n",
    "            self.matrix[int(output[i]), int(label[i])] += 1\n",
    "\n",
    "    def get_fusion_matrix(self):\n",
    "        return self.matrix\n",
    "\n",
    "    def get_rec_per_class(self):\n",
    "        rec = np.array(\n",
    "            [\n",
    "                self.matrix[i, i] / self.matrix[:, i].sum()\n",
    "                for i in range(self.num_classes)\n",
    "            ]\n",
    "        )\n",
    "        rec[np.isnan(rec)] = 0\n",
    "        return rec\n",
    "\n",
    "    def get_pre_per_class(self):\n",
    "        pre = np.array(\n",
    "            [\n",
    "                self.matrix[i, i] / self.matrix[i, :].sum()\n",
    "                for i in range(self.num_classes)\n",
    "            ]\n",
    "        )\n",
    "        pre[np.isnan(pre)] = 0\n",
    "        return pre\n",
    "\n",
    "    def get_accuracy(self):\n",
    "        acc = (\n",
    "            np.sum([self.matrix[i, i] for i in range(self.num_classes)])\n",
    "            / self.matrix.sum()\n",
    "        )\n",
    "        return acc\n",
    "\n",
    "    # convert multi-classification into binary classification tasks, and calculate the accuracy.\n",
    "    def get_binary_accuracy(self, class_no):\n",
    "        class_no = int(class_no)\n",
    "        if class_no >= self.num_classes or class_no < 0:\n",
    "            raise AttributeError(\n",
    "                \"Parameter class_no must less than the number of class.\")\n",
    "\n",
    "        error_num = 0\n",
    "        for i in range(self.num_classes):\n",
    "            error_num += self.matrix[i, class_no]\n",
    "            error_num += self.matrix[class_no, i]\n",
    "        error_num -= 2 * self.matrix[class_no, class_no]\n",
    "        ok_num = self.matrix.sum() - error_num\n",
    "        acc = ok_num / self.matrix.sum()\n",
    "        return acc\n",
    "\n",
    "    def get_balance_accuracy(self):\n",
    "        rec = self.get_rec_per_class()\n",
    "        bacc = np.mean(rec)\n",
    "        return bacc\n",
    "\n",
    "    def get_f1_score(self):\n",
    "        recall = self.get_rec_per_class()\n",
    "        precision = self.get_pre_per_class()\n",
    "        f1_score = 2 * (precision * recall) / (precision + recall)\n",
    "        f1_score[np.isnan(f1_score)] = 0\n",
    "        return np.mean(f1_score)\n",
    "\n",
    "    def plot_confusion_matrix(self, normalize = False, cmap=plt.cm.Blues):\n",
    "        if normalize:\n",
    "            title = 'Normalized confusion matrix'\n",
    "        else:\n",
    "            title = 'Confusion matrix, without normalization'\n",
    "\n",
    "        # Compute confusion matrix\n",
    "        cm = self.matrix.T\n",
    "\n",
    "        fig, ax = plt.subplots()\n",
    "        im = ax.imshow(cm, interpolation='nearest', cmap=cmap)\n",
    "        ax.figure.colorbar(im, ax=ax)\n",
    "        # We want to show all ticks...\n",
    "        ax.set(xticks=np.arange(cm.shape[1]),\n",
    "               yticks=np.arange(cm.shape[0]),\n",
    "               # ... and label them with the respective list entries\n",
    "               xticklabels=np.arange(self.num_classes), yticklabels=np.arange(self.num_classes),\n",
    "               title=title,\n",
    "               ylabel='True label',\n",
    "               xlabel='Predicted label')\n",
    "\n",
    "        # Rotate the tick labels and set their alignment.\n",
    "        plt.setp(ax.get_xticklabels(), rotation=45, ha=\"right\",\n",
    "                 rotation_mode=\"anchor\")\n",
    "\n",
    "        # Loop over data dimensions and create text annotations.\n",
    "        fmt = '.2f' if normalize else 'd'\n",
    "        thresh = cm.max() / 2.\n",
    "        for i in range(cm.shape[0]):\n",
    "            for j in range(cm.shape[1]):\n",
    "                ax.text(j, i, format(cm[i, j], fmt),\n",
    "                        ha=\"center\", va=\"center\",\n",
    "                        color=\"white\" if cm[i, j] > thresh else \"black\")\n",
    "        fig.tight_layout()\n",
    "        return fig"
   ]
  },
  {
   "cell_type": "code",
   "execution_count": 13,
   "metadata": {
    "tags": []
   },
   "outputs": [
    {
     "name": "stdout",
     "output_type": "stream",
     "text": [
      "time: 3.02 ms (started: 2022-10-30 16:21:15 +00:00)\n"
     ]
    },
    {
     "name": "stderr",
     "output_type": "stream",
     "text": [
      "/tmp/ipykernel_805/574004566.py:1: TqdmDeprecationWarning: This function will be removed in tqdm==5.0.0\n",
      "Please use `tqdm.notebook.*` instead of `tqdm._tqdm_notebook.*`\n",
      "  from tqdm._tqdm_notebook import tqdm_notebook\n"
     ]
    }
   ],
   "source": [
    "from tqdm._tqdm_notebook import tqdm_notebook\n",
    "def compute_predictions(model):\n",
    "    model.eval()\n",
    "    fusion_matrix = FusionMatrix(8)\n",
    "    pred_lst=[]\n",
    "    gt_lst=[]\n",
    "    for i, sample in enumerate(dataloaders['val']):    \n",
    "        images=sample['image']\n",
    "        labels=sample['target']\n",
    "        del sample\n",
    "        images = images.to(device)\n",
    "        labels=labels.numpy()\n",
    "        outputs=model(images)\n",
    "        outputs=outputs.detach()\n",
    "        outputs=outputs.cpu()\n",
    "        outputs=outputs.numpy()\n",
    "        pred_lst.append(outputs)\n",
    "        gt_lst.append(labels)\n",
    "        del labels, outputs, images\n",
    "\n",
    "    pred_lst=np.concatenate(pred_lst, axis=0)\n",
    "    gt_lst=np.concatenate(gt_lst, axis=0)\n",
    "    pred_lst2 = np.argmax(pred_lst, axis=1)\n",
    "    gt_lst2 = np.argmax(gt_lst, axis=1)\n",
    "    fusion_matrix.update(pred_lst2, gt_lst2)\n",
    "    print(\"sensitivity-\"+str(fusion_matrix.get_rec_per_class()))\n",
    "    print(\"specicivity-\"+str(fusion_matrix.get_pre_per_class()))\n",
    "    print(\"Balanced Accuracy\")\n",
    "    print(fusion_matrix.get_balance_accuracy())\n",
    "    print(\"Confusion Matrix\")\n",
    "    print(fusion_matrix.plot_confusion_matrix())\n",
    "    print(\"f1-score\")\n",
    "    print(fusion_matrix.get_f1_score())\n",
    "    \n",
    "    #roc_auc = get_roc_auc(pred_lst, gt_lst)\n",
    "    #print(roc_auc)\n",
    "    auc_lst=[]\n",
    "    acc_lst=[]\n",
    "    for k in range(0,8):\n",
    "        tmp_gt=gt_lst[:, k]\n",
    "        tmp_pred=pred_lst[:,k]\n",
    "        tmp_acc=accuracy_score(tmp_gt, tmp_pred.round())\n",
    "        acc_lst.append(tmp_acc)\n",
    "        tmp_auc=roc_auc_score(tmp_gt, tmp_pred)\n",
    "        auc_lst.append(tmp_auc)\n",
    "\n",
    "    \n",
    "    auc_lst=np.array(auc_lst)\n",
    "    \n",
    "    acc_lst=np.array(acc_lst)\n",
    "    print(\"auc-list\")\n",
    "    print('\\n')\n",
    "    print(auc_lst)\n",
    "    print(\"accuracy-list\")\n",
    "    print('\\n')\n",
    "    print(acc_lst)\n",
    "    auc=np.mean(auc_lst)\n",
    "    acc = np.mean(acc_lst)\n",
    "    print(\"mean-auc\"+str(auc))\n",
    "    print(\"mean-auc\"+str(acc))\n",
    "    f1s=0.0\n",
    "    return auc,acc,pred_lst,gt_lst"
   ]
  },
  {
   "cell_type": "code",
   "execution_count": 14,
   "metadata": {
    "tags": []
   },
   "outputs": [
    {
     "name": "stdout",
     "output_type": "stream",
     "text": [
      "sensitivity-[1. 0. 0. 0. 0. 0. 0. 0.]\n",
      "specicivity-[0.17857143 0.         0.         0.         0.         0.\n",
      " 0.         0.        ]\n",
      "Balanced Accuracy\n",
      "0.125\n",
      "Confusion Matrix\n",
      "Figure(432x288)\n",
      "f1-score\n",
      "0.03787878787878788\n",
      "auc-list\n",
      "\n",
      "\n",
      "[0.5 0.5 0.5 0.5 0.5 0.5 0.5 0.5]\n",
      "accuracy-list\n",
      "\n",
      "\n",
      "[0.82142857 0.49172932 0.86879699 0.96578947 0.89642857 0.9906015\n",
      " 0.99003759 0.97518797]\n",
      "mean-auc0.5\n",
      "mean-auc0.875\n"
     ]
    },
    {
     "name": "stderr",
     "output_type": "stream",
     "text": [
      "/tmp/ipykernel_805/898049133.py:27: RuntimeWarning: invalid value encountered in long_scalars\n",
      "  self.matrix[i, i] / self.matrix[i, :].sum()\n",
      "/tmp/ipykernel_805/898049133.py:65: RuntimeWarning: invalid value encountered in divide\n",
      "  f1_score = 2 * (precision * recall) / (precision + recall)\n"
     ]
    },
    {
     "data": {
      "image/png": "[encoded data removed]",
      "text/plain": [
       "<Figure size 432x288 with 2 Axes>"
      ]
     },
     "metadata": {
      "needs_background": "light"
     },
     "output_type": "display_data"
    },
    {
     "name": "stdout",
     "output_type": "stream",
     "text": [
      "time: 7.55 s (started: 2022-10-30 16:21:15 +00:00)\n"
     ]
    }
   ],
   "source": [
    "auc1,acc1,pred_lst1,gt_lst1=compute_predictions(model)"
   ]
  },
  {
   "cell_type": "code",
   "execution_count": 15,
   "metadata": {
    "scrolled": true,
    "tags": []
   },
   "outputs": [
    {
     "name": "stderr",
     "output_type": "stream",
     "text": [
      "/usr/local/lib/python3.9/dist-packages/torchvision/models/_utils.py:208: UserWarning: The parameter 'pretrained' is deprecated since 0.13 and will be removed in 0.15, please use 'weights' instead.\n",
      "  warnings.warn(\n",
      "/usr/local/lib/python3.9/dist-packages/torchvision/models/_utils.py:223: UserWarning: Arguments other than a weight enum or `None` for 'weights' are deprecated since 0.13 and will be removed in 0.15. The current behavior is equivalent to passing `weights=None`.\n",
      "  warnings.warn(msg)\n"
     ]
    },
    {
     "data": {
      "text/plain": [
       "VGG(\n",
       "  (features): Sequential(\n",
       "    (0): Conv2d(3, 64, kernel_size=(3, 3), stride=(1, 1), padding=(1, 1))\n",
       "    (1): ReLU(inplace=True)\n",
       "    (2): Conv2d(64, 64, kernel_size=(3, 3), stride=(1, 1), padding=(1, 1))\n",
       "    (3): ReLU(inplace=True)\n",
       "    (4): MaxPool2d(kernel_size=2, stride=2, padding=0, dilation=1, ceil_mode=False)\n",
       "    (5): Conv2d(64, 128, kernel_size=(3, 3), stride=(1, 1), padding=(1, 1))\n",
       "    (6): ReLU(inplace=True)\n",
       "    (7): Conv2d(128, 128, kernel_size=(3, 3), stride=(1, 1), padding=(1, 1))\n",
       "    (8): ReLU(inplace=True)\n",
       "    (9): MaxPool2d(kernel_size=2, stride=2, padding=0, dilation=1, ceil_mode=False)\n",
       "    (10): Conv2d(128, 256, kernel_size=(3, 3), stride=(1, 1), padding=(1, 1))\n",
       "    (11): ReLU(inplace=True)\n",
       "    (12): Conv2d(256, 256, kernel_size=(3, 3), stride=(1, 1), padding=(1, 1))\n",
       "    (13): ReLU(inplace=True)\n",
       "    (14): Conv2d(256, 256, kernel_size=(3, 3), stride=(1, 1), padding=(1, 1))\n",
       "    (15): ReLU(inplace=True)\n",
       "    (16): Conv2d(256, 256, kernel_size=(3, 3), stride=(1, 1), padding=(1, 1))\n",
       "    (17): ReLU(inplace=True)\n",
       "    (18): MaxPool2d(kernel_size=2, stride=2, padding=0, dilation=1, ceil_mode=False)\n",
       "    (19): Conv2d(256, 512, kernel_size=(3, 3), stride=(1, 1), padding=(1, 1))\n",
       "    (20): ReLU(inplace=True)\n",
       "    (21): Conv2d(512, 512, kernel_size=(3, 3), stride=(1, 1), padding=(1, 1))\n",
       "    (22): ReLU(inplace=True)\n",
       "    (23): Conv2d(512, 512, kernel_size=(3, 3), stride=(1, 1), padding=(1, 1))\n",
       "    (24): ReLU(inplace=True)\n",
       "    (25): Conv2d(512, 512, kernel_size=(3, 3), stride=(1, 1), padding=(1, 1))\n",
       "    (26): ReLU(inplace=True)\n",
       "    (27): MaxPool2d(kernel_size=2, stride=2, padding=0, dilation=1, ceil_mode=False)\n",
       "    (28): Conv2d(512, 512, kernel_size=(3, 3), stride=(1, 1), padding=(1, 1))\n",
       "    (29): ReLU(inplace=True)\n",
       "    (30): Conv2d(512, 512, kernel_size=(3, 3), stride=(1, 1), padding=(1, 1))\n",
       "    (31): ReLU(inplace=True)\n",
       "    (32): Conv2d(512, 512, kernel_size=(3, 3), stride=(1, 1), padding=(1, 1))\n",
       "    (33): ReLU(inplace=True)\n",
       "    (34): Conv2d(512, 512, kernel_size=(3, 3), stride=(1, 1), padding=(1, 1))\n",
       "    (35): ReLU(inplace=True)\n",
       "    (36): MaxPool2d(kernel_size=2, stride=2, padding=0, dilation=1, ceil_mode=False)\n",
       "  )\n",
       "  (avgpool): AdaptiveAvgPool2d(output_size=(7, 7))\n",
       "  (classifier): Sequential(\n",
       "    (0): Linear(in_features=25088, out_features=4096, bias=True)\n",
       "    (1): ReLU(inplace=True)\n",
       "    (2): Dropout(p=0.5, inplace=False)\n",
       "    (3): Linear(in_features=4096, out_features=4096, bias=True)\n",
       "    (4): ReLU(inplace=True)\n",
       "    (5): Dropout(p=0.5, inplace=False)\n",
       "    (6): Sequential(\n",
       "      (0): Linear(in_features=4096, out_features=8, bias=True)\n",
       "      (1): Sigmoid()\n",
       "    )\n",
       "  )\n",
       ")"
      ]
     },
     "execution_count": 15,
     "metadata": {},
     "output_type": "execute_result"
    },
    {
     "name": "stdout",
     "output_type": "stream",
     "text": [
      "time: 2.63 s (started: 2022-10-30 16:21:23 +00:00)\n"
     ]
    }
   ],
   "source": [
    "model1=models.vgg19(pretrained=False)\n",
    "model1.classifier[6]=nn.Sequential(nn.Linear(4096, 8), nn.Sigmoid())\n",
    "checkpoint = torch.load('hair/vgg19-hair/resnet50_wt_epoch_9_batch_78_auc_0.5.pt')\n",
    "model1.load_state_dict(checkpoint['model_state_dict'],strict=False)\n",
    "del checkpoint\n",
    "model1.to(device)"
   ]
  },
  {
   "cell_type": "code",
   "execution_count": 16,
   "metadata": {
    "tags": []
   },
   "outputs": [
    {
     "name": "stdout",
     "output_type": "stream",
     "text": [
      "sensitivity-[1. 0. 0. 0. 0. 0. 0. 0.]\n",
      "specicivity-[0.17857143 0.         0.         0.         0.         0.\n",
      " 0.         0.        ]\n",
      "Balanced Accuracy\n",
      "0.125\n",
      "Confusion Matrix\n",
      "Figure(432x288)\n",
      "f1-score\n",
      "0.03787878787878788\n",
      "auc-list\n",
      "\n",
      "\n",
      "[0.5 0.5 0.5 0.5 0.5 0.5 0.5 0.5]\n",
      "accuracy-list\n",
      "\n",
      "\n",
      "[0.82142857 0.49172932 0.86879699 0.96578947 0.89642857 0.9906015\n",
      " 0.99003759 0.97518797]\n",
      "mean-auc0.5\n",
      "mean-auc0.875\n"
     ]
    },
    {
     "name": "stderr",
     "output_type": "stream",
     "text": [
      "/tmp/ipykernel_805/898049133.py:27: RuntimeWarning: invalid value encountered in long_scalars\n",
      "  self.matrix[i, i] / self.matrix[i, :].sum()\n",
      "/tmp/ipykernel_805/898049133.py:65: RuntimeWarning: invalid value encountered in divide\n",
      "  f1_score = 2 * (precision * recall) / (precision + recall)\n"
     ]
    },
    {
     "data": {
      "image/png": "[encoded data removed]",
      "text/plain": [
       "<Figure size 432x288 with 2 Axes>"
      ]
     },
     "metadata": {
      "needs_background": "light"
     },
     "output_type": "display_data"
    },
    {
     "name": "stdout",
     "output_type": "stream",
     "text": [
      "time: 6.06 s (started: 2022-10-30 16:21:26 +00:00)\n"
     ]
    }
   ],
   "source": [
    "auc1,acc1,pred_lst1,gt_lst1=compute_predictions(model1)"
   ]
  },
  {
   "cell_type": "code",
   "execution_count": 17,
   "metadata": {},
   "outputs": [
    {
     "name": "stdout",
     "output_type": "stream",
     "text": [
      "Computing Test Predictions\n",
      "\n",
      "\n",
      "[0.5 0.5 0.5 0.5 0.5 0.5 0.5 0.5]\n",
      "\n",
      "\n",
      "[0.82142857 0.49172932 0.86879699 0.96578947 0.89642857 0.9906015\n",
      " 0.99003759 0.97518797]\n",
      "0.5\n",
      "0.875\n",
      "\n",
      "\n",
      "[0.5 0.5 0.5 0.5 0.5 0.5 0.5 0.5]\n",
      "\n",
      "\n",
      "[0.82142857 0.49172932 0.86879699 0.96578947 0.89642857 0.9906015\n",
      " 0.99003759 0.97518797]\n",
      "0.5\n",
      "0.875\n",
      "auc-list\n",
      "\n",
      "\n",
      "[0.5 0.5 0.5 0.5 0.5 0.5 0.5 0.5]\n",
      "accuracy-list\n",
      "\n",
      "\n",
      "[0.82142857 0.49172932 0.86879699 0.96578947 0.89642857 0.9906015\n",
      " 0.99003759 0.97518797]\n",
      "mean-auc0.5\n",
      "mean-auc0.875\n",
      "sensitivity-[1. 0. 0. 0. 0. 0. 0. 0.]\n",
      "specicivity-[0.17857143 0.         0.         0.         0.         0.\n",
      " 0.         0.        ]\n",
      "Balanced Accuracy\n",
      "0.125\n",
      "Confusion Matrix\n",
      "Figure(432x288)\n",
      "f1-score\n",
      "0.03787878787878788\n"
     ]
    },
    {
     "name": "stderr",
     "output_type": "stream",
     "text": [
      "/tmp/ipykernel_805/898049133.py:27: RuntimeWarning: invalid value encountered in long_scalars\n",
      "  self.matrix[i, i] / self.matrix[i, :].sum()\n",
      "/tmp/ipykernel_805/898049133.py:65: RuntimeWarning: invalid value encountered in divide\n",
      "  f1_score = 2 * (precision * recall) / (precision + recall)\n"
     ]
    },
    {
     "data": {
      "image/png": "[encoded data removed]",
      "text/plain": [
       "<Figure size 432x288 with 2 Axes>"
      ]
     },
     "metadata": {
      "needs_background": "light"
     },
     "output_type": "display_data"
    },
    {
     "name": "stdout",
     "output_type": "stream",
     "text": [
      "time: 10.5 s (started: 2022-10-30 16:21:32 +00:00)\n"
     ]
    }
   ],
   "source": [
    "from tqdm._tqdm_notebook import tqdm_notebook\n",
    "def compute_predictions(model):\n",
    "    model.eval()\n",
    "    pred_lst4=[]\n",
    "    gt_lst4=[]\n",
    "    for i, sample in enumerate(dataloaders['val']):    \n",
    "        images=sample['image']\n",
    "        labels=sample['target']\n",
    "        del sample\n",
    "        images = images.to(device)\n",
    "        labels=labels.numpy()\n",
    "        outputs=model(images)\n",
    "        outputs=outputs.detach()\n",
    "        outputs=outputs.cpu()\n",
    "        outputs=outputs.numpy()\n",
    "        pred_lst4.append(outputs)\n",
    "        gt_lst4.append(labels)\n",
    "        del labels, outputs, images\n",
    "\n",
    "    pred_lst=np.concatenate(pred_lst4, axis=0)\n",
    "    gt_lst=np.concatenate(gt_lst4, axis=0)\n",
    "    auc_lst=[]\n",
    "    acc_lst=[]\n",
    "    for k in range(0,8):\n",
    "        tmp_gt=gt_lst[:, k]\n",
    "        tmp_pred=pred_lst[:,k]\n",
    "        tmp_acc=accuracy_score(tmp_gt, tmp_pred.round())\n",
    "        acc_lst.append(tmp_acc)\n",
    "        tmp_auc=roc_auc_score(tmp_gt, tmp_pred)\n",
    "        auc_lst.append(tmp_auc)\n",
    "\n",
    "    auc_lst=np.array(auc_lst)\n",
    "    acc_lst=np.array(acc_lst)\n",
    "    print('\\n')\n",
    "    print(auc_lst)\n",
    "    print('\\n')\n",
    "    print(acc_lst)\n",
    "    auc=np.mean(auc_lst)\n",
    "    acc = np.mean(acc_lst)\n",
    "    print(auc)\n",
    "    print(acc)\n",
    "    f1s=0.0\n",
    "    return auc,acc,pred_lst,gt_lst\n",
    "\n",
    "print('Computing Test Predictions')\n",
    "auc1,acc1,pred_lst1,gt_lst1 = compute_predictions(model)\n",
    "auc2,acc2,pred_lst2,gt_lst2 = compute_predictions(model1)\n",
    "\n",
    "pred_lst = (pred_lst1+pred_lst2)/2\n",
    "gt_lst = (gt_lst1+gt_lst2)/2\n",
    "fusion_matrix = FusionMatrix(8)\n",
    "\n",
    "auc_lst=[]\n",
    "acc_lst=[]\n",
    "for k in range(0,8):\n",
    "    tmp_gt=gt_lst[:, k]\n",
    "    tmp_pred=pred_lst[:,k]\n",
    "    tmp_acc=accuracy_score(tmp_gt, tmp_pred.round())\n",
    "    acc_lst.append(tmp_acc)\n",
    "    tmp_auc=roc_auc_score(tmp_gt, tmp_pred)\n",
    "    auc_lst.append(tmp_auc)\n",
    "\n",
    "\n",
    "auc_lst=np.array(auc_lst)\n",
    "\n",
    "acc_lst=np.array(acc_lst)\n",
    "print(\"auc-list\")\n",
    "print('\\n')\n",
    "print(auc_lst)\n",
    "print(\"accuracy-list\")\n",
    "print('\\n')\n",
    "print(acc_lst)\n",
    "auc=np.mean(auc_lst)\n",
    "acc = np.mean(acc_lst)\n",
    "print(\"mean-auc\"+str(auc))\n",
    "print(\"mean-auc\"+str(acc))\n",
    "\n",
    "#pred_lst=np.concatenate(pred_lst, axis=0)\n",
    "#gt_lst=np.concatenate(gt_lst, axis=0)\n",
    "pred_lst2 = np.argmax(pred_lst, axis=1)\n",
    "gt_lst2 = np.argmax(gt_lst, axis=1)\n",
    "fusion_matrix.update(pred_lst2, gt_lst2)\n",
    "print(\"sensitivity-\"+str(fusion_matrix.get_rec_per_class()))\n",
    "print(\"specicivity-\"+str(fusion_matrix.get_pre_per_class()))\n",
    "print(\"Balanced Accuracy\")\n",
    "print(fusion_matrix.get_balance_accuracy())\n",
    "print(\"Confusion Matrix\")\n",
    "print(fusion_matrix.plot_confusion_matrix())\n",
    "print(\"f1-score\")\n",
    "print(fusion_matrix.get_f1_score())\n",
    "\n",
    "#roc_auc = get_roc_auc(pred_lst, gt_lst)\n",
    "#print(roc_auc)\n"
   ]
  },
  {
   "cell_type": "code",
   "execution_count": 18,
   "metadata": {
    "tags": []
   },
   "outputs": [
    {
     "name": "stdout",
     "output_type": "stream",
     "text": [
      "time: 737 ms (started: 2022-10-30 16:21:42 +00:00)\n"
     ]
    }
   ],
   "source": [
    "#helper function\n",
    "def get_label(row):\n",
    "  for c in labels.columns:\n",
    "    if row[c]==1:\n",
    "      return c\n",
    "\n",
    "labels = pd.read_csv('ISIC_2019_Training_GroundTruth.csv')\n",
    "labels['l']=labels.apply(get_label, axis=1)\n",
    "X=labels.drop(['l','UNK'], axis=1)\n",
    "y = labels['l']\n",
    "X_train, X_test, y_train, y_test = train_test_split(X,y, test_size=0.21, random_state=42,stratify=y)\n",
    "X_train['image'] = 'preprocessed-segment/'+X_train['image']+ '.jpg'\n",
    "X_test['image'] = 'preprocessed-segment/'+X_test['image']+ '.jpg'\n",
    "X_test.to_csv('validation.csv', index=False)\n",
    "X_train.to_csv('training.csv', index=False)\n",
    "train_path = 'training.csv'\n",
    "class_path = 'validation_class.csv'\n",
    "eval_path = 'validation.csv'\n",
    "train_img_path = 'preprocessed-segment'\n"
   ]
  },
  {
   "cell_type": "code",
   "execution_count": 19,
   "metadata": {
    "tags": []
   },
   "outputs": [
    {
     "name": "stdout",
     "output_type": "stream",
     "text": [
      "time: 1.7 ms (started: 2022-10-30 16:21:43 +00:00)\n"
     ]
    }
   ],
   "source": [
    "class_names = ['MEL', 'NV', 'BCC', 'AK', 'BKL', 'DF', 'VASC', 'SCC', 'UNK']\n",
    "\n",
    "def read_object_labels_csv(file,phase, header=True):\n",
    "    img_t=[]\n",
    "    if phase == 'Train':\n",
    "      dir = 'training.csv'\n",
    "    elif phase == \"Valid\":\n",
    "      dir = 'validation.csv'\n",
    "    with open(dir, \"r\") as f:\n",
    "        csvReader = csv.reader(f)\n",
    "        next(csvReader, None)\n",
    "        k=0\n",
    "        for line in csvReader:\n",
    "            k+=1\n",
    "            image_name= line[0]\n",
    "            label = line[1:9]\n",
    "            label = torch.from_numpy(np.array(label, dtype=np.float64))\n",
    "            item = (image_name,label)\n",
    "            img_t.append(item)\n",
    "    return img_t\n",
    "\n",
    "\n",
    "class CHEXPERT(Dataset):\n",
    "    def __init__(self, root, phase, csv_path,transform=None):\n",
    "        self.root = os.path.abspath(root)\n",
    "        self.phase = phase\n",
    "        self.transform = transform\n",
    "        self.path_images = self.root\n",
    "        file_csv = pd.read_csv(csv_path)\n",
    "        self.classes = class_names\n",
    "        self.images = read_object_labels_csv(file_csv,phase)\n",
    "        print('[dataset] classification phase={} number of classes={}  number of images={}'.format(phase, len(self.classes), len(self.images)))\n",
    "\n",
    "    def __getitem__(self, index):\n",
    "        filename, target = self.images[index]\n",
    "        filename = filename\n",
    "        img = Image.open(filename).convert('RGB')\n",
    "        if self.transform is not None:\n",
    "            img = self.transform(img)\n",
    "        \n",
    "        data = {'image':img, 'target': target}\n",
    "        return data\n",
    "\n",
    "    def __len__(self):\n",
    "        return len(self.images)\n",
    "\n",
    "    def get_number_classes(self):\n",
    "        return len(self.classes)\n"
   ]
  },
  {
   "cell_type": "code",
   "execution_count": 20,
   "metadata": {
    "tags": []
   },
   "outputs": [
    {
     "name": "stdout",
     "output_type": "stream",
     "text": [
      "[dataset] classification phase=Train number of classes=9  number of images=20011\n",
      "[dataset] classification phase=Valid number of classes=9  number of images=5320\n",
      "time: 153 ms (started: 2022-10-30 16:21:43 +00:00)\n"
     ]
    }
   ],
   "source": [
    "data_transforms = {\n",
    "    'train': transforms.Compose([\n",
    "        transforms.Resize((224,224)),\n",
    "        transforms.RandomHorizontalFlip(),\n",
    "        transforms.ToTensor(),\n",
    "        transforms.Normalize([0.485, 0.456, 0.406], [0.229, 0.224, 0.225])\n",
    "    ]),\n",
    "    'val': transforms.Compose([\n",
    "        transforms.Resize((224,224)),\n",
    "        transforms.ToTensor(),\n",
    "        transforms.Normalize([0.485, 0.456, 0.406], [0.229, 0.224, 0.225])\n",
    "    ]),\n",
    "}\n",
    "train_dataset = CHEXPERT(train_img_path, transform=data_transforms['train'], phase='Train',csv_path=train_path)\n",
    "val_dataset = CHEXPERT(train_img_path, transform=data_transforms['val'],phase='Valid',csv_path=eval_path)\n",
    "\n",
    "image_datasets ={'train': train_dataset, 'val': val_dataset}\n",
    "dataloaders = {x: torch.utils.data.DataLoader(image_datasets[x], batch_size=16,shuffle=False, num_workers=2)for x in ['train', 'val']}\n",
    "dataset_sizes = {x: len(image_datasets[x]) for x in ['train', 'val']}"
   ]
  },
  {
   "cell_type": "code",
   "execution_count": 21,
   "metadata": {
    "tags": []
   },
   "outputs": [
    {
     "data": {
      "image/png": "[encoded data removed]",
      "text/plain": [
       "<Figure size 432x288 with 1 Axes>"
      ]
     },
     "metadata": {
      "needs_background": "light"
     },
     "output_type": "display_data"
    },
    {
     "name": "stdout",
     "output_type": "stream",
     "text": [
      "time: 570 ms (started: 2022-10-30 16:21:43 +00:00)\n"
     ]
    }
   ],
   "source": [
    "def imshow(inp, title=None):\n",
    "    inp = inp.numpy().transpose((1, 2, 0))\n",
    "    mean = np.array([0.6678, 0.5298, 0.5245])\n",
    "    std = np.array([0.1333, 0.1476, 0.1590])\n",
    "    inp = std * inp + mean\n",
    "    inp = np.clip(inp, 0, 1)\n",
    "    plt.imshow(inp)\n",
    "    if title is not None:\n",
    "        plt.title(title)\n",
    "    plt.pause(0.001)  # pause a bit so that plots are updated\n",
    "\n",
    "\n",
    "# Get a batch of training data\n",
    "data = next(iter(dataloaders['train']))\n",
    "ps = data['target'].numpy()\n",
    "l = np.where(ps==1.0)\n",
    "l = l[1].astype(int)\n",
    "# Make a grid from batch\n",
    "out = torchvision.utils.make_grid(data['image'])\n",
    "imshow(out, title=[class_names[x] for x in l])"
   ]
  },
  {
   "cell_type": "code",
   "execution_count": 22,
   "metadata": {},
   "outputs": [
    {
     "name": "stdout",
     "output_type": "stream",
     "text": [
      "time: 2.44 ms (started: 2022-10-30 16:21:44 +00:00)\n"
     ]
    }
   ],
   "source": [
    "from tqdm._tqdm_notebook import tqdm_notebook\n",
    "def compute_predictions(model):\n",
    "    model.eval()\n",
    "    fusion_matrix = FusionMatrix(8)\n",
    "    pred_lst=[]\n",
    "    gt_lst=[]\n",
    "    for i, sample in enumerate(dataloaders['val']):    \n",
    "        images=sample['image']\n",
    "        labels=sample['target']\n",
    "        del sample\n",
    "        images = images.to(device)\n",
    "        labels=labels.numpy()\n",
    "        outputs=model(images)\n",
    "        outputs=outputs.detach()\n",
    "        outputs=outputs.cpu()\n",
    "        outputs=outputs.numpy()\n",
    "        pred_lst.append(outputs)\n",
    "        gt_lst.append(labels)\n",
    "        del labels, outputs, images\n",
    "\n",
    "    pred_lst=np.concatenate(pred_lst, axis=0)\n",
    "    gt_lst=np.concatenate(gt_lst, axis=0)\n",
    "    pred_lst2 = np.argmax(pred_lst, axis=1)\n",
    "    gt_lst2 = np.argmax(gt_lst, axis=1)\n",
    "    fusion_matrix.update(pred_lst2, gt_lst2)\n",
    "    print(\"sensitivity-\"+str(fusion_matrix.get_rec_per_class()))\n",
    "    print(\"specicivity-\"+str(fusion_matrix.get_pre_per_class()))\n",
    "    print(\"Balanced Accuracy\")\n",
    "    print(fusion_matrix.get_balance_accuracy())\n",
    "    print(\"Confusion Matrix\")\n",
    "    print(fusion_matrix.plot_confusion_matrix())\n",
    "    print(\"f1-score\")\n",
    "    print(fusion_matrix.get_f1_score())\n",
    "    \n",
    "    #roc_auc = get_roc_auc(pred_lst, gt_lst)\n",
    "    #print(roc_auc)\n",
    "    auc_lst=[]\n",
    "    acc_lst=[]\n",
    "    for k in range(0,8):\n",
    "        tmp_gt=gt_lst[:, k]\n",
    "        tmp_pred=pred_lst[:,k]\n",
    "        tmp_acc=accuracy_score(tmp_gt, tmp_pred.round())\n",
    "        acc_lst.append(tmp_acc)\n",
    "        tmp_auc=roc_auc_score(tmp_gt, tmp_pred)\n",
    "        auc_lst.append(tmp_auc)\n",
    "\n",
    "    \n",
    "    auc_lst=np.array(auc_lst)\n",
    "    \n",
    "    acc_lst=np.array(acc_lst)\n",
    "    print(\"auc-list\")\n",
    "    print('\\n')\n",
    "    print(auc_lst)\n",
    "    print(\"accuracy-list\")\n",
    "    print('\\n')\n",
    "    print(acc_lst)\n",
    "    auc=np.mean(auc_lst)\n",
    "    acc = np.mean(acc_lst)\n",
    "    print(\"mean-auc\"+str(auc))\n",
    "    print(\"mean-auc\"+str(acc))\n",
    "    f1s=0.0\n",
    "    return auc,acc,pred_lst,gt_lst"
   ]
  },
  {
   "cell_type": "code",
   "execution_count": 23,
   "metadata": {
    "scrolled": true,
    "tags": []
   },
   "outputs": [
    {
     "name": "stderr",
     "output_type": "stream",
     "text": [
      "/usr/local/lib/python3.9/dist-packages/torchvision/models/_utils.py:208: UserWarning: The parameter 'pretrained' is deprecated since 0.13 and will be removed in 0.15, please use 'weights' instead.\n",
      "  warnings.warn(\n",
      "/usr/local/lib/python3.9/dist-packages/torchvision/models/_utils.py:223: UserWarning: Arguments other than a weight enum or `None` for 'weights' are deprecated since 0.13 and will be removed in 0.15. The current behavior is equivalent to passing `weights=None`.\n",
      "  warnings.warn(msg)\n"
     ]
    },
    {
     "data": {
      "text/plain": [
       "VGG(\n",
       "  (features): Sequential(\n",
       "    (0): Conv2d(3, 64, kernel_size=(3, 3), stride=(1, 1), padding=(1, 1))\n",
       "    (1): ReLU(inplace=True)\n",
       "    (2): Conv2d(64, 64, kernel_size=(3, 3), stride=(1, 1), padding=(1, 1))\n",
       "    (3): ReLU(inplace=True)\n",
       "    (4): MaxPool2d(kernel_size=2, stride=2, padding=0, dilation=1, ceil_mode=False)\n",
       "    (5): Conv2d(64, 128, kernel_size=(3, 3), stride=(1, 1), padding=(1, 1))\n",
       "    (6): ReLU(inplace=True)\n",
       "    (7): Conv2d(128, 128, kernel_size=(3, 3), stride=(1, 1), padding=(1, 1))\n",
       "    (8): ReLU(inplace=True)\n",
       "    (9): MaxPool2d(kernel_size=2, stride=2, padding=0, dilation=1, ceil_mode=False)\n",
       "    (10): Conv2d(128, 256, kernel_size=(3, 3), stride=(1, 1), padding=(1, 1))\n",
       "    (11): ReLU(inplace=True)\n",
       "    (12): Conv2d(256, 256, kernel_size=(3, 3), stride=(1, 1), padding=(1, 1))\n",
       "    (13): ReLU(inplace=True)\n",
       "    (14): Conv2d(256, 256, kernel_size=(3, 3), stride=(1, 1), padding=(1, 1))\n",
       "    (15): ReLU(inplace=True)\n",
       "    (16): Conv2d(256, 256, kernel_size=(3, 3), stride=(1, 1), padding=(1, 1))\n",
       "    (17): ReLU(inplace=True)\n",
       "    (18): MaxPool2d(kernel_size=2, stride=2, padding=0, dilation=1, ceil_mode=False)\n",
       "    (19): Conv2d(256, 512, kernel_size=(3, 3), stride=(1, 1), padding=(1, 1))\n",
       "    (20): ReLU(inplace=True)\n",
       "    (21): Conv2d(512, 512, kernel_size=(3, 3), stride=(1, 1), padding=(1, 1))\n",
       "    (22): ReLU(inplace=True)\n",
       "    (23): Conv2d(512, 512, kernel_size=(3, 3), stride=(1, 1), padding=(1, 1))\n",
       "    (24): ReLU(inplace=True)\n",
       "    (25): Conv2d(512, 512, kernel_size=(3, 3), stride=(1, 1), padding=(1, 1))\n",
       "    (26): ReLU(inplace=True)\n",
       "    (27): MaxPool2d(kernel_size=2, stride=2, padding=0, dilation=1, ceil_mode=False)\n",
       "    (28): Conv2d(512, 512, kernel_size=(3, 3), stride=(1, 1), padding=(1, 1))\n",
       "    (29): ReLU(inplace=True)\n",
       "    (30): Conv2d(512, 512, kernel_size=(3, 3), stride=(1, 1), padding=(1, 1))\n",
       "    (31): ReLU(inplace=True)\n",
       "    (32): Conv2d(512, 512, kernel_size=(3, 3), stride=(1, 1), padding=(1, 1))\n",
       "    (33): ReLU(inplace=True)\n",
       "    (34): Conv2d(512, 512, kernel_size=(3, 3), stride=(1, 1), padding=(1, 1))\n",
       "    (35): ReLU(inplace=True)\n",
       "    (36): MaxPool2d(kernel_size=2, stride=2, padding=0, dilation=1, ceil_mode=False)\n",
       "  )\n",
       "  (avgpool): AdaptiveAvgPool2d(output_size=(7, 7))\n",
       "  (classifier): Sequential(\n",
       "    (0): Linear(in_features=25088, out_features=4096, bias=True)\n",
       "    (1): ReLU(inplace=True)\n",
       "    (2): Dropout(p=0.5, inplace=False)\n",
       "    (3): Linear(in_features=4096, out_features=4096, bias=True)\n",
       "    (4): ReLU(inplace=True)\n",
       "    (5): Dropout(p=0.5, inplace=False)\n",
       "    (6): Sequential(\n",
       "      (0): Linear(in_features=4096, out_features=8, bias=True)\n",
       "      (1): Sigmoid()\n",
       "    )\n",
       "  )\n",
       ")"
      ]
     },
     "execution_count": 23,
     "metadata": {},
     "output_type": "execute_result"
    },
    {
     "name": "stdout",
     "output_type": "stream",
     "text": [
      "time: 2.07 s (started: 2022-10-30 16:21:44 +00:00)\n"
     ]
    }
   ],
   "source": [
    "model=models.vgg19(pretrained=False)\n",
    "model.classifier[6]=nn.Sequential(nn.Linear(4096, 8), nn.Sigmoid())\n",
    "checkpoint = torch.load('segment/vit32b-segment/resnet50_wt_epoch_3_batch_78_auc_0.6642.pt')\n",
    "model.load_state_dict(checkpoint['model_state_dict'],strict=False)\n",
    "del checkpoint\n",
    "model.to(device)"
   ]
  },
  {
   "cell_type": "code",
   "execution_count": 24,
   "metadata": {
    "tags": []
   },
   "outputs": [
    {
     "name": "stdout",
     "output_type": "stream",
     "text": [
      "sensitivity-[0.99684211 0.         0.         0.         0.         0.\n",
      " 0.         0.00757576]\n",
      "specicivity-[0.17814146 0.         0.         0.         0.         0.\n",
      " 0.         0.33333333]\n",
      "Balanced Accuracy\n",
      "0.12555223285486444\n",
      "Confusion Matrix\n",
      "Figure(432x288)\n",
      "f1-score\n",
      "0.03963512666832169\n",
      "auc-list\n",
      "\n",
      "\n",
      "[0.45301722 0.50385833 0.5021273  0.58032961 0.47729476 0.49445161\n",
      " 0.45003421 0.52374214]\n",
      "accuracy-list\n",
      "\n",
      "\n",
      "[0.17857143 0.49116541 0.13120301 0.96015038 0.89454887 0.00977444\n",
      " 0.09718045 0.02481203]\n",
      "mean-auc0.49810689726939283\n",
      "mean-auc0.34842575187969926\n"
     ]
    },
    {
     "name": "stderr",
     "output_type": "stream",
     "text": [
      "/tmp/ipykernel_805/898049133.py:27: RuntimeWarning: invalid value encountered in long_scalars\n",
      "  self.matrix[i, i] / self.matrix[i, :].sum()\n",
      "/tmp/ipykernel_805/898049133.py:65: RuntimeWarning: invalid value encountered in divide\n",
      "  f1_score = 2 * (precision * recall) / (precision + recall)\n"
     ]
    },
    {
     "data": {
      "image/png": "[encoded data removed]",
      "text/plain": [
       "<Figure size 432x288 with 2 Axes>"
      ]
     },
     "metadata": {
      "needs_background": "light"
     },
     "output_type": "display_data"
    },
    {
     "name": "stdout",
     "output_type": "stream",
     "text": [
      "time: 7.69 s (started: 2022-10-30 16:21:46 +00:00)\n"
     ]
    }
   ],
   "source": [
    "auc1,acc1,pred_lst1,gt_lst1=compute_predictions(model)"
   ]
  },
  {
   "cell_type": "code",
   "execution_count": 26,
   "metadata": {
    "scrolled": true
   },
   "outputs": [
    {
     "data": {
      "text/plain": [
       "VGG(\n",
       "  (features): Sequential(\n",
       "    (0): Conv2d(3, 64, kernel_size=(3, 3), stride=(1, 1), padding=(1, 1))\n",
       "    (1): ReLU(inplace=True)\n",
       "    (2): Conv2d(64, 64, kernel_size=(3, 3), stride=(1, 1), padding=(1, 1))\n",
       "    (3): ReLU(inplace=True)\n",
       "    (4): MaxPool2d(kernel_size=2, stride=2, padding=0, dilation=1, ceil_mode=False)\n",
       "    (5): Conv2d(64, 128, kernel_size=(3, 3), stride=(1, 1), padding=(1, 1))\n",
       "    (6): ReLU(inplace=True)\n",
       "    (7): Conv2d(128, 128, kernel_size=(3, 3), stride=(1, 1), padding=(1, 1))\n",
       "    (8): ReLU(inplace=True)\n",
       "    (9): MaxPool2d(kernel_size=2, stride=2, padding=0, dilation=1, ceil_mode=False)\n",
       "    (10): Conv2d(128, 256, kernel_size=(3, 3), stride=(1, 1), padding=(1, 1))\n",
       "    (11): ReLU(inplace=True)\n",
       "    (12): Conv2d(256, 256, kernel_size=(3, 3), stride=(1, 1), padding=(1, 1))\n",
       "    (13): ReLU(inplace=True)\n",
       "    (14): Conv2d(256, 256, kernel_size=(3, 3), stride=(1, 1), padding=(1, 1))\n",
       "    (15): ReLU(inplace=True)\n",
       "    (16): Conv2d(256, 256, kernel_size=(3, 3), stride=(1, 1), padding=(1, 1))\n",
       "    (17): ReLU(inplace=True)\n",
       "    (18): MaxPool2d(kernel_size=2, stride=2, padding=0, dilation=1, ceil_mode=False)\n",
       "    (19): Conv2d(256, 512, kernel_size=(3, 3), stride=(1, 1), padding=(1, 1))\n",
       "    (20): ReLU(inplace=True)\n",
       "    (21): Conv2d(512, 512, kernel_size=(3, 3), stride=(1, 1), padding=(1, 1))\n",
       "    (22): ReLU(inplace=True)\n",
       "    (23): Conv2d(512, 512, kernel_size=(3, 3), stride=(1, 1), padding=(1, 1))\n",
       "    (24): ReLU(inplace=True)\n",
       "    (25): Conv2d(512, 512, kernel_size=(3, 3), stride=(1, 1), padding=(1, 1))\n",
       "    (26): ReLU(inplace=True)\n",
       "    (27): MaxPool2d(kernel_size=2, stride=2, padding=0, dilation=1, ceil_mode=False)\n",
       "    (28): Conv2d(512, 512, kernel_size=(3, 3), stride=(1, 1), padding=(1, 1))\n",
       "    (29): ReLU(inplace=True)\n",
       "    (30): Conv2d(512, 512, kernel_size=(3, 3), stride=(1, 1), padding=(1, 1))\n",
       "    (31): ReLU(inplace=True)\n",
       "    (32): Conv2d(512, 512, kernel_size=(3, 3), stride=(1, 1), padding=(1, 1))\n",
       "    (33): ReLU(inplace=True)\n",
       "    (34): Conv2d(512, 512, kernel_size=(3, 3), stride=(1, 1), padding=(1, 1))\n",
       "    (35): ReLU(inplace=True)\n",
       "    (36): MaxPool2d(kernel_size=2, stride=2, padding=0, dilation=1, ceil_mode=False)\n",
       "  )\n",
       "  (avgpool): AdaptiveAvgPool2d(output_size=(7, 7))\n",
       "  (classifier): Sequential(\n",
       "    (0): Linear(in_features=25088, out_features=4096, bias=True)\n",
       "    (1): ReLU(inplace=True)\n",
       "    (2): Dropout(p=0.5, inplace=False)\n",
       "    (3): Linear(in_features=4096, out_features=4096, bias=True)\n",
       "    (4): ReLU(inplace=True)\n",
       "    (5): Dropout(p=0.5, inplace=False)\n",
       "    (6): Sequential(\n",
       "      (0): Linear(in_features=4096, out_features=8, bias=True)\n",
       "      (1): Sigmoid()\n",
       "    )\n",
       "  )\n",
       ")"
      ]
     },
     "execution_count": 26,
     "metadata": {},
     "output_type": "execute_result"
    },
    {
     "name": "stdout",
     "output_type": "stream",
     "text": [
      "time: 5.66 s (started: 2022-10-30 16:22:21 +00:00)\n"
     ]
    }
   ],
   "source": [
    "model1=models.vgg19(pretrained=False)\n",
    "model1.classifier[6]=nn.Sequential(nn.Linear(4096, 8), nn.Sigmoid())\n",
    "checkpoint = torch.load('segment/vit32b-segment/resnet50_wt_epoch_9_batch_78_auc_0.6816.pt')\n",
    "model1.load_state_dict(checkpoint['model_state_dict'],strict=False)\n",
    "del checkpoint\n",
    "model1.to(device)"
   ]
  },
  {
   "cell_type": "code",
   "execution_count": 27,
   "metadata": {},
   "outputs": [
    {
     "name": "stdout",
     "output_type": "stream",
     "text": [
      "sensitivity-[0.82421053 0.01257396 0.         0.02747253 0.         0.08\n",
      " 0.01886792 0.09848485]\n",
      "specicivity-[0.17223933 0.37362637 0.         0.03597122 0.         0.03125\n",
      " 0.00746269 0.04609929]\n",
      "Balanced Accuracy\n",
      "0.1327012239123136\n",
      "Confusion Matrix\n",
      "Figure(432x288)\n",
      "f1-score\n",
      "0.057357155595274524\n",
      "auc-list\n",
      "\n",
      "\n",
      "[0.4277649  0.54157025 0.52681736 0.35115162 0.50500206 0.56052941\n",
      " 0.59233175 0.55652394]\n",
      "accuracy-list\n",
      "\n",
      "\n",
      "[0.17857143 0.50827068 0.86879699 0.03421053 0.89492481 0.00958647\n",
      " 0.00996241 0.02481203]\n",
      "mean-auc0.5077114128124576\n",
      "mean-auc0.3161419172932331\n"
     ]
    },
    {
     "name": "stderr",
     "output_type": "stream",
     "text": [
      "/tmp/ipykernel_805/898049133.py:27: RuntimeWarning: invalid value encountered in long_scalars\n",
      "  self.matrix[i, i] / self.matrix[i, :].sum()\n",
      "/tmp/ipykernel_805/898049133.py:65: RuntimeWarning: invalid value encountered in divide\n",
      "  f1_score = 2 * (precision * recall) / (precision + recall)\n"
     ]
    },
    {
     "data": {
      "image/png": "[encoded data removed]",
      "text/plain": [
       "<Figure size 432x288 with 2 Axes>"
      ]
     },
     "metadata": {
      "needs_background": "light"
     },
     "output_type": "display_data"
    },
    {
     "name": "stdout",
     "output_type": "stream",
     "text": [
      "time: 5.48 s (started: 2022-10-30 16:22:27 +00:00)\n"
     ]
    }
   ],
   "source": [
    "auc1,acc1,pred_lst1,gt_lst1=compute_predictions(model1)"
   ]
  },
  {
   "cell_type": "code",
   "execution_count": 28,
   "metadata": {},
   "outputs": [
    {
     "name": "stdout",
     "output_type": "stream",
     "text": [
      "time: 1.21 ms (started: 2022-10-30 16:22:32 +00:00)\n"
     ]
    }
   ],
   "source": [
    "from tqdm._tqdm_notebook import tqdm_notebook\n",
    "def compute_predictions(model):\n",
    "    model.eval()\n",
    "    pred_lst4=[]\n",
    "    gt_lst4=[]\n",
    "    for i, sample in enumerate(dataloaders['val']):    \n",
    "        images=sample['image']\n",
    "        labels=sample['target']\n",
    "        del sample\n",
    "        images = images.to(device)\n",
    "        labels=labels.numpy()\n",
    "        outputs=model(images)\n",
    "        outputs=outputs.detach()\n",
    "        outputs=outputs.cpu()\n",
    "        outputs=outputs.numpy()\n",
    "        pred_lst4.append(outputs)\n",
    "        gt_lst4.append(labels)\n",
    "        del labels, outputs, images\n",
    "\n",
    "    pred_lst=np.concatenate(pred_lst4, axis=0)\n",
    "    gt_lst=np.concatenate(gt_lst4, axis=0)\n",
    "    auc_lst=[]\n",
    "    acc_lst=[]\n",
    "    for k in range(0,8):\n",
    "        tmp_gt=gt_lst[:, k]\n",
    "        tmp_pred=pred_lst[:,k]\n",
    "        tmp_acc=accuracy_score(tmp_gt, tmp_pred.round())\n",
    "        acc_lst.append(tmp_acc)\n",
    "        tmp_auc=roc_auc_score(tmp_gt, tmp_pred)\n",
    "        auc_lst.append(tmp_auc)\n",
    "\n",
    "    auc_lst=np.array(auc_lst)\n",
    "    acc_lst=np.array(acc_lst)\n",
    "    print('\\n')\n",
    "    print(auc_lst)\n",
    "    print('\\n')\n",
    "    print(acc_lst)\n",
    "    auc=np.mean(auc_lst)\n",
    "    acc = np.mean(acc_lst)\n",
    "    print(auc)\n",
    "    print(acc)\n",
    "    f1s=0.0\n",
    "    return auc,acc,pred_lst,gt_lst"
   ]
  },
  {
   "cell_type": "code",
   "execution_count": 29,
   "metadata": {},
   "outputs": [
    {
     "name": "stdout",
     "output_type": "stream",
     "text": [
      "Computing Test Predictions\n",
      "\n",
      "\n",
      "[0.45301722 0.50385833 0.5021273  0.58032961 0.47729476 0.49445161\n",
      " 0.45003421 0.52374214]\n",
      "\n",
      "\n",
      "[0.17857143 0.49116541 0.13120301 0.96015038 0.89454887 0.00977444\n",
      " 0.09718045 0.02481203]\n",
      "0.49810689726939283\n",
      "0.34842575187969926\n",
      "\n",
      "\n",
      "[0.4277649  0.54157025 0.52681736 0.35115162 0.50500206 0.56052941\n",
      " 0.59233175 0.55652394]\n",
      "\n",
      "\n",
      "[0.17857143 0.50827068 0.86879699 0.03421053 0.89492481 0.00958647\n",
      " 0.00996241 0.02481203]\n",
      "0.5077114128124576\n",
      "0.3161419172932331\n",
      "time: 10.2 s (started: 2022-10-30 16:22:32 +00:00)\n"
     ]
    }
   ],
   "source": [
    "print('Computing Test Predictions')\n",
    "auc1,acc1,pred_lst1,gt_lst1 = compute_predictions(model)\n",
    "auc2,acc2,pred_lst2,gt_lst2 = compute_predictions(model1)"
   ]
  },
  {
   "cell_type": "code",
   "execution_count": 30,
   "metadata": {},
   "outputs": [
    {
     "name": "stdout",
     "output_type": "stream",
     "text": [
      "auc-list\n",
      "\n",
      "\n",
      "[0.42694339 0.52375    0.5234113  0.41197456 0.49846825 0.54514991\n",
      " 0.54697816 0.54892701]\n",
      "accuracy-list\n",
      "\n",
      "\n",
      "[0.17857143 0.50977444 0.86165414 0.0343985  0.89642857 0.0093985\n",
      " 0.00996241 0.02481203]\n",
      "mean-auc0.5032003218323582\n",
      "mean-auc0.31562500000000004\n",
      "sensitivity-[0.99578947 0.         0.         0.         0.         0.\n",
      " 0.         0.01515152]\n",
      "specicivity-[0.17828873 0.         0.         0.         0.         0.\n",
      " 0.         0.16666667]\n",
      "Balanced Accuracy\n",
      "0.1263676236044657\n",
      "Confusion Matrix\n"
     ]
    },
    {
     "name": "stderr",
     "output_type": "stream",
     "text": [
      "/tmp/ipykernel_805/898049133.py:27: RuntimeWarning: invalid value encountered in long_scalars\n",
      "  self.matrix[i, i] / self.matrix[i, :].sum()\n"
     ]
    },
    {
     "name": "stdout",
     "output_type": "stream",
     "text": [
      "Figure(432x288)\n",
      "f1-score\n",
      "0.04127593066211992\n"
     ]
    },
    {
     "name": "stderr",
     "output_type": "stream",
     "text": [
      "/tmp/ipykernel_805/898049133.py:65: RuntimeWarning: invalid value encountered in divide\n",
      "  f1_score = 2 * (precision * recall) / (precision + recall)\n"
     ]
    },
    {
     "data": {
      "image/png": "[encoded data removed]",
      "text/plain": [
       "<Figure size 432x288 with 2 Axes>"
      ]
     },
     "metadata": {
      "needs_background": "light"
     },
     "output_type": "display_data"
    },
    {
     "name": "stdout",
     "output_type": "stream",
     "text": [
      "time: 443 ms (started: 2022-10-30 16:22:42 +00:00)\n"
     ]
    }
   ],
   "source": [
    "pred_lst = (pred_lst1+pred_lst2)/2\n",
    "gt_lst = (gt_lst1+gt_lst2)/2\n",
    "fusion_matrix = FusionMatrix(8)\n",
    "\n",
    "auc_lst=[]\n",
    "acc_lst=[]\n",
    "for k in range(0,8):\n",
    "    tmp_gt=gt_lst[:, k]\n",
    "    tmp_pred=pred_lst[:,k]\n",
    "    tmp_acc=accuracy_score(tmp_gt, tmp_pred.round())\n",
    "    acc_lst.append(tmp_acc)\n",
    "    tmp_auc=roc_auc_score(tmp_gt, tmp_pred)\n",
    "    auc_lst.append(tmp_auc)\n",
    "\n",
    "\n",
    "auc_lst=np.array(auc_lst)\n",
    "\n",
    "acc_lst=np.array(acc_lst)\n",
    "print(\"auc-list\")\n",
    "print('\\n')\n",
    "print(auc_lst)\n",
    "print(\"accuracy-list\")\n",
    "print('\\n')\n",
    "print(acc_lst)\n",
    "auc=np.mean(auc_lst)\n",
    "acc = np.mean(acc_lst)\n",
    "print(\"mean-auc\"+str(auc))\n",
    "print(\"mean-auc\"+str(acc))\n",
    "\n",
    "#pred_lst=np.concatenate(pred_lst, axis=0)\n",
    "#gt_lst=np.concatenate(gt_lst, axis=0)\n",
    "pred_lst2 = np.argmax(pred_lst, axis=1)\n",
    "gt_lst2 = np.argmax(gt_lst, axis=1)\n",
    "fusion_matrix.update(pred_lst2, gt_lst2)\n",
    "print(\"sensitivity-\"+str(fusion_matrix.get_rec_per_class()))\n",
    "print(\"specicivity-\"+str(fusion_matrix.get_pre_per_class()))\n",
    "print(\"Balanced Accuracy\")\n",
    "print(fusion_matrix.get_balance_accuracy())\n",
    "print(\"Confusion Matrix\")\n",
    "print(fusion_matrix.plot_confusion_matrix())\n",
    "print(\"f1-score\")\n",
    "print(fusion_matrix.get_f1_score())\n",
    "\n",
    "#roc_auc = get_roc_auc(pred_lst, gt_lst)\n",
    "#print(roc_auc)\n"
   ]
  },
  {
   "cell_type": "code",
   "execution_count": null,
   "metadata": {},
   "outputs": [],
   "source": []
  }
 ],
 "metadata": {
  "kernelspec": {
   "display_name": "Python 3 (ipykernel)",
   "language": "python",
   "name": "python3"
  },
  "language_info": {
   "codemirror_mode": {
    "name": "ipython",
    "version": 3
   },
   "file_extension": ".py",
   "mimetype": "text/x-python",
   "name": "python",
   "nbconvert_exporter": "python",
   "pygments_lexer": "ipython3",
   "version": "3.9.13"
  }
 },
 "nbformat": 4,
 "nbformat_minor": 4
}
