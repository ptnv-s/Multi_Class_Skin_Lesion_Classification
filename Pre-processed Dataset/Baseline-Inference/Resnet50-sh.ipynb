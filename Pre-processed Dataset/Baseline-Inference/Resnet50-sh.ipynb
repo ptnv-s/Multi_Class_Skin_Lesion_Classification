{
 "cells": [
  {
   "cell_type": "code",
   "execution_count": 1,
   "id": "e56d6920",
   "metadata": {
    "execution": {
     "iopub.execute_input": "2022-10-30T16:21:41.760011Z",
     "iopub.status.busy": "2022-10-30T16:21:41.759211Z",
     "iopub.status.idle": "2022-10-30T16:21:51.888603Z",
     "shell.execute_reply": "2022-10-30T16:21:51.886841Z"
    },
    "id": "Ec0y8MdFZMAX",
    "papermill": {
     "duration": 10.142003,
     "end_time": "2022-10-30T16:21:51.891849",
     "exception": false,
     "start_time": "2022-10-30T16:21:41.749846",
     "status": "completed"
    },
    "tags": []
   },
   "outputs": [
    {
     "name": "stdout",
     "output_type": "stream",
     "text": [
      "Requirement already satisfied: ipython in /opt/conda/lib/python3.7/site-packages (7.33.0)\r\n",
      "Requirement already satisfied: jedi>=0.16 in /opt/conda/lib/python3.7/site-packages (from ipython) (0.18.1)\r\n",
      "Requirement already satisfied: prompt-toolkit!=3.0.0,!=3.0.1,<3.1.0,>=2.0.0 in /opt/conda/lib/python3.7/site-packages (from ipython) (3.0.29)\r\n",
      "Requirement already satisfied: pickleshare in /opt/conda/lib/python3.7/site-packages (from ipython) (0.7.5)\r\n",
      "Requirement already satisfied: setuptools>=18.5 in /opt/conda/lib/python3.7/site-packages (from ipython) (59.8.0)\r\n",
      "Requirement already satisfied: traitlets>=4.2 in /opt/conda/lib/python3.7/site-packages (from ipython) (5.2.1.post0)\r\n",
      "Requirement already satisfied: decorator in /opt/conda/lib/python3.7/site-packages (from ipython) (5.1.1)\r\n",
      "Requirement already satisfied: pexpect>4.3 in /opt/conda/lib/python3.7/site-packages (from ipython) (4.8.0)\r\n",
      "Requirement already satisfied: matplotlib-inline in /opt/conda/lib/python3.7/site-packages (from ipython) (0.1.3)\r\n",
      "Requirement already satisfied: pygments in /opt/conda/lib/python3.7/site-packages (from ipython) (2.12.0)\r\n",
      "Requirement already satisfied: backcall in /opt/conda/lib/python3.7/site-packages (from ipython) (0.2.0)\r\n",
      "Requirement already satisfied: parso<0.9.0,>=0.8.0 in /opt/conda/lib/python3.7/site-packages (from jedi>=0.16->ipython) (0.8.3)\r\n",
      "Requirement already satisfied: ptyprocess>=0.5 in /opt/conda/lib/python3.7/site-packages (from pexpect>4.3->ipython) (0.7.0)\r\n",
      "Requirement already satisfied: wcwidth in /opt/conda/lib/python3.7/site-packages (from prompt-toolkit!=3.0.0,!=3.0.1,<3.1.0,>=2.0.0->ipython) (0.2.5)\r\n",
      "\u001b[33mWARNING: Running pip as the 'root' user can result in broken permissions and conflicting behaviour with the system package manager. It is recommended to use a virtual environment instead: https://pip.pypa.io/warnings/venv\u001b[0m\u001b[33m\r\n",
      "\u001b[0mNote: you may need to restart the kernel to use updated packages.\n"
     ]
    }
   ],
   "source": [
    "pip install ipython"
   ]
  },
  {
   "cell_type": "code",
   "execution_count": 2,
   "id": "ac662d2b",
   "metadata": {
    "execution": {
     "iopub.execute_input": "2022-10-30T16:21:51.907114Z",
     "iopub.status.busy": "2022-10-30T16:21:51.906774Z",
     "iopub.status.idle": "2022-10-30T16:21:51.914233Z",
     "shell.execute_reply": "2022-10-30T16:21:51.913208Z"
    },
    "id": "W_vAStgml6hV",
    "papermill": {
     "duration": 0.017117,
     "end_time": "2022-10-30T16:21:51.916177",
     "exception": false,
     "start_time": "2022-10-30T16:21:51.899060",
     "status": "completed"
    },
    "tags": []
   },
   "outputs": [],
   "source": [
    "%matplotlib inline"
   ]
  },
  {
   "cell_type": "code",
   "execution_count": 3,
   "id": "2bbbe172",
   "metadata": {
    "execution": {
     "iopub.execute_input": "2022-10-30T16:21:51.931402Z",
     "iopub.status.busy": "2022-10-30T16:21:51.930588Z",
     "iopub.status.idle": "2022-10-30T16:21:54.580694Z",
     "shell.execute_reply": "2022-10-30T16:21:54.579735Z"
    },
    "id": "RisP8wVhl6hZ",
    "papermill": {
     "duration": 2.659461,
     "end_time": "2022-10-30T16:21:54.582722",
     "exception": false,
     "start_time": "2022-10-30T16:21:51.923261",
     "status": "completed"
    },
    "tags": []
   },
   "outputs": [
    {
     "data": {
      "text/plain": [
       "<matplotlib.pyplot._IonContext at 0x7fea6c646350>"
      ]
     },
     "execution_count": 3,
     "metadata": {},
     "output_type": "execute_result"
    }
   ],
   "source": [
    "from __future__ import print_function, division\n",
    "import torch\n",
    "import torch.nn as nn\n",
    "import torch.optim as optim\n",
    "from torch.optim import lr_scheduler\n",
    "import torch.backends.cudnn as cudnn\n",
    "import numpy as np\n",
    "import torchvision\n",
    "from torchvision import datasets, models, transforms\n",
    "import matplotlib.pyplot as plt\n",
    "import time\n",
    "import os\n",
    "import copy\n",
    "import pandas as pd\n",
    "import numpy as np\n",
    "import csv\n",
    "import os\n",
    "import tarfile\n",
    "from urllib.parse import urlparse\n",
    "from urllib.request import urlretrieve\n",
    "import numpy as np\n",
    "import torch\n",
    "from torch.utils.data import Dataset\n",
    "from PIL import Image\n",
    "from tqdm import tqdm\n",
    "from torch.utils.data import DataLoader\n",
    "from torchvision import transforms\n",
    "from sklearn.metrics import accuracy_score\n",
    "from sklearn.metrics import roc_auc_score\n",
    "from sklearn.metrics import f1_score\n",
    "from sklearn.metrics import classification_report\n",
    "from sklearn.model_selection import train_test_split\n",
    "cudnn.benchmark = True\n",
    "plt.ion()   # interactive mode"
   ]
  },
  {
   "cell_type": "code",
   "execution_count": 4,
   "id": "db044ba8",
   "metadata": {
    "execution": {
     "iopub.execute_input": "2022-10-30T16:21:54.598465Z",
     "iopub.status.busy": "2022-10-30T16:21:54.597529Z",
     "iopub.status.idle": "2022-10-30T16:21:54.602311Z",
     "shell.execute_reply": "2022-10-30T16:21:54.601421Z"
    },
    "papermill": {
     "duration": 0.014637,
     "end_time": "2022-10-30T16:21:54.604375",
     "exception": false,
     "start_time": "2022-10-30T16:21:54.589738",
     "status": "completed"
    },
    "tags": []
   },
   "outputs": [],
   "source": [
    "import os"
   ]
  },
  {
   "cell_type": "code",
   "execution_count": 5,
   "id": "deff1b4f",
   "metadata": {
    "execution": {
     "iopub.execute_input": "2022-10-30T16:21:54.619172Z",
     "iopub.status.busy": "2022-10-30T16:21:54.618912Z",
     "iopub.status.idle": "2022-10-30T16:21:54.695548Z",
     "shell.execute_reply": "2022-10-30T16:21:54.694342Z"
    },
    "id": "i97UAL_fgZg1",
    "outputId": "267d2a4f-2bb1-4b61-e7c5-8d51e3adc5da",
    "papermill": {
     "duration": 0.088074,
     "end_time": "2022-10-30T16:21:54.699367",
     "exception": false,
     "start_time": "2022-10-30T16:21:54.611293",
     "status": "completed"
    },
    "tags": []
   },
   "outputs": [
    {
     "name": "stdout",
     "output_type": "stream",
     "text": [
      "cuda:0\n"
     ]
    }
   ],
   "source": [
    "device = torch.device(\"cuda:0\" if torch.cuda.is_available() else \"cpu\")\n",
    "print(device)"
   ]
  },
  {
   "cell_type": "code",
   "execution_count": 6,
   "id": "d4411efe",
   "metadata": {
    "execution": {
     "iopub.execute_input": "2022-10-30T16:21:54.726186Z",
     "iopub.status.busy": "2022-10-30T16:21:54.725687Z",
     "iopub.status.idle": "2022-10-30T16:22:14.211299Z",
     "shell.execute_reply": "2022-10-30T16:22:14.210088Z"
    },
    "id": "KetFs7b6nImV",
    "outputId": "5f8e5177-9091-405d-8f6e-19e73f64c2f6",
    "papermill": {
     "duration": 19.502923,
     "end_time": "2022-10-30T16:22:14.213597",
     "exception": false,
     "start_time": "2022-10-30T16:21:54.710674",
     "status": "completed"
    },
    "tags": []
   },
   "outputs": [
    {
     "name": "stdout",
     "output_type": "stream",
     "text": [
      "\u001b[33mWARNING: Running pip as the 'root' user can result in broken permissions and conflicting behaviour with the system package manager. It is recommended to use a virtual environment instead: https://pip.pypa.io/warnings/venv\u001b[0m\u001b[33m\r\n",
      "\u001b[0m\u001b[33mWARNING: Running pip as the 'root' user can result in broken permissions and conflicting behaviour with the system package manager. It is recommended to use a virtual environment instead: https://pip.pypa.io/warnings/venv\u001b[0m\u001b[33m\r\n",
      "\u001b[0mtime: 528 µs (started: 2022-10-30 16:22:14 +00:00)\n"
     ]
    }
   ],
   "source": [
    "!pip install -q livelossplot==0.3.3\n",
    "!pip install -q ipython-autotime\n",
    "%load_ext autotime"
   ]
  },
  {
   "cell_type": "code",
   "execution_count": 7,
   "id": "73238c95",
   "metadata": {
    "execution": {
     "iopub.execute_input": "2022-10-30T16:22:14.229610Z",
     "iopub.status.busy": "2022-10-30T16:22:14.228709Z",
     "iopub.status.idle": "2022-10-30T16:22:14.930573Z",
     "shell.execute_reply": "2022-10-30T16:22:14.929560Z"
    },
    "id": "BaGdvVCGtSKS",
    "outputId": "084749e6-e70f-460b-fd95-e09d465fa67e",
    "papermill": {
     "duration": 0.712345,
     "end_time": "2022-10-30T16:22:14.933003",
     "exception": false,
     "start_time": "2022-10-30T16:22:14.220658",
     "status": "completed"
    },
    "tags": []
   },
   "outputs": [
    {
     "name": "stdout",
     "output_type": "stream",
     "text": [
      "time: 694 ms (started: 2022-10-30 16:22:14 +00:00)\n"
     ]
    }
   ],
   "source": [
    "#helper function\n",
    "def get_label(row):\n",
    "  for c in labels.columns:\n",
    "    if row[c]==1:\n",
    "      return c\n",
    "\n",
    "labels = pd.read_csv('../input/isiccsvfile/ISIC_2019_Training_GroundTruth.csv')\n",
    "labels['l']=labels.apply(get_label, axis=1)\n",
    "X=labels.drop(['l','UNK'], axis=1)\n",
    "y = labels['l']\n",
    "X_train, X_test, y_train, y_test = train_test_split(X,y, test_size=0.21, random_state=42,stratify=y)\n",
    "X_train['image'] = '../input/pp1isic/preprocessed-hair/'+X_train['image']+ '.jpg'\n",
    "X_test['image'] = '../input/pp1isic/preprocessed-hair/'+X_test['image']+ '.jpg'\n",
    "X_test.to_csv('validation.csv', index=False)\n",
    "X_train.to_csv('training.csv', index=False)\n",
    "train_path = 'training.csv'\n",
    "class_path = 'validation_class.csv'\n",
    "eval_path = 'validation.csv'\n",
    "train_img_path = '../input/pp1isic/preprocessed-hair'\n"
   ]
  },
  {
   "cell_type": "code",
   "execution_count": 8,
   "id": "8a0339cd",
   "metadata": {
    "execution": {
     "iopub.execute_input": "2022-10-30T16:22:14.949930Z",
     "iopub.status.busy": "2022-10-30T16:22:14.948487Z",
     "iopub.status.idle": "2022-10-30T16:22:14.962017Z",
     "shell.execute_reply": "2022-10-30T16:22:14.960200Z"
    },
    "id": "mpp9KEVTpN3Z",
    "outputId": "2eed9a44-a69b-4474-b487-098a435cf93b",
    "papermill": {
     "duration": 0.024258,
     "end_time": "2022-10-30T16:22:14.964547",
     "exception": false,
     "start_time": "2022-10-30T16:22:14.940289",
     "status": "completed"
    },
    "tags": []
   },
   "outputs": [
    {
     "name": "stdout",
     "output_type": "stream",
     "text": [
      "time: 2.04 ms (started: 2022-10-30 16:22:14 +00:00)\n"
     ]
    }
   ],
   "source": [
    "class_names = ['MEL', 'NV', 'BCC', 'AK', 'BKL', 'DF', 'VASC', 'SCC', 'UNK']\n",
    "\n",
    "def read_object_labels_csv(file,phase, header=True):\n",
    "    img_t=[]\n",
    "    if phase == 'Train':\n",
    "      dir = 'training.csv'\n",
    "    elif phase == \"Valid\":\n",
    "      dir = 'validation.csv'\n",
    "    with open(dir, \"r\") as f:\n",
    "        csvReader = csv.reader(f)\n",
    "        next(csvReader, None)\n",
    "        k=0\n",
    "        for line in csvReader:\n",
    "            k+=1\n",
    "            image_name= line[0]\n",
    "            label = line[1:9]\n",
    "            label = torch.from_numpy(np.array(label, dtype=np.float64))\n",
    "            item = (image_name,label)\n",
    "            img_t.append(item)\n",
    "    return img_t\n",
    "\n",
    "\n",
    "class CHEXPERT(Dataset):\n",
    "    def __init__(self, root, phase, csv_path,transform=None):\n",
    "        self.root = os.path.abspath(root)\n",
    "        self.phase = phase\n",
    "        self.transform = transform\n",
    "        self.path_images = self.root\n",
    "        file_csv = pd.read_csv(csv_path)\n",
    "        self.classes = class_names\n",
    "        self.images = read_object_labels_csv(file_csv,phase)\n",
    "        print('[dataset] classification phase={} number of classes={}  number of images={}'.format(phase, len(self.classes), len(self.images)))\n",
    "\n",
    "    def __getitem__(self, index):\n",
    "        filename, target = self.images[index]\n",
    "        filename = filename\n",
    "        img = Image.open(filename).convert('RGB')\n",
    "        if self.transform is not None:\n",
    "            img = self.transform(img)\n",
    "        \n",
    "        data = {'image':img, 'target': target}\n",
    "        return data\n",
    "\n",
    "    def __len__(self):\n",
    "        return len(self.images)\n",
    "\n",
    "    def get_number_classes(self):\n",
    "        return len(self.classes)\n"
   ]
  },
  {
   "cell_type": "code",
   "execution_count": 9,
   "id": "888a2320",
   "metadata": {
    "execution": {
     "iopub.execute_input": "2022-10-30T16:22:14.980433Z",
     "iopub.status.busy": "2022-10-30T16:22:14.979652Z",
     "iopub.status.idle": "2022-10-30T16:22:15.268893Z",
     "shell.execute_reply": "2022-10-30T16:22:15.267309Z"
    },
    "id": "HPx0h3uwpnS9",
    "outputId": "68b6cdb2-74f0-4e36-a14d-db1d02386bff",
    "papermill": {
     "duration": 0.299272,
     "end_time": "2022-10-30T16:22:15.271201",
     "exception": false,
     "start_time": "2022-10-30T16:22:14.971929",
     "status": "completed"
    },
    "tags": []
   },
   "outputs": [
    {
     "name": "stdout",
     "output_type": "stream",
     "text": [
      "[dataset] classification phase=Train number of classes=9  number of images=20011\n",
      "[dataset] classification phase=Valid number of classes=9  number of images=5320\n",
      "time: 281 ms (started: 2022-10-30 16:22:14 +00:00)\n"
     ]
    }
   ],
   "source": [
    "data_transforms = {\n",
    "    'train': transforms.Compose([\n",
    "        transforms.Resize((224,224)),\n",
    "        transforms.RandomHorizontalFlip(),\n",
    "        transforms.ToTensor(),\n",
    "        transforms.Normalize([0.485, 0.456, 0.406], [0.229, 0.224, 0.225])\n",
    "    ]),\n",
    "    'val': transforms.Compose([\n",
    "        transforms.Resize((224,224)),\n",
    "        transforms.ToTensor(),\n",
    "        transforms.Normalize([0.485, 0.456, 0.406], [0.229, 0.224, 0.225])\n",
    "    ]),\n",
    "}\n",
    "train_dataset = CHEXPERT(train_img_path, transform=data_transforms['train'], phase='Train',csv_path=train_path)\n",
    "val_dataset = CHEXPERT(train_img_path, transform=data_transforms['val'],phase='Valid',csv_path=eval_path)\n",
    "\n",
    "image_datasets ={'train': train_dataset, 'val': val_dataset}\n",
    "dataloaders = {x: torch.utils.data.DataLoader(image_datasets[x], batch_size=16,shuffle=False, num_workers=2)for x in ['train', 'val']}\n",
    "dataset_sizes = {x: len(image_datasets[x]) for x in ['train', 'val']}"
   ]
  },
  {
   "cell_type": "code",
   "execution_count": 10,
   "id": "564f0f72",
   "metadata": {
    "execution": {
     "iopub.execute_input": "2022-10-30T16:22:15.286953Z",
     "iopub.status.busy": "2022-10-30T16:22:15.286647Z",
     "iopub.status.idle": "2022-10-30T16:22:16.171303Z",
     "shell.execute_reply": "2022-10-30T16:22:16.170131Z"
    },
    "id": "QE83J344l6hb",
    "outputId": "751305e9-b99e-420b-d41b-e6672c0cf4a2",
    "papermill": {
     "duration": 0.896457,
     "end_time": "2022-10-30T16:22:16.174733",
     "exception": false,
     "start_time": "2022-10-30T16:22:15.278276",
     "status": "completed"
    },
    "tags": []
   },
   "outputs": [
    {
     "data": {
      "image/png": "[encoded data removed]",
      "text/plain": [
       "<Figure size 432x288 with 1 Axes>"
      ]
     },
     "metadata": {
      "needs_background": "light"
     },
     "output_type": "display_data"
    },
    {
     "name": "stdout",
     "output_type": "stream",
     "text": [
      "time: 878 ms (started: 2022-10-30 16:22:15 +00:00)\n"
     ]
    }
   ],
   "source": [
    "def imshow(inp, title=None):\n",
    "    inp = inp.numpy().transpose((1, 2, 0))\n",
    "    mean = np.array([0.6678, 0.5298, 0.5245])\n",
    "    std = np.array([0.1333, 0.1476, 0.1590])\n",
    "    inp = std * inp + mean\n",
    "    inp = np.clip(inp, 0, 1)\n",
    "    plt.imshow(inp)\n",
    "    if title is not None:\n",
    "        plt.title(title)\n",
    "    plt.pause(0.001)  # pause a bit so that plots are updated\n",
    "\n",
    "\n",
    "# Get a batch of training data\n",
    "data = next(iter(dataloaders['train']))\n",
    "ps = data['target'].numpy()\n",
    "l = np.where(ps==1.0)\n",
    "l = l[1].astype(int)\n",
    "# Make a grid from batch\n",
    "out = torchvision.utils.make_grid(data['image'])\n",
    "imshow(out, title=[class_names[x] for x in l])"
   ]
  },
  {
   "cell_type": "code",
   "execution_count": 11,
   "id": "f93d3ec5",
   "metadata": {
    "execution": {
     "iopub.execute_input": "2022-10-30T16:22:16.193577Z",
     "iopub.status.busy": "2022-10-30T16:22:16.193285Z",
     "iopub.status.idle": "2022-10-30T16:22:22.459907Z",
     "shell.execute_reply": "2022-10-30T16:22:22.458989Z"
    },
    "papermill": {
     "duration": 6.278964,
     "end_time": "2022-10-30T16:22:22.463039",
     "exception": false,
     "start_time": "2022-10-30T16:22:16.184075",
     "status": "completed"
    },
    "scrolled": true,
    "tags": []
   },
   "outputs": [
    {
     "data": {
      "text/plain": [
       "ResNet(\n",
       "  (conv1): Conv2d(3, 64, kernel_size=(7, 7), stride=(2, 2), padding=(3, 3), bias=False)\n",
       "  (bn1): BatchNorm2d(64, eps=1e-05, momentum=0.1, affine=True, track_running_stats=True)\n",
       "  (relu): ReLU(inplace=True)\n",
       "  (maxpool): MaxPool2d(kernel_size=3, stride=2, padding=1, dilation=1, ceil_mode=False)\n",
       "  (layer1): Sequential(\n",
       "    (0): Bottleneck(\n",
       "      (conv1): Conv2d(64, 64, kernel_size=(1, 1), stride=(1, 1), bias=False)\n",
       "      (bn1): BatchNorm2d(64, eps=1e-05, momentum=0.1, affine=True, track_running_stats=True)\n",
       "      (conv2): Conv2d(64, 64, kernel_size=(3, 3), stride=(1, 1), padding=(1, 1), bias=False)\n",
       "      (bn2): BatchNorm2d(64, eps=1e-05, momentum=0.1, affine=True, track_running_stats=True)\n",
       "      (conv3): Conv2d(64, 256, kernel_size=(1, 1), stride=(1, 1), bias=False)\n",
       "      (bn3): BatchNorm2d(256, eps=1e-05, momentum=0.1, affine=True, track_running_stats=True)\n",
       "      (relu): ReLU(inplace=True)\n",
       "      (downsample): Sequential(\n",
       "        (0): Conv2d(64, 256, kernel_size=(1, 1), stride=(1, 1), bias=False)\n",
       "        (1): BatchNorm2d(256, eps=1e-05, momentum=0.1, affine=True, track_running_stats=True)\n",
       "      )\n",
       "    )\n",
       "    (1): Bottleneck(\n",
       "      (conv1): Conv2d(256, 64, kernel_size=(1, 1), stride=(1, 1), bias=False)\n",
       "      (bn1): BatchNorm2d(64, eps=1e-05, momentum=0.1, affine=True, track_running_stats=True)\n",
       "      (conv2): Conv2d(64, 64, kernel_size=(3, 3), stride=(1, 1), padding=(1, 1), bias=False)\n",
       "      (bn2): BatchNorm2d(64, eps=1e-05, momentum=0.1, affine=True, track_running_stats=True)\n",
       "      (conv3): Conv2d(64, 256, kernel_size=(1, 1), stride=(1, 1), bias=False)\n",
       "      (bn3): BatchNorm2d(256, eps=1e-05, momentum=0.1, affine=True, track_running_stats=True)\n",
       "      (relu): ReLU(inplace=True)\n",
       "    )\n",
       "    (2): Bottleneck(\n",
       "      (conv1): Conv2d(256, 64, kernel_size=(1, 1), stride=(1, 1), bias=False)\n",
       "      (bn1): BatchNorm2d(64, eps=1e-05, momentum=0.1, affine=True, track_running_stats=True)\n",
       "      (conv2): Conv2d(64, 64, kernel_size=(3, 3), stride=(1, 1), padding=(1, 1), bias=False)\n",
       "      (bn2): BatchNorm2d(64, eps=1e-05, momentum=0.1, affine=True, track_running_stats=True)\n",
       "      (conv3): Conv2d(64, 256, kernel_size=(1, 1), stride=(1, 1), bias=False)\n",
       "      (bn3): BatchNorm2d(256, eps=1e-05, momentum=0.1, affine=True, track_running_stats=True)\n",
       "      (relu): ReLU(inplace=True)\n",
       "    )\n",
       "  )\n",
       "  (layer2): Sequential(\n",
       "    (0): Bottleneck(\n",
       "      (conv1): Conv2d(256, 128, kernel_size=(1, 1), stride=(1, 1), bias=False)\n",
       "      (bn1): BatchNorm2d(128, eps=1e-05, momentum=0.1, affine=True, track_running_stats=True)\n",
       "      (conv2): Conv2d(128, 128, kernel_size=(3, 3), stride=(2, 2), padding=(1, 1), bias=False)\n",
       "      (bn2): BatchNorm2d(128, eps=1e-05, momentum=0.1, affine=True, track_running_stats=True)\n",
       "      (conv3): Conv2d(128, 512, kernel_size=(1, 1), stride=(1, 1), bias=False)\n",
       "      (bn3): BatchNorm2d(512, eps=1e-05, momentum=0.1, affine=True, track_running_stats=True)\n",
       "      (relu): ReLU(inplace=True)\n",
       "      (downsample): Sequential(\n",
       "        (0): Conv2d(256, 512, kernel_size=(1, 1), stride=(2, 2), bias=False)\n",
       "        (1): BatchNorm2d(512, eps=1e-05, momentum=0.1, affine=True, track_running_stats=True)\n",
       "      )\n",
       "    )\n",
       "    (1): Bottleneck(\n",
       "      (conv1): Conv2d(512, 128, kernel_size=(1, 1), stride=(1, 1), bias=False)\n",
       "      (bn1): BatchNorm2d(128, eps=1e-05, momentum=0.1, affine=True, track_running_stats=True)\n",
       "      (conv2): Conv2d(128, 128, kernel_size=(3, 3), stride=(1, 1), padding=(1, 1), bias=False)\n",
       "      (bn2): BatchNorm2d(128, eps=1e-05, momentum=0.1, affine=True, track_running_stats=True)\n",
       "      (conv3): Conv2d(128, 512, kernel_size=(1, 1), stride=(1, 1), bias=False)\n",
       "      (bn3): BatchNorm2d(512, eps=1e-05, momentum=0.1, affine=True, track_running_stats=True)\n",
       "      (relu): ReLU(inplace=True)\n",
       "    )\n",
       "    (2): Bottleneck(\n",
       "      (conv1): Conv2d(512, 128, kernel_size=(1, 1), stride=(1, 1), bias=False)\n",
       "      (bn1): BatchNorm2d(128, eps=1e-05, momentum=0.1, affine=True, track_running_stats=True)\n",
       "      (conv2): Conv2d(128, 128, kernel_size=(3, 3), stride=(1, 1), padding=(1, 1), bias=False)\n",
       "      (bn2): BatchNorm2d(128, eps=1e-05, momentum=0.1, affine=True, track_running_stats=True)\n",
       "      (conv3): Conv2d(128, 512, kernel_size=(1, 1), stride=(1, 1), bias=False)\n",
       "      (bn3): BatchNorm2d(512, eps=1e-05, momentum=0.1, affine=True, track_running_stats=True)\n",
       "      (relu): ReLU(inplace=True)\n",
       "    )\n",
       "    (3): Bottleneck(\n",
       "      (conv1): Conv2d(512, 128, kernel_size=(1, 1), stride=(1, 1), bias=False)\n",
       "      (bn1): BatchNorm2d(128, eps=1e-05, momentum=0.1, affine=True, track_running_stats=True)\n",
       "      (conv2): Conv2d(128, 128, kernel_size=(3, 3), stride=(1, 1), padding=(1, 1), bias=False)\n",
       "      (bn2): BatchNorm2d(128, eps=1e-05, momentum=0.1, affine=True, track_running_stats=True)\n",
       "      (conv3): Conv2d(128, 512, kernel_size=(1, 1), stride=(1, 1), bias=False)\n",
       "      (bn3): BatchNorm2d(512, eps=1e-05, momentum=0.1, affine=True, track_running_stats=True)\n",
       "      (relu): ReLU(inplace=True)\n",
       "    )\n",
       "  )\n",
       "  (layer3): Sequential(\n",
       "    (0): Bottleneck(\n",
       "      (conv1): Conv2d(512, 256, kernel_size=(1, 1), stride=(1, 1), bias=False)\n",
       "      (bn1): BatchNorm2d(256, eps=1e-05, momentum=0.1, affine=True, track_running_stats=True)\n",
       "      (conv2): Conv2d(256, 256, kernel_size=(3, 3), stride=(2, 2), padding=(1, 1), bias=False)\n",
       "      (bn2): BatchNorm2d(256, eps=1e-05, momentum=0.1, affine=True, track_running_stats=True)\n",
       "      (conv3): Conv2d(256, 1024, kernel_size=(1, 1), stride=(1, 1), bias=False)\n",
       "      (bn3): BatchNorm2d(1024, eps=1e-05, momentum=0.1, affine=True, track_running_stats=True)\n",
       "      (relu): ReLU(inplace=True)\n",
       "      (downsample): Sequential(\n",
       "        (0): Conv2d(512, 1024, kernel_size=(1, 1), stride=(2, 2), bias=False)\n",
       "        (1): BatchNorm2d(1024, eps=1e-05, momentum=0.1, affine=True, track_running_stats=True)\n",
       "      )\n",
       "    )\n",
       "    (1): Bottleneck(\n",
       "      (conv1): Conv2d(1024, 256, kernel_size=(1, 1), stride=(1, 1), bias=False)\n",
       "      (bn1): BatchNorm2d(256, eps=1e-05, momentum=0.1, affine=True, track_running_stats=True)\n",
       "      (conv2): Conv2d(256, 256, kernel_size=(3, 3), stride=(1, 1), padding=(1, 1), bias=False)\n",
       "      (bn2): BatchNorm2d(256, eps=1e-05, momentum=0.1, affine=True, track_running_stats=True)\n",
       "      (conv3): Conv2d(256, 1024, kernel_size=(1, 1), stride=(1, 1), bias=False)\n",
       "      (bn3): BatchNorm2d(1024, eps=1e-05, momentum=0.1, affine=True, track_running_stats=True)\n",
       "      (relu): ReLU(inplace=True)\n",
       "    )\n",
       "    (2): Bottleneck(\n",
       "      (conv1): Conv2d(1024, 256, kernel_size=(1, 1), stride=(1, 1), bias=False)\n",
       "      (bn1): BatchNorm2d(256, eps=1e-05, momentum=0.1, affine=True, track_running_stats=True)\n",
       "      (conv2): Conv2d(256, 256, kernel_size=(3, 3), stride=(1, 1), padding=(1, 1), bias=False)\n",
       "      (bn2): BatchNorm2d(256, eps=1e-05, momentum=0.1, affine=True, track_running_stats=True)\n",
       "      (conv3): Conv2d(256, 1024, kernel_size=(1, 1), stride=(1, 1), bias=False)\n",
       "      (bn3): BatchNorm2d(1024, eps=1e-05, momentum=0.1, affine=True, track_running_stats=True)\n",
       "      (relu): ReLU(inplace=True)\n",
       "    )\n",
       "    (3): Bottleneck(\n",
       "      (conv1): Conv2d(1024, 256, kernel_size=(1, 1), stride=(1, 1), bias=False)\n",
       "      (bn1): BatchNorm2d(256, eps=1e-05, momentum=0.1, affine=True, track_running_stats=True)\n",
       "      (conv2): Conv2d(256, 256, kernel_size=(3, 3), stride=(1, 1), padding=(1, 1), bias=False)\n",
       "      (bn2): BatchNorm2d(256, eps=1e-05, momentum=0.1, affine=True, track_running_stats=True)\n",
       "      (conv3): Conv2d(256, 1024, kernel_size=(1, 1), stride=(1, 1), bias=False)\n",
       "      (bn3): BatchNorm2d(1024, eps=1e-05, momentum=0.1, affine=True, track_running_stats=True)\n",
       "      (relu): ReLU(inplace=True)\n",
       "    )\n",
       "    (4): Bottleneck(\n",
       "      (conv1): Conv2d(1024, 256, kernel_size=(1, 1), stride=(1, 1), bias=False)\n",
       "      (bn1): BatchNorm2d(256, eps=1e-05, momentum=0.1, affine=True, track_running_stats=True)\n",
       "      (conv2): Conv2d(256, 256, kernel_size=(3, 3), stride=(1, 1), padding=(1, 1), bias=False)\n",
       "      (bn2): BatchNorm2d(256, eps=1e-05, momentum=0.1, affine=True, track_running_stats=True)\n",
       "      (conv3): Conv2d(256, 1024, kernel_size=(1, 1), stride=(1, 1), bias=False)\n",
       "      (bn3): BatchNorm2d(1024, eps=1e-05, momentum=0.1, affine=True, track_running_stats=True)\n",
       "      (relu): ReLU(inplace=True)\n",
       "    )\n",
       "    (5): Bottleneck(\n",
       "      (conv1): Conv2d(1024, 256, kernel_size=(1, 1), stride=(1, 1), bias=False)\n",
       "      (bn1): BatchNorm2d(256, eps=1e-05, momentum=0.1, affine=True, track_running_stats=True)\n",
       "      (conv2): Conv2d(256, 256, kernel_size=(3, 3), stride=(1, 1), padding=(1, 1), bias=False)\n",
       "      (bn2): BatchNorm2d(256, eps=1e-05, momentum=0.1, affine=True, track_running_stats=True)\n",
       "      (conv3): Conv2d(256, 1024, kernel_size=(1, 1), stride=(1, 1), bias=False)\n",
       "      (bn3): BatchNorm2d(1024, eps=1e-05, momentum=0.1, affine=True, track_running_stats=True)\n",
       "      (relu): ReLU(inplace=True)\n",
       "    )\n",
       "  )\n",
       "  (layer4): Sequential(\n",
       "    (0): Bottleneck(\n",
       "      (conv1): Conv2d(1024, 512, kernel_size=(1, 1), stride=(1, 1), bias=False)\n",
       "      (bn1): BatchNorm2d(512, eps=1e-05, momentum=0.1, affine=True, track_running_stats=True)\n",
       "      (conv2): Conv2d(512, 512, kernel_size=(3, 3), stride=(2, 2), padding=(1, 1), bias=False)\n",
       "      (bn2): BatchNorm2d(512, eps=1e-05, momentum=0.1, affine=True, track_running_stats=True)\n",
       "      (conv3): Conv2d(512, 2048, kernel_size=(1, 1), stride=(1, 1), bias=False)\n",
       "      (bn3): BatchNorm2d(2048, eps=1e-05, momentum=0.1, affine=True, track_running_stats=True)\n",
       "      (relu): ReLU(inplace=True)\n",
       "      (downsample): Sequential(\n",
       "        (0): Conv2d(1024, 2048, kernel_size=(1, 1), stride=(2, 2), bias=False)\n",
       "        (1): BatchNorm2d(2048, eps=1e-05, momentum=0.1, affine=True, track_running_stats=True)\n",
       "      )\n",
       "    )\n",
       "    (1): Bottleneck(\n",
       "      (conv1): Conv2d(2048, 512, kernel_size=(1, 1), stride=(1, 1), bias=False)\n",
       "      (bn1): BatchNorm2d(512, eps=1e-05, momentum=0.1, affine=True, track_running_stats=True)\n",
       "      (conv2): Conv2d(512, 512, kernel_size=(3, 3), stride=(1, 1), padding=(1, 1), bias=False)\n",
       "      (bn2): BatchNorm2d(512, eps=1e-05, momentum=0.1, affine=True, track_running_stats=True)\n",
       "      (conv3): Conv2d(512, 2048, kernel_size=(1, 1), stride=(1, 1), bias=False)\n",
       "      (bn3): BatchNorm2d(2048, eps=1e-05, momentum=0.1, affine=True, track_running_stats=True)\n",
       "      (relu): ReLU(inplace=True)\n",
       "    )\n",
       "    (2): Bottleneck(\n",
       "      (conv1): Conv2d(2048, 512, kernel_size=(1, 1), stride=(1, 1), bias=False)\n",
       "      (bn1): BatchNorm2d(512, eps=1e-05, momentum=0.1, affine=True, track_running_stats=True)\n",
       "      (conv2): Conv2d(512, 512, kernel_size=(3, 3), stride=(1, 1), padding=(1, 1), bias=False)\n",
       "      (bn2): BatchNorm2d(512, eps=1e-05, momentum=0.1, affine=True, track_running_stats=True)\n",
       "      (conv3): Conv2d(512, 2048, kernel_size=(1, 1), stride=(1, 1), bias=False)\n",
       "      (bn3): BatchNorm2d(2048, eps=1e-05, momentum=0.1, affine=True, track_running_stats=True)\n",
       "      (relu): ReLU(inplace=True)\n",
       "    )\n",
       "  )\n",
       "  (avgpool): AdaptiveAvgPool2d(output_size=(1, 1))\n",
       "  (fc): Sequential(\n",
       "    (0): Linear(in_features=2048, out_features=8, bias=True)\n",
       "    (1): Sigmoid()\n",
       "  )\n",
       ")"
      ]
     },
     "execution_count": 11,
     "metadata": {},
     "output_type": "execute_result"
    },
    {
     "name": "stdout",
     "output_type": "stream",
     "text": [
      "time: 6.26 s (started: 2022-10-30 16:22:16 +00:00)\n"
     ]
    }
   ],
   "source": [
    "model=models.resnet50(pretrained=False)\n",
    "model.fc=nn.Sequential(nn.Linear(2048, 8), nn.Sigmoid())\n",
    "checkpoint = torch.load('../input/isic2019hairresnet50/resnet50_wt_epoch_19_batch_78_auc_0.6407.pt')\n",
    "model.load_state_dict(checkpoint['model_state_dict'],strict=False)\n",
    "del checkpoint\n",
    "model.to(device)"
   ]
  },
  {
   "cell_type": "code",
   "execution_count": 12,
   "id": "31b0ea5f",
   "metadata": {
    "execution": {
     "iopub.execute_input": "2022-10-30T16:22:22.481125Z",
     "iopub.status.busy": "2022-10-30T16:22:22.480810Z",
     "iopub.status.idle": "2022-10-30T16:22:22.498746Z",
     "shell.execute_reply": "2022-10-30T16:22:22.497603Z"
    },
    "papermill": {
     "duration": 0.029464,
     "end_time": "2022-10-30T16:22:22.500857",
     "exception": false,
     "start_time": "2022-10-30T16:22:22.471393",
     "status": "completed"
    },
    "tags": []
   },
   "outputs": [
    {
     "name": "stdout",
     "output_type": "stream",
     "text": [
      "time: 3.47 ms (started: 2022-10-30 16:22:22 +00:00)\n"
     ]
    }
   ],
   "source": [
    "class FusionMatrix(object):\n",
    "    def __init__(self, num_classes):\n",
    "        self.num_classes = num_classes\n",
    "        self.matrix = np.zeros((self.num_classes, self.num_classes), dtype=int)\n",
    "\n",
    "    def update(self, output, label):\n",
    "        length = output.shape[0]\n",
    "        for i in range(length):\n",
    "            self.matrix[int(output[i]), int(label[i])] += 1\n",
    "\n",
    "    def get_fusion_matrix(self):\n",
    "        return self.matrix\n",
    "\n",
    "    def get_rec_per_class(self):\n",
    "        rec = np.array(\n",
    "            [\n",
    "                self.matrix[i, i] / self.matrix[:, i].sum()\n",
    "                for i in range(self.num_classes)\n",
    "            ]\n",
    "        )\n",
    "        rec[np.isnan(rec)] = 0\n",
    "        return rec\n",
    "\n",
    "    def get_pre_per_class(self):\n",
    "        pre = np.array(\n",
    "            [\n",
    "                self.matrix[i, i] / self.matrix[i, :].sum()\n",
    "                for i in range(self.num_classes)\n",
    "            ]\n",
    "        )\n",
    "        pre[np.isnan(pre)] = 0\n",
    "        return pre\n",
    "\n",
    "    def get_accuracy(self):\n",
    "        acc = (\n",
    "            np.sum([self.matrix[i, i] for i in range(self.num_classes)])\n",
    "            / self.matrix.sum()\n",
    "        )\n",
    "        return acc\n",
    "\n",
    "    # convert multi-classification into binary classification tasks, and calculate the accuracy.\n",
    "    def get_binary_accuracy(self, class_no):\n",
    "        class_no = int(class_no)\n",
    "        if class_no >= self.num_classes or class_no < 0:\n",
    "            raise AttributeError(\n",
    "                \"Parameter class_no must less than the number of class.\")\n",
    "\n",
    "        error_num = 0\n",
    "        for i in range(self.num_classes):\n",
    "            error_num += self.matrix[i, class_no]\n",
    "            error_num += self.matrix[class_no, i]\n",
    "        error_num -= 2 * self.matrix[class_no, class_no]\n",
    "        ok_num = self.matrix.sum() - error_num\n",
    "        acc = ok_num / self.matrix.sum()\n",
    "        return acc\n",
    "\n",
    "    def get_balance_accuracy(self):\n",
    "        rec = self.get_rec_per_class()\n",
    "        bacc = np.mean(rec)\n",
    "        return bacc\n",
    "\n",
    "    def get_f1_score(self):\n",
    "        recall = self.get_rec_per_class()\n",
    "        precision = self.get_pre_per_class()\n",
    "        f1_score = 2 * (precision * recall) / (precision + recall)\n",
    "        f1_score[np.isnan(f1_score)] = 0\n",
    "        return np.mean(f1_score)\n",
    "\n",
    "    def plot_confusion_matrix(self, normalize = False, cmap=plt.cm.Blues):\n",
    "        if normalize:\n",
    "            title = 'Normalized confusion matrix'\n",
    "        else:\n",
    "            title = 'Confusion matrix, without normalization'\n",
    "\n",
    "        # Compute confusion matrix\n",
    "        cm = self.matrix.T\n",
    "\n",
    "        fig, ax = plt.subplots()\n",
    "        im = ax.imshow(cm, interpolation='nearest', cmap=cmap)\n",
    "        ax.figure.colorbar(im, ax=ax)\n",
    "        # We want to show all ticks...\n",
    "        ax.set(xticks=np.arange(cm.shape[1]),\n",
    "               yticks=np.arange(cm.shape[0]),\n",
    "               # ... and label them with the respective list entries\n",
    "               xticklabels=np.arange(self.num_classes), yticklabels=np.arange(self.num_classes),\n",
    "               title=title,\n",
    "               ylabel='True label',\n",
    "               xlabel='Predicted label')\n",
    "\n",
    "        # Rotate the tick labels and set their alignment.\n",
    "        plt.setp(ax.get_xticklabels(), rotation=45, ha=\"right\",\n",
    "                 rotation_mode=\"anchor\")\n",
    "\n",
    "        # Loop over data dimensions and create text annotations.\n",
    "        fmt = '.2f' if normalize else 'd'\n",
    "        thresh = cm.max() / 2.\n",
    "        for i in range(cm.shape[0]):\n",
    "            for j in range(cm.shape[1]):\n",
    "                ax.text(j, i, format(cm[i, j], fmt),\n",
    "                        ha=\"center\", va=\"center\",\n",
    "                        color=\"white\" if cm[i, j] > thresh else \"black\")\n",
    "        fig.tight_layout()\n",
    "        return fig"
   ]
  },
  {
   "cell_type": "code",
   "execution_count": 13,
   "id": "dd1bfa91",
   "metadata": {
    "execution": {
     "iopub.execute_input": "2022-10-30T16:22:22.519281Z",
     "iopub.status.busy": "2022-10-30T16:22:22.518997Z",
     "iopub.status.idle": "2022-10-30T16:22:22.532677Z",
     "shell.execute_reply": "2022-10-30T16:22:22.531663Z"
    },
    "papermill": {
     "duration": 0.027495,
     "end_time": "2022-10-30T16:22:22.536763",
     "exception": false,
     "start_time": "2022-10-30T16:22:22.509268",
     "status": "completed"
    },
    "tags": []
   },
   "outputs": [
    {
     "name": "stdout",
     "output_type": "stream",
     "text": [
      "time: 3.7 ms (started: 2022-10-30 16:22:22 +00:00)\n"
     ]
    },
    {
     "name": "stderr",
     "output_type": "stream",
     "text": [
      "/opt/conda/lib/python3.7/site-packages/ipykernel_launcher.py:1: TqdmDeprecationWarning: This function will be removed in tqdm==5.0.0\n",
      "Please use `tqdm.notebook.*` instead of `tqdm._tqdm_notebook.*`\n",
      "  \"\"\"Entry point for launching an IPython kernel.\n"
     ]
    }
   ],
   "source": [
    "from tqdm._tqdm_notebook import tqdm_notebook\n",
    "def compute_predictions(model):\n",
    "    model.eval()\n",
    "    fusion_matrix = FusionMatrix(8)\n",
    "    pred_lst=[]\n",
    "    gt_lst=[]\n",
    "    for i, sample in enumerate(dataloaders['val']):    \n",
    "        images=sample['image']\n",
    "        labels=sample['target']\n",
    "        del sample\n",
    "        images = images.to(device)\n",
    "        labels=labels.numpy()\n",
    "        outputs=model(images)\n",
    "        outputs=outputs.detach()\n",
    "        outputs=outputs.cpu()\n",
    "        outputs=outputs.numpy()\n",
    "        pred_lst.append(outputs)\n",
    "        gt_lst.append(labels)\n",
    "        del labels, outputs, images\n",
    "\n",
    "    pred_lst=np.concatenate(pred_lst, axis=0)\n",
    "    gt_lst=np.concatenate(gt_lst, axis=0)\n",
    "    pred_lst2 = np.argmax(pred_lst, axis=1)\n",
    "    gt_lst2 = np.argmax(gt_lst, axis=1)\n",
    "    fusion_matrix.update(pred_lst2, gt_lst2)\n",
    "    print(\"sensitivity-\"+str(fusion_matrix.get_rec_per_class()))\n",
    "    print(\"specicivity-\"+str(fusion_matrix.get_pre_per_class()))\n",
    "    print(\"Balanced Accuracy\")\n",
    "    print(fusion_matrix.get_balance_accuracy())\n",
    "    print(\"Confusion Matrix\")\n",
    "    print(fusion_matrix.plot_confusion_matrix())\n",
    "    print(\"f1-score\")\n",
    "    print(fusion_matrix.get_f1_score())\n",
    "    \n",
    "    #roc_auc = get_roc_auc(pred_lst, gt_lst)\n",
    "    #print(roc_auc)\n",
    "    auc_lst=[]\n",
    "    acc_lst=[]\n",
    "    for k in range(0,8):\n",
    "        tmp_gt=gt_lst[:, k]\n",
    "        tmp_pred=pred_lst[:,k]\n",
    "        tmp_acc=accuracy_score(tmp_gt, tmp_pred.round())\n",
    "        acc_lst.append(tmp_acc)\n",
    "        tmp_auc=roc_auc_score(tmp_gt, tmp_pred)\n",
    "        auc_lst.append(tmp_auc)\n",
    "\n",
    "    \n",
    "    auc_lst=np.array(auc_lst)\n",
    "    \n",
    "    acc_lst=np.array(acc_lst)\n",
    "    print(\"auc-list\")\n",
    "    print('\\n')\n",
    "    print(auc_lst)\n",
    "    print(\"accuracy-list\")\n",
    "    print('\\n')\n",
    "    print(acc_lst)\n",
    "    auc=np.mean(auc_lst)\n",
    "    acc = np.mean(acc_lst)\n",
    "    print(\"mean-auc\"+str(auc))\n",
    "    print(\"mean-auc\"+str(acc))\n",
    "    f1s=0.0\n",
    "    return auc,acc,pred_lst,gt_lst"
   ]
  },
  {
   "cell_type": "code",
   "execution_count": 14,
   "id": "0f8f4c17",
   "metadata": {
    "execution": {
     "iopub.execute_input": "2022-10-30T16:22:22.555110Z",
     "iopub.status.busy": "2022-10-30T16:22:22.554825Z",
     "iopub.status.idle": "2022-10-30T16:22:54.380086Z",
     "shell.execute_reply": "2022-10-30T16:22:54.378945Z"
    },
    "papermill": {
     "duration": 31.837398,
     "end_time": "2022-10-30T16:22:54.383040",
     "exception": false,
     "start_time": "2022-10-30T16:22:22.545642",
     "status": "completed"
    },
    "tags": []
   },
   "outputs": [
    {
     "name": "stdout",
     "output_type": "stream",
     "text": [
      "sensitivity-[0.23157895 0.8864645  0.         0.         0.42105263 0.\n",
      " 0.         0.        ]\n",
      "specicivity-[0.38461538 0.6588785  0.         0.         0.21014493 0.\n",
      " 0.         0.        ]\n",
      "Balanced Accuracy\n",
      "0.19238700949859858\n",
      "Confusion Matrix\n",
      "Figure(432x288)\n",
      "f1-score\n",
      "0.16567109965838078\n",
      "auc-list\n",
      "\n",
      "\n",
      "[0.66728604 0.84348896 0.66512066 0.50142442 0.62443701 0.5746167\n",
      " 0.68808279 0.56180638]\n",
      "accuracy-list\n",
      "\n",
      "\n",
      "[0.82612782 0.74266917 0.86879699 0.96578947 0.89642857 0.9906015\n",
      " 0.99003759 0.97518797]\n",
      "mean-auc0.6407828711468411\n",
      "mean-auc0.9069548872180451\n"
     ]
    },
    {
     "name": "stderr",
     "output_type": "stream",
     "text": [
      "/opt/conda/lib/python3.7/site-packages/ipykernel_launcher.py:28: RuntimeWarning: invalid value encountered in long_scalars\n",
      "/opt/conda/lib/python3.7/site-packages/ipykernel_launcher.py:65: RuntimeWarning: invalid value encountered in true_divide\n"
     ]
    },
    {
     "data": {
      "image/png": "[encoded data removed]",
      "text/plain": [
       "<Figure size 432x288 with 2 Axes>"
      ]
     },
     "metadata": {
      "needs_background": "light"
     },
     "output_type": "display_data"
    },
    {
     "name": "stdout",
     "output_type": "stream",
     "text": [
      "time: 31.8 s (started: 2022-10-30 16:22:22 +00:00)\n"
     ]
    }
   ],
   "source": [
    "auc1,acc1,pred_lst1,gt_lst1=compute_predictions(model)"
   ]
  },
  {
   "cell_type": "code",
   "execution_count": 15,
   "id": "a94fbd6a",
   "metadata": {
    "execution": {
     "iopub.execute_input": "2022-10-30T16:22:54.404213Z",
     "iopub.status.busy": "2022-10-30T16:22:54.403434Z",
     "iopub.status.idle": "2022-10-30T16:22:57.363517Z",
     "shell.execute_reply": "2022-10-30T16:22:57.362611Z"
    },
    "papermill": {
     "duration": 2.973727,
     "end_time": "2022-10-30T16:22:57.367078",
     "exception": false,
     "start_time": "2022-10-30T16:22:54.393351",
     "status": "completed"
    },
    "scrolled": true,
    "tags": []
   },
   "outputs": [
    {
     "data": {
      "text/plain": [
       "ResNet(\n",
       "  (conv1): Conv2d(3, 64, kernel_size=(7, 7), stride=(2, 2), padding=(3, 3), bias=False)\n",
       "  (bn1): BatchNorm2d(64, eps=1e-05, momentum=0.1, affine=True, track_running_stats=True)\n",
       "  (relu): ReLU(inplace=True)\n",
       "  (maxpool): MaxPool2d(kernel_size=3, stride=2, padding=1, dilation=1, ceil_mode=False)\n",
       "  (layer1): Sequential(\n",
       "    (0): Bottleneck(\n",
       "      (conv1): Conv2d(64, 64, kernel_size=(1, 1), stride=(1, 1), bias=False)\n",
       "      (bn1): BatchNorm2d(64, eps=1e-05, momentum=0.1, affine=True, track_running_stats=True)\n",
       "      (conv2): Conv2d(64, 64, kernel_size=(3, 3), stride=(1, 1), padding=(1, 1), bias=False)\n",
       "      (bn2): BatchNorm2d(64, eps=1e-05, momentum=0.1, affine=True, track_running_stats=True)\n",
       "      (conv3): Conv2d(64, 256, kernel_size=(1, 1), stride=(1, 1), bias=False)\n",
       "      (bn3): BatchNorm2d(256, eps=1e-05, momentum=0.1, affine=True, track_running_stats=True)\n",
       "      (relu): ReLU(inplace=True)\n",
       "      (downsample): Sequential(\n",
       "        (0): Conv2d(64, 256, kernel_size=(1, 1), stride=(1, 1), bias=False)\n",
       "        (1): BatchNorm2d(256, eps=1e-05, momentum=0.1, affine=True, track_running_stats=True)\n",
       "      )\n",
       "    )\n",
       "    (1): Bottleneck(\n",
       "      (conv1): Conv2d(256, 64, kernel_size=(1, 1), stride=(1, 1), bias=False)\n",
       "      (bn1): BatchNorm2d(64, eps=1e-05, momentum=0.1, affine=True, track_running_stats=True)\n",
       "      (conv2): Conv2d(64, 64, kernel_size=(3, 3), stride=(1, 1), padding=(1, 1), bias=False)\n",
       "      (bn2): BatchNorm2d(64, eps=1e-05, momentum=0.1, affine=True, track_running_stats=True)\n",
       "      (conv3): Conv2d(64, 256, kernel_size=(1, 1), stride=(1, 1), bias=False)\n",
       "      (bn3): BatchNorm2d(256, eps=1e-05, momentum=0.1, affine=True, track_running_stats=True)\n",
       "      (relu): ReLU(inplace=True)\n",
       "    )\n",
       "    (2): Bottleneck(\n",
       "      (conv1): Conv2d(256, 64, kernel_size=(1, 1), stride=(1, 1), bias=False)\n",
       "      (bn1): BatchNorm2d(64, eps=1e-05, momentum=0.1, affine=True, track_running_stats=True)\n",
       "      (conv2): Conv2d(64, 64, kernel_size=(3, 3), stride=(1, 1), padding=(1, 1), bias=False)\n",
       "      (bn2): BatchNorm2d(64, eps=1e-05, momentum=0.1, affine=True, track_running_stats=True)\n",
       "      (conv3): Conv2d(64, 256, kernel_size=(1, 1), stride=(1, 1), bias=False)\n",
       "      (bn3): BatchNorm2d(256, eps=1e-05, momentum=0.1, affine=True, track_running_stats=True)\n",
       "      (relu): ReLU(inplace=True)\n",
       "    )\n",
       "  )\n",
       "  (layer2): Sequential(\n",
       "    (0): Bottleneck(\n",
       "      (conv1): Conv2d(256, 128, kernel_size=(1, 1), stride=(1, 1), bias=False)\n",
       "      (bn1): BatchNorm2d(128, eps=1e-05, momentum=0.1, affine=True, track_running_stats=True)\n",
       "      (conv2): Conv2d(128, 128, kernel_size=(3, 3), stride=(2, 2), padding=(1, 1), bias=False)\n",
       "      (bn2): BatchNorm2d(128, eps=1e-05, momentum=0.1, affine=True, track_running_stats=True)\n",
       "      (conv3): Conv2d(128, 512, kernel_size=(1, 1), stride=(1, 1), bias=False)\n",
       "      (bn3): BatchNorm2d(512, eps=1e-05, momentum=0.1, affine=True, track_running_stats=True)\n",
       "      (relu): ReLU(inplace=True)\n",
       "      (downsample): Sequential(\n",
       "        (0): Conv2d(256, 512, kernel_size=(1, 1), stride=(2, 2), bias=False)\n",
       "        (1): BatchNorm2d(512, eps=1e-05, momentum=0.1, affine=True, track_running_stats=True)\n",
       "      )\n",
       "    )\n",
       "    (1): Bottleneck(\n",
       "      (conv1): Conv2d(512, 128, kernel_size=(1, 1), stride=(1, 1), bias=False)\n",
       "      (bn1): BatchNorm2d(128, eps=1e-05, momentum=0.1, affine=True, track_running_stats=True)\n",
       "      (conv2): Conv2d(128, 128, kernel_size=(3, 3), stride=(1, 1), padding=(1, 1), bias=False)\n",
       "      (bn2): BatchNorm2d(128, eps=1e-05, momentum=0.1, affine=True, track_running_stats=True)\n",
       "      (conv3): Conv2d(128, 512, kernel_size=(1, 1), stride=(1, 1), bias=False)\n",
       "      (bn3): BatchNorm2d(512, eps=1e-05, momentum=0.1, affine=True, track_running_stats=True)\n",
       "      (relu): ReLU(inplace=True)\n",
       "    )\n",
       "    (2): Bottleneck(\n",
       "      (conv1): Conv2d(512, 128, kernel_size=(1, 1), stride=(1, 1), bias=False)\n",
       "      (bn1): BatchNorm2d(128, eps=1e-05, momentum=0.1, affine=True, track_running_stats=True)\n",
       "      (conv2): Conv2d(128, 128, kernel_size=(3, 3), stride=(1, 1), padding=(1, 1), bias=False)\n",
       "      (bn2): BatchNorm2d(128, eps=1e-05, momentum=0.1, affine=True, track_running_stats=True)\n",
       "      (conv3): Conv2d(128, 512, kernel_size=(1, 1), stride=(1, 1), bias=False)\n",
       "      (bn3): BatchNorm2d(512, eps=1e-05, momentum=0.1, affine=True, track_running_stats=True)\n",
       "      (relu): ReLU(inplace=True)\n",
       "    )\n",
       "    (3): Bottleneck(\n",
       "      (conv1): Conv2d(512, 128, kernel_size=(1, 1), stride=(1, 1), bias=False)\n",
       "      (bn1): BatchNorm2d(128, eps=1e-05, momentum=0.1, affine=True, track_running_stats=True)\n",
       "      (conv2): Conv2d(128, 128, kernel_size=(3, 3), stride=(1, 1), padding=(1, 1), bias=False)\n",
       "      (bn2): BatchNorm2d(128, eps=1e-05, momentum=0.1, affine=True, track_running_stats=True)\n",
       "      (conv3): Conv2d(128, 512, kernel_size=(1, 1), stride=(1, 1), bias=False)\n",
       "      (bn3): BatchNorm2d(512, eps=1e-05, momentum=0.1, affine=True, track_running_stats=True)\n",
       "      (relu): ReLU(inplace=True)\n",
       "    )\n",
       "  )\n",
       "  (layer3): Sequential(\n",
       "    (0): Bottleneck(\n",
       "      (conv1): Conv2d(512, 256, kernel_size=(1, 1), stride=(1, 1), bias=False)\n",
       "      (bn1): BatchNorm2d(256, eps=1e-05, momentum=0.1, affine=True, track_running_stats=True)\n",
       "      (conv2): Conv2d(256, 256, kernel_size=(3, 3), stride=(2, 2), padding=(1, 1), bias=False)\n",
       "      (bn2): BatchNorm2d(256, eps=1e-05, momentum=0.1, affine=True, track_running_stats=True)\n",
       "      (conv3): Conv2d(256, 1024, kernel_size=(1, 1), stride=(1, 1), bias=False)\n",
       "      (bn3): BatchNorm2d(1024, eps=1e-05, momentum=0.1, affine=True, track_running_stats=True)\n",
       "      (relu): ReLU(inplace=True)\n",
       "      (downsample): Sequential(\n",
       "        (0): Conv2d(512, 1024, kernel_size=(1, 1), stride=(2, 2), bias=False)\n",
       "        (1): BatchNorm2d(1024, eps=1e-05, momentum=0.1, affine=True, track_running_stats=True)\n",
       "      )\n",
       "    )\n",
       "    (1): Bottleneck(\n",
       "      (conv1): Conv2d(1024, 256, kernel_size=(1, 1), stride=(1, 1), bias=False)\n",
       "      (bn1): BatchNorm2d(256, eps=1e-05, momentum=0.1, affine=True, track_running_stats=True)\n",
       "      (conv2): Conv2d(256, 256, kernel_size=(3, 3), stride=(1, 1), padding=(1, 1), bias=False)\n",
       "      (bn2): BatchNorm2d(256, eps=1e-05, momentum=0.1, affine=True, track_running_stats=True)\n",
       "      (conv3): Conv2d(256, 1024, kernel_size=(1, 1), stride=(1, 1), bias=False)\n",
       "      (bn3): BatchNorm2d(1024, eps=1e-05, momentum=0.1, affine=True, track_running_stats=True)\n",
       "      (relu): ReLU(inplace=True)\n",
       "    )\n",
       "    (2): Bottleneck(\n",
       "      (conv1): Conv2d(1024, 256, kernel_size=(1, 1), stride=(1, 1), bias=False)\n",
       "      (bn1): BatchNorm2d(256, eps=1e-05, momentum=0.1, affine=True, track_running_stats=True)\n",
       "      (conv2): Conv2d(256, 256, kernel_size=(3, 3), stride=(1, 1), padding=(1, 1), bias=False)\n",
       "      (bn2): BatchNorm2d(256, eps=1e-05, momentum=0.1, affine=True, track_running_stats=True)\n",
       "      (conv3): Conv2d(256, 1024, kernel_size=(1, 1), stride=(1, 1), bias=False)\n",
       "      (bn3): BatchNorm2d(1024, eps=1e-05, momentum=0.1, affine=True, track_running_stats=True)\n",
       "      (relu): ReLU(inplace=True)\n",
       "    )\n",
       "    (3): Bottleneck(\n",
       "      (conv1): Conv2d(1024, 256, kernel_size=(1, 1), stride=(1, 1), bias=False)\n",
       "      (bn1): BatchNorm2d(256, eps=1e-05, momentum=0.1, affine=True, track_running_stats=True)\n",
       "      (conv2): Conv2d(256, 256, kernel_size=(3, 3), stride=(1, 1), padding=(1, 1), bias=False)\n",
       "      (bn2): BatchNorm2d(256, eps=1e-05, momentum=0.1, affine=True, track_running_stats=True)\n",
       "      (conv3): Conv2d(256, 1024, kernel_size=(1, 1), stride=(1, 1), bias=False)\n",
       "      (bn3): BatchNorm2d(1024, eps=1e-05, momentum=0.1, affine=True, track_running_stats=True)\n",
       "      (relu): ReLU(inplace=True)\n",
       "    )\n",
       "    (4): Bottleneck(\n",
       "      (conv1): Conv2d(1024, 256, kernel_size=(1, 1), stride=(1, 1), bias=False)\n",
       "      (bn1): BatchNorm2d(256, eps=1e-05, momentum=0.1, affine=True, track_running_stats=True)\n",
       "      (conv2): Conv2d(256, 256, kernel_size=(3, 3), stride=(1, 1), padding=(1, 1), bias=False)\n",
       "      (bn2): BatchNorm2d(256, eps=1e-05, momentum=0.1, affine=True, track_running_stats=True)\n",
       "      (conv3): Conv2d(256, 1024, kernel_size=(1, 1), stride=(1, 1), bias=False)\n",
       "      (bn3): BatchNorm2d(1024, eps=1e-05, momentum=0.1, affine=True, track_running_stats=True)\n",
       "      (relu): ReLU(inplace=True)\n",
       "    )\n",
       "    (5): Bottleneck(\n",
       "      (conv1): Conv2d(1024, 256, kernel_size=(1, 1), stride=(1, 1), bias=False)\n",
       "      (bn1): BatchNorm2d(256, eps=1e-05, momentum=0.1, affine=True, track_running_stats=True)\n",
       "      (conv2): Conv2d(256, 256, kernel_size=(3, 3), stride=(1, 1), padding=(1, 1), bias=False)\n",
       "      (bn2): BatchNorm2d(256, eps=1e-05, momentum=0.1, affine=True, track_running_stats=True)\n",
       "      (conv3): Conv2d(256, 1024, kernel_size=(1, 1), stride=(1, 1), bias=False)\n",
       "      (bn3): BatchNorm2d(1024, eps=1e-05, momentum=0.1, affine=True, track_running_stats=True)\n",
       "      (relu): ReLU(inplace=True)\n",
       "    )\n",
       "  )\n",
       "  (layer4): Sequential(\n",
       "    (0): Bottleneck(\n",
       "      (conv1): Conv2d(1024, 512, kernel_size=(1, 1), stride=(1, 1), bias=False)\n",
       "      (bn1): BatchNorm2d(512, eps=1e-05, momentum=0.1, affine=True, track_running_stats=True)\n",
       "      (conv2): Conv2d(512, 512, kernel_size=(3, 3), stride=(2, 2), padding=(1, 1), bias=False)\n",
       "      (bn2): BatchNorm2d(512, eps=1e-05, momentum=0.1, affine=True, track_running_stats=True)\n",
       "      (conv3): Conv2d(512, 2048, kernel_size=(1, 1), stride=(1, 1), bias=False)\n",
       "      (bn3): BatchNorm2d(2048, eps=1e-05, momentum=0.1, affine=True, track_running_stats=True)\n",
       "      (relu): ReLU(inplace=True)\n",
       "      (downsample): Sequential(\n",
       "        (0): Conv2d(1024, 2048, kernel_size=(1, 1), stride=(2, 2), bias=False)\n",
       "        (1): BatchNorm2d(2048, eps=1e-05, momentum=0.1, affine=True, track_running_stats=True)\n",
       "      )\n",
       "    )\n",
       "    (1): Bottleneck(\n",
       "      (conv1): Conv2d(2048, 512, kernel_size=(1, 1), stride=(1, 1), bias=False)\n",
       "      (bn1): BatchNorm2d(512, eps=1e-05, momentum=0.1, affine=True, track_running_stats=True)\n",
       "      (conv2): Conv2d(512, 512, kernel_size=(3, 3), stride=(1, 1), padding=(1, 1), bias=False)\n",
       "      (bn2): BatchNorm2d(512, eps=1e-05, momentum=0.1, affine=True, track_running_stats=True)\n",
       "      (conv3): Conv2d(512, 2048, kernel_size=(1, 1), stride=(1, 1), bias=False)\n",
       "      (bn3): BatchNorm2d(2048, eps=1e-05, momentum=0.1, affine=True, track_running_stats=True)\n",
       "      (relu): ReLU(inplace=True)\n",
       "    )\n",
       "    (2): Bottleneck(\n",
       "      (conv1): Conv2d(2048, 512, kernel_size=(1, 1), stride=(1, 1), bias=False)\n",
       "      (bn1): BatchNorm2d(512, eps=1e-05, momentum=0.1, affine=True, track_running_stats=True)\n",
       "      (conv2): Conv2d(512, 512, kernel_size=(3, 3), stride=(1, 1), padding=(1, 1), bias=False)\n",
       "      (bn2): BatchNorm2d(512, eps=1e-05, momentum=0.1, affine=True, track_running_stats=True)\n",
       "      (conv3): Conv2d(512, 2048, kernel_size=(1, 1), stride=(1, 1), bias=False)\n",
       "      (bn3): BatchNorm2d(2048, eps=1e-05, momentum=0.1, affine=True, track_running_stats=True)\n",
       "      (relu): ReLU(inplace=True)\n",
       "    )\n",
       "  )\n",
       "  (avgpool): AdaptiveAvgPool2d(output_size=(1, 1))\n",
       "  (fc): Sequential(\n",
       "    (0): Linear(in_features=2048, out_features=8, bias=True)\n",
       "    (1): Sigmoid()\n",
       "  )\n",
       ")"
      ]
     },
     "execution_count": 15,
     "metadata": {},
     "output_type": "execute_result"
    },
    {
     "name": "stdout",
     "output_type": "stream",
     "text": [
      "time: 2.95 s (started: 2022-10-30 16:22:54 +00:00)\n"
     ]
    }
   ],
   "source": [
    "model1=models.resnet50(pretrained=False)\n",
    "model1.fc=nn.Sequential(nn.Linear(2048, 8), nn.Sigmoid())\n",
    "checkpoint = torch.load('../input/isic2019hairresnet50/resnet50_wt_epoch_9_batch_78_auc_0.6426.pt')\n",
    "model1.load_state_dict(checkpoint['model_state_dict'],strict=False)\n",
    "del checkpoint\n",
    "model1.to(device)"
   ]
  },
  {
   "cell_type": "code",
   "execution_count": 16,
   "id": "ef6b837e",
   "metadata": {
    "execution": {
     "iopub.execute_input": "2022-10-30T16:22:57.388743Z",
     "iopub.status.busy": "2022-10-30T16:22:57.388449Z",
     "iopub.status.idle": "2022-10-30T16:23:13.989469Z",
     "shell.execute_reply": "2022-10-30T16:23:13.987938Z"
    },
    "papermill": {
     "duration": 16.613592,
     "end_time": "2022-10-30T16:23:13.991675",
     "exception": false,
     "start_time": "2022-10-30T16:22:57.378083",
     "status": "completed"
    },
    "tags": []
   },
   "outputs": [
    {
     "name": "stdout",
     "output_type": "stream",
     "text": [
      "sensitivity-[0.36315789 0.91457101 0.         0.00549451 0.17422868 0.\n",
      " 0.         0.        ]\n",
      "specicivity-[0.3929385  0.6287821  0.         0.14285714 0.19123506 0.\n",
      " 0.         0.        ]\n",
      "Balanced Accuracy\n",
      "0.18218151016057793\n",
      "Confusion Matrix\n",
      "Figure(432x288)\n",
      "f1-score\n",
      "0.1644495139807005\n",
      "auc-list\n",
      "\n",
      "\n",
      "[0.68525075 0.85851222 0.74977853 0.55748324 0.57535775 0.43993548\n",
      " 0.6728903  0.59699905]\n",
      "accuracy-list\n",
      "\n",
      "\n",
      "[0.83383459 0.71823308 0.86879699 0.96578947 0.89642857 0.9906015\n",
      " 0.99003759 0.97518797]\n",
      "mean-auc0.642025916405949\n",
      "mean-auc0.9048637218045112\n"
     ]
    },
    {
     "name": "stderr",
     "output_type": "stream",
     "text": [
      "/opt/conda/lib/python3.7/site-packages/ipykernel_launcher.py:28: RuntimeWarning: invalid value encountered in long_scalars\n",
      "/opt/conda/lib/python3.7/site-packages/ipykernel_launcher.py:65: RuntimeWarning: invalid value encountered in true_divide\n"
     ]
    },
    {
     "data": {
      "image/png": "[encoded data removed]",
      "text/plain": [
       "<Figure size 432x288 with 2 Axes>"
      ]
     },
     "metadata": {
      "needs_background": "light"
     },
     "output_type": "display_data"
    },
    {
     "name": "stdout",
     "output_type": "stream",
     "text": [
      "time: 16.6 s (started: 2022-10-30 16:22:57 +00:00)\n"
     ]
    }
   ],
   "source": [
    "auc1,acc1,pred_lst1,gt_lst1=compute_predictions(model1)"
   ]
  },
  {
   "cell_type": "code",
   "execution_count": 17,
   "id": "172381df",
   "metadata": {
    "execution": {
     "iopub.execute_input": "2022-10-30T16:23:14.013675Z",
     "iopub.status.busy": "2022-10-30T16:23:14.013373Z",
     "iopub.status.idle": "2022-10-30T16:23:45.838459Z",
     "shell.execute_reply": "2022-10-30T16:23:45.837105Z"
    },
    "papermill": {
     "duration": 31.838794,
     "end_time": "2022-10-30T16:23:45.840713",
     "exception": false,
     "start_time": "2022-10-30T16:23:14.001919",
     "status": "completed"
    },
    "tags": []
   },
   "outputs": [
    {
     "name": "stdout",
     "output_type": "stream",
     "text": [
      "Computing Test Predictions\n",
      "\n",
      "\n",
      "[0.66728604 0.84348896 0.66512066 0.50142442 0.62443701 0.5746167\n",
      " 0.68808279 0.56180638]\n",
      "\n",
      "\n",
      "[0.82612782 0.74266917 0.86879699 0.96578947 0.89642857 0.9906015\n",
      " 0.99003759 0.97518797]\n",
      "0.6407828711468411\n",
      "0.9069548872180451\n",
      "\n",
      "\n",
      "[0.68525075 0.85851222 0.74977853 0.55748324 0.57535775 0.43993548\n",
      " 0.6728903  0.59699905]\n",
      "\n",
      "\n",
      "[0.83383459 0.71823308 0.86879699 0.96578947 0.89642857 0.9906015\n",
      " 0.99003759 0.97518797]\n",
      "0.642025916405949\n",
      "0.9048637218045112\n",
      "auc-list\n",
      "\n",
      "\n",
      "[0.70152884 0.86588266 0.75105203 0.55043225 0.61949356 0.49191271\n",
      " 0.71148232 0.59680411]\n",
      "accuracy-list\n",
      "\n",
      "\n",
      "[0.83195489 0.73101504 0.86879699 0.96578947 0.89642857 0.9906015\n",
      " 0.99003759 0.97518797]\n",
      "mean-auc0.6610735590129948\n",
      "mean-auc0.9062265037593985\n",
      "sensitivity-[0.33368421 0.92936391 0.         0.         0.2123412  0.\n",
      " 0.         0.        ]\n",
      "specicivity-[0.40228426 0.63491662 0.         0.         0.20454545 0.\n",
      " 0.         0.        ]\n",
      "Balanced Accuracy\n",
      "0.18442366420923767\n",
      "Confusion Matrix\n"
     ]
    },
    {
     "name": "stderr",
     "output_type": "stream",
     "text": [
      "/opt/conda/lib/python3.7/site-packages/ipykernel_launcher.py:28: RuntimeWarning: invalid value encountered in long_scalars\n",
      "/opt/conda/lib/python3.7/site-packages/ipykernel_launcher.py:65: RuntimeWarning: invalid value encountered in true_divide\n"
     ]
    },
    {
     "name": "stdout",
     "output_type": "stream",
     "text": [
      "Figure(432x288)\n",
      "f1-score\n",
      "0.16594820595294738\n"
     ]
    },
    {
     "data": {
      "image/png": "[encoded data removed]",
      "text/plain": [
       "<Figure size 432x288 with 2 Axes>"
      ]
     },
     "metadata": {
      "needs_background": "light"
     },
     "output_type": "display_data"
    },
    {
     "name": "stdout",
     "output_type": "stream",
     "text": [
      "time: 31.8 s (started: 2022-10-30 16:23:14 +00:00)\n"
     ]
    }
   ],
   "source": [
    "from tqdm._tqdm_notebook import tqdm_notebook\n",
    "def compute_predictions(model):\n",
    "    model.eval()\n",
    "    pred_lst4=[]\n",
    "    gt_lst4=[]\n",
    "    for i, sample in enumerate(dataloaders['val']):    \n",
    "        images=sample['image']\n",
    "        labels=sample['target']\n",
    "        del sample\n",
    "        images = images.to(device)\n",
    "        labels=labels.numpy()\n",
    "        outputs=model(images)\n",
    "        outputs=outputs.detach()\n",
    "        outputs=outputs.cpu()\n",
    "        outputs=outputs.numpy()\n",
    "        pred_lst4.append(outputs)\n",
    "        gt_lst4.append(labels)\n",
    "        del labels, outputs, images\n",
    "\n",
    "    pred_lst=np.concatenate(pred_lst4, axis=0)\n",
    "    gt_lst=np.concatenate(gt_lst4, axis=0)\n",
    "    auc_lst=[]\n",
    "    acc_lst=[]\n",
    "    for k in range(0,8):\n",
    "        tmp_gt=gt_lst[:, k]\n",
    "        tmp_pred=pred_lst[:,k]\n",
    "        tmp_acc=accuracy_score(tmp_gt, tmp_pred.round())\n",
    "        acc_lst.append(tmp_acc)\n",
    "        tmp_auc=roc_auc_score(tmp_gt, tmp_pred)\n",
    "        auc_lst.append(tmp_auc)\n",
    "\n",
    "    auc_lst=np.array(auc_lst)\n",
    "    acc_lst=np.array(acc_lst)\n",
    "    print('\\n')\n",
    "    print(auc_lst)\n",
    "    print('\\n')\n",
    "    print(acc_lst)\n",
    "    auc=np.mean(auc_lst)\n",
    "    acc = np.mean(acc_lst)\n",
    "    print(auc)\n",
    "    print(acc)\n",
    "    f1s=0.0\n",
    "    return auc,acc,pred_lst,gt_lst\n",
    "\n",
    "print('Computing Test Predictions')\n",
    "auc1,acc1,pred_lst1,gt_lst1 = compute_predictions(model)\n",
    "auc2,acc2,pred_lst2,gt_lst2 = compute_predictions(model1)\n",
    "\n",
    "pred_lst = (pred_lst1+pred_lst2)/2\n",
    "gt_lst = (gt_lst1+gt_lst2)/2\n",
    "fusion_matrix = FusionMatrix(8)\n",
    "\n",
    "auc_lst=[]\n",
    "acc_lst=[]\n",
    "for k in range(0,8):\n",
    "    tmp_gt=gt_lst[:, k]\n",
    "    tmp_pred=pred_lst[:,k]\n",
    "    tmp_acc=accuracy_score(tmp_gt, tmp_pred.round())\n",
    "    acc_lst.append(tmp_acc)\n",
    "    tmp_auc=roc_auc_score(tmp_gt, tmp_pred)\n",
    "    auc_lst.append(tmp_auc)\n",
    "\n",
    "\n",
    "auc_lst=np.array(auc_lst)\n",
    "\n",
    "acc_lst=np.array(acc_lst)\n",
    "print(\"auc-list\")\n",
    "print('\\n')\n",
    "print(auc_lst)\n",
    "print(\"accuracy-list\")\n",
    "print('\\n')\n",
    "print(acc_lst)\n",
    "auc=np.mean(auc_lst)\n",
    "acc = np.mean(acc_lst)\n",
    "print(\"mean-auc\"+str(auc))\n",
    "print(\"mean-auc\"+str(acc))\n",
    "\n",
    "#pred_lst=np.concatenate(pred_lst, axis=0)\n",
    "#gt_lst=np.concatenate(gt_lst, axis=0)\n",
    "pred_lst2 = np.argmax(pred_lst, axis=1)\n",
    "gt_lst2 = np.argmax(gt_lst, axis=1)\n",
    "fusion_matrix.update(pred_lst2, gt_lst2)\n",
    "print(\"sensitivity-\"+str(fusion_matrix.get_rec_per_class()))\n",
    "print(\"specicivity-\"+str(fusion_matrix.get_pre_per_class()))\n",
    "print(\"Balanced Accuracy\")\n",
    "print(fusion_matrix.get_balance_accuracy())\n",
    "print(\"Confusion Matrix\")\n",
    "print(fusion_matrix.plot_confusion_matrix())\n",
    "print(\"f1-score\")\n",
    "print(fusion_matrix.get_f1_score())\n",
    "\n",
    "#roc_auc = get_roc_auc(pred_lst, gt_lst)\n",
    "#print(roc_auc)\n"
   ]
  },
  {
   "cell_type": "code",
   "execution_count": 18,
   "id": "5a0ab4cd",
   "metadata": {
    "execution": {
     "iopub.execute_input": "2022-10-30T16:23:45.863045Z",
     "iopub.status.busy": "2022-10-30T16:23:45.862728Z",
     "iopub.status.idle": "2022-10-30T16:23:46.545290Z",
     "shell.execute_reply": "2022-10-30T16:23:46.544073Z"
    },
    "papermill": {
     "duration": 0.696983,
     "end_time": "2022-10-30T16:23:46.548229",
     "exception": false,
     "start_time": "2022-10-30T16:23:45.851246",
     "status": "completed"
    },
    "tags": []
   },
   "outputs": [
    {
     "name": "stdout",
     "output_type": "stream",
     "text": [
      "time: 674 ms (started: 2022-10-30 16:23:45 +00:00)\n"
     ]
    }
   ],
   "source": [
    "#helper function\n",
    "def get_label(row):\n",
    "  for c in labels.columns:\n",
    "    if row[c]==1:\n",
    "      return c\n",
    "\n",
    "labels = pd.read_csv('../input/isiccsvfile/ISIC_2019_Training_GroundTruth.csv')\n",
    "labels['l']=labels.apply(get_label, axis=1)\n",
    "X=labels.drop(['l','UNK'], axis=1)\n",
    "y = labels['l']\n",
    "X_train, X_test, y_train, y_test = train_test_split(X,y, test_size=0.21, random_state=42,stratify=y)\n",
    "X_train['image'] = '../input/pp2isic/preprocessed-segment/'+X_train['image']+ '.jpg'\n",
    "X_test['image'] = '../input/pp2isic/preprocessed-segment/'+X_test['image']+ '.jpg'\n",
    "X_test.to_csv('validation.csv', index=False)\n",
    "X_train.to_csv('training.csv', index=False)\n",
    "train_path = 'training.csv'\n",
    "class_path = 'validation_class.csv'\n",
    "eval_path = 'validation.csv'\n",
    "train_img_path = '../input/pp2isic/preprocessed-segment'\n"
   ]
  },
  {
   "cell_type": "code",
   "execution_count": 19,
   "id": "37e7bbca",
   "metadata": {
    "execution": {
     "iopub.execute_input": "2022-10-30T16:23:46.571991Z",
     "iopub.status.busy": "2022-10-30T16:23:46.571661Z",
     "iopub.status.idle": "2022-10-30T16:23:46.583203Z",
     "shell.execute_reply": "2022-10-30T16:23:46.582150Z"
    },
    "papermill": {
     "duration": 0.027417,
     "end_time": "2022-10-30T16:23:46.587192",
     "exception": false,
     "start_time": "2022-10-30T16:23:46.559775",
     "status": "completed"
    },
    "tags": []
   },
   "outputs": [
    {
     "name": "stdout",
     "output_type": "stream",
     "text": [
      "time: 1.92 ms (started: 2022-10-30 16:23:46 +00:00)\n"
     ]
    }
   ],
   "source": [
    "class_names = ['MEL', 'NV', 'BCC', 'AK', 'BKL', 'DF', 'VASC', 'SCC', 'UNK']\n",
    "\n",
    "def read_object_labels_csv(file,phase, header=True):\n",
    "    img_t=[]\n",
    "    if phase == 'Train':\n",
    "      dir = 'training.csv'\n",
    "    elif phase == \"Valid\":\n",
    "      dir = 'validation.csv'\n",
    "    with open(dir, \"r\") as f:\n",
    "        csvReader = csv.reader(f)\n",
    "        next(csvReader, None)\n",
    "        k=0\n",
    "        for line in csvReader:\n",
    "            k+=1\n",
    "            image_name= line[0]\n",
    "            label = line[1:9]\n",
    "            label = torch.from_numpy(np.array(label, dtype=np.float64))\n",
    "            item = (image_name,label)\n",
    "            img_t.append(item)\n",
    "    return img_t\n",
    "\n",
    "\n",
    "class CHEXPERT(Dataset):\n",
    "    def __init__(self, root, phase, csv_path,transform=None):\n",
    "        self.root = os.path.abspath(root)\n",
    "        self.phase = phase\n",
    "        self.transform = transform\n",
    "        self.path_images = self.root\n",
    "        file_csv = pd.read_csv(csv_path)\n",
    "        self.classes = class_names\n",
    "        self.images = read_object_labels_csv(file_csv,phase)\n",
    "        print('[dataset] classification phase={} number of classes={}  number of images={}'.format(phase, len(self.classes), len(self.images)))\n",
    "\n",
    "    def __getitem__(self, index):\n",
    "        filename, target = self.images[index]\n",
    "        filename = filename\n",
    "        img = Image.open(filename).convert('RGB')\n",
    "        if self.transform is not None:\n",
    "            img = self.transform(img)\n",
    "        \n",
    "        data = {'image':img, 'target': target}\n",
    "        return data\n",
    "\n",
    "    def __len__(self):\n",
    "        return len(self.images)\n",
    "\n",
    "    def get_number_classes(self):\n",
    "        return len(self.classes)\n"
   ]
  },
  {
   "cell_type": "code",
   "execution_count": 20,
   "id": "6eb2880d",
   "metadata": {
    "execution": {
     "iopub.execute_input": "2022-10-30T16:23:46.610078Z",
     "iopub.status.busy": "2022-10-30T16:23:46.609787Z",
     "iopub.status.idle": "2022-10-30T16:23:46.946882Z",
     "shell.execute_reply": "2022-10-30T16:23:46.945174Z"
    },
    "papermill": {
     "duration": 0.351211,
     "end_time": "2022-10-30T16:23:46.949853",
     "exception": false,
     "start_time": "2022-10-30T16:23:46.598642",
     "status": "completed"
    },
    "tags": []
   },
   "outputs": [
    {
     "name": "stdout",
     "output_type": "stream",
     "text": [
      "[dataset] classification phase=Train number of classes=9  number of images=20011\n",
      "[dataset] classification phase=Valid number of classes=9  number of images=5320\n",
      "time: 330 ms (started: 2022-10-30 16:23:46 +00:00)\n"
     ]
    }
   ],
   "source": [
    "data_transforms = {\n",
    "    'train': transforms.Compose([\n",
    "        transforms.Resize((224,224)),\n",
    "        transforms.RandomHorizontalFlip(),\n",
    "        transforms.ToTensor(),\n",
    "        transforms.Normalize([0.485, 0.456, 0.406], [0.229, 0.224, 0.225])\n",
    "    ]),\n",
    "    'val': transforms.Compose([\n",
    "        transforms.Resize((224,224)),\n",
    "        transforms.ToTensor(),\n",
    "        transforms.Normalize([0.485, 0.456, 0.406], [0.229, 0.224, 0.225])\n",
    "    ]),\n",
    "}\n",
    "train_dataset = CHEXPERT(train_img_path, transform=data_transforms['train'], phase='Train',csv_path=train_path)\n",
    "val_dataset = CHEXPERT(train_img_path, transform=data_transforms['val'],phase='Valid',csv_path=eval_path)\n",
    "\n",
    "image_datasets ={'train': train_dataset, 'val': val_dataset}\n",
    "dataloaders = {x: torch.utils.data.DataLoader(image_datasets[x], batch_size=16,shuffle=False, num_workers=2)for x in ['train', 'val']}\n",
    "dataset_sizes = {x: len(image_datasets[x]) for x in ['train', 'val']}"
   ]
  },
  {
   "cell_type": "code",
   "execution_count": 21,
   "id": "c229f93a",
   "metadata": {
    "execution": {
     "iopub.execute_input": "2022-10-30T16:23:46.973558Z",
     "iopub.status.busy": "2022-10-30T16:23:46.973253Z",
     "iopub.status.idle": "2022-10-30T16:23:47.811107Z",
     "shell.execute_reply": "2022-10-30T16:23:47.809597Z"
    },
    "papermill": {
     "duration": 0.851996,
     "end_time": "2022-10-30T16:23:47.813196",
     "exception": false,
     "start_time": "2022-10-30T16:23:46.961200",
     "status": "completed"
    },
    "tags": []
   },
   "outputs": [
    {
     "data": {
      "image/png": "[encoded data removed]",
      "text/plain": [
       "<Figure size 432x288 with 1 Axes>"
      ]
     },
     "metadata": {
      "needs_background": "light"
     },
     "output_type": "display_data"
    },
    {
     "name": "stdout",
     "output_type": "stream",
     "text": [
      "time: 831 ms (started: 2022-10-30 16:23:46 +00:00)\n"
     ]
    }
   ],
   "source": [
    "def imshow(inp, title=None):\n",
    "    inp = inp.numpy().transpose((1, 2, 0))\n",
    "    mean = np.array([0.6678, 0.5298, 0.5245])\n",
    "    std = np.array([0.1333, 0.1476, 0.1590])\n",
    "    inp = std * inp + mean\n",
    "    inp = np.clip(inp, 0, 1)\n",
    "    plt.imshow(inp)\n",
    "    if title is not None:\n",
    "        plt.title(title)\n",
    "    plt.pause(0.001)  # pause a bit so that plots are updated\n",
    "\n",
    "\n",
    "# Get a batch of training data\n",
    "data = next(iter(dataloaders['train']))\n",
    "ps = data['target'].numpy()\n",
    "l = np.where(ps==1.0)\n",
    "l = l[1].astype(int)\n",
    "# Make a grid from batch\n",
    "out = torchvision.utils.make_grid(data['image'])\n",
    "imshow(out, title=[class_names[x] for x in l])"
   ]
  },
  {
   "cell_type": "code",
   "execution_count": 22,
   "id": "08446be2",
   "metadata": {
    "execution": {
     "iopub.execute_input": "2022-10-30T16:23:47.837846Z",
     "iopub.status.busy": "2022-10-30T16:23:47.837137Z",
     "iopub.status.idle": "2022-10-30T16:23:47.851454Z",
     "shell.execute_reply": "2022-10-30T16:23:47.850315Z"
    },
    "papermill": {
     "duration": 0.029364,
     "end_time": "2022-10-30T16:23:47.853975",
     "exception": false,
     "start_time": "2022-10-30T16:23:47.824611",
     "status": "completed"
    },
    "tags": []
   },
   "outputs": [
    {
     "name": "stdout",
     "output_type": "stream",
     "text": [
      "time: 2.12 ms (started: 2022-10-30 16:23:47 +00:00)\n"
     ]
    }
   ],
   "source": [
    "from tqdm._tqdm_notebook import tqdm_notebook\n",
    "def compute_predictions(model):\n",
    "    model.eval()\n",
    "    fusion_matrix = FusionMatrix(8)\n",
    "    pred_lst=[]\n",
    "    gt_lst=[]\n",
    "    for i, sample in enumerate(dataloaders['val']):    \n",
    "        images=sample['image']\n",
    "        labels=sample['target']\n",
    "        del sample\n",
    "        images = images.to(device)\n",
    "        labels=labels.numpy()\n",
    "        outputs=model(images)\n",
    "        outputs=outputs.detach()\n",
    "        outputs=outputs.cpu()\n",
    "        outputs=outputs.numpy()\n",
    "        pred_lst.append(outputs)\n",
    "        gt_lst.append(labels)\n",
    "        del labels, outputs, images\n",
    "\n",
    "    pred_lst=np.concatenate(pred_lst, axis=0)\n",
    "    gt_lst=np.concatenate(gt_lst, axis=0)\n",
    "    pred_lst2 = np.argmax(pred_lst, axis=1)\n",
    "    gt_lst2 = np.argmax(gt_lst, axis=1)\n",
    "    fusion_matrix.update(pred_lst2, gt_lst2)\n",
    "    print(\"sensitivity-\"+str(fusion_matrix.get_rec_per_class()))\n",
    "    print(\"specicivity-\"+str(fusion_matrix.get_pre_per_class()))\n",
    "    print(\"Balanced Accuracy\")\n",
    "    print(fusion_matrix.get_balance_accuracy())\n",
    "    print(\"Confusion Matrix\")\n",
    "    print(fusion_matrix.plot_confusion_matrix())\n",
    "    print(\"f1-score\")\n",
    "    print(fusion_matrix.get_f1_score())\n",
    "    \n",
    "    #roc_auc = get_roc_auc(pred_lst, gt_lst)\n",
    "    #print(roc_auc)\n",
    "    auc_lst=[]\n",
    "    acc_lst=[]\n",
    "    for k in range(0,8):\n",
    "        tmp_gt=gt_lst[:, k]\n",
    "        tmp_pred=pred_lst[:,k]\n",
    "        tmp_acc=accuracy_score(tmp_gt, tmp_pred.round())\n",
    "        acc_lst.append(tmp_acc)\n",
    "        tmp_auc=roc_auc_score(tmp_gt, tmp_pred)\n",
    "        auc_lst.append(tmp_auc)\n",
    "\n",
    "    \n",
    "    auc_lst=np.array(auc_lst)\n",
    "    \n",
    "    acc_lst=np.array(acc_lst)\n",
    "    print(\"auc-list\")\n",
    "    print('\\n')\n",
    "    print(auc_lst)\n",
    "    print(\"accuracy-list\")\n",
    "    print('\\n')\n",
    "    print(acc_lst)\n",
    "    auc=np.mean(auc_lst)\n",
    "    acc = np.mean(acc_lst)\n",
    "    print(\"mean-auc\"+str(auc))\n",
    "    print(\"mean-auc\"+str(acc))\n",
    "    f1s=0.0\n",
    "    return auc,acc,pred_lst,gt_lst"
   ]
  },
  {
   "cell_type": "code",
   "execution_count": 23,
   "id": "5cd34b7c",
   "metadata": {
    "execution": {
     "iopub.execute_input": "2022-10-30T16:23:47.878008Z",
     "iopub.status.busy": "2022-10-30T16:23:47.877353Z",
     "iopub.status.idle": "2022-10-30T16:23:48.605437Z",
     "shell.execute_reply": "2022-10-30T16:23:48.604215Z"
    },
    "papermill": {
     "duration": 0.742673,
     "end_time": "2022-10-30T16:23:48.608073",
     "exception": false,
     "start_time": "2022-10-30T16:23:47.865400",
     "status": "completed"
    },
    "scrolled": true,
    "tags": []
   },
   "outputs": [
    {
     "data": {
      "text/plain": [
       "ResNet(\n",
       "  (conv1): Conv2d(3, 64, kernel_size=(7, 7), stride=(2, 2), padding=(3, 3), bias=False)\n",
       "  (bn1): BatchNorm2d(64, eps=1e-05, momentum=0.1, affine=True, track_running_stats=True)\n",
       "  (relu): ReLU(inplace=True)\n",
       "  (maxpool): MaxPool2d(kernel_size=3, stride=2, padding=1, dilation=1, ceil_mode=False)\n",
       "  (layer1): Sequential(\n",
       "    (0): Bottleneck(\n",
       "      (conv1): Conv2d(64, 64, kernel_size=(1, 1), stride=(1, 1), bias=False)\n",
       "      (bn1): BatchNorm2d(64, eps=1e-05, momentum=0.1, affine=True, track_running_stats=True)\n",
       "      (conv2): Conv2d(64, 64, kernel_size=(3, 3), stride=(1, 1), padding=(1, 1), bias=False)\n",
       "      (bn2): BatchNorm2d(64, eps=1e-05, momentum=0.1, affine=True, track_running_stats=True)\n",
       "      (conv3): Conv2d(64, 256, kernel_size=(1, 1), stride=(1, 1), bias=False)\n",
       "      (bn3): BatchNorm2d(256, eps=1e-05, momentum=0.1, affine=True, track_running_stats=True)\n",
       "      (relu): ReLU(inplace=True)\n",
       "      (downsample): Sequential(\n",
       "        (0): Conv2d(64, 256, kernel_size=(1, 1), stride=(1, 1), bias=False)\n",
       "        (1): BatchNorm2d(256, eps=1e-05, momentum=0.1, affine=True, track_running_stats=True)\n",
       "      )\n",
       "    )\n",
       "    (1): Bottleneck(\n",
       "      (conv1): Conv2d(256, 64, kernel_size=(1, 1), stride=(1, 1), bias=False)\n",
       "      (bn1): BatchNorm2d(64, eps=1e-05, momentum=0.1, affine=True, track_running_stats=True)\n",
       "      (conv2): Conv2d(64, 64, kernel_size=(3, 3), stride=(1, 1), padding=(1, 1), bias=False)\n",
       "      (bn2): BatchNorm2d(64, eps=1e-05, momentum=0.1, affine=True, track_running_stats=True)\n",
       "      (conv3): Conv2d(64, 256, kernel_size=(1, 1), stride=(1, 1), bias=False)\n",
       "      (bn3): BatchNorm2d(256, eps=1e-05, momentum=0.1, affine=True, track_running_stats=True)\n",
       "      (relu): ReLU(inplace=True)\n",
       "    )\n",
       "    (2): Bottleneck(\n",
       "      (conv1): Conv2d(256, 64, kernel_size=(1, 1), stride=(1, 1), bias=False)\n",
       "      (bn1): BatchNorm2d(64, eps=1e-05, momentum=0.1, affine=True, track_running_stats=True)\n",
       "      (conv2): Conv2d(64, 64, kernel_size=(3, 3), stride=(1, 1), padding=(1, 1), bias=False)\n",
       "      (bn2): BatchNorm2d(64, eps=1e-05, momentum=0.1, affine=True, track_running_stats=True)\n",
       "      (conv3): Conv2d(64, 256, kernel_size=(1, 1), stride=(1, 1), bias=False)\n",
       "      (bn3): BatchNorm2d(256, eps=1e-05, momentum=0.1, affine=True, track_running_stats=True)\n",
       "      (relu): ReLU(inplace=True)\n",
       "    )\n",
       "  )\n",
       "  (layer2): Sequential(\n",
       "    (0): Bottleneck(\n",
       "      (conv1): Conv2d(256, 128, kernel_size=(1, 1), stride=(1, 1), bias=False)\n",
       "      (bn1): BatchNorm2d(128, eps=1e-05, momentum=0.1, affine=True, track_running_stats=True)\n",
       "      (conv2): Conv2d(128, 128, kernel_size=(3, 3), stride=(2, 2), padding=(1, 1), bias=False)\n",
       "      (bn2): BatchNorm2d(128, eps=1e-05, momentum=0.1, affine=True, track_running_stats=True)\n",
       "      (conv3): Conv2d(128, 512, kernel_size=(1, 1), stride=(1, 1), bias=False)\n",
       "      (bn3): BatchNorm2d(512, eps=1e-05, momentum=0.1, affine=True, track_running_stats=True)\n",
       "      (relu): ReLU(inplace=True)\n",
       "      (downsample): Sequential(\n",
       "        (0): Conv2d(256, 512, kernel_size=(1, 1), stride=(2, 2), bias=False)\n",
       "        (1): BatchNorm2d(512, eps=1e-05, momentum=0.1, affine=True, track_running_stats=True)\n",
       "      )\n",
       "    )\n",
       "    (1): Bottleneck(\n",
       "      (conv1): Conv2d(512, 128, kernel_size=(1, 1), stride=(1, 1), bias=False)\n",
       "      (bn1): BatchNorm2d(128, eps=1e-05, momentum=0.1, affine=True, track_running_stats=True)\n",
       "      (conv2): Conv2d(128, 128, kernel_size=(3, 3), stride=(1, 1), padding=(1, 1), bias=False)\n",
       "      (bn2): BatchNorm2d(128, eps=1e-05, momentum=0.1, affine=True, track_running_stats=True)\n",
       "      (conv3): Conv2d(128, 512, kernel_size=(1, 1), stride=(1, 1), bias=False)\n",
       "      (bn3): BatchNorm2d(512, eps=1e-05, momentum=0.1, affine=True, track_running_stats=True)\n",
       "      (relu): ReLU(inplace=True)\n",
       "    )\n",
       "    (2): Bottleneck(\n",
       "      (conv1): Conv2d(512, 128, kernel_size=(1, 1), stride=(1, 1), bias=False)\n",
       "      (bn1): BatchNorm2d(128, eps=1e-05, momentum=0.1, affine=True, track_running_stats=True)\n",
       "      (conv2): Conv2d(128, 128, kernel_size=(3, 3), stride=(1, 1), padding=(1, 1), bias=False)\n",
       "      (bn2): BatchNorm2d(128, eps=1e-05, momentum=0.1, affine=True, track_running_stats=True)\n",
       "      (conv3): Conv2d(128, 512, kernel_size=(1, 1), stride=(1, 1), bias=False)\n",
       "      (bn3): BatchNorm2d(512, eps=1e-05, momentum=0.1, affine=True, track_running_stats=True)\n",
       "      (relu): ReLU(inplace=True)\n",
       "    )\n",
       "    (3): Bottleneck(\n",
       "      (conv1): Conv2d(512, 128, kernel_size=(1, 1), stride=(1, 1), bias=False)\n",
       "      (bn1): BatchNorm2d(128, eps=1e-05, momentum=0.1, affine=True, track_running_stats=True)\n",
       "      (conv2): Conv2d(128, 128, kernel_size=(3, 3), stride=(1, 1), padding=(1, 1), bias=False)\n",
       "      (bn2): BatchNorm2d(128, eps=1e-05, momentum=0.1, affine=True, track_running_stats=True)\n",
       "      (conv3): Conv2d(128, 512, kernel_size=(1, 1), stride=(1, 1), bias=False)\n",
       "      (bn3): BatchNorm2d(512, eps=1e-05, momentum=0.1, affine=True, track_running_stats=True)\n",
       "      (relu): ReLU(inplace=True)\n",
       "    )\n",
       "  )\n",
       "  (layer3): Sequential(\n",
       "    (0): Bottleneck(\n",
       "      (conv1): Conv2d(512, 256, kernel_size=(1, 1), stride=(1, 1), bias=False)\n",
       "      (bn1): BatchNorm2d(256, eps=1e-05, momentum=0.1, affine=True, track_running_stats=True)\n",
       "      (conv2): Conv2d(256, 256, kernel_size=(3, 3), stride=(2, 2), padding=(1, 1), bias=False)\n",
       "      (bn2): BatchNorm2d(256, eps=1e-05, momentum=0.1, affine=True, track_running_stats=True)\n",
       "      (conv3): Conv2d(256, 1024, kernel_size=(1, 1), stride=(1, 1), bias=False)\n",
       "      (bn3): BatchNorm2d(1024, eps=1e-05, momentum=0.1, affine=True, track_running_stats=True)\n",
       "      (relu): ReLU(inplace=True)\n",
       "      (downsample): Sequential(\n",
       "        (0): Conv2d(512, 1024, kernel_size=(1, 1), stride=(2, 2), bias=False)\n",
       "        (1): BatchNorm2d(1024, eps=1e-05, momentum=0.1, affine=True, track_running_stats=True)\n",
       "      )\n",
       "    )\n",
       "    (1): Bottleneck(\n",
       "      (conv1): Conv2d(1024, 256, kernel_size=(1, 1), stride=(1, 1), bias=False)\n",
       "      (bn1): BatchNorm2d(256, eps=1e-05, momentum=0.1, affine=True, track_running_stats=True)\n",
       "      (conv2): Conv2d(256, 256, kernel_size=(3, 3), stride=(1, 1), padding=(1, 1), bias=False)\n",
       "      (bn2): BatchNorm2d(256, eps=1e-05, momentum=0.1, affine=True, track_running_stats=True)\n",
       "      (conv3): Conv2d(256, 1024, kernel_size=(1, 1), stride=(1, 1), bias=False)\n",
       "      (bn3): BatchNorm2d(1024, eps=1e-05, momentum=0.1, affine=True, track_running_stats=True)\n",
       "      (relu): ReLU(inplace=True)\n",
       "    )\n",
       "    (2): Bottleneck(\n",
       "      (conv1): Conv2d(1024, 256, kernel_size=(1, 1), stride=(1, 1), bias=False)\n",
       "      (bn1): BatchNorm2d(256, eps=1e-05, momentum=0.1, affine=True, track_running_stats=True)\n",
       "      (conv2): Conv2d(256, 256, kernel_size=(3, 3), stride=(1, 1), padding=(1, 1), bias=False)\n",
       "      (bn2): BatchNorm2d(256, eps=1e-05, momentum=0.1, affine=True, track_running_stats=True)\n",
       "      (conv3): Conv2d(256, 1024, kernel_size=(1, 1), stride=(1, 1), bias=False)\n",
       "      (bn3): BatchNorm2d(1024, eps=1e-05, momentum=0.1, affine=True, track_running_stats=True)\n",
       "      (relu): ReLU(inplace=True)\n",
       "    )\n",
       "    (3): Bottleneck(\n",
       "      (conv1): Conv2d(1024, 256, kernel_size=(1, 1), stride=(1, 1), bias=False)\n",
       "      (bn1): BatchNorm2d(256, eps=1e-05, momentum=0.1, affine=True, track_running_stats=True)\n",
       "      (conv2): Conv2d(256, 256, kernel_size=(3, 3), stride=(1, 1), padding=(1, 1), bias=False)\n",
       "      (bn2): BatchNorm2d(256, eps=1e-05, momentum=0.1, affine=True, track_running_stats=True)\n",
       "      (conv3): Conv2d(256, 1024, kernel_size=(1, 1), stride=(1, 1), bias=False)\n",
       "      (bn3): BatchNorm2d(1024, eps=1e-05, momentum=0.1, affine=True, track_running_stats=True)\n",
       "      (relu): ReLU(inplace=True)\n",
       "    )\n",
       "    (4): Bottleneck(\n",
       "      (conv1): Conv2d(1024, 256, kernel_size=(1, 1), stride=(1, 1), bias=False)\n",
       "      (bn1): BatchNorm2d(256, eps=1e-05, momentum=0.1, affine=True, track_running_stats=True)\n",
       "      (conv2): Conv2d(256, 256, kernel_size=(3, 3), stride=(1, 1), padding=(1, 1), bias=False)\n",
       "      (bn2): BatchNorm2d(256, eps=1e-05, momentum=0.1, affine=True, track_running_stats=True)\n",
       "      (conv3): Conv2d(256, 1024, kernel_size=(1, 1), stride=(1, 1), bias=False)\n",
       "      (bn3): BatchNorm2d(1024, eps=1e-05, momentum=0.1, affine=True, track_running_stats=True)\n",
       "      (relu): ReLU(inplace=True)\n",
       "    )\n",
       "    (5): Bottleneck(\n",
       "      (conv1): Conv2d(1024, 256, kernel_size=(1, 1), stride=(1, 1), bias=False)\n",
       "      (bn1): BatchNorm2d(256, eps=1e-05, momentum=0.1, affine=True, track_running_stats=True)\n",
       "      (conv2): Conv2d(256, 256, kernel_size=(3, 3), stride=(1, 1), padding=(1, 1), bias=False)\n",
       "      (bn2): BatchNorm2d(256, eps=1e-05, momentum=0.1, affine=True, track_running_stats=True)\n",
       "      (conv3): Conv2d(256, 1024, kernel_size=(1, 1), stride=(1, 1), bias=False)\n",
       "      (bn3): BatchNorm2d(1024, eps=1e-05, momentum=0.1, affine=True, track_running_stats=True)\n",
       "      (relu): ReLU(inplace=True)\n",
       "    )\n",
       "  )\n",
       "  (layer4): Sequential(\n",
       "    (0): Bottleneck(\n",
       "      (conv1): Conv2d(1024, 512, kernel_size=(1, 1), stride=(1, 1), bias=False)\n",
       "      (bn1): BatchNorm2d(512, eps=1e-05, momentum=0.1, affine=True, track_running_stats=True)\n",
       "      (conv2): Conv2d(512, 512, kernel_size=(3, 3), stride=(2, 2), padding=(1, 1), bias=False)\n",
       "      (bn2): BatchNorm2d(512, eps=1e-05, momentum=0.1, affine=True, track_running_stats=True)\n",
       "      (conv3): Conv2d(512, 2048, kernel_size=(1, 1), stride=(1, 1), bias=False)\n",
       "      (bn3): BatchNorm2d(2048, eps=1e-05, momentum=0.1, affine=True, track_running_stats=True)\n",
       "      (relu): ReLU(inplace=True)\n",
       "      (downsample): Sequential(\n",
       "        (0): Conv2d(1024, 2048, kernel_size=(1, 1), stride=(2, 2), bias=False)\n",
       "        (1): BatchNorm2d(2048, eps=1e-05, momentum=0.1, affine=True, track_running_stats=True)\n",
       "      )\n",
       "    )\n",
       "    (1): Bottleneck(\n",
       "      (conv1): Conv2d(2048, 512, kernel_size=(1, 1), stride=(1, 1), bias=False)\n",
       "      (bn1): BatchNorm2d(512, eps=1e-05, momentum=0.1, affine=True, track_running_stats=True)\n",
       "      (conv2): Conv2d(512, 512, kernel_size=(3, 3), stride=(1, 1), padding=(1, 1), bias=False)\n",
       "      (bn2): BatchNorm2d(512, eps=1e-05, momentum=0.1, affine=True, track_running_stats=True)\n",
       "      (conv3): Conv2d(512, 2048, kernel_size=(1, 1), stride=(1, 1), bias=False)\n",
       "      (bn3): BatchNorm2d(2048, eps=1e-05, momentum=0.1, affine=True, track_running_stats=True)\n",
       "      (relu): ReLU(inplace=True)\n",
       "    )\n",
       "    (2): Bottleneck(\n",
       "      (conv1): Conv2d(2048, 512, kernel_size=(1, 1), stride=(1, 1), bias=False)\n",
       "      (bn1): BatchNorm2d(512, eps=1e-05, momentum=0.1, affine=True, track_running_stats=True)\n",
       "      (conv2): Conv2d(512, 512, kernel_size=(3, 3), stride=(1, 1), padding=(1, 1), bias=False)\n",
       "      (bn2): BatchNorm2d(512, eps=1e-05, momentum=0.1, affine=True, track_running_stats=True)\n",
       "      (conv3): Conv2d(512, 2048, kernel_size=(1, 1), stride=(1, 1), bias=False)\n",
       "      (bn3): BatchNorm2d(2048, eps=1e-05, momentum=0.1, affine=True, track_running_stats=True)\n",
       "      (relu): ReLU(inplace=True)\n",
       "    )\n",
       "  )\n",
       "  (avgpool): AdaptiveAvgPool2d(output_size=(1, 1))\n",
       "  (fc): Sequential(\n",
       "    (0): Linear(in_features=2048, out_features=8, bias=True)\n",
       "    (1): Sigmoid()\n",
       "  )\n",
       ")"
      ]
     },
     "execution_count": 23,
     "metadata": {},
     "output_type": "execute_result"
    },
    {
     "name": "stdout",
     "output_type": "stream",
     "text": [
      "time: 719 ms (started: 2022-10-30 16:23:47 +00:00)\n"
     ]
    }
   ],
   "source": [
    "model=models.resnet50(pretrained=False)\n",
    "model.fc=nn.Sequential(nn.Linear(2048, 8), nn.Sigmoid())\n",
    "checkpoint = torch.load('../input/isic2019hairresnet50/resnet50_wt_epoch_19_batch_78_auc_0.6407.pt')\n",
    "model.load_state_dict(checkpoint['model_state_dict'],strict=False)\n",
    "del checkpoint\n",
    "model.to(device)"
   ]
  },
  {
   "cell_type": "code",
   "execution_count": 24,
   "id": "d9e0a490",
   "metadata": {
    "execution": {
     "iopub.execute_input": "2022-10-30T16:23:48.633648Z",
     "iopub.status.busy": "2022-10-30T16:23:48.632973Z",
     "iopub.status.idle": "2022-10-30T16:24:13.286103Z",
     "shell.execute_reply": "2022-10-30T16:24:13.284892Z"
    },
    "papermill": {
     "duration": 24.668339,
     "end_time": "2022-10-30T16:24:13.288858",
     "exception": false,
     "start_time": "2022-10-30T16:23:48.620519",
     "status": "completed"
    },
    "tags": []
   },
   "outputs": [
    {
     "name": "stdout",
     "output_type": "stream",
     "text": [
      "sensitivity-[0.14947368 0.9785503  0.         0.         0.         0.\n",
      " 0.         0.        ]\n",
      "specicivity-[0.48630137 0.52625298 0.         0.         0.         0.\n",
      " 0.         0.        ]\n",
      "Balanced Accuracy\n",
      "0.14100299750856432\n",
      "Confusion Matrix\n",
      "Figure(432x288)\n",
      "f1-score\n",
      "0.11413647447127731\n",
      "auc-list\n",
      "\n",
      "\n",
      "[0.61568385 0.62501845 0.45309821 0.4606637  0.45451683 0.33754839\n",
      " 0.50132724 0.39102912]\n",
      "accuracy-list\n",
      "\n",
      "\n",
      "[0.82650376 0.48853383 0.86879699 0.96578947 0.89642857 0.9906015\n",
      " 0.99003759 0.97518797]\n",
      "mean-auc0.47986072300732263\n",
      "mean-auc0.875234962406015\n"
     ]
    },
    {
     "name": "stderr",
     "output_type": "stream",
     "text": [
      "/opt/conda/lib/python3.7/site-packages/ipykernel_launcher.py:28: RuntimeWarning: invalid value encountered in long_scalars\n",
      "/opt/conda/lib/python3.7/site-packages/ipykernel_launcher.py:65: RuntimeWarning: invalid value encountered in true_divide\n"
     ]
    },
    {
     "data": {
      "image/png": "[encoded data removed]",
      "text/plain": [
       "<Figure size 432x288 with 2 Axes>"
      ]
     },
     "metadata": {
      "needs_background": "light"
     },
     "output_type": "display_data"
    },
    {
     "name": "stdout",
     "output_type": "stream",
     "text": [
      "time: 24.6 s (started: 2022-10-30 16:23:48 +00:00)\n"
     ]
    }
   ],
   "source": [
    "auc1,acc1,pred_lst1,gt_lst1=compute_predictions(model)"
   ]
  },
  {
   "cell_type": "code",
   "execution_count": 25,
   "id": "2144b8aa",
   "metadata": {
    "execution": {
     "iopub.execute_input": "2022-10-30T16:24:13.314722Z",
     "iopub.status.busy": "2022-10-30T16:24:13.314420Z",
     "iopub.status.idle": "2022-10-30T16:24:14.073972Z",
     "shell.execute_reply": "2022-10-30T16:24:14.073007Z"
    },
    "papermill": {
     "duration": 0.775914,
     "end_time": "2022-10-30T16:24:14.077271",
     "exception": false,
     "start_time": "2022-10-30T16:24:13.301357",
     "status": "completed"
    },
    "scrolled": true,
    "tags": []
   },
   "outputs": [
    {
     "data": {
      "text/plain": [
       "ResNet(\n",
       "  (conv1): Conv2d(3, 64, kernel_size=(7, 7), stride=(2, 2), padding=(3, 3), bias=False)\n",
       "  (bn1): BatchNorm2d(64, eps=1e-05, momentum=0.1, affine=True, track_running_stats=True)\n",
       "  (relu): ReLU(inplace=True)\n",
       "  (maxpool): MaxPool2d(kernel_size=3, stride=2, padding=1, dilation=1, ceil_mode=False)\n",
       "  (layer1): Sequential(\n",
       "    (0): Bottleneck(\n",
       "      (conv1): Conv2d(64, 64, kernel_size=(1, 1), stride=(1, 1), bias=False)\n",
       "      (bn1): BatchNorm2d(64, eps=1e-05, momentum=0.1, affine=True, track_running_stats=True)\n",
       "      (conv2): Conv2d(64, 64, kernel_size=(3, 3), stride=(1, 1), padding=(1, 1), bias=False)\n",
       "      (bn2): BatchNorm2d(64, eps=1e-05, momentum=0.1, affine=True, track_running_stats=True)\n",
       "      (conv3): Conv2d(64, 256, kernel_size=(1, 1), stride=(1, 1), bias=False)\n",
       "      (bn3): BatchNorm2d(256, eps=1e-05, momentum=0.1, affine=True, track_running_stats=True)\n",
       "      (relu): ReLU(inplace=True)\n",
       "      (downsample): Sequential(\n",
       "        (0): Conv2d(64, 256, kernel_size=(1, 1), stride=(1, 1), bias=False)\n",
       "        (1): BatchNorm2d(256, eps=1e-05, momentum=0.1, affine=True, track_running_stats=True)\n",
       "      )\n",
       "    )\n",
       "    (1): Bottleneck(\n",
       "      (conv1): Conv2d(256, 64, kernel_size=(1, 1), stride=(1, 1), bias=False)\n",
       "      (bn1): BatchNorm2d(64, eps=1e-05, momentum=0.1, affine=True, track_running_stats=True)\n",
       "      (conv2): Conv2d(64, 64, kernel_size=(3, 3), stride=(1, 1), padding=(1, 1), bias=False)\n",
       "      (bn2): BatchNorm2d(64, eps=1e-05, momentum=0.1, affine=True, track_running_stats=True)\n",
       "      (conv3): Conv2d(64, 256, kernel_size=(1, 1), stride=(1, 1), bias=False)\n",
       "      (bn3): BatchNorm2d(256, eps=1e-05, momentum=0.1, affine=True, track_running_stats=True)\n",
       "      (relu): ReLU(inplace=True)\n",
       "    )\n",
       "    (2): Bottleneck(\n",
       "      (conv1): Conv2d(256, 64, kernel_size=(1, 1), stride=(1, 1), bias=False)\n",
       "      (bn1): BatchNorm2d(64, eps=1e-05, momentum=0.1, affine=True, track_running_stats=True)\n",
       "      (conv2): Conv2d(64, 64, kernel_size=(3, 3), stride=(1, 1), padding=(1, 1), bias=False)\n",
       "      (bn2): BatchNorm2d(64, eps=1e-05, momentum=0.1, affine=True, track_running_stats=True)\n",
       "      (conv3): Conv2d(64, 256, kernel_size=(1, 1), stride=(1, 1), bias=False)\n",
       "      (bn3): BatchNorm2d(256, eps=1e-05, momentum=0.1, affine=True, track_running_stats=True)\n",
       "      (relu): ReLU(inplace=True)\n",
       "    )\n",
       "  )\n",
       "  (layer2): Sequential(\n",
       "    (0): Bottleneck(\n",
       "      (conv1): Conv2d(256, 128, kernel_size=(1, 1), stride=(1, 1), bias=False)\n",
       "      (bn1): BatchNorm2d(128, eps=1e-05, momentum=0.1, affine=True, track_running_stats=True)\n",
       "      (conv2): Conv2d(128, 128, kernel_size=(3, 3), stride=(2, 2), padding=(1, 1), bias=False)\n",
       "      (bn2): BatchNorm2d(128, eps=1e-05, momentum=0.1, affine=True, track_running_stats=True)\n",
       "      (conv3): Conv2d(128, 512, kernel_size=(1, 1), stride=(1, 1), bias=False)\n",
       "      (bn3): BatchNorm2d(512, eps=1e-05, momentum=0.1, affine=True, track_running_stats=True)\n",
       "      (relu): ReLU(inplace=True)\n",
       "      (downsample): Sequential(\n",
       "        (0): Conv2d(256, 512, kernel_size=(1, 1), stride=(2, 2), bias=False)\n",
       "        (1): BatchNorm2d(512, eps=1e-05, momentum=0.1, affine=True, track_running_stats=True)\n",
       "      )\n",
       "    )\n",
       "    (1): Bottleneck(\n",
       "      (conv1): Conv2d(512, 128, kernel_size=(1, 1), stride=(1, 1), bias=False)\n",
       "      (bn1): BatchNorm2d(128, eps=1e-05, momentum=0.1, affine=True, track_running_stats=True)\n",
       "      (conv2): Conv2d(128, 128, kernel_size=(3, 3), stride=(1, 1), padding=(1, 1), bias=False)\n",
       "      (bn2): BatchNorm2d(128, eps=1e-05, momentum=0.1, affine=True, track_running_stats=True)\n",
       "      (conv3): Conv2d(128, 512, kernel_size=(1, 1), stride=(1, 1), bias=False)\n",
       "      (bn3): BatchNorm2d(512, eps=1e-05, momentum=0.1, affine=True, track_running_stats=True)\n",
       "      (relu): ReLU(inplace=True)\n",
       "    )\n",
       "    (2): Bottleneck(\n",
       "      (conv1): Conv2d(512, 128, kernel_size=(1, 1), stride=(1, 1), bias=False)\n",
       "      (bn1): BatchNorm2d(128, eps=1e-05, momentum=0.1, affine=True, track_running_stats=True)\n",
       "      (conv2): Conv2d(128, 128, kernel_size=(3, 3), stride=(1, 1), padding=(1, 1), bias=False)\n",
       "      (bn2): BatchNorm2d(128, eps=1e-05, momentum=0.1, affine=True, track_running_stats=True)\n",
       "      (conv3): Conv2d(128, 512, kernel_size=(1, 1), stride=(1, 1), bias=False)\n",
       "      (bn3): BatchNorm2d(512, eps=1e-05, momentum=0.1, affine=True, track_running_stats=True)\n",
       "      (relu): ReLU(inplace=True)\n",
       "    )\n",
       "    (3): Bottleneck(\n",
       "      (conv1): Conv2d(512, 128, kernel_size=(1, 1), stride=(1, 1), bias=False)\n",
       "      (bn1): BatchNorm2d(128, eps=1e-05, momentum=0.1, affine=True, track_running_stats=True)\n",
       "      (conv2): Conv2d(128, 128, kernel_size=(3, 3), stride=(1, 1), padding=(1, 1), bias=False)\n",
       "      (bn2): BatchNorm2d(128, eps=1e-05, momentum=0.1, affine=True, track_running_stats=True)\n",
       "      (conv3): Conv2d(128, 512, kernel_size=(1, 1), stride=(1, 1), bias=False)\n",
       "      (bn3): BatchNorm2d(512, eps=1e-05, momentum=0.1, affine=True, track_running_stats=True)\n",
       "      (relu): ReLU(inplace=True)\n",
       "    )\n",
       "  )\n",
       "  (layer3): Sequential(\n",
       "    (0): Bottleneck(\n",
       "      (conv1): Conv2d(512, 256, kernel_size=(1, 1), stride=(1, 1), bias=False)\n",
       "      (bn1): BatchNorm2d(256, eps=1e-05, momentum=0.1, affine=True, track_running_stats=True)\n",
       "      (conv2): Conv2d(256, 256, kernel_size=(3, 3), stride=(2, 2), padding=(1, 1), bias=False)\n",
       "      (bn2): BatchNorm2d(256, eps=1e-05, momentum=0.1, affine=True, track_running_stats=True)\n",
       "      (conv3): Conv2d(256, 1024, kernel_size=(1, 1), stride=(1, 1), bias=False)\n",
       "      (bn3): BatchNorm2d(1024, eps=1e-05, momentum=0.1, affine=True, track_running_stats=True)\n",
       "      (relu): ReLU(inplace=True)\n",
       "      (downsample): Sequential(\n",
       "        (0): Conv2d(512, 1024, kernel_size=(1, 1), stride=(2, 2), bias=False)\n",
       "        (1): BatchNorm2d(1024, eps=1e-05, momentum=0.1, affine=True, track_running_stats=True)\n",
       "      )\n",
       "    )\n",
       "    (1): Bottleneck(\n",
       "      (conv1): Conv2d(1024, 256, kernel_size=(1, 1), stride=(1, 1), bias=False)\n",
       "      (bn1): BatchNorm2d(256, eps=1e-05, momentum=0.1, affine=True, track_running_stats=True)\n",
       "      (conv2): Conv2d(256, 256, kernel_size=(3, 3), stride=(1, 1), padding=(1, 1), bias=False)\n",
       "      (bn2): BatchNorm2d(256, eps=1e-05, momentum=0.1, affine=True, track_running_stats=True)\n",
       "      (conv3): Conv2d(256, 1024, kernel_size=(1, 1), stride=(1, 1), bias=False)\n",
       "      (bn3): BatchNorm2d(1024, eps=1e-05, momentum=0.1, affine=True, track_running_stats=True)\n",
       "      (relu): ReLU(inplace=True)\n",
       "    )\n",
       "    (2): Bottleneck(\n",
       "      (conv1): Conv2d(1024, 256, kernel_size=(1, 1), stride=(1, 1), bias=False)\n",
       "      (bn1): BatchNorm2d(256, eps=1e-05, momentum=0.1, affine=True, track_running_stats=True)\n",
       "      (conv2): Conv2d(256, 256, kernel_size=(3, 3), stride=(1, 1), padding=(1, 1), bias=False)\n",
       "      (bn2): BatchNorm2d(256, eps=1e-05, momentum=0.1, affine=True, track_running_stats=True)\n",
       "      (conv3): Conv2d(256, 1024, kernel_size=(1, 1), stride=(1, 1), bias=False)\n",
       "      (bn3): BatchNorm2d(1024, eps=1e-05, momentum=0.1, affine=True, track_running_stats=True)\n",
       "      (relu): ReLU(inplace=True)\n",
       "    )\n",
       "    (3): Bottleneck(\n",
       "      (conv1): Conv2d(1024, 256, kernel_size=(1, 1), stride=(1, 1), bias=False)\n",
       "      (bn1): BatchNorm2d(256, eps=1e-05, momentum=0.1, affine=True, track_running_stats=True)\n",
       "      (conv2): Conv2d(256, 256, kernel_size=(3, 3), stride=(1, 1), padding=(1, 1), bias=False)\n",
       "      (bn2): BatchNorm2d(256, eps=1e-05, momentum=0.1, affine=True, track_running_stats=True)\n",
       "      (conv3): Conv2d(256, 1024, kernel_size=(1, 1), stride=(1, 1), bias=False)\n",
       "      (bn3): BatchNorm2d(1024, eps=1e-05, momentum=0.1, affine=True, track_running_stats=True)\n",
       "      (relu): ReLU(inplace=True)\n",
       "    )\n",
       "    (4): Bottleneck(\n",
       "      (conv1): Conv2d(1024, 256, kernel_size=(1, 1), stride=(1, 1), bias=False)\n",
       "      (bn1): BatchNorm2d(256, eps=1e-05, momentum=0.1, affine=True, track_running_stats=True)\n",
       "      (conv2): Conv2d(256, 256, kernel_size=(3, 3), stride=(1, 1), padding=(1, 1), bias=False)\n",
       "      (bn2): BatchNorm2d(256, eps=1e-05, momentum=0.1, affine=True, track_running_stats=True)\n",
       "      (conv3): Conv2d(256, 1024, kernel_size=(1, 1), stride=(1, 1), bias=False)\n",
       "      (bn3): BatchNorm2d(1024, eps=1e-05, momentum=0.1, affine=True, track_running_stats=True)\n",
       "      (relu): ReLU(inplace=True)\n",
       "    )\n",
       "    (5): Bottleneck(\n",
       "      (conv1): Conv2d(1024, 256, kernel_size=(1, 1), stride=(1, 1), bias=False)\n",
       "      (bn1): BatchNorm2d(256, eps=1e-05, momentum=0.1, affine=True, track_running_stats=True)\n",
       "      (conv2): Conv2d(256, 256, kernel_size=(3, 3), stride=(1, 1), padding=(1, 1), bias=False)\n",
       "      (bn2): BatchNorm2d(256, eps=1e-05, momentum=0.1, affine=True, track_running_stats=True)\n",
       "      (conv3): Conv2d(256, 1024, kernel_size=(1, 1), stride=(1, 1), bias=False)\n",
       "      (bn3): BatchNorm2d(1024, eps=1e-05, momentum=0.1, affine=True, track_running_stats=True)\n",
       "      (relu): ReLU(inplace=True)\n",
       "    )\n",
       "  )\n",
       "  (layer4): Sequential(\n",
       "    (0): Bottleneck(\n",
       "      (conv1): Conv2d(1024, 512, kernel_size=(1, 1), stride=(1, 1), bias=False)\n",
       "      (bn1): BatchNorm2d(512, eps=1e-05, momentum=0.1, affine=True, track_running_stats=True)\n",
       "      (conv2): Conv2d(512, 512, kernel_size=(3, 3), stride=(2, 2), padding=(1, 1), bias=False)\n",
       "      (bn2): BatchNorm2d(512, eps=1e-05, momentum=0.1, affine=True, track_running_stats=True)\n",
       "      (conv3): Conv2d(512, 2048, kernel_size=(1, 1), stride=(1, 1), bias=False)\n",
       "      (bn3): BatchNorm2d(2048, eps=1e-05, momentum=0.1, affine=True, track_running_stats=True)\n",
       "      (relu): ReLU(inplace=True)\n",
       "      (downsample): Sequential(\n",
       "        (0): Conv2d(1024, 2048, kernel_size=(1, 1), stride=(2, 2), bias=False)\n",
       "        (1): BatchNorm2d(2048, eps=1e-05, momentum=0.1, affine=True, track_running_stats=True)\n",
       "      )\n",
       "    )\n",
       "    (1): Bottleneck(\n",
       "      (conv1): Conv2d(2048, 512, kernel_size=(1, 1), stride=(1, 1), bias=False)\n",
       "      (bn1): BatchNorm2d(512, eps=1e-05, momentum=0.1, affine=True, track_running_stats=True)\n",
       "      (conv2): Conv2d(512, 512, kernel_size=(3, 3), stride=(1, 1), padding=(1, 1), bias=False)\n",
       "      (bn2): BatchNorm2d(512, eps=1e-05, momentum=0.1, affine=True, track_running_stats=True)\n",
       "      (conv3): Conv2d(512, 2048, kernel_size=(1, 1), stride=(1, 1), bias=False)\n",
       "      (bn3): BatchNorm2d(2048, eps=1e-05, momentum=0.1, affine=True, track_running_stats=True)\n",
       "      (relu): ReLU(inplace=True)\n",
       "    )\n",
       "    (2): Bottleneck(\n",
       "      (conv1): Conv2d(2048, 512, kernel_size=(1, 1), stride=(1, 1), bias=False)\n",
       "      (bn1): BatchNorm2d(512, eps=1e-05, momentum=0.1, affine=True, track_running_stats=True)\n",
       "      (conv2): Conv2d(512, 512, kernel_size=(3, 3), stride=(1, 1), padding=(1, 1), bias=False)\n",
       "      (bn2): BatchNorm2d(512, eps=1e-05, momentum=0.1, affine=True, track_running_stats=True)\n",
       "      (conv3): Conv2d(512, 2048, kernel_size=(1, 1), stride=(1, 1), bias=False)\n",
       "      (bn3): BatchNorm2d(2048, eps=1e-05, momentum=0.1, affine=True, track_running_stats=True)\n",
       "      (relu): ReLU(inplace=True)\n",
       "    )\n",
       "  )\n",
       "  (avgpool): AdaptiveAvgPool2d(output_size=(1, 1))\n",
       "  (fc): Sequential(\n",
       "    (0): Linear(in_features=2048, out_features=8, bias=True)\n",
       "    (1): Sigmoid()\n",
       "  )\n",
       ")"
      ]
     },
     "execution_count": 25,
     "metadata": {},
     "output_type": "execute_result"
    },
    {
     "name": "stdout",
     "output_type": "stream",
     "text": [
      "time: 754 ms (started: 2022-10-30 16:24:13 +00:00)\n"
     ]
    }
   ],
   "source": [
    "model1=models.resnet50(pretrained=False)\n",
    "model1.fc=nn.Sequential(nn.Linear(2048, 8), nn.Sigmoid())\n",
    "checkpoint = torch.load('../input/isic2019hairresnet50/resnet50_wt_epoch_9_batch_78_auc_0.6426.pt')\n",
    "model1.load_state_dict(checkpoint['model_state_dict'],strict=False)\n",
    "del checkpoint\n",
    "model1.to(device)"
   ]
  },
  {
   "cell_type": "code",
   "execution_count": 26,
   "id": "5b0a9eaf",
   "metadata": {
    "execution": {
     "iopub.execute_input": "2022-10-30T16:24:14.104089Z",
     "iopub.status.busy": "2022-10-30T16:24:14.103232Z",
     "iopub.status.idle": "2022-10-30T16:24:30.052095Z",
     "shell.execute_reply": "2022-10-30T16:24:30.051073Z"
    },
    "papermill": {
     "duration": 15.964396,
     "end_time": "2022-10-30T16:24:30.054341",
     "exception": false,
     "start_time": "2022-10-30T16:24:14.089945",
     "status": "completed"
    },
    "tags": []
   },
   "outputs": [
    {
     "name": "stdout",
     "output_type": "stream",
     "text": [
      "sensitivity-[0.99894737 0.00850592 0.         0.         0.         0.\n",
      " 0.         0.        ]\n",
      "specicivity-[0.17953084 0.67647059 0.         0.         0.         0.\n",
      " 0.         0.        ]\n",
      "Balanced Accuracy\n",
      "0.12593166069760198\n",
      "Confusion Matrix\n",
      "Figure(432x288)\n",
      "f1-score\n",
      "0.04014529434172137\n",
      "auc-list\n",
      "\n",
      "\n",
      "[0.55231061 0.5865977  0.49936457 0.4622079  0.40504198 0.37344213\n",
      " 0.51899868 0.36575299]\n",
      "accuracy-list\n",
      "\n",
      "\n",
      "[0.34398496 0.49210526 0.86879699 0.96578947 0.89642857 0.9906015\n",
      " 0.99003759 0.97518797]\n",
      "mean-auc0.4704645679308387\n",
      "mean-auc0.8153665413533835\n"
     ]
    },
    {
     "name": "stderr",
     "output_type": "stream",
     "text": [
      "/opt/conda/lib/python3.7/site-packages/ipykernel_launcher.py:28: RuntimeWarning: invalid value encountered in long_scalars\n",
      "/opt/conda/lib/python3.7/site-packages/ipykernel_launcher.py:65: RuntimeWarning: invalid value encountered in true_divide\n"
     ]
    },
    {
     "data": {
      "image/png": "[encoded data removed]",
      "text/plain": [
       "<Figure size 432x288 with 2 Axes>"
      ]
     },
     "metadata": {
      "needs_background": "light"
     },
     "output_type": "display_data"
    },
    {
     "name": "stdout",
     "output_type": "stream",
     "text": [
      "time: 15.9 s (started: 2022-10-30 16:24:14 +00:00)\n"
     ]
    }
   ],
   "source": [
    "auc1,acc1,pred_lst1,gt_lst1=compute_predictions(model1)"
   ]
  },
  {
   "cell_type": "code",
   "execution_count": 27,
   "id": "2b72ca26",
   "metadata": {
    "execution": {
     "iopub.execute_input": "2022-10-30T16:24:30.082078Z",
     "iopub.status.busy": "2022-10-30T16:24:30.081705Z",
     "iopub.status.idle": "2022-10-30T16:24:30.093560Z",
     "shell.execute_reply": "2022-10-30T16:24:30.092485Z"
    },
    "papermill": {
     "duration": 0.02877,
     "end_time": "2022-10-30T16:24:30.096355",
     "exception": false,
     "start_time": "2022-10-30T16:24:30.067585",
     "status": "completed"
    },
    "tags": []
   },
   "outputs": [
    {
     "name": "stdout",
     "output_type": "stream",
     "text": [
      "time: 2.43 ms (started: 2022-10-30 16:24:30 +00:00)\n"
     ]
    }
   ],
   "source": [
    "from tqdm._tqdm_notebook import tqdm_notebook\n",
    "def compute_predictions(model):\n",
    "    model.eval()\n",
    "    pred_lst4=[]\n",
    "    gt_lst4=[]\n",
    "    for i, sample in enumerate(dataloaders['val']):    \n",
    "        images=sample['image']\n",
    "        labels=sample['target']\n",
    "        del sample\n",
    "        images = images.to(device)\n",
    "        labels=labels.numpy()\n",
    "        outputs=model(images)\n",
    "        outputs=outputs.detach()\n",
    "        outputs=outputs.cpu()\n",
    "        outputs=outputs.numpy()\n",
    "        pred_lst4.append(outputs)\n",
    "        gt_lst4.append(labels)\n",
    "        del labels, outputs, images\n",
    "\n",
    "    pred_lst=np.concatenate(pred_lst4, axis=0)\n",
    "    gt_lst=np.concatenate(gt_lst4, axis=0)\n",
    "    auc_lst=[]\n",
    "    acc_lst=[]\n",
    "    for k in range(0,8):\n",
    "        tmp_gt=gt_lst[:, k]\n",
    "        tmp_pred=pred_lst[:,k]\n",
    "        tmp_acc=accuracy_score(tmp_gt, tmp_pred.round())\n",
    "        acc_lst.append(tmp_acc)\n",
    "        tmp_auc=roc_auc_score(tmp_gt, tmp_pred)\n",
    "        auc_lst.append(tmp_auc)\n",
    "\n",
    "    auc_lst=np.array(auc_lst)\n",
    "    acc_lst=np.array(acc_lst)\n",
    "    print('\\n')\n",
    "    print(auc_lst)\n",
    "    print('\\n')\n",
    "    print(acc_lst)\n",
    "    auc=np.mean(auc_lst)\n",
    "    acc = np.mean(acc_lst)\n",
    "    print(auc)\n",
    "    print(acc)\n",
    "    f1s=0.0\n",
    "    return auc,acc,pred_lst,gt_lst"
   ]
  },
  {
   "cell_type": "code",
   "execution_count": 28,
   "id": "22976496",
   "metadata": {
    "execution": {
     "iopub.execute_input": "2022-10-30T16:24:30.123763Z",
     "iopub.status.busy": "2022-10-30T16:24:30.123475Z",
     "iopub.status.idle": "2022-10-30T16:25:00.762691Z",
     "shell.execute_reply": "2022-10-30T16:25:00.761318Z"
    },
    "papermill": {
     "duration": 30.670043,
     "end_time": "2022-10-30T16:25:00.779851",
     "exception": false,
     "start_time": "2022-10-30T16:24:30.109808",
     "status": "completed"
    },
    "tags": []
   },
   "outputs": [
    {
     "name": "stdout",
     "output_type": "stream",
     "text": [
      "Computing Test Predictions\n",
      "\n",
      "\n",
      "[0.61568385 0.62501845 0.45309821 0.4606637  0.45451683 0.33754839\n",
      " 0.50132724 0.39102912]\n",
      "\n",
      "\n",
      "[0.82650376 0.48853383 0.86879699 0.96578947 0.89642857 0.9906015\n",
      " 0.99003759 0.97518797]\n",
      "0.47986072300732263\n",
      "0.875234962406015\n",
      "\n",
      "\n",
      "[0.55231061 0.5865977  0.49936457 0.4622079  0.40504198 0.37344213\n",
      " 0.51899868 0.36575299]\n",
      "\n",
      "\n",
      "[0.34398496 0.49210526 0.86879699 0.96578947 0.89642857 0.9906015\n",
      " 0.99003759 0.97518797]\n",
      "0.4704645679308387\n",
      "0.8153665413533835\n",
      "time: 30.6 s (started: 2022-10-30 16:24:30 +00:00)\n"
     ]
    }
   ],
   "source": [
    "print('Computing Test Predictions')\n",
    "auc1,acc1,pred_lst1,gt_lst1 = compute_predictions(model)\n",
    "auc2,acc2,pred_lst2,gt_lst2 = compute_predictions(model1)"
   ]
  },
  {
   "cell_type": "code",
   "execution_count": 29,
   "id": "f4876140",
   "metadata": {
    "execution": {
     "iopub.execute_input": "2022-10-30T16:25:00.807372Z",
     "iopub.status.busy": "2022-10-30T16:25:00.807039Z",
     "iopub.status.idle": "2022-10-30T16:25:01.298370Z",
     "shell.execute_reply": "2022-10-30T16:25:01.297003Z"
    },
    "papermill": {
     "duration": 0.507751,
     "end_time": "2022-10-30T16:25:01.300411",
     "exception": false,
     "start_time": "2022-10-30T16:25:00.792660",
     "status": "completed"
    },
    "tags": []
   },
   "outputs": [
    {
     "name": "stdout",
     "output_type": "stream",
     "text": [
      "auc-list\n",
      "\n",
      "\n",
      "[0.58083102 0.62527496 0.4965073  0.4616176  0.40588263 0.36857875\n",
      " 0.51788459 0.36659774]\n",
      "accuracy-list\n",
      "\n",
      "\n",
      "[0.68139098 0.49229323 0.86879699 0.96578947 0.89642857 0.9906015\n",
      " 0.99003759 0.97518797]\n",
      "mean-auc0.47789682375586734\n",
      "mean-auc0.8575657894736841\n",
      "sensitivity-[0.94421053 0.0739645  0.         0.         0.         0.\n",
      " 0.         0.        ]\n",
      "specicivity-[0.18598383 0.40241449 0.         0.         0.         0.\n",
      " 0.         0.        ]\n",
      "Balanced Accuracy\n",
      "0.1272718779196512\n",
      "Confusion Matrix\n",
      "Figure(432x288)\n",
      "f1-score\n",
      "0.05446474022684644\n"
     ]
    },
    {
     "name": "stderr",
     "output_type": "stream",
     "text": [
      "/opt/conda/lib/python3.7/site-packages/ipykernel_launcher.py:28: RuntimeWarning: invalid value encountered in long_scalars\n",
      "/opt/conda/lib/python3.7/site-packages/ipykernel_launcher.py:65: RuntimeWarning: invalid value encountered in true_divide\n"
     ]
    },
    {
     "data": {
      "image/png": "[encoded data removed]",
      "text/plain": [
       "<Figure size 432x288 with 2 Axes>"
      ]
     },
     "metadata": {
      "needs_background": "light"
     },
     "output_type": "display_data"
    },
    {
     "name": "stdout",
     "output_type": "stream",
     "text": [
      "time: 482 ms (started: 2022-10-30 16:25:00 +00:00)\n"
     ]
    }
   ],
   "source": [
    "pred_lst = (pred_lst1+pred_lst2)/2\n",
    "gt_lst = (gt_lst1+gt_lst2)/2\n",
    "fusion_matrix = FusionMatrix(8)\n",
    "\n",
    "auc_lst=[]\n",
    "acc_lst=[]\n",
    "for k in range(0,8):\n",
    "    tmp_gt=gt_lst[:, k]\n",
    "    tmp_pred=pred_lst[:,k]\n",
    "    tmp_acc=accuracy_score(tmp_gt, tmp_pred.round())\n",
    "    acc_lst.append(tmp_acc)\n",
    "    tmp_auc=roc_auc_score(tmp_gt, tmp_pred)\n",
    "    auc_lst.append(tmp_auc)\n",
    "\n",
    "\n",
    "auc_lst=np.array(auc_lst)\n",
    "\n",
    "acc_lst=np.array(acc_lst)\n",
    "print(\"auc-list\")\n",
    "print('\\n')\n",
    "print(auc_lst)\n",
    "print(\"accuracy-list\")\n",
    "print('\\n')\n",
    "print(acc_lst)\n",
    "auc=np.mean(auc_lst)\n",
    "acc = np.mean(acc_lst)\n",
    "print(\"mean-auc\"+str(auc))\n",
    "print(\"mean-auc\"+str(acc))\n",
    "\n",
    "#pred_lst=np.concatenate(pred_lst, axis=0)\n",
    "#gt_lst=np.concatenate(gt_lst, axis=0)\n",
    "pred_lst2 = np.argmax(pred_lst, axis=1)\n",
    "gt_lst2 = np.argmax(gt_lst, axis=1)\n",
    "fusion_matrix.update(pred_lst2, gt_lst2)\n",
    "print(\"sensitivity-\"+str(fusion_matrix.get_rec_per_class()))\n",
    "print(\"specicivity-\"+str(fusion_matrix.get_pre_per_class()))\n",
    "print(\"Balanced Accuracy\")\n",
    "print(fusion_matrix.get_balance_accuracy())\n",
    "print(\"Confusion Matrix\")\n",
    "print(fusion_matrix.plot_confusion_matrix())\n",
    "print(\"f1-score\")\n",
    "print(fusion_matrix.get_f1_score())\n",
    "\n",
    "#roc_auc = get_roc_auc(pred_lst, gt_lst)\n",
    "#print(roc_auc)\n"
   ]
  },
  {
   "cell_type": "code",
   "execution_count": null,
   "id": "0526638d",
   "metadata": {
    "papermill": {
     "duration": 0.013038,
     "end_time": "2022-10-30T16:25:01.327064",
     "exception": false,
     "start_time": "2022-10-30T16:25:01.314026",
     "status": "completed"
    },
    "tags": []
   },
   "outputs": [],
   "source": []
  }
 ],
 "metadata": {
  "kernelspec": {
   "display_name": "Python 3",
   "language": "python",
   "name": "python3"
  },
  "language_info": {
   "codemirror_mode": {
    "name": "ipython",
    "version": 3
   },
   "file_extension": ".py",
   "mimetype": "text/x-python",
   "name": "python",
   "nbconvert_exporter": "python",
   "pygments_lexer": "ipython3",
   "version": "3.7.12"
  },
  "papermill": {
   "default_parameters": {},
   "duration": 209.372511,
   "end_time": "2022-10-30T16:25:03.604745",
   "environment_variables": {},
   "exception": null,
   "input_path": "__notebook__.ipynb",
   "output_path": "__notebook__.ipynb",
   "parameters": {},
   "start_time": "2022-10-30T16:21:34.232234",
   "version": "2.3.4"
  }
 },
 "nbformat": 4,
 "nbformat_minor": 5
}
