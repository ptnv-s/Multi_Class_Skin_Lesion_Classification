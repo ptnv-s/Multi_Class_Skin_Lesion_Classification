{
 "cells": [
  {
   "cell_type": "code",
   "execution_count": 1,
   "metadata": {
    "id": "Ec0y8MdFZMAX",
    "tags": []
   },
   "outputs": [],
   "source": [
    "%matplotlib inline"
   ]
  },
  {
   "cell_type": "code",
   "execution_count": 1,
   "metadata": {
    "id": "RisP8wVhl6hZ",
    "tags": []
   },
   "outputs": [
    {
     "data": {
      "text/plain": [
       "<matplotlib.pyplot._IonContext at 0x7fa0923b2430>"
      ]
     },
     "execution_count": 1,
     "metadata": {},
     "output_type": "execute_result"
    }
   ],
   "source": [
    "from __future__ import print_function, division\n",
    "\n",
    "import torch\n",
    "import torch.nn as nn\n",
    "import torch.optim as optim\n",
    "from torch.optim import lr_scheduler\n",
    "import torch.backends.cudnn as cudnn\n",
    "import torchvision\n",
    "from torchvision import datasets, models, transforms\n",
    "from torch.utils.data import Dataset, DataLoader\n",
    "\n",
    "import cv2\n",
    "\n",
    "import numpy as np\n",
    "import matplotlib.pyplot as plt\n",
    "import pandas as pd\n",
    "import csv\n",
    "\n",
    "import time\n",
    "import os\n",
    "import copy\n",
    "import tarfile\n",
    "\n",
    "from urllib.parse import urlparse\n",
    "from urllib.request import urlretrieve\n",
    "\n",
    "from PIL import Image\n",
    "from tqdm import tqdm\n",
    "\n",
    "from sklearn.metrics import accuracy_score\n",
    "from sklearn.metrics import roc_auc_score\n",
    "from sklearn.metrics import f1_score\n",
    "from sklearn.metrics import classification_report\n",
    "from sklearn.model_selection import train_test_split\n",
    "\n",
    "#import albumentations as A\n",
    "from skimage import filters\n",
    "from scipy import ndimage as ndi\n",
    "from skimage import segmentation\n",
    "from skimage import morphology\n",
    "from skimage.restoration import inpaint\n",
    "\n",
    "cudnn.benchmark = True\n",
    "plt.ion()   # interactive mode"
   ]
  },
  {
   "cell_type": "code",
   "execution_count": null,
   "metadata": {
    "id": "i97UAL_fgZg1",
    "outputId": "267d2a4f-2bb1-4b61-e7c5-8d51e3adc5da",
    "tags": []
   },
   "outputs": [],
   "source": [
    "device = torch.device(\"cuda:0\" if torch.cuda.is_available() else \"cpu\")\n",
    "print(device)"
   ]
  },
  {
   "cell_type": "code",
   "execution_count": null,
   "metadata": {
    "id": "BaGdvVCGtSKS",
    "outputId": "084749e6-e70f-460b-fd95-e09d465fa67e",
    "tags": []
   },
   "outputs": [],
   "source": [
    "#helper function\n",
    "def get_label(row):\n",
    "    for c in labels.columns:\n",
    "        if row[c]==1:\n",
    "            return c\n",
    "\n",
    "labels = pd.read_csv('ISIC_2019_Training_GroundTruth.csv')\n",
    "labels['l']=labels.apply(get_label, axis=1)\n",
    "X=labels.drop(['l','UNK'], axis=1)\n",
    "y = labels['l']\n",
    "X_train, X_test, y_train, y_test = train_test_split(X,y, test_size=0.21, random_state=42,stratify=y)\n",
    "X_train['image'] = 'ISIC_2019_Training_Input/ISIC_2019_Training_Input/'+X_train['image']+ '.jpg'\n",
    "X_test['image'] = 'ISIC_2019_Training_Input/ISIC_2019_Training_Input/'+X_test['image']+ '.jpg'\n",
    "X_test.to_csv('validation.csv', index=False)\n",
    "X_train.to_csv('training.csv', index=False)\n",
    "train_path = 'training.csv'\n",
    "class_path = 'validation_class.csv'\n",
    "eval_path = 'validation.csv'\n",
    "train_img_path = 'ISIC_2019_Training_Input/ISIC_2019_Training_Input'"
   ]
  },
  {
   "cell_type": "code",
   "execution_count": null,
   "metadata": {
    "tags": []
   },
   "outputs": [],
   "source": [
    "labels"
   ]
  },
  {
   "cell_type": "code",
   "execution_count": 3,
   "metadata": {
    "id": "mpp9KEVTpN3Z",
    "outputId": "2eed9a44-a69b-4474-b487-098a435cf93b",
    "tags": []
   },
   "outputs": [],
   "source": [
    "class_names = ['MEL', 'NV', 'BCC', 'AK', 'BKL', 'DF', 'VASC', 'SCC', 'UNK']\n",
    "\n",
    "def read_object_labels_csv(file,phase, header=True):\n",
    "    img_t=[]\n",
    "    if phase == 'Train':\n",
    "      dir = 'training.csv'\n",
    "    elif phase == \"Valid\":\n",
    "      dir = 'validation.csv'\n",
    "    with open(dir, \"r\") as f:\n",
    "        csvReader = csv.reader(f)\n",
    "        next(csvReader, None)\n",
    "        k=0\n",
    "        for line in csvReader:\n",
    "            k+=1\n",
    "            image_name= line[0]\n",
    "            label = line[1:9]\n",
    "            label = torch.from_numpy(np.array(label, dtype=np.float64))\n",
    "            item = (image_name,label)\n",
    "            img_t.append(item)\n",
    "    return img_t\n",
    "\n",
    "\n",
    "class isic19(Dataset):\n",
    "    def __init__(self, root, phase, csv_path,transform=None):\n",
    "        self.root = os.path.abspath(root)\n",
    "        self.phase = phase\n",
    "        self.transform = transform\n",
    "        self.path_images = self.root\n",
    "        file_csv = pd.read_csv(csv_path)\n",
    "        self.classes = class_names\n",
    "        self.images = read_object_labels_csv(file_csv,phase)\n",
    "        print('[dataset] classification phase={} number of classes={}  number of images={}'.format(phase, len(self.classes), len(self.images)))\n",
    "\n",
    "    def __getitem__(self, index):\n",
    "        filename, target = self.images[index]\n",
    "        filename = filename\n",
    "        img = Image.open(filename).convert('RGB')\n",
    "        if self.transform is not None:\n",
    "            img = self.transform(img)\n",
    "        \n",
    "        data = {'image':img, 'target': target}\n",
    "        return data\n",
    "\n",
    "    def __len__(self):\n",
    "        return len(self.images)\n",
    "\n",
    "    def get_number_classes(self):\n",
    "        return len(self.classes)\n"
   ]
  },
  {
   "cell_type": "code",
   "execution_count": 4,
   "metadata": {
    "tags": []
   },
   "outputs": [],
   "source": [
    "class Hair_removal(object):\n",
    "    \n",
    "    def __init__(self):\n",
    "        self.image = None\n",
    "        \n",
    "    def __call__(self, image):\n",
    "        #image = cv2.imread('../input/isic-2019-zip/ISIC_2019_Training_Input/ISIC_2019_Training_Input/ISIC_0000001.jpg')\n",
    "\n",
    "        image = np.array(image.getdata()).reshape(image.size[0], image.size[1], 3)\n",
    "        image = image.astype('uint8')\n",
    "        rgb = cv2.cvtColor(image, cv2.COLOR_BGR2RGB)\n",
    "\n",
    "        resize = cv2.resize(rgb, (224,224), interpolation = cv2.INTER_AREA)\n",
    "\n",
    "        img = resize[:,:,0] * 0.3 + resize[:,:,1]*0.59 + resize[:,:,2]*0.11\n",
    "        img = img.astype(np.uint8)\n",
    "\n",
    "        CLAHE = A.augmentations.transforms.CLAHE()\n",
    "        contrast = CLAHE(image = img)\n",
    "        contrast = contrast['image']\n",
    "\n",
    "        average = cv2.boxFilter(img, -1, (5,5), normalize = True)\n",
    "\n",
    "        init_hair_mask = contrast - average\n",
    "\n",
    "        ret,thresh2 = cv2.threshold(init_hair_mask,50,1,\n",
    "                                    cv2.THRESH_BINARY+cv2.THRESH_OTSU)\n",
    "\n",
    "        opened = morphology.remove_small_objects(ar = thresh2, min_size=50, connectivity = 1)\n",
    "\n",
    "        image_result = inpaint.inpaint_biharmonic(resize, opened, multichannel = True)\n",
    "        image_result = image_result*255\n",
    "        image_result = image_result.astype('uint8')\n",
    "        \n",
    "        ret = Image.fromarray(image_result)\n",
    "        return ret"
   ]
  },
  {
   "cell_type": "code",
   "execution_count": 5,
   "metadata": {
    "tags": []
   },
   "outputs": [],
   "source": [
    "from skimage.segmentation import watershed\n",
    "class Segment(object):\n",
    "    \n",
    "    def __init__(self):\n",
    "        self.image = None\n",
    "        \n",
    "    def __call__(self, image):\n",
    "        #image = cv2.imread('../input/isic-2019-zip/ISIC_2019_Training_Input/ISIC_2019_Training_Input/ISIC_0000001.jpg')\n",
    "\n",
    "        image = np.array(image.getdata()).reshape(image.size[0], image.size[1], 3)\n",
    "        image = image.astype('uint8')\n",
    "        new_gray = cv2.cvtColor(image, cv2.COLOR_RGB2GRAY)\n",
    "        new_gray = new_gray/255\n",
    "\n",
    "        elevation_map = filters.sobel(new_gray)\n",
    "\n",
    "        markers = np.zeros_like(new_gray)\n",
    "        threshold = filters.threshold_isodata(new_gray)\n",
    "        markers[new_gray > threshold] = 1\n",
    "        markers[new_gray < threshold] = 2\n",
    "\n",
    "        segmented_img = watershed(elevation_map, markers=markers, connectivity=1, offset=None, mask=None)\n",
    "\n",
    "        segmented_img = ndi.binary_fill_holes(segmented_img - 1)\n",
    "\n",
    "        segmented_img = morphology.remove_small_objects(segmented_img, min_size=800)\n",
    "\n",
    "        img_border_cleared = segmentation.clear_border(segmented_img)\n",
    "\n",
    "        labeled_img = morphology.label(img_border_cleared)\n",
    "\n",
    "        res = image * segmented_img.reshape(224,224,1)\n",
    "\n",
    "        ret = Image.fromarray(res)\n",
    "        return ret"
   ]
  },
  {
   "cell_type": "code",
   "execution_count": 23,
   "metadata": {},
   "outputs": [
    {
     "name": "stderr",
     "output_type": "stream",
     "text": [
      "/tmp/ipykernel_68/462086244.py:25: FutureWarning: `multichannel` is a deprecated argument name for `inpaint_biharmonic`. It will be removed in version 1.0. Please use `channel_axis` instead.\n",
      "  image_result = inpaint.inpaint_biharmonic(resize, opened, multichannel = True)\n"
     ]
    },
    {
     "name": "stdout",
     "output_type": "stream",
     "text": [
      "Sorry ! You are dividing by zero \n",
      "Sorry ! You are dividing by zero \n"
     ]
    }
   ],
   "source": [
    "# import required module\n",
    "import os\n",
    "# assign directory\n",
    "directory = 'ISIC_2019_Training_Input/ISIC_2019_Training_Input'\n",
    " \n",
    "# iterate over files in\n",
    "# that directory\n",
    "for filename in os.listdir(directory):\n",
    "    try:\n",
    "\n",
    "        f = os.path.join(directory, filename)\n",
    "        # checking if it is a file\n",
    "        image = cv2.imread(f)\n",
    "        rgb = cv2.cvtColor(image, cv2.COLOR_BGR2RGB)\n",
    "        resize = cv2.resize(rgb, (224,224), interpolation = cv2.INTER_AREA)\n",
    "        img = resize[:,:,0] * 0.3 + resize[:,:,1]*0.59 + resize[:,:,2]*0.11\n",
    "        img = img.astype(np.uint8)\n",
    "        CLAHE = A.augmentations.transforms.CLAHE()\n",
    "        contrast = CLAHE(image = img)\n",
    "        contrast = contrast['image']\n",
    "        average = cv2.boxFilter(img, -1, (5,5), normalize = True)\n",
    "        init_hair_mask = contrast - average\n",
    "        ret,thresh2 = cv2.threshold(init_hair_mask,50,1,cv2.THRESH_BINARY+cv2.THRESH_OTSU)\n",
    "        opened = morphology.remove_small_objects(ar = thresh2, min_size=50, connectivity = 1)\n",
    "        image_result = inpaint.inpaint_biharmonic(resize, opened, multichannel = True)\n",
    "        image_result = image_result*255\n",
    "        image_result = image_result.astype('uint8')\n",
    "        finalname = 'preprocessed-hair/'+filename\n",
    "        cv2.imwrite(finalname, image_result)\n",
    "\n",
    "\n",
    "        new_gray = cv2.cvtColor(image_result, cv2.COLOR_RGB2GRAY)\n",
    "        new_gray = new_gray/255\n",
    "\n",
    "        elevation_map = filters.sobel(new_gray)\n",
    "\n",
    "        markers = np.zeros_like(new_gray)\n",
    "        threshold = filters.threshold_isodata(new_gray)\n",
    "        markers[new_gray > threshold] = 1\n",
    "        markers[new_gray < threshold] = 2\n",
    "\n",
    "        segmented_img = watershed(elevation_map, markers=markers, connectivity=1, offset=None, mask=None)\n",
    "\n",
    "        segmented_img = ndi.binary_fill_holes(segmented_img - 1)\n",
    "\n",
    "        segmented_img = morphology.remove_small_objects(segmented_img, min_size=800)\n",
    "\n",
    "        img_border_cleared = segmentation.clear_border(segmented_img)\n",
    "\n",
    "        labeled_img = morphology.label(img_border_cleared)\n",
    "\n",
    "        res = image_result * segmented_img.reshape(224,224,1)\n",
    "        finalname = 'preprocessed-segment/'+filename\n",
    "        cv2.imwrite(finalname, res)\n",
    "    except:\n",
    "        print(\"Sorry ! You are dividing by zero \")"
   ]
  },
  {
   "cell_type": "code",
   "execution_count": null,
   "metadata": {},
   "outputs": [],
   "source": [
    "plt.title(\"After segementation and cropping\")\n",
    "plt.imshow(res)\n",
    "plt.show()"
   ]
  },
  {
   "cell_type": "code",
   "execution_count": null,
   "metadata": {},
   "outputs": [
    {
     "ename": "NameError",
     "evalue": "name 's' is not defined",
     "output_type": "error",
     "traceback": [
      "\u001b[0;31m---------------------------------------------------------------------------\u001b[0m",
      "\u001b[0;31mNameError\u001b[0m                                 Traceback (most recent call last)",
      "Input \u001b[0;32mIn [24]\u001b[0m, in \u001b[0;36m<cell line: 1>\u001b[0;34m()\u001b[0m\n\u001b[0;32m----> 1\u001b[0m \u001b[43ms\u001b[49m\n",
      "\u001b[0;31mNameError\u001b[0m: name 's' is not defined"
     ]
    }
   ],
   "source": [
    "##checking all fiels\n",
    "import os\n",
    "# assign directory\n",
    "directory = 'ISIC_2019_Training_Input/ISIC_2019_Training_Input'\n",
    "directory1 = 'preprocessed-hair'\n",
    " \n",
    "# iterate over files in\n",
    "# that directory\n",
    "for filename in os.listdir(directory):\n",
    "    f = os.path.join(directory1, filename)\n",
    "    if os.path.isfile(f):\n",
    "        continue\n",
    "    else:\n",
    "        print (f)\n",
    "    "
   ]
  },
  {
   "cell_type": "code",
   "execution_count": null,
   "metadata": {},
   "outputs": [],
   "source": []
  }
 ],
 "metadata": {
  "kernelspec": {
   "display_name": "Python 3 (ipykernel)",
   "language": "python",
   "name": "python3"
  },
  "language_info": {
   "codemirror_mode": {
    "name": "ipython",
    "version": 3
   },
   "file_extension": ".py",
   "mimetype": "text/x-python",
   "name": "python",
   "nbconvert_exporter": "python",
   "pygments_lexer": "ipython3",
   "version": "3.9.13"
  }
 },
 "nbformat": 4,
 "nbformat_minor": 4
}
